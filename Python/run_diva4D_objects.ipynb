{
 "cells": [
  {
   "cell_type": "markdown",
   "metadata": {},
   "source": [
    "In this notebook we show how to prepare all the input and parameter files necessary to run Diva4D.<br>\n",
    "The code rely on the classes defined for 2D and 4D cases."
   ]
  },
  {
   "cell_type": "code",
   "execution_count": 2,
   "metadata": {
    "collapsed": false
   },
   "outputs": [],
   "source": [
    "import os\n",
    "import logging\n",
    "import shutil\n",
    "import subprocess\n",
    "import diva4D_classes\n",
    "import diva_classes\n",
    "import importlib"
   ]
  },
  {
   "cell_type": "markdown",
   "metadata": {},
   "source": [
    "Reload the module (only during code development)"
   ]
  },
  {
   "cell_type": "code",
   "execution_count": 15,
   "metadata": {
    "collapsed": false
   },
   "outputs": [
    {
     "data": {
      "text/plain": [
       "<module 'diva4D_classes' from '/home/ctroupin/Projects/SeaDataCloud/Python/diva4D_classes.py'>"
      ]
     },
     "execution_count": 15,
     "metadata": {},
     "output_type": "execute_result"
    }
   ],
   "source": [
    "importlib.reload(diva4D_classes)"
   ]
  },
  {
   "cell_type": "markdown",
   "metadata": {},
   "source": [
    "# User inputs and configuration"
   ]
  },
  {
   "cell_type": "markdown",
   "metadata": {},
   "source": [
    "Indicate the path to the Diva installation you want to work with (diva-x.y.z)."
   ]
  },
  {
   "cell_type": "code",
   "execution_count": 5,
   "metadata": {
    "collapsed": true
   },
   "outputs": [],
   "source": [
    "divabasedir = \"/home/ctroupin/Software/DIVA/diva-4.7.1\""
   ]
  },
  {
   "cell_type": "markdown",
   "metadata": {},
   "source": [
    "## Create the sub-directories and files"
   ]
  },
  {
   "cell_type": "code",
   "execution_count": 8,
   "metadata": {
    "collapsed": false
   },
   "outputs": [
    {
     "name": "stderr",
     "output_type": "stream",
     "text": [
      "INFO:diva2D:Diva binary directory: /home/ctroupin/Software/DIVA/diva-4.7.1/DIVA3D/bin\n",
      "INFO:diva2D:Diva source directory: /home/ctroupin/Software/DIVA/diva-4.7.1/DIVA3D/src/Fortan\n",
      "INFO:diva2D:Diva 2D directory: /home/ctroupin/Software/DIVA/diva-4.7.1/DIVA3D/divastripped\n",
      "INFO:diva2D:Diva 4D directory: /home/ctroupin/Software/DIVA/diva-4.7.1/JRA4/Climatology\n",
      "INFO:diva2D:Diva 4D input directory: /home/ctroupin/Software/DIVA/diva-4.7.1/JRA4/Climatology/input\n"
     ]
    }
   ],
   "source": [
    "divadirs = diva_classes.DivaDirectories(divabasedir)"
   ]
  },
  {
   "cell_type": "code",
   "execution_count": 9,
   "metadata": {
    "collapsed": false
   },
   "outputs": [
    {
     "name": "stderr",
     "output_type": "stream",
     "text": [
      "INFO:diva2D:Contour file: /home/ctroupin/Software/DIVA/diva-4.7.1/DIVA3D/divastripped/input/coast.cont\n",
      "INFO:diva2D:Parameter file: /home/ctroupin/Software/DIVA/diva-4.7.1/DIVA3D/divastripped/input/param.par\n",
      "INFO:diva2D:Data file: /home/ctroupin/Software/DIVA/diva-4.7.1/DIVA3D/divastripped/input/data.dat\n",
      "INFO:diva2D:Valatxy file: /home/ctroupin/Software/DIVA/diva-4.7.1/DIVA3D/divastripped/input/valatxy.coord\n",
      "INFO:diva2D:Result file: /home/ctroupin/Software/DIVA/diva-4.7.1/DIVA3D/divastripped/output/ghertonetcdf/results.nc\n",
      "INFO:diva2D:Mesh file: /home/ctroupin/Software/DIVA/diva-4.7.1/DIVA3D/divastripped/meshgenwork/fort.22\n",
      "INFO:diva2D:Mesh topo file: /home/ctroupin/Software/DIVA/diva-4.7.1/DIVA3D/divastripped/meshgenwork/fort.23\n"
     ]
    }
   ],
   "source": [
    "diva2Dfiles = diva_classes.Diva2Dfiles(divadirs.diva2ddir)"
   ]
  },
  {
   "cell_type": "code",
   "execution_count": 10,
   "metadata": {
    "collapsed": false
   },
   "outputs": [
    {
     "name": "stderr",
     "output_type": "stream",
     "text": [
      "INFO:diva4D_classes:datasource file: /home/ctroupin/Software/DIVA/diva-4.7.1/JRA4/Climatology/datasource\n",
      "INFO:diva4D_classes:constandrefe file: /home/ctroupin/Software/DIVA/diva-4.7.1/JRA4/Climatology/constandrefe\n",
      "INFO:diva4D_classes:driver file: /home/ctroupin/Software/DIVA/diva-4.7.1/JRA4/Climatology/driver\n",
      "INFO:diva4D_classes:monthlist file: /home/ctroupin/Software/DIVA/diva-4.7.1/JRA4/Climatology/monthlist\n",
      "INFO:diva4D_classes:qflist file: /home/ctroupin/Software/DIVA/diva-4.7.1/JRA4/Climatology/qflist\n",
      "INFO:diva4D_classes:varlist file: /home/ctroupin/Software/DIVA/diva-4.7.1/JRA4/Climatology/varlist\n",
      "INFO:diva4D_classes:yearlist file: /home/ctroupin/Software/DIVA/diva-4.7.1/JRA4/Climatology/yearlist\n",
      "INFO:diva4D_classes:contourdepth file: /home/ctroupin/Software/DIVA/diva-4.7.1/JRA4/Climatology/contourdepth\n",
      "INFO:diva4D_classes:ncdfinfo file: /home/ctroupin/Software/DIVA/diva-4.7.1/JRA4/Climatology/ncdfinfo\n"
     ]
    }
   ],
   "source": [
    "diva4Dfiles = diva4D_classes.Diva4Dfiles(divadirs.diva4ddir)"
   ]
  },
  {
   "cell_type": "markdown",
   "metadata": {},
   "source": [
    "## List of user parameters"
   ]
  },
  {
   "cell_type": "markdown",
   "metadata": {},
   "source": [
    "Set the different parameters necessary for a 4D analysis.<br>\n",
    "For clarity, they are separated by input files."
   ]
  },
  {
   "cell_type": "markdown",
   "metadata": {},
   "source": [
    "### List of ODV spreadsheet files"
   ]
  },
  {
   "cell_type": "code",
   "execution_count": 17,
   "metadata": {
    "collapsed": false
   },
   "outputs": [
    {
     "name": "stderr",
     "output_type": "stream",
     "text": [
      "WARNING:diva4D_classes:Function argument converted from string to list\n",
      "INFO:diva4D_classes:Written into file /home/ctroupin/Software/DIVA/diva-4.7.1/JRA4/Climatology/datasource\n"
     ]
    }
   ],
   "source": [
    "datasource = diva4D_classes.Datasource('./blacksea_data_CTD.txt')\n",
    "datasource.write_to_file(diva4Dfiles.datasource)"
   ]
  },
  {
   "cell_type": "markdown",
   "metadata": {},
   "source": [
    "### Parameters for the advection constraint and the reference field"
   ]
  },
  {
   "cell_type": "markdown",
   "metadata": {},
   "source": [
    "* advection_flag: Flag that indicates if advection is activated\n",
    "* ref_flag: Flag that indicates if there is a reference field\n",
    "* var_year_code: Variable year code\n",
    "* var_month_code: Variable month code"
   ]
  },
  {
   "cell_type": "code",
   "execution_count": 20,
   "metadata": {
    "collapsed": false
   },
   "outputs": [
    {
     "ename": "TypeError",
     "evalue": "object() takes no parameters",
     "output_type": "error",
     "traceback": [
      "\u001b[0;31m---------------------------------------------------------------------------\u001b[0m",
      "\u001b[0;31mTypeError\u001b[0m                                 Traceback (most recent call last)",
      "\u001b[0;32m<ipython-input-20-42af40d663d4>\u001b[0m in \u001b[0;36m<module>\u001b[0;34m()\u001b[0m\n\u001b[1;32m      1\u001b[0m \u001b[0madvection_flag\u001b[0m\u001b[0;34m,\u001b[0m \u001b[0mref_flag\u001b[0m\u001b[0;34m,\u001b[0m \u001b[0mvar_year_code\u001b[0m\u001b[0;34m,\u001b[0m \u001b[0mvar_month_code\u001b[0m \u001b[0;34m=\u001b[0m \u001b[0;36m0\u001b[0m\u001b[0;34m,\u001b[0m \u001b[0;36m0\u001b[0m\u001b[0;34m,\u001b[0m \u001b[0;34m'00000000'\u001b[0m\u001b[0;34m,\u001b[0m \u001b[0;34m'0000'\u001b[0m\u001b[0;34m\u001b[0m\u001b[0m\n\u001b[0;32m----> 2\u001b[0;31m \u001b[0mconstandrefe\u001b[0m \u001b[0;34m=\u001b[0m \u001b[0mdiva4D_classes\u001b[0m\u001b[0;34m.\u001b[0m\u001b[0mConstandrefe\u001b[0m\u001b[0;34m(\u001b[0m\u001b[0;36m0\u001b[0m\u001b[0;34m,\u001b[0m \u001b[0;36m0\u001b[0m\u001b[0;34m,\u001b[0m \u001b[0;34m'00000000'\u001b[0m\u001b[0;34m,\u001b[0m \u001b[0;34m'0000'\u001b[0m\u001b[0;34m)\u001b[0m\u001b[0;34m\u001b[0m\u001b[0m\n\u001b[0m",
      "\u001b[0;31mTypeError\u001b[0m: object() takes no parameters"
     ]
    }
   ],
   "source": [
    "advection_flag, ref_flag, var_year_code, var_month_code = 0, 0, '00000000', '0000'\n",
    "constandrefe = diva4D_classes.Constandrefe(0, 0, '00000000', '0000')"
   ]
  },
  {
   "cell_type": "markdown",
   "metadata": {
    "collapsed": true
   },
   "source": [
    "### Parameters for the 4D analysis"
   ]
  },
  {
   "cell_type": "markdown",
   "metadata": {},
   "source": [
    "* extraction_flag: Data extraction: 1 do it, 0 do nothing, -1 press coord, -10 pressure+Saunders\n",
    "* coast_flag: boundary lines and coastlines generation: 0 nothing, 1: contours, 2: UV, 3: 1+2\n",
    "* clean_flag: cleaning data on mesh: 1, 2: RL, 3: both, 4: 1 + outliers elimination, 5: =4+2\n",
    "* min_datanum: minimal number of data in a layer. If less, uses data from any month.\n",
    "* param_flag: Parameters estimation and vertical filtering:\n",
    "* min_l, max_l: minimal/maximal correlation length\n",
    "* min_snr, max_snr: minimal/maximal signal-to-noise ratio\n",
    "* analysisref_flag: Analysis and reference field\n",
    "* lower_level, upper_level: lower/upper level numbers\n",
    "* netcdf4d_flag: 4D netcdf files generation\n",
    "* gnuplot_flag: gnuplot plots: 0 or 1\n",
    "* detrend_groupnum: Data detrending: number of groups, 0 if no detrending."
   ]
  },
  {
   "cell_type": "code",
   "execution_count": null,
   "metadata": {
    "collapsed": true
   },
   "outputs": [],
   "source": [
    "extraction_flag, coast_flag, clean_flag, min_datanum, param_flag, min_l, max_l, min_snr, max_snr,\\\n",
    "analysisref_flag, lower_level, upper_level, netcdf4d_flag, gnuplot_flag, detrend_groupnum =\\\n",
    "1, 1, 0, 0, -30, 1.4, 10., 0.1, 5.0, 1, 1, 3, 0, 0, 0"
   ]
  },
  {
   "cell_type": "markdown",
   "metadata": {
    "collapsed": true
   },
   "source": [
    "### Parameters for the netCDF file"
   ]
  },
  {
   "cell_type": "markdown",
   "metadata": {},
   "source": [
    "* ncdf_title: Title string for 3D NetCDF file\n",
    "* ncdf_reftime: Reference time for data (ie: days since since 1900-01-01), if not climatological data\n",
    "* ncdf_timeval: Time value (that reprsents the data set), if not climatological data\n",
    "* ncdf_cellmethod: Cell_methode string:\n",
    "* ncdf_institution: Institution name: where the dataset was produced.\n",
    "* ncdf_groupemail: Production group and e-mail\n",
    "* ncdf_source: Source (observation, radiosonde, database, model-generated data,...)\n",
    "* ndf_comment: Comment\n",
    "* ncdf_authoremail: Autor e-mail adress (or contact person to report problems)\n",
    "* ncdf_acknowlegment: Acknowledgement"
   ]
  },
  {
   "cell_type": "code",
   "execution_count": null,
   "metadata": {
    "collapsed": true
   },
   "outputs": [],
   "source": [
    "ncdf_title, ncdf_reftime, ncdf_timeval, ncdf_cellmethod,\\\n",
    "ncdf_institution, ncdf_groupemail, ncdf_source,\\\n",
    "ncdf_comment, ncdf_authoremail, ncdf_acknowlegment =\\\n",
    "\"4D Test on the Black Sea\", 'months since since xxxx-01-01', 1200, 'time: mean (this month data from all years)',\\\n",
    "'University of Liege, GeoHydrodynamics and Environment Research',\\\n",
    "'Diva group. E-mails : a.barth@ulg.ac.be ; swatelet@ulg.ac.be',\\\n",
    "'data_from various sources for diva software testing work', 'No comment', 'swatelet@ulg.ac.be',\\\n",
    "'No acknowledgement'"
   ]
  },
  {
   "cell_type": "markdown",
   "metadata": {},
   "source": [
    "### Parameters for the output grid"
   ]
  },
  {
   "cell_type": "markdown",
   "metadata": {},
   "source": [
    "* xmin, ymin: longitute and latitude of the lower-left corner of the domain\n",
    "* nx, ny: number of cells in the x and y directions\n",
    "* dx, dy: spatial steps in the x and y directions"
   ]
  },
  {
   "cell_type": "code",
   "execution_count": null,
   "metadata": {
    "collapsed": true
   },
   "outputs": [],
   "source": [
    "xmin, ymin, nx, ny, dx, dy = 27.0, 40.0, 151, 76, 0.1, 0.1"
   ]
  },
  {
   "cell_type": "markdown",
   "metadata": {},
   "source": [
    "### Parameters for the analysis"
   ]
  },
  {
   "cell_type": "code",
   "execution_count": null,
   "metadata": {
    "collapsed": false
   },
   "outputs": [],
   "source": [
    "CorrelationLength = 1.5\n",
    "SignalToNoiseRatio = 0.5\n",
    "VarianceBackgroundField = 1.0\n",
    "ExclusionValue = -99.\n",
    "iCoordChange = 2\n",
    "iSpec = 11\n",
    "iReg = 2"
   ]
  },
  {
   "cell_type": "markdown",
   "metadata": {},
   "source": [
    "# Create the new input files"
   ]
  },
  {
   "cell_type": "markdown",
   "metadata": {},
   "source": [
    "## Generate the names of the sub-directories"
   ]
  },
  {
   "cell_type": "code",
   "execution_count": null,
   "metadata": {
    "collapsed": false
   },
   "outputs": [],
   "source": [
    "divabindir, divasrcdir, diva2Ddir, diva4Ddir, diva4Dinputdir = diva2Dwrite.make_diva_directorynames(divabasedir)\n",
    "print(diva4Dinputdir)"
   ]
  },
  {
   "cell_type": "markdown",
   "metadata": {},
   "source": [
    "## Write the different input files using the functions of diva4Dwrite"
   ]
  },
  {
   "cell_type": "code",
   "execution_count": null,
   "metadata": {
    "collapsed": false
   },
   "outputs": [],
   "source": [
    "diva4Dwrite.write_datasource(diva4Ddir, datafilelist)"
   ]
  },
  {
   "cell_type": "code",
   "execution_count": null,
   "metadata": {
    "collapsed": false
   },
   "outputs": [],
   "source": [
    "diva4Dwrite.write_constandrefe(diva4Ddir, advection_flag, ref_flag, var_year_code, var_month_code)"
   ]
  },
  {
   "cell_type": "code",
   "execution_count": null,
   "metadata": {
    "collapsed": false
   },
   "outputs": [],
   "source": [
    "diva4Dwrite.write_driver(diva4Ddir, extraction_flag, coast_flag, clean_flag, min_datanum, param_flag,\n",
    "                         min_l, max_l, min_snr, max_snr,\n",
    "                         analysisref_flag, lower_level, upper_level, \n",
    "                         netcdf4d_flag, gnuplot_flag, detrend_groupnum)"
   ]
  },
  {
   "cell_type": "code",
   "execution_count": null,
   "metadata": {
    "collapsed": false
   },
   "outputs": [],
   "source": [
    "diva4Dwrite.write_monthlist(diva4Ddir, ['0101', '0202', '0303'])"
   ]
  },
  {
   "cell_type": "code",
   "execution_count": null,
   "metadata": {
    "collapsed": false
   },
   "outputs": [],
   "source": [
    "diva4Dwrite.write_qflist(diva4Ddir, [0, 1])"
   ]
  },
  {
   "cell_type": "code",
   "execution_count": null,
   "metadata": {
    "collapsed": false
   },
   "outputs": [],
   "source": [
    "diva4Dwrite.write_varlist(diva4Ddir, ['Temperature', 'Salinity'])"
   ]
  },
  {
   "cell_type": "code",
   "execution_count": null,
   "metadata": {
    "collapsed": false
   },
   "outputs": [],
   "source": [
    "diva4Dwrite.write_yearlist(diva4Ddir, ['19002009',])"
   ]
  },
  {
   "cell_type": "code",
   "execution_count": null,
   "metadata": {
    "collapsed": false
   },
   "outputs": [],
   "source": [
    "diva4Dwrite.write_contourdepth(diva4Dinputdir, [30, 20, 10, 0])"
   ]
  },
  {
   "cell_type": "code",
   "execution_count": null,
   "metadata": {
    "collapsed": false
   },
   "outputs": [],
   "source": [
    "diva4Dwrite.write_ncdfinfo(diva4Dinputdir, ncdf_title, ncdf_reftime, ncdf_timeval, ncdf_cellmethod,\n",
    "                   ncdf_institution, ncdf_groupemail, ncdf_source,\n",
    "                   ncdf_comment, ncdf_authoremail, ncdf_acknowlegment)"
   ]
  },
  {
   "cell_type": "code",
   "execution_count": null,
   "metadata": {
    "collapsed": false
   },
   "outputs": [],
   "source": [
    "diva2Dwrite.write_parameter(CorrelationLength, iCoordChange, iSpec, iReg, xmin, ymin, dx, dy, nx, ny,\n",
    "                ExclusionValue, SignalToNoiseRatio, VarianceBackgroundField, os.path.join(diva4Dinputdir, 'param.par'))"
   ]
  },
  {
   "cell_type": "markdown",
   "metadata": {
    "collapsed": true
   },
   "source": [
    "# Run divadoall (4D analysis)"
   ]
  },
  {
   "cell_type": "code",
   "execution_count": null,
   "metadata": {
    "collapsed": false
   },
   "outputs": [],
   "source": [
    "divadoall_script = './divadoall'\n",
    "env = os.environ.copy()\n",
    "env[\"PATH\"] = \".:\" + env[\"PATH\"]\n",
    "\n",
    "p = subprocess.Popen(divadoall_script, stdout=subprocess.PIPE, cwd=diva4Ddir, env=env)\n",
    "out = p.stdout.read()\n",
    "\n",
    "print(out)"
   ]
  },
  {
   "cell_type": "code",
   "execution_count": null,
   "metadata": {
    "collapsed": true
   },
   "outputs": [],
   "source": []
  }
 ],
 "metadata": {
  "kernelspec": {
   "display_name": "Python 3",
   "language": "python",
   "name": "python3"
  },
  "language_info": {
   "codemirror_mode": {
    "name": "ipython",
    "version": 3
   },
   "file_extension": ".py",
   "mimetype": "text/x-python",
   "name": "python",
   "nbconvert_exporter": "python",
   "pygments_lexer": "ipython3",
   "version": "3.6.0"
  }
 },
 "nbformat": 4,
 "nbformat_minor": 2
}
