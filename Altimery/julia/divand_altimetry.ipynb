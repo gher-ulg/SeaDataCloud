{
 "cells": [
  {
   "cell_type": "markdown",
   "metadata": {
    "collapsed": true,
    "deletable": true,
    "editable": true
   },
   "source": [
    "Application using altimetry data obtained from AVISO.\n",
    "* Region of interest: Mediterranean Sea.\n",
    "* Period of interest: May 2014.\n",
    "* Satellite avaible: AltiKa, Cryosat, H2 and JASON-2. "
   ]
  },
  {
   "cell_type": "code",
   "execution_count": 1,
   "metadata": {
    "collapsed": false,
    "deletable": true,
    "editable": true
   },
   "outputs": [
    {
     "ename": "LoadError",
     "evalue": "InitError: Failed to import required Python module matplotlib.\n\nFor automated matplotlib installation, try configuring PyCall to use the Conda.jl package's Python \"Miniconda\" distribution within Julia. Relaunch Julia and run:\n    ENV[\"PYTHON\"]=\"\"\n    Pkg.build(\"PyCall\")\nbefore trying again.\n\nThe pyimport exception was: PyError (:PyImport_ImportModule) <type 'exceptions.ImportError'>\nImportError('No module named matplotlib',)\n\n\nduring initialization of module PyPlot",
     "output_type": "error",
     "traceback": [
      "InitError: Failed to import required Python module matplotlib.\n\nFor automated matplotlib installation, try configuring PyCall to use the Conda.jl package's Python \"Miniconda\" distribution within Julia. Relaunch Julia and run:\n    ENV[\"PYTHON\"]=\"\"\n    Pkg.build(\"PyCall\")\nbefore trying again.\n\nThe pyimport exception was: PyError (:PyImport_ImportModule) <type 'exceptions.ImportError'>\nImportError('No module named matplotlib',)\n\n\nduring initialization of module PyPlot",
      "",
      " in pyimport_conda(::String, ::String, ::String) at /home/ctroupin/.julia/v0.5/PyCall/src/PyCall.jl:507",
      " in __init__() at /home/ctroupin/.julia/v0.5/PyPlot/src/init.jl:177",
      " in _include_from_serialized(::String) at ./loading.jl:150",
      " in _require_from_serialized(::Int64, ::Symbol, ::String, ::Bool) at ./loading.jl:187",
      " in _require_search_from_serialized(::Int64, ::Symbol, ::String, ::Bool) at ./loading.jl:217",
      " in require(::Symbol) at ./loading.jl:371"
     ]
    }
   ],
   "source": [
    "using divand\n",
    "using NetCDF\n",
    "using PyPlot\n",
    "using Logging\n",
    "Logging.configure(level=DEBUG);"
   ]
  },
  {
   "cell_type": "markdown",
   "metadata": {},
   "source": [
    "# User inputs"
   ]
  },
  {
   "cell_type": "markdown",
   "metadata": {},
   "source": [
    "## Domain of interest, resolution"
   ]
  },
  {
   "cell_type": "code",
   "execution_count": 21,
   "metadata": {
    "collapsed": false
   },
   "outputs": [],
   "source": [
    "lonmin, lonmax, latmin, latmax = -7., 40., 30., 48.\n",
    "dx, dy, dt = 0.25, 0.25, 1.\n",
    "lonr = lonmin:dx:lonmax;\n",
    "latr = latmin:dy:latmax;\n",
    "timer = 23510:dt:23529;"
   ]
  },
  {
   "cell_type": "markdown",
   "metadata": {
    "deletable": true,
    "editable": true
   },
   "source": [
    "## File and directories"
   ]
  },
  {
   "cell_type": "code",
   "execution_count": 3,
   "metadata": {
    "collapsed": false,
    "deletable": true,
    "editable": true
   },
   "outputs": [
    {
     "name": "stderr",
     "output_type": "stream",
     "text": [
      "\u001b[1m\u001b[34mINFO: Result file:\n",
      "/home/ctroupin/Projects/201704_DivaAltimetry/results/divand/ADT_20140515_20140604.nc\n",
      "\u001b[0m"
     ]
    }
   ],
   "source": [
    "datadir = joinpath(ENV[\"HOME\"], \"/home/ctroupin/Projects/201704_DivaAltimetry/data/\");\n",
    "datafile = joinpath(datadir, \"ADT_20140515_20140604.dat\")\n",
    "resultdir = joinpath(ENV[\"HOME\"], \"Projects/201704_DivaAltimetry/results/divand/\");\n",
    "resultfile = joinpath(resultdir, \"ADT_20140515_20140604.nc\");\n",
    "info(\"Result file:\\n\", resultfile)"
   ]
  },
  {
   "cell_type": "markdown",
   "metadata": {
    "deletable": true,
    "editable": true
   },
   "source": [
    "# Read data file (4-column, ascii)"
   ]
  },
  {
   "cell_type": "code",
   "execution_count": 5,
   "metadata": {
    "collapsed": false
   },
   "outputs": [
    {
     "name": "stderr",
     "output_type": "stream",
     "text": [
      "WARNING: Method definition readAltimetryFile(Any) in module Main at In[4]:3 overwritten at In[5]:3.\n",
      "\u001b[1m\u001b[34mINFO: Data read from file /home/ctroupin/Projects/201704_DivaAltimetry/data/ADT_20140515_20140604.dat\n",
      "\u001b[0m"
     ]
    }
   ],
   "source": [
    "function readAltimetryFile(fname)\n",
    "\n",
    "    data = readlines(open(fname,\"r\"))\n",
    "    nobs = length(data)\n",
    "\n",
    "    lon = zeros(nobs)\n",
    "    lat = zeros(nobs)\n",
    "    time = zeros(nobs)\n",
    "    field = zeros(nobs)\n",
    "\n",
    "    for i in 1:nobs\n",
    "        rec = split(data[i])\n",
    "        lon[i] = parse(Float64,rec[1])\n",
    "        lat[i] = parse(Float64,rec[2])\n",
    "        time[i] = parse(Float64,rec[3])\n",
    "        field[i] = parse(Float64,rec[4])\n",
    "    end\n",
    "    \n",
    "    return lon, lat, time, field\n",
    "end\n",
    "info(\"Data read from file \", datafile)"
   ]
  },
  {
   "cell_type": "code",
   "execution_count": 6,
   "metadata": {
    "collapsed": false
   },
   "outputs": [
    {
     "name": "stderr",
     "output_type": "stream",
     "text": [
      "WARNING: imported binding for time overwritten in module Main\n",
      "\u001b[1m\u001b[34mINFO: Reading 11371 data points\n",
      "\u001b[0m\u001b[1m\u001b[34mINFO: Mean field value = -0.09550065957259697\n",
      "\u001b[0m"
     ]
    }
   ],
   "source": [
    "lon, lat, time, field = readAltimetryFile(datafile);\n",
    "info(\"Reading \", length(lon), \" data points\")\n",
    "info(\"Mean field value = \", mean(field))"
   ]
  },
  {
   "cell_type": "markdown",
   "metadata": {},
   "source": [
    "Another way to read the data (similar to python `append` method).<br>\n",
    "In progress..."
   ]
  },
  {
   "cell_type": "code",
   "execution_count": null,
   "metadata": {
    "collapsed": false,
    "deletable": true,
    "editable": true
   },
   "outputs": [],
   "source": [
    "npoints = 100 #should find a way to count line number without reading the whole file\n",
    "\n",
    "open(datafile, \"r\") do f\n",
    "    global lon, lat, ttime, field\n",
    "    for line in eachline(f)\n",
    "        l = split(line);\n",
    "        lon = parse(Float64, l[1]);\n",
    "        lat = parse(Float64, l[2]);\n",
    "        ttime = parse(Float64, l[3]);\n",
    "        field = parse(Float64, l[4]);\n",
    "    end;       \n",
    "end;"
   ]
  },
  {
   "cell_type": "markdown",
   "metadata": {},
   "source": [
    "Create mask and metrics using coordinate vectors"
   ]
  },
  {
   "cell_type": "code",
   "execution_count": 22,
   "metadata": {
    "collapsed": false
   },
   "outputs": [],
   "source": [
    "mask, (px, py, pt), (xi, yi, ti) = divand_rectdom(lonr, latr, timer);"
   ]
  },
  {
   "cell_type": "markdown",
   "metadata": {},
   "source": [
    "## Analysis parameters"
   ]
  },
  {
   "cell_type": "code",
   "execution_count": 23,
   "metadata": {
    "collapsed": false,
    "deletable": true,
    "editable": true
   },
   "outputs": [],
   "source": [
    "# correlation length\n",
    "len = (1., 1., 4.);\n",
    "# obs. error variance normalized by the background error variance\n",
    "epsilon2 = 1;"
   ]
  },
  {
   "cell_type": "markdown",
   "metadata": {},
   "source": [
    "# Perform interpolation"
   ]
  },
  {
   "cell_type": "code",
   "execution_count": 24,
   "metadata": {
    "collapsed": false,
    "deletable": true,
    "editable": true
   },
   "outputs": [
    {
     "name": "stdout",
     "output_type": "stream",
     "text": [
      "219.883966 seconds (14.42 M allocations: 19.235 GB, 7.08% gc time)\n"
     ]
    }
   ],
   "source": [
    "@time fi,s = divandrun(mask, (px, py, pt), (xi, yi, ti), (lon, lat, time), field, len, epsilon2; alphabc=2);"
   ]
  },
  {
   "cell_type": "markdown",
   "metadata": {
    "deletable": true,
    "editable": true
   },
   "source": [
    "## Export results to netCDF"
   ]
  },
  {
   "cell_type": "code",
   "execution_count": 25,
   "metadata": {
    "collapsed": false,
    "deletable": true,
    "editable": true
   },
   "outputs": [
    {
     "name": "stderr",
     "output_type": "stream",
     "text": [
      "\u001b[1m\u001b[34mINFO: Written interpolated field in file:\n",
      "/home/ctroupin/Projects/201704_DivaAltimetry/results/divand/ADT_20140515_20140604.nc\n",
      "\u001b[0m"
     ]
    }
   ],
   "source": [
    "sz = size(mask)\n",
    "dims = [NcDim(\"longitude\",sz[1]), NcDim(\"latitude\",sz[2]), NcDim(\"time\",sz[3])];\n",
    "nc = NetCDF.create(resultfile, NcVar(\"ADT\", dims))\n",
    "nc[\"ADT\"][:,:, :] = fi\n",
    "NetCDF.close(nc);\n",
    "info(\"Written interpolated field in file:\\n\", resultfile)"
   ]
  },
  {
   "cell_type": "markdown",
   "metadata": {},
   "source": [
    "# Plotting"
   ]
  },
  {
   "cell_type": "markdown",
   "metadata": {},
   "source": [
    "Done in [another notebook in Python](../python/plot_AVISO_divand.ipynb) due to a problem with Julia / matplotlib."
   ]
  }
 ],
 "metadata": {
  "kernelspec": {
   "display_name": "Julia 0.5.1",
   "language": "julia",
   "name": "julia-0.5"
  },
  "language_info": {
   "file_extension": ".jl",
   "mimetype": "application/julia",
   "name": "julia",
   "version": "0.5.1"
  }
 },
 "nbformat": 4,
 "nbformat_minor": 2
}
