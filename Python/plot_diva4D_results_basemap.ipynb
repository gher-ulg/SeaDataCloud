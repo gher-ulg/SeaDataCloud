{
 "cells": [
  {
   "cell_type": "markdown",
   "metadata": {},
   "source": [
    "This notebooks provides an example of how to create plots displaying the results of the analysis.<br>\n",
    "As a 4D analysis is made up of of several 2D interpolations (loops on time and depth), we can use the tools of the `pydiva2d` module to produce the figures for the contours, meshes and results."
   ]
  },
  {
   "cell_type": "code",
   "execution_count": 1,
   "metadata": {
    "collapsed": false
   },
   "outputs": [
    {
     "name": "stderr",
     "output_type": "stream",
     "text": [
      "/usr/local/lib/python3.6/site-packages/matplotlib/__init__.py:913: UserWarning: axes.color_cycle is deprecated and replaced with axes.prop_cycle; please use the latter.\n",
      "  warnings.warn(self.msg_depr % (key, alt_key))\n"
     ]
    }
   ],
   "source": [
    "import pydiva4d\n",
    "import os\n",
    "import logging\n",
    "import numpy as np\n",
    "import matplotlib.pyplot as plt\n",
    "%matplotlib inline"
   ]
  },
  {
   "cell_type": "code",
   "execution_count": 2,
   "metadata": {
    "collapsed": false
   },
   "outputs": [],
   "source": [
    "pydiva4d.logger.setLevel(logging.WARNING)"
   ]
  },
  {
   "cell_type": "markdown",
   "metadata": {},
   "source": [
    "Define a directory for the figures"
   ]
  },
  {
   "cell_type": "code",
   "execution_count": 3,
   "metadata": {
    "collapsed": true
   },
   "outputs": [],
   "source": [
    "figdir = './figures/BlackSea/'"
   ]
  },
  {
   "cell_type": "code",
   "execution_count": 4,
   "metadata": {
    "collapsed": false
   },
   "outputs": [
    {
     "name": "stderr",
     "output_type": "stream",
     "text": [
      "INFO:pydiva2d:Diva main directory: /home/ctroupin/Software/DIVA/diva-4.7.1/\n",
      "INFO:pydiva2d:Creating Diva directory paths\n",
      "INFO:pydiva2d:Binary directory:   /home/ctroupin/Software/DIVA/diva-4.7.1/DIVA3D/bin\n",
      "INFO:pydiva2d:Source directory:   /home/ctroupin/Software/DIVA/diva-4.7.1/DIVA3D/src/Fortran\n",
      "INFO:pydiva2d:Main 2D directory:  /home/ctroupin/Software/DIVA/diva-4.7.1/DIVA3D/divastripped\n",
      "INFO:pydiva2d:Main 4D directory:  /home/ctroupin/Software/DIVA/diva-4.7.1/JRA4/Climatology\n"
     ]
    }
   ],
   "source": [
    "divamaindir = '/home/ctroupin/Software/DIVA/diva-4.7.1/'\n",
    "Diva4Ddirs = pydiva4d.Diva4DDirectories(divamaindir)"
   ]
  },
  {
   "cell_type": "code",
   "execution_count": 5,
   "metadata": {
    "collapsed": false
   },
   "outputs": [],
   "source": [
    "Diva4Dfiles = pydiva4d.Diva4Dfiles(Diva4Ddirs.diva4d)"
   ]
  },
  {
   "cell_type": "markdown",
   "metadata": {},
   "source": [
    "## Load the depth levels"
   ]
  },
  {
   "cell_type": "code",
   "execution_count": 6,
   "metadata": {
    "collapsed": false
   },
   "outputs": [],
   "source": [
    "contourdepth = pydiva4d.Contourdepth()\n",
    "contourdepth.read_from(Diva4Dfiles.contourdepth)"
   ]
  },
  {
   "cell_type": "markdown",
   "metadata": {},
   "source": [
    "## Loop on the contour"
   ]
  },
  {
   "cell_type": "code",
   "execution_count": 7,
   "metadata": {
    "collapsed": false
   },
   "outputs": [
    {
     "name": "stderr",
     "output_type": "stream",
     "text": [
      "INFO:pydiva2d:Creating Diva 2D contour object\n",
      "INFO:pydiva2d:Reading contours from file /home/ctroupin/Software/DIVA/diva-4.7.1/JRA4/Climatology/newinput/divaparam/coast.cont.10001\n",
      "DEBUG:pydiva2d:Number of contours: 13\n",
      "DEBUG:pydiva2d:No projection defined\n",
      "DEBUG:pydiva2d:Adding contours to plot\n",
      "INFO:pydiva2d:Creating Diva 2D contour object\n",
      "INFO:pydiva2d:Reading contours from file /home/ctroupin/Software/DIVA/diva-4.7.1/JRA4/Climatology/newinput/divaparam/coast.cont.10002\n",
      "DEBUG:pydiva2d:Number of contours: 11\n",
      "DEBUG:pydiva2d:No projection defined\n",
      "DEBUG:pydiva2d:Adding contours to plot\n",
      "INFO:pydiva2d:Creating Diva 2D contour object\n",
      "INFO:pydiva2d:Reading contours from file /home/ctroupin/Software/DIVA/diva-4.7.1/JRA4/Climatology/newinput/divaparam/coast.cont.10003\n",
      "DEBUG:pydiva2d:Number of contours: 7\n",
      "DEBUG:pydiva2d:No projection defined\n",
      "DEBUG:pydiva2d:Adding contours to plot\n",
      "INFO:pydiva2d:Creating Diva 2D contour object\n",
      "INFO:pydiva2d:Reading contours from file /home/ctroupin/Software/DIVA/diva-4.7.1/JRA4/Climatology/newinput/divaparam/coast.cont.10004\n",
      "DEBUG:pydiva2d:Number of contours: 28\n",
      "DEBUG:pydiva2d:No projection defined\n",
      "DEBUG:pydiva2d:Adding contours to plot\n"
     ]
    }
   ],
   "source": [
    "for idepth, depth in enumerate(contourdepth.depthlist):\n",
    "    \n",
    "    contourfile = os.path.join(Diva4Ddirs.diva4dparam, 'coast.cont.{0}'.format(str(10001 + idepth)))\n",
    "\n",
    "    contour2D = pydiva4d.Diva2DContours()\n",
    "    contour2D.read_from(contourfile)\n",
    "\n",
    "    fig = plt.figure()\n",
    "    contour2D.add_to_plot(color='k', linewidth=.5)\n",
    "    plt.xlim(26., 42.)\n",
    "    plt.ylim(40., 48.)\n",
    "    plt.title(\"Contour at depth: {0} m\".format(depth))\n",
    "    plt.savefig(os.path.join(figdir, \"BlackSea_contour{0}\".format(idepth)))\n",
    "    plt.close()"
   ]
  },
  {
   "cell_type": "markdown",
   "metadata": {},
   "source": [
    "## Loop on the mesh"
   ]
  },
  {
   "cell_type": "code",
   "execution_count": 8,
   "metadata": {
    "collapsed": false
   },
   "outputs": [
    {
     "name": "stderr",
     "output_type": "stream",
     "text": [
      "INFO:pydiva2d:Creating Diva 2D mesh object\n",
      "DEBUG:pydiva2d:No projection defined\n",
      "DEBUG:pydiva2d:Adding finite-element mesh to plot\n",
      "DEBUG:pydiva2d:Setting limits to axes\n",
      "INFO:pydiva2d:Creating Diva 2D mesh object\n",
      "DEBUG:pydiva2d:No projection defined\n",
      "DEBUG:pydiva2d:Adding finite-element mesh to plot\n",
      "DEBUG:pydiva2d:Setting limits to axes\n",
      "INFO:pydiva2d:Creating Diva 2D mesh object\n",
      "DEBUG:pydiva2d:No projection defined\n",
      "DEBUG:pydiva2d:Adding finite-element mesh to plot\n",
      "DEBUG:pydiva2d:Setting limits to axes\n",
      "INFO:pydiva2d:Creating Diva 2D mesh object\n",
      "DEBUG:pydiva2d:No projection defined\n",
      "DEBUG:pydiva2d:Adding finite-element mesh to plot\n",
      "DEBUG:pydiva2d:Setting limits to axes\n"
     ]
    }
   ],
   "source": [
    "for idepth, depth in enumerate(contourdepth.depthlist):\n",
    "    # Create the file names\n",
    "    meshtopofile = os.path.join(Diva4Ddirs.diva4dmesh, \"mesh.dat.{0}\".format(str(10000 + idepth + 1)))\n",
    "    meshfile = os.path.join(Diva4Ddirs.diva4dmesh, \"meshtopo.{0}\".format(str(10000 + idepth + 1)))\n",
    "    \n",
    "    # Mesh object\n",
    "    Mesh = pydiva4d.Diva2DMesh()\n",
    "    Mesh.read_from(meshfile, meshtopofile)\n",
    "    \n",
    "    # Make the plot\n",
    "    fig = plt.figure()\n",
    "    ax = plt.subplot(111)\n",
    "    Mesh.add_to_plot(ax, linewidth=0.1, color='k')\n",
    "    plt.xlim(26., 42.)\n",
    "    plt.ylim(40., 48.)\n",
    "    plt.title(\"Mesh at depth: {0} m\".format(depth))\n",
    "    plt.savefig(os.path.join(figdir, \"BlackSea_mesh{0}\".format(idepth)))\n",
    "    plt.close()"
   ]
  },
  {
   "cell_type": "markdown",
   "metadata": {},
   "source": [
    "## Load the time periods"
   ]
  },
  {
   "cell_type": "markdown",
   "metadata": {},
   "source": [
    "Load year and month periods:"
   ]
  },
  {
   "cell_type": "code",
   "execution_count": 9,
   "metadata": {
    "collapsed": false
   },
   "outputs": [
    {
     "data": {
      "text/plain": [
       "['0101', '0202', '0303']"
      ]
     },
     "execution_count": 9,
     "metadata": {},
     "output_type": "execute_result"
    }
   ],
   "source": [
    "Monthlist = pydiva4d.Monthlist()\n",
    "Monthlist.read_from(Diva4Dfiles.monthlist)\n",
    "Monthlist.monthlist"
   ]
  },
  {
   "cell_type": "code",
   "execution_count": 10,
   "metadata": {
    "collapsed": false
   },
   "outputs": [
    {
     "data": {
      "text/plain": [
       "['19002009']"
      ]
     },
     "execution_count": 10,
     "metadata": {},
     "output_type": "execute_result"
    }
   ],
   "source": [
    "Yearlist = pydiva4d.Yearlist()\n",
    "Yearlist.read_from(Diva4Dfiles.yearlist)\n",
    "Yearlist.yearlist"
   ]
  },
  {
   "cell_type": "markdown",
   "metadata": {},
   "source": [
    "## Load the variables"
   ]
  },
  {
   "cell_type": "code",
   "execution_count": 11,
   "metadata": {
    "collapsed": false
   },
   "outputs": [
    {
     "data": {
      "text/plain": [
       "['Temperature', 'Salinity']"
      ]
     },
     "execution_count": 11,
     "metadata": {},
     "output_type": "execute_result"
    }
   ],
   "source": [
    "Varlist = pydiva4d.Varlist()\n",
    "Varlist.read_from(Diva4Dfiles.varlist)\n",
    "Varlist.varlist"
   ]
  },
  {
   "cell_type": "markdown",
   "metadata": {},
   "source": [
    "# Loop on levels, variables, periods..."
   ]
  },
  {
   "cell_type": "code",
   "execution_count": 12,
   "metadata": {
    "collapsed": false
   },
   "outputs": [
    {
     "name": "stderr",
     "output_type": "stream",
     "text": [
      "DEBUG:pydiva2d:No projection defined\n",
      "DEBUG:pydiva2d:Adding analysed field to plot\n",
      "DEBUG:pydiva2d:No projection defined\n",
      "DEBUG:pydiva2d:Adding analysed field to plot\n",
      "DEBUG:pydiva2d:No projection defined\n",
      "DEBUG:pydiva2d:Adding analysed field to plot\n",
      "DEBUG:pydiva2d:No projection defined\n",
      "DEBUG:pydiva2d:Adding analysed field to plot\n",
      "DEBUG:pydiva2d:No projection defined\n",
      "DEBUG:pydiva2d:Adding analysed field to plot\n",
      "DEBUG:pydiva2d:No projection defined\n",
      "DEBUG:pydiva2d:Adding analysed field to plot\n",
      "DEBUG:pydiva2d:No projection defined\n",
      "DEBUG:pydiva2d:Adding analysed field to plot\n",
      "DEBUG:pydiva2d:No projection defined\n",
      "DEBUG:pydiva2d:Adding analysed field to plot\n",
      "DEBUG:pydiva2d:No projection defined\n",
      "DEBUG:pydiva2d:Adding analysed field to plot\n",
      "DEBUG:pydiva2d:No projection defined\n",
      "DEBUG:pydiva2d:Adding analysed field to plot\n",
      "DEBUG:pydiva2d:No projection defined\n",
      "DEBUG:pydiva2d:Adding analysed field to plot\n",
      "DEBUG:pydiva2d:No projection defined\n",
      "DEBUG:pydiva2d:Adding analysed field to plot\n",
      "DEBUG:pydiva2d:No projection defined\n",
      "DEBUG:pydiva2d:Adding analysed field to plot\n",
      "DEBUG:pydiva2d:No projection defined\n",
      "DEBUG:pydiva2d:Adding analysed field to plot\n",
      "DEBUG:pydiva2d:No projection defined\n",
      "DEBUG:pydiva2d:Adding analysed field to plot\n",
      "DEBUG:pydiva2d:No projection defined\n",
      "DEBUG:pydiva2d:Adding analysed field to plot\n",
      "DEBUG:pydiva2d:No projection defined\n",
      "DEBUG:pydiva2d:Adding analysed field to plot\n",
      "DEBUG:pydiva2d:No projection defined\n",
      "DEBUG:pydiva2d:Adding analysed field to plot\n",
      "DEBUG:pydiva2d:No projection defined\n",
      "DEBUG:pydiva2d:Adding analysed field to plot\n",
      "DEBUG:pydiva2d:No projection defined\n",
      "DEBUG:pydiva2d:Adding analysed field to plot\n",
      "DEBUG:pydiva2d:No projection defined\n",
      "DEBUG:pydiva2d:Adding analysed field to plot\n",
      "DEBUG:pydiva2d:No projection defined\n",
      "DEBUG:pydiva2d:Adding analysed field to plot\n",
      "DEBUG:pydiva2d:No projection defined\n",
      "DEBUG:pydiva2d:Adding analysed field to plot\n",
      "DEBUG:pydiva2d:No projection defined\n",
      "DEBUG:pydiva2d:Adding analysed field to plot\n"
     ]
    }
   ],
   "source": [
    "for variables in Varlist.varlist:\n",
    "    for yearperiods in Yearlist.yearlist:\n",
    "        for monthperiods in Monthlist.monthlist:\n",
    "            for idepth, depthlevels in enumerate(contourdepth.depthlist):\n",
    "                \n",
    "                resultfile = \"{0}.{1}.{2}.{3}.anl.nc\".format(variables, yearperiods,\n",
    "                                                             monthperiods, str(10000 + idepth + 1))\n",
    "                \n",
    "                figname = ''.join((resultfile.replace('.', '_'), '.png'))\n",
    "                figtitle = \"{0}, Year: {1}, Months: {2}, Depth: {3} m\".format(variables, yearperiods,\n",
    "                                                                                       monthperiods, str(depthlevels))\n",
    "                \n",
    "                if os.path.exists(os.path.join(Diva4Ddirs.diva4dfields, resultfile)):\n",
    "                    Results = pydiva4d.Diva2DResults(os.path.join(Diva4Ddirs.diva4dfields, resultfile))\n",
    "                    fig = plt.figure()\n",
    "                    ax = plt.subplot(111)\n",
    "                    Results.add_to_plot(ax)\n",
    "                    plt.title(figtitle)\n",
    "                    plt.savefig(os.path.join(figdir, figname))\n",
    "                    plt.close()"
   ]
  }
 ],
 "metadata": {
  "kernelspec": {
   "display_name": "Python 3",
   "language": "python",
   "name": "python3"
  },
  "language_info": {
   "codemirror_mode": {
    "name": "ipython",
    "version": 3
   },
   "file_extension": ".py",
   "mimetype": "text/x-python",
   "name": "python",
   "nbconvert_exporter": "python",
   "pygments_lexer": "ipython3",
   "version": "3.6.0"
  }
 },
 "nbformat": 4,
 "nbformat_minor": 2
}
