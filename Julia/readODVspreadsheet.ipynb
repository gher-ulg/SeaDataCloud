{
 "cells": [
  {
   "cell_type": "markdown",
   "metadata": {},
   "source": [
    "Explain how to read an ODV spreadsheet data file using `Julia`"
   ]
  },
  {
   "cell_type": "code",
   "execution_count": 54,
   "metadata": {
    "collapsed": false,
    "deletable": true,
    "editable": true
   },
   "outputs": [],
   "source": [
    "using Logging\n",
    "Logging.configure(level=DEBUG);"
   ]
  },
  {
   "cell_type": "markdown",
   "metadata": {
    "deletable": true,
    "editable": true
   },
   "source": [
    "# Input file"
   ]
  },
  {
   "cell_type": "code",
   "execution_count": 51,
   "metadata": {
    "collapsed": false,
    "deletable": true,
    "editable": true
   },
   "outputs": [],
   "source": [
    "datadir = \"./data/\";\n",
    "ODVfile = joinpath(datadir, \"SmallODV2.txt\");"
   ]
  },
  {
   "cell_type": "markdown",
   "metadata": {
    "deletable": true,
    "editable": true
   },
   "source": [
    "Check if the file exists:"
   ]
  },
  {
   "cell_type": "code",
   "execution_count": 52,
   "metadata": {
    "collapsed": false,
    "deletable": true,
    "editable": true
   },
   "outputs": [],
   "source": [
    "if isfile(ODVfile)\n",
    "    info(\"Working on file $ODVfile\")\n",
    "else\n",
    "    err(\"File $ODVfile doesn't exist\")\n",
    "end"
   ]
  },
  {
   "cell_type": "markdown",
   "metadata": {
    "deletable": true,
    "editable": true
   },
   "source": [
    "# Read the file"
   ]
  },
  {
   "cell_type": "markdown",
   "metadata": {
    "deletable": true,
    "editable": true
   },
   "source": [
    "Loop on the file lines.<br>\n",
    "According to ODV guide, there are 3 types of lines:\n",
    "1. comment lines, \n",
    "2. the column labels line, and \n",
    "3. data lines. "
   ]
  },
  {
   "cell_type": "code",
   "execution_count": 61,
   "metadata": {
    "collapsed": false,
    "deletable": true,
    "editable": true
   },
   "outputs": [
    {
     "name": "stderr",
     "output_type": "stream",
     "text": [
      "13-juin 09:25:16:DEBUG:root:Match found\n",
      "13-juin 09:25:16:DEBUG:root:Match found\n",
      "13-juin 09:25:16:DEBUG:root:Match found\n",
      "13-juin 09:25:16:DEBUG:root:Match found\n",
      "13-juin 09:25:16:DEBUG:root:Match found\n",
      "13-juin 09:25:16:DEBUG:root:Match found\n",
      "13-juin 09:25:16:DEBUG:root:Match found\n",
      "13-juin 09:25:16:DEBUG:root:Match found\n",
      "13-juin 09:25:16:DEBUG:root:Match found\n"
     ]
    },
    {
     "name": "stdout",
     "output_type": "stream",
     "text": [
      "Version: ODV Spreadsheet V4.0\n",
      "Creator: charles@gher13.phys.ulg.ac.be\n",
      "CreateTime: 2011-12-19T12:42:52\n",
      "Software: Ocean Data View Version 4.2.1 - 2009\n",
      "Source: /home/charles/DIVA/BlackSea4diva/New_ODV4_Collection.odv\n",
      "SourceLastModified: 2011-12-19T12:42:03\n",
      "DataField: Ocean\n",
      "DataType: Profiles\n",
      "MissingValueIndicators: -99\n"
     ]
    }
   ],
   "source": [
    "# metadata will be stored in a dictionary\n",
    "# ODV doc: Comment lines start with two slashes // as first two characters\n",
    "metadata = Dict{String, String}()\n",
    "\n",
    "# Context manager\n",
    "open(ODVfile, \"r\") do f\n",
    "    line = readline(f)\n",
    "    \n",
    "    # Read the metadata (lines starting with //)\n",
    "    while line[1:2] == \"//\"\n",
    "        \n",
    "        # Identify metadata fields using regex\n",
    "        # (name of the field is between < > and </ >)\n",
    "        m = match(r\"<(\\w+)>(.+)</(\\w+)>\", line)\n",
    "        \n",
    "        if m != nothing\n",
    "            debug(\"Match found\")\n",
    "            println(m[1] * \": \" * m[2])\n",
    "            # Add key - value in the dictionnary\n",
    "            metadata[String(m[1])] = String(m[2])\n",
    "        end\n",
    "        line = readline(f)\n",
    "    end\n",
    "    \n",
    "    # Read the column labels and set number of columns\n",
    "    #ODV doc: must be the first non-comment line in the file\n",
    "    #ODV doc: must provide columns for all mandatory meta-variables\n",
    "    global columnnames\n",
    "    global columnline\n",
    "    global ncolumns\n",
    "    columnline = line\n",
    "    columnnames = split(line, '\\t');\n",
    "    ncolumns = length(columnnames);\n",
    "    \n",
    "    # Read metadata of the first profile\n",
    "    line = readline(f)\n",
    "    global metadataprofile\n",
    "    metadataprofile = line\n",
    "    \n",
    "    global dataline\n",
    "    dataline = readline(f)\n",
    "    \n",
    "end"
   ]
  },
  {
   "cell_type": "code",
   "execution_count": 71,
   "metadata": {
    "collapsed": false
   },
   "outputs": [
    {
     "data": {
      "text/plain": [
       "16-element Array{SubString{String},1}:\n",
       " \"Cruise\"                              \n",
       " \"Station\"                             \n",
       " \"Type\"                                \n",
       " \"yyyy-mm-ddThh:mm:ss.sss\"             \n",
       " \"Longitude [degrees_east]\"            \n",
       " \"Latitude [degrees_north]\"            \n",
       " \"Bot. Depth [m]:METAVAR:FLOAT:4\"      \n",
       " \"Originator's Cruise:METAVAR:TEXT:20\" \n",
       " \"Originator's Station:METAVAR:TEXT:20\"\n",
       " \"Depth [m]\"                           \n",
       " \"QV:WOD\"                              \n",
       " \"Temperature [C]\"                     \n",
       " \"QV:WOD\"                              \n",
       " \"Salinity [psu]\"                      \n",
       " \"QV:WOD\"                              \n",
       " \"QV:ODV:SAMPLE\\n\"                     "
      ]
     },
     "execution_count": 71,
     "metadata": {},
     "output_type": "execute_result"
    }
   ],
   "source": [
    "columnnames"
   ]
  },
  {
   "cell_type": "code",
   "execution_count": null,
   "metadata": {
    "collapsed": true
   },
   "outputs": [],
   "source": []
  },
  {
   "cell_type": "code",
   "execution_count": 73,
   "metadata": {
    "collapsed": false
   },
   "outputs": [
    {
     "data": {
      "text/plain": [
       "16-element Array{SubString{String},1}:\n",
       " \"WOD05_BG000003\"  \n",
       " \"11570900\"        \n",
       " \"B\"               \n",
       " \"1991-09-03T16:25\"\n",
       " \"28.3333\"         \n",
       " \"43.167\"          \n",
       " \"36\"              \n",
       " \"\"                \n",
       " \"CoMSBlack91\"     \n",
       " \"0.0\"             \n",
       " \"0\"               \n",
       " \"22.208\"          \n",
       " \"0\"               \n",
       " \"15.7020\"         \n",
       " \"0\"               \n",
       " \"1\\n\"             "
      ]
     },
     "execution_count": 73,
     "metadata": {},
     "output_type": "execute_result"
    }
   ],
   "source": [
    "split(metadataprofile, '\\t')"
   ]
  },
  {
   "cell_type": "code",
   "execution_count": 74,
   "metadata": {
    "collapsed": false
   },
   "outputs": [
    {
     "ename": "LoadError",
     "evalue": "syntax: invalid character literal",
     "output_type": "error",
     "traceback": [
      "syntax: invalid character literal",
      ""
     ]
    }
   ],
   "source": [
    "profile.cruise = 'ok'"
   ]
  },
  {
   "cell_type": "code",
   "execution_count": 27,
   "metadata": {
    "collapsed": false
   },
   "outputs": [
    {
     "data": {
      "text/plain": [
       "7-element Array{SubString{String},1}:\n",
       " \"10.0\"   \n",
       " \"0\"      \n",
       " \"22.260\" \n",
       " \"0\"      \n",
       " \"15.7380\"\n",
       " \"0\"      \n",
       " \"1\"      "
      ]
     },
     "execution_count": 27,
     "metadata": {},
     "output_type": "execute_result"
    }
   ],
   "source": [
    "split(dataline)"
   ]
  },
  {
   "cell_type": "code",
   "execution_count": 30,
   "metadata": {
    "collapsed": false,
    "deletable": true,
    "editable": true
   },
   "outputs": [
    {
     "data": {
      "text/plain": [
       "25-element Array{SubString{String},1}:\n",
       " \"Cruise\"                 \n",
       " \"Station\"                \n",
       " \"Type\"                   \n",
       " \"yyyy-mm-ddThh:mm:ss.sss\"\n",
       " \"Longitude\"              \n",
       " \"[degrees_east]\"         \n",
       " \"Latitude\"               \n",
       " \"[degrees_north]\"        \n",
       " \"Bot.\"                   \n",
       " \"Depth\"                  \n",
       " \"[m]:METAVAR:FLOAT:4\"    \n",
       " \"Originator's\"           \n",
       " \"Cruise:METAVAR:TEXT:20\" \n",
       " \"Originator's\"           \n",
       " \"Station:METAVAR:TEXT:20\"\n",
       " \"Depth\"                  \n",
       " \"[m]\"                    \n",
       " \"QV:WOD\"                 \n",
       " \"Temperature\"            \n",
       " \"[°C]\"                   \n",
       " \"QV:WOD\"                 \n",
       " \"Salinity\"               \n",
       " \"[psu]\"                  \n",
       " \"QV:WOD\"                 \n",
       " \"QV:ODV:SAMPLE\"          "
      ]
     },
     "execution_count": 30,
     "metadata": {},
     "output_type": "execute_result"
    }
   ],
   "source": [
    "columnnames"
   ]
  },
  {
   "cell_type": "markdown",
   "metadata": {
    "deletable": true,
    "editable": true
   },
   "source": [
    "Check what's inside the dictionnary."
   ]
  },
  {
   "cell_type": "code",
   "execution_count": 168,
   "metadata": {
    "collapsed": false,
    "deletable": true,
    "editable": true
   },
   "outputs": [
    {
     "data": {
      "text/plain": [
       "Dict{String,String} with 9 entries:\n",
       "  \"DataType\"               => \"Profiles\"\n",
       "  \"Source\"                 => \"/home/charles/DIVA/BlackSea4diva/New_ODV4_Collec…\n",
       "  \"DataField\"              => \"Ocean\"\n",
       "  \"Software\"               => \"Ocean Data View Version 4.2.1 - 2009\"\n",
       "  \"SourceLastModified\"     => \"2011-12-19T12:42:03\"\n",
       "  \"Version\"                => \"ODV Spreadsheet V4.0\"\n",
       "  \"Creator\"                => \"charles@gher13.phys.ulg.ac.be\"\n",
       "  \"CreateTime\"             => \"2011-12-19T12:42:52\"\n",
       "  \"MissingValueIndicators\" => \"-99\""
      ]
     },
     "execution_count": 168,
     "metadata": {},
     "output_type": "execute_result"
    }
   ],
   "source": [
    "metadata"
   ]
  },
  {
   "cell_type": "code",
   "execution_count": 175,
   "metadata": {
    "collapsed": false,
    "deletable": true,
    "editable": true
   },
   "outputs": [
    {
     "data": {
      "text/plain": [
       "\"Cruise  Station Type    yyyy-mm-ddThh:mm:ss.sss Longitude [degrees_east]        Latitude [degrees_north]        Bot. Depth [m]:METAVAR:FLOAT:4  Originator's Cruise:METAVAR:TEXT:20     Originator's Station:METAVAR:TEXT:20    Depth [m]       QV:WOD  Temperature [°C]        QV:WOD  Salinity [psu]  QV:WOD  QV:ODV:SAMPLE\\n\""
      ]
     },
     "execution_count": 175,
     "metadata": {},
     "output_type": "execute_result"
    }
   ],
   "source": [
    "columnnames"
   ]
  },
  {
   "cell_type": "code",
   "execution_count": 178,
   "metadata": {
    "collapsed": false,
    "deletable": true,
    "editable": true
   },
   "outputs": [
    {
     "data": {
      "text/plain": [
       "25-element Array{SubString{String},1}:\n",
       " \"Cruise\"                 \n",
       " \"Station\"                \n",
       " \"Type\"                   \n",
       " \"yyyy-mm-ddThh:mm:ss.sss\"\n",
       " \"Longitude\"              \n",
       " \"[degrees_east]\"         \n",
       " \"Latitude\"               \n",
       " \"[degrees_north]\"        \n",
       " \"Bot.\"                   \n",
       " \"Depth\"                  \n",
       " \"[m]:METAVAR:FLOAT:4\"    \n",
       " \"Originator's\"           \n",
       " \"Cruise:METAVAR:TEXT:20\" \n",
       " \"Originator's\"           \n",
       " \"Station:METAVAR:TEXT:20\"\n",
       " \"Depth\"                  \n",
       " \"[m]\"                    \n",
       " \"QV:WOD\"                 \n",
       " \"Temperature\"            \n",
       " \"[°C]\"                   \n",
       " \"QV:WOD\"                 \n",
       " \"Salinity\"               \n",
       " \"[psu]\"                  \n",
       " \"QV:WOD\"                 \n",
       " \"QV:ODV:SAMPLE\"          "
      ]
     },
     "execution_count": 178,
     "metadata": {},
     "output_type": "execute_result"
    }
   ],
   "source": [
    "columnnames = split(columnnames)"
   ]
  },
  {
   "cell_type": "code",
   "execution_count": 179,
   "metadata": {
    "collapsed": false,
    "deletable": true,
    "editable": true
   },
   "outputs": [
    {
     "data": {
      "text/plain": [
       "\"Cruise\""
      ]
     },
     "execution_count": 179,
     "metadata": {},
     "output_type": "execute_result"
    }
   ],
   "source": [
    "columnnames[1]"
   ]
  },
  {
   "cell_type": "code",
   "execution_count": null,
   "metadata": {
    "collapsed": true,
    "deletable": true,
    "editable": true
   },
   "outputs": [],
   "source": []
  }
 ],
 "metadata": {
  "kernelspec": {
   "display_name": "Julia 0.5.1",
   "language": "julia",
   "name": "julia-0.5"
  },
  "language_info": {
   "file_extension": ".jl",
   "mimetype": "application/julia",
   "name": "julia",
   "version": "0.5.1"
  }
 },
 "nbformat": 4,
 "nbformat_minor": 2
}
