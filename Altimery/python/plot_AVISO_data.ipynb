{
 "cells": [
  {
   "cell_type": "code",
   "execution_count": 3,
   "metadata": {
    "collapsed": false,
    "deletable": true,
    "editable": true
   },
   "outputs": [],
   "source": [
    "import os\n",
    "import re\n",
    "import glob\n",
    "import datetime\n",
    "import numpy as np\n",
    "import matplotlib.pyplot as plt\n",
    "from mpl_toolkits.basemap import Basemap\n",
    "from matplotlib import rcParams\n",
    "import netCDF4\n",
    "import logging"
   ]
  },
  {
   "cell_type": "markdown",
   "metadata": {
    "deletable": true,
    "editable": true
   },
   "source": [
    "## Configuration"
   ]
  },
  {
   "cell_type": "markdown",
   "metadata": {
    "deletable": true,
    "editable": true
   },
   "source": [
    "Logging"
   ]
  },
  {
   "cell_type": "code",
   "execution_count": 4,
   "metadata": {
    "collapsed": false,
    "deletable": true,
    "editable": true
   },
   "outputs": [],
   "source": [
    "logger = logging.getLogger()\n",
    "logger.setLevel(logging.INFO)"
   ]
  },
  {
   "cell_type": "markdown",
   "metadata": {
    "deletable": true,
    "editable": true
   },
   "source": [
    "Plotting (should be ideally in `matplotlibrc` but seems not to work with virtualenv)."
   ]
  },
  {
   "cell_type": "code",
   "execution_count": 5,
   "metadata": {
    "collapsed": false,
    "deletable": true,
    "editable": true
   },
   "outputs": [],
   "source": [
    "rcParams.update({'font.size': 16, 'figure.dpi': 300, 'savefig.bbox': 'tight'})\n",
    "# rcParams.keys"
   ]
  },
  {
   "cell_type": "markdown",
   "metadata": {
    "deletable": true,
    "editable": true
   },
   "source": [
    "# Input parameters"
   ]
  },
  {
   "cell_type": "markdown",
   "metadata": {},
   "source": [
    "## Files and directories"
   ]
  },
  {
   "cell_type": "code",
   "execution_count": null,
   "metadata": {
    "collapsed": true
   },
   "outputs": [],
   "source": [
    "databasedir = \"/home/ctroupin/Data/AVISO/regional-mediterranean/delayed-time/along-track/filtered/adt\"\n",
    "outputdir = \"../data/\"\n",
    "figdir = \"../figures/\"\n",
    "missionlist = [\"al\", \"c2\", \"h2\", \"j2\"]"
   ]
  },
  {
   "cell_type": "markdown",
   "metadata": {},
   "source": [
    "## Domain and period of interest"
   ]
  },
  {
   "cell_type": "code",
   "execution_count": 98,
   "metadata": {
    "collapsed": true,
    "deletable": true,
    "editable": true
   },
   "outputs": [],
   "source": [
    "coordinates = [-6.75, 40.001, 30, 48.]\n",
    "year, month, day, interval = 2014, 5, 25, 10\n",
    "timescale = 5.        # temporal scale in days"
   ]
  },
  {
   "cell_type": "markdown",
   "metadata": {
    "deletable": true,
    "editable": true
   },
   "source": [
    "## Map projection"
   ]
  },
  {
   "cell_type": "code",
   "execution_count": 7,
   "metadata": {
    "collapsed": false,
    "deletable": true,
    "editable": true
   },
   "outputs": [],
   "source": [
    "m = Basemap(projection='merc',\n",
    "            llcrnrlon=coordinates[0], llcrnrlat=coordinates[2],\n",
    "            urcrnrlon=coordinates[1], urcrnrlat=coordinates[3],\n",
    "            lat_ts=0.5 * (coordinates[2] + coordinates[3]), resolution='i')"
   ]
  },
  {
   "cell_type": "markdown",
   "metadata": {
    "deletable": true,
    "editable": true
   },
   "source": [
    "## Track class"
   ]
  },
  {
   "cell_type": "code",
   "execution_count": 83,
   "metadata": {
    "collapsed": false,
    "deletable": true,
    "editable": true
   },
   "outputs": [],
   "source": [
    "class Track(object):\n",
    "    \"\"\"\n",
    "    Object that represent an altimeter track: positions, time and ADT\n",
    "    \"\"\"\n",
    "    def __init__(self, filename):\n",
    "        \"\"\"\n",
    "        Read the values from the selected file name\n",
    "        \"\"\"\n",
    "        self.filename = filename\n",
    "        \n",
    "        if os.path.exists(self.filename):\n",
    "            with netCDF4.Dataset(self.filename, 'r') as nc:\n",
    "                self.lon = nc.variables['longitude'][:]\n",
    "                self.lat = nc.variables['latitude'][:]\n",
    "                self.time = nc.variables['time'][:]\n",
    "                self.adt = nc.variables['ADT'][:]\n",
    "                self.npoints = len(self.lon)\n",
    "        else:\n",
    "            logging.warning(\"File {0} doesn't exist\".format(self.filename))\n",
    "            self.lon=[]\n",
    "            self.lat=[]\n",
    "            self.time=[]\n",
    "            self.adt=[]\n",
    "            self.npoints=0\n",
    "            \n",
    "    def computeTimeWeights(self, timescale, timemid):\n",
    "        \"\"\"\n",
    "        Compute the data weights (4th column in Diva2D data files) \n",
    "        using the time difference between the actual measurement and \n",
    "        the mean time of the considered period\n",
    "        Parameters:\n",
    "        -----------\n",
    "        timescale: float indicating the temporal scale (in days ; has to be \n",
    "        consistent with the units of the time in the AVISO files).\n",
    "        timemid: float indicating the reference time (in days since \n",
    "        January 1st, 1950 to ensure consistency with AVISO files).\n",
    "        \"\"\"\n",
    "\n",
    "        self.timeweight = np.exp( - abs(self.time - timemid) / timescale)\n",
    "            \n",
    "    def addToPlot(self, **kwargs):\n",
    "        \"\"\"\n",
    "        Add the data points as a scatter plot\n",
    "        \"\"\"\n",
    "        plt.scatter(self.lon, self.lat, c=self.adt, **kwargs)\n",
    "        \n",
    "    def addToMap(self, m, **kwargs):\n",
    "        \"\"\"\n",
    "        Add the data points as a scatter plot to an existing map\n",
    "        \"\"\"\n",
    "        m.scatter(self.lon, self.lat, c=self.adt, latlon=True, **kwargs)\n",
    "        \n",
    "    def writoToTextfile(self, filename):\n",
    "        if not os.path.exists(filename):\n",
    "            logging.info(\"Creating new file {0}\".format(filename))\n",
    "            \n",
    "        with open(filename, 'a') as f:\n",
    "            for lon, lat, time, adt in zip(self.lon, self.lat, self.time, self.adt):\n",
    "                f.write(' '.join((str(lon), str(lat), str(time), str(adt), '\\n')))\n",
    "                \n",
    "    def writeToDivaFile(self, filename, timescale, timemid):\n",
    "        \"\"\"\n",
    "        Write a Diva2D file: lon | lat | field | weight\n",
    "        where the weights are computed using the time difference between the actual measurement and \n",
    "        the mean time of the considered period\n",
    "        \"\"\"\n",
    "        #computeTimeWeights(self, timescale, timemid)\n",
    "        self.timeweight = np.exp( - abs(self.time - timemid) / timescale)\n",
    "        \n",
    "        if not os.path.exists(filename):\n",
    "            logging.info(\"Creating new file {0}\".format(filename))\n",
    "            \n",
    "        with open(filename, 'a') as f:\n",
    "            for lon, lat, adt, weight in zip(self.lon, self.lat, self.adt, self.timeweight):\n",
    "                f.write(' '.join((str(lon), str(lat), str(adt), str(weight), '\\n')))"
   ]
  },
  {
   "cell_type": "markdown",
   "metadata": {
    "deletable": true,
    "editable": true
   },
   "source": [
    "## Generate strings from the selected periods"
   ]
  },
  {
   "cell_type": "code",
   "execution_count": 89,
   "metadata": {
    "collapsed": true,
    "deletable": true,
    "editable": true
   },
   "outputs": [],
   "source": [
    "def prepareDateStrings(year, month, day, interval):\n",
    "    \"\"\"\n",
    "    Create a string that will be used as a suffix in the file name\n",
    "    And another one used on the figure title\n",
    "    \"\"\"\n",
    "    datemid = datetime.datetime(year, month, day)\n",
    "    datestart = datemid - datetime.timedelta(interval)\n",
    "    dateend = datemid + datetime.timedelta(interval)\n",
    "    logging.debug(\"Start date: {0}\".format(datestart))\n",
    "    logging.debug(\"End   date: {0}\".format(dateend))\n",
    "    \n",
    "    # Create string that will be used for filename\n",
    "    fignamesuffix = datestart.strftime(\"%Y%m%d\") + '_' + dateend.strftime(\"%Y%m%d\")\n",
    "    figtitledate = datestart.strftime(\"%Y-%m-%d\") + '$-$' + dateend.strftime(\"%Y-%m-%d\")\n",
    "    return fignamesuffix, figtitledate"
   ]
  },
  {
   "cell_type": "markdown",
   "metadata": {
    "deletable": true,
    "editable": true
   },
   "source": [
    "## Generate list of files for the selected period"
   ]
  },
  {
   "cell_type": "markdown",
   "metadata": {
    "deletable": true,
    "editable": true
   },
   "source": [
    "Based on the filenames, we can easily identify the files corresponding to the time of interest:\n",
    "* datemid is the central time of the considered period\n",
    "* datestart is the start date\n",
    "* dateend is the last day."
   ]
  },
  {
   "cell_type": "code",
   "execution_count": 90,
   "metadata": {
    "collapsed": true,
    "deletable": true,
    "editable": true
   },
   "outputs": [],
   "source": [
    "def makeFileList(databasedir, missionlist, year, month, day, interval):\n",
    "    \"\"\"\n",
    "    Create a list of files from the selected directory and missions \n",
    "    with dates that are inside the interval determined by year, month, day and interval\n",
    "    Parameters:\n",
    "    -----------\n",
    "    databasedir: main directory containing the data files\n",
    "    missionlist: list or tuple of strings for the sub-directories, one per mission\n",
    "    year, month, day: integers that sets the central day of the period of interest\n",
    "    interval: integer indicating the number of days before and after the central day of the period\n",
    "    \"\"\"\n",
    "    datemid = datetime.datetime(year, month, day)\n",
    "    datestart = datemid - datetime.timedelta(interval)\n",
    "    dateend = datemid + datetime.timedelta(interval)\n",
    "    logging.debug(\"Start date: {0}\".format(datestart))\n",
    "    logging.debug(\"End   date: {0}\".format(dateend))\n",
    "    \n",
    "    # Create list of days in format YYYYMMDD\n",
    "    datelist = []\n",
    "    nfiles = 0\n",
    "    dd = datestart\n",
    "    while dd != dateend:\n",
    "        datelist.append(dd.strftime(\"%Y%m%d\"))\n",
    "        dd += datetime.timedelta(1)\n",
    "\n",
    "    # Create the file list\n",
    "    filelist = []\n",
    "    for mission in missionlist:\n",
    "        logging.info(\"Working on file from mission {0}\".format(mission))\n",
    "        datadir = os.path.join(databasedir, mission)\n",
    "        for dates in datelist:\n",
    "            logging.debug(dates)\n",
    "            fname = \"dt_med_{0}_adt_vfec_{1}_{2}.nc\".format(mission, dates, '*')\n",
    "            flist = glob.glob(os.path.join(datadir, \"\".join((dates[:4], '/', fname))))\n",
    "            \n",
    "            # Check if at least one file is found\n",
    "            # with H2 mission some files are missing\n",
    "            if len(flist) != 0:\n",
    "                filelist.append(flist[0])\n",
    "                nfiles += 1\n",
    "    logging.info(\"Found {0} files for the selected period and missions\".format(nfiles))\n",
    "    return filelist"
   ]
  },
  {
   "cell_type": "markdown",
   "metadata": {
    "deletable": true,
    "editable": true
   },
   "source": [
    "# Main loop"
   ]
  },
  {
   "cell_type": "markdown",
   "metadata": {
    "deletable": true,
    "editable": true
   },
   "source": [
    "Compute central time"
   ]
  },
  {
   "cell_type": "code",
   "execution_count": 102,
   "metadata": {
    "collapsed": false,
    "deletable": true,
    "editable": true
   },
   "outputs": [
    {
     "name": "stderr",
     "output_type": "stream",
     "text": [
      "INFO:root:Central time (in days since January 1st, 1500): 23520\n"
     ]
    }
   ],
   "source": [
    "datemid = datetime.datetime(year, month, day).toordinal() - datetime.datetime(1950, 1, 1).toordinal()\n",
    "logging.info(\"Central time (in days since January 1st, 1500): {0}\".format(datemid))"
   ]
  },
  {
   "cell_type": "markdown",
   "metadata": {
    "deletable": true,
    "editable": true
   },
   "source": [
    "Create the list of files."
   ]
  },
  {
   "cell_type": "code",
   "execution_count": 93,
   "metadata": {
    "collapsed": false,
    "deletable": true,
    "editable": true
   },
   "outputs": [
    {
     "name": "stderr",
     "output_type": "stream",
     "text": [
      "INFO:root:Working on file from mission al\n",
      "INFO:root:Working on file from mission c2\n",
      "INFO:root:Working on file from mission h2\n",
      "INFO:root:Working on file from mission j2\n",
      "INFO:root:Found 77 files for the selected period and missions\n"
     ]
    }
   ],
   "source": [
    "filelist = makeFileList(databasedir, missionlist, year, month, day, interval)"
   ]
  },
  {
   "cell_type": "code",
   "execution_count": 94,
   "metadata": {
    "collapsed": false,
    "deletable": true,
    "editable": true
   },
   "outputs": [
    {
     "data": {
      "text/plain": [
       "'20140515_20140604'"
      ]
     },
     "execution_count": 94,
     "metadata": {},
     "output_type": "execute_result"
    }
   ],
   "source": [
    "fignamesuffix, figtitledate = prepareDateStrings(year, month, day, interval)\n",
    "fignamesuffix"
   ]
  },
  {
   "cell_type": "markdown",
   "metadata": {
    "deletable": true,
    "editable": true
   },
   "source": [
    "## File and figure names"
   ]
  },
  {
   "cell_type": "code",
   "execution_count": 97,
   "metadata": {
    "collapsed": false,
    "deletable": true,
    "editable": true
   },
   "outputs": [
    {
     "name": "stderr",
     "output_type": "stream",
     "text": [
      "INFO:root:Text file name: ADT_20140515_20140604.dat\n",
      "INFO:root:Figure name: ADT_20140515_20140604\n"
     ]
    }
   ],
   "source": [
    "outputfilename = \"ADT_{0}.dat\".format(fignamesuffix)\n",
    "divafilename =  \"data_{0}.dat\".format(fignamesuffix)\n",
    "figname = \"ADT_{0}\".format(fignamesuffix)\n",
    "logging.info(\"Text file name: {0}\".format(outputfilename))\n",
    "logging.info(\"Figure name: {0}\".format(figname))"
   ]
  },
  {
   "cell_type": "markdown",
   "metadata": {
    "deletable": true,
    "editable": true
   },
   "source": [
    "## Make the plot and write data to text files"
   ]
  },
  {
   "cell_type": "code",
   "execution_count": 106,
   "metadata": {
    "collapsed": false,
    "deletable": true,
    "editable": true
   },
   "outputs": [
    {
     "name": "stderr",
     "output_type": "stream",
     "text": [
      "/home/ctroupin/Software/PythonEnvs/Diva-python3.6/lib/python3.6/site-packages/mpl_toolkits/basemap/__init__.py:3222: MatplotlibDeprecationWarning: The ishold function was deprecated in version 2.0.\n",
      "  b = ax.ishold()\n",
      "/home/ctroupin/Software/PythonEnvs/Diva-python3.6/lib/python3.6/site-packages/mpl_toolkits/basemap/__init__.py:3231: MatplotlibDeprecationWarning: axes.hold is deprecated.\n",
      "    See the API Changes document (http://matplotlib.org/api/api_changes.html)\n",
      "    for more details.\n",
      "  ax.hold(b)\n",
      "INFO:root:Creating new file ../data/ADT_20140515_20140604.dat\n",
      "INFO:root:Creating new file ../data/data_20140515_20140604.dat\n"
     ]
    }
   ],
   "source": [
    "fig = plt.figure(figsize=(10, 10))\n",
    "ax = plt.subplot(111)\n",
    "\n",
    "npoints = 0\n",
    "for file in filelist:\n",
    "    track = Track(file)\n",
    "    # Add track to the plot\n",
    "    track.addToMap(m, marker='o', s=3, vmin=-.2, vmax=.2)\n",
    "    # Count the number of points\n",
    "    npoints += track.npoints\n",
    "    # Write data to a text file\n",
    "    track.writoToTextfile(os.path.join(outputdir, outputfilename))\n",
    "    # Compute data weights and write a Diva2D data file\n",
    "    track.writeToDivaFile(os.path.join(outputdir, divafilename), timescale, timemid)\n",
    "\n",
    "# Add lines, coastline etc    \n",
    "m.drawmeridians(np.arange(-8., round(coordinates[1]), 8), \n",
    "                labels=[0, 0, 0, 1], linewidth=.2)\n",
    "m.drawparallels(np.linspace(round(coordinates[2]), round(coordinates[3]), 5), \n",
    "                labels=[1, 0, 0, 0], linewidth=.2)\n",
    "m.drawcoastlines(linewidth=.2)\n",
    "cbar = plt.colorbar(shrink=.5, extend='both')\n",
    "cbar.set_label(\"m\", rotation=0)\n",
    "plt.title(\"{0} \\n {1} data points\".format(figtitledate, npoints))\n",
    "plt.savefig(os.path.join(figdir, figname), dpi=300)\n",
    "# plt.show()\n",
    "plt.close()"
   ]
  },
  {
   "cell_type": "code",
   "execution_count": null,
   "metadata": {
    "collapsed": true,
    "deletable": true,
    "editable": true
   },
   "outputs": [],
   "source": []
  }
 ],
 "metadata": {
  "kernelspec": {
   "display_name": "Diva-python3.6",
   "language": "python",
   "name": "diva-python3.6"
  },
  "language_info": {
   "codemirror_mode": {
    "name": "ipython",
    "version": 3
   },
   "file_extension": ".py",
   "mimetype": "text/x-python",
   "name": "python",
   "nbconvert_exporter": "python",
   "pygments_lexer": "ipython3",
   "version": "3.6.0"
  }
 },
 "nbformat": 4,
 "nbformat_minor": 2
}
