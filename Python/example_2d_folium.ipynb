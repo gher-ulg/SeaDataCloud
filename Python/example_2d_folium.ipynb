{
 "cells": [
  {
   "cell_type": "markdown",
   "metadata": {},
   "source": [
    "This notebook presents an interaction of Diva tools to read data with the [leaflet](http://leafletjs.com/) library using the python [folium](http://python-visualization.github.io/folium/) package.<be>\n",
    "You will need to use the Diva read and plot functions available in the same directory, as well as the example input files."
   ]
  },
  {
   "cell_type": "code",
   "execution_count": null,
   "metadata": {
    "collapsed": false
   },
   "outputs": [],
   "source": [
    "import os\n",
    "import logging\n",
    "import pydiva2d\n",
    "import numpy as np\n",
    "import matplotlib.pyplot as plt\n",
    "import folium\n",
    "from folium import plugins"
   ]
  },
  {
   "cell_type": "code",
   "execution_count": null,
   "metadata": {
    "collapsed": false
   },
   "outputs": [],
   "source": [
    "logger = logging.getLogger('diva2D')\n",
    "logger.setLevel(logging.DEBUG)"
   ]
  },
  {
   "cell_type": "markdown",
   "metadata": {},
   "source": [
    "# Get the data"
   ]
  },
  {
   "cell_type": "markdown",
   "metadata": {},
   "source": [
    "The input files are located in the *data* directory."
   ]
  },
  {
   "cell_type": "code",
   "execution_count": null,
   "metadata": {
    "collapsed": false
   },
   "outputs": [],
   "source": [
    "datadir = './data/'\n",
    "datafile = os.path.join(datadir, 'MLD1.dat')\n",
    "coastfile = os.path.join(datadir, 'coast.cont')\n",
    "paramfile = os.path.join(datadir, 'param.par')"
   ]
  },
  {
   "cell_type": "markdown",
   "metadata": {},
   "source": [
    "As in the previous example we create the directory and file names:"
   ]
  },
  {
   "cell_type": "code",
   "execution_count": null,
   "metadata": {
    "collapsed": false
   },
   "outputs": [],
   "source": [
    "divadir = \"/home/ctroupin/Software/DIVA/diva-4.7.1\"\n",
    "DivaDirs = pydiva2d.DivaDirectories(divadir)\n",
    "DivaFiles = pydiva2d.Diva2Dfiles(DivaDirs.diva2d)"
   ]
  },
  {
   "cell_type": "markdown",
   "metadata": {},
   "source": [
    "Let's read the information from the various input and output files using the functions of the [diva2Dread](./diva2Dread.py) module."
   ]
  },
  {
   "cell_type": "code",
   "execution_count": null,
   "metadata": {
    "collapsed": false
   },
   "outputs": [],
   "source": [
    "lon, lat, field = diva2Dread.read_data(datafile)\n",
    "contours = diva2Dread.read_contour(coastfile)\n",
    "xnode, ynode, i1, i2, i3 = diva2Dread.read_mesh(meshfile, meshtopofile)\n",
    "lc, icoord, ispec, ireg, xori, yori, dx, dy, nx, ny, valex, snr, varbak = \\\n",
    "diva2Dread.read_parameters(paramfile)\n",
    "x_analysis, y_analysis, analysis, error = diva2Dread.read_results(resultfile)"
   ]
  },
  {
   "cell_type": "markdown",
   "metadata": {},
   "source": [
    "# Make the map"
   ]
  },
  {
   "cell_type": "markdown",
   "metadata": {},
   "source": [
    "We will center the map on the mean location of the data, hoping that there are not bad data.<br>\n",
    "For the zoom level, you need some tries to find the right level. It has to be an integer."
   ]
  },
  {
   "cell_type": "code",
   "execution_count": null,
   "metadata": {
    "collapsed": false
   },
   "outputs": [],
   "source": [
    "divamap = folium.Map(location=[lat.mean(), lon.mean()], zoom_start=6)"
   ]
  },
  {
   "cell_type": "markdown",
   "metadata": {},
   "source": [
    "## Add data points"
   ]
  },
  {
   "cell_type": "markdown",
   "metadata": {},
   "source": [
    "We will also add a popup for each data marker, so that one can see the actual measurement at that location."
   ]
  },
  {
   "cell_type": "code",
   "execution_count": null,
   "metadata": {
    "collapsed": false
   },
   "outputs": [],
   "source": [
    "for x, y, MLD in zip(lon, lat, field):\n",
    "    folium.CircleMarker([y, x], popup=\"MLD = {0} m\".format(np.round(MLD, 2))).add_to(divamap)"
   ]
  },
  {
   "cell_type": "markdown",
   "metadata": {},
   "source": [
    "## Add contours"
   ]
  },
  {
   "cell_type": "code",
   "execution_count": null,
   "metadata": {
    "collapsed": false,
    "scrolled": true
   },
   "outputs": [],
   "source": [
    "for contour in contours:\n",
    "    c = folium.PolyLine(locations=np.fliplr(np.append(contour, contour[0:1, :], axis=0)), \n",
    "                        color='orange', weight=5, opacity=0.75)\n",
    "    divamap.add_child(c)\n",
    "divamap"
   ]
  },
  {
   "cell_type": "markdown",
   "metadata": {},
   "source": [
    "## Add finite element mesh"
   ]
  },
  {
   "cell_type": "markdown",
   "metadata": {},
   "source": [
    "Due to the large number of nodes in the mesh, we prefer not to add them directory to the map.<br>\n",
    "The solution is to first create a figure, then load it and add it to the map as an overlay. We have to remove all the axis, labels, frames and borders."
   ]
  },
  {
   "cell_type": "code",
   "execution_count": null,
   "metadata": {
    "collapsed": false
   },
   "outputs": [],
   "source": [
    "fig = plt.figure(frameon=False)\n",
    "ax = fig.add_axes([0, 0, 1, 1])\n",
    "ax.axis('off')\n",
    "f1 = plt.gca()\n",
    "diva2Dplot.plot_mesh(xnode, ynode, i1, i2, i3, ax)\n",
    "ax.set_xlim(xori, xori + nx * dx)\n",
    "ax.set_ylim(yori, yori + ny * dy)\n",
    "f1.axes.get_xaxis().set_ticks([])\n",
    "f1.axes.get_yaxis().set_ticks([])\n",
    "plt.savefig('./figures/BlackSeaMesh.png', transparent=True, \n",
    "            bbox_inches='tight', pad_inches=0)\n",
    "plt.close()"
   ]
  },
  {
   "cell_type": "markdown",
   "metadata": {},
   "source": [
    "The plugin [ImageOverlay](https://github.com/python-visualization/folium/blob/master/folium/plugins/image_overlay.py) is what we need to add the generated image.<br>\n",
    "We specify the bounds using the information extracted from the parameter file."
   ]
  },
  {
   "cell_type": "code",
   "execution_count": null,
   "metadata": {
    "collapsed": false
   },
   "outputs": [],
   "source": [
    "plugins.ImageOverlay(\n",
    "    image=open('./figures/BlackSeaMesh.png', 'br'),\n",
    "    bounds=[[yori, xori], [yori + ny * dy, xori + nx * dx]],\n",
    "    opacity=0.8,\n",
    ").add_to(divamap)\n",
    "divamap"
   ]
  },
  {
   "cell_type": "markdown",
   "metadata": {
    "collapsed": false
   },
   "source": [
    "## Add analysed field"
   ]
  },
  {
   "cell_type": "markdown",
   "metadata": {},
   "source": [
    "We follow the same approach as with the finite element mesh: first create the figure, then add it as an overlay."
   ]
  },
  {
   "cell_type": "code",
   "execution_count": null,
   "metadata": {
    "collapsed": false
   },
   "outputs": [],
   "source": [
    "analysis = np.ma.masked_where(analysis==valex, analysis)\n",
    "fig = plt.figure(frameon=False)\n",
    "ax = fig.add_axes([0, 0, 1, 1])\n",
    "diva2Dplot.plot_field(x_analysis, y_analysis, analysis)\n",
    "ax.axis('off')\n",
    "ax.set_xlim(xori, xori + nx * dx)\n",
    "ax.set_ylim(yori, yori + ny * dy)\n",
    "f1 = plt.gca()\n",
    "f1.axes.get_xaxis().set_ticks([])\n",
    "f1.axes.get_yaxis().set_ticks([])\n",
    "plt.savefig('./figures/BlackSeaAnalysis.png', transparent=True, \n",
    "            bbox_inches='tight', pad_inches=0)\n",
    "plt.close()"
   ]
  },
  {
   "cell_type": "code",
   "execution_count": null,
   "metadata": {
    "collapsed": false,
    "scrolled": true
   },
   "outputs": [],
   "source": [
    "plugins.ImageOverlay(\n",
    "    image=open('./figures/BlackSeaAnalysis.png', 'br'),\n",
    "    bounds=[[yori, xori], [yori + ny * dy, xori + nx * dx]],\n",
    "    opacity=0.5,\n",
    ").add_to(divamap)\n",
    "divamap"
   ]
  },
  {
   "cell_type": "markdown",
   "metadata": {},
   "source": [
    "Finally we export the map in html."
   ]
  },
  {
   "cell_type": "code",
   "execution_count": null,
   "metadata": {
    "collapsed": false
   },
   "outputs": [],
   "source": [
    "divamap.save('diva_mesh_analysis.html')"
   ]
  }
 ],
 "metadata": {
  "kernelspec": {
   "display_name": "Python 3",
   "language": "python",
   "name": "python3"
  },
  "language_info": {
   "codemirror_mode": {
    "name": "ipython",
    "version": 3
   },
   "file_extension": ".py",
   "mimetype": "text/x-python",
   "name": "python",
   "nbconvert_exporter": "python",
   "pygments_lexer": "ipython3",
   "version": "3.6.0"
  }
 },
 "nbformat": 4,
 "nbformat_minor": 2
}
