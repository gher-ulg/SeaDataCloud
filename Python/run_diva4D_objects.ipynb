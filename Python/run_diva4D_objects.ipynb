{
 "cells": [
  {
   "cell_type": "markdown",
   "metadata": {},
   "source": [
    "In this notebook we show how to prepare all the input and parameter files necessary to run Diva4D.<br>\n",
    "The code rely on the classes defined for 2D (module `pydiva2d`) and 4D (module `pydiva4d`). "
   ]
  },
  {
   "cell_type": "code",
   "execution_count": null,
   "metadata": {
    "collapsed": false
   },
   "outputs": [],
   "source": [
    "import os\n",
    "import logging\n",
    "import shutil\n",
    "import subprocess\n",
    "import pydiva4d\n",
    "import datetime\n",
    "from importlib import reload"
   ]
  },
  {
   "cell_type": "code",
   "execution_count": 2,
   "metadata": {
    "collapsed": false
   },
   "outputs": [],
   "source": [
    "# reload(pydiva4d)"
   ]
  },
  {
   "cell_type": "markdown",
   "metadata": {},
   "source": [
    "Reload the module (only during code development), (un)comment if necessary."
   ]
  },
  {
   "cell_type": "markdown",
   "metadata": {},
   "source": [
    "# User inputs and configuration"
   ]
  },
  {
   "cell_type": "markdown",
   "metadata": {},
   "source": [
    "Indicate the path to the Diva installation you want to work with (ending with `diva-x.y.z`)."
   ]
  },
  {
   "cell_type": "code",
   "execution_count": 3,
   "metadata": {
    "collapsed": true
   },
   "outputs": [],
   "source": [
    "divabasedir = \"/home/ctroupin/Software/DIVA/diva-4.7.1\""
   ]
  },
  {
   "cell_type": "markdown",
   "metadata": {},
   "source": [
    "## Create the sub-directories and files"
   ]
  },
  {
   "cell_type": "code",
   "execution_count": 4,
   "metadata": {
    "collapsed": false
   },
   "outputs": [
    {
     "name": "stderr",
     "output_type": "stream",
     "text": [
      "INFO:pydiva2d:Diva main directory: /home/ctroupin/Software/DIVA/diva-4.7.1\n",
      "INFO:pydiva2d:Creating Diva directory paths\n",
      "INFO:pydiva2d:Binary directory:   /home/ctroupin/Software/DIVA/diva-4.7.1/DIVA3D/bin\n",
      "INFO:pydiva2d:Source directory:   /home/ctroupin/Software/DIVA/diva-4.7.1/DIVA3D/src/Fortan\n",
      "INFO:pydiva2d:Main 2D directory:  /home/ctroupin/Software/DIVA/diva-4.7.1/DIVA3D/divastripped\n",
      "INFO:pydiva2d:Main 4D directory:  /home/ctroupin/Software/DIVA/diva-4.7.1/JRA4/Climatology\n",
      "INFO:pydiva2d:4D input directory: /home/ctroupin/Software/DIVA/diva-4.7.1/JRA4/Climatology/input\n"
     ]
    }
   ],
   "source": [
    "divadirs = pydiva4d.DivaDirectories(divabasedir)"
   ]
  },
  {
   "cell_type": "code",
   "execution_count": 5,
   "metadata": {
    "collapsed": false
   },
   "outputs": [
    {
     "name": "stderr",
     "output_type": "stream",
     "text": [
      "INFO:pydiva2d:Creating Diva 2D file names and paths\n",
      "INFO:pydiva2d:Contour file:   /home/ctroupin/Software/DIVA/diva-4.7.1/DIVA3D/divastripped/input/coast.cont\n",
      "INFO:pydiva2d:Parameter file: /home/ctroupin/Software/DIVA/diva-4.7.1/DIVA3D/divastripped/input/param.par\n",
      "INFO:pydiva2d:Data file:      /home/ctroupin/Software/DIVA/diva-4.7.1/DIVA3D/divastripped/input/data.dat\n",
      "INFO:pydiva2d:Valatxy file:   /home/ctroupin/Software/DIVA/diva-4.7.1/DIVA3D/divastripped/input/valatxy.coord\n",
      "INFO:pydiva2d:Result file:    /home/ctroupin/Software/DIVA/diva-4.7.1/DIVA3D/divastripped/output/ghertonetcdf/results.nc\n",
      "INFO:pydiva2d:Mesh file:      /home/ctroupin/Software/DIVA/diva-4.7.1/DIVA3D/divastripped/meshgenwork/fort.22\n",
      "INFO:pydiva2d:Mesh topo file: /home/ctroupin/Software/DIVA/diva-4.7.1/DIVA3D/divastripped/meshgenwork/fort.23\n"
     ]
    }
   ],
   "source": [
    "diva2Dfiles = pydiva4d.Diva2Dfiles(divadirs.diva2d)"
   ]
  },
  {
   "cell_type": "code",
   "execution_count": 6,
   "metadata": {
    "collapsed": false
   },
   "outputs": [
    {
     "name": "stderr",
     "output_type": "stream",
     "text": [
      "INFO:pydiva4d:Creating Diva 4D file names and paths\n",
      "INFO:pydiva4d:datasource file:   /home/ctroupin/Software/DIVA/diva-4.7.1/JRA4/Climatology/datasource\n",
      "INFO:pydiva4d:constandrefe file: /home/ctroupin/Software/DIVA/diva-4.7.1/JRA4/Climatology/constandrefe\n",
      "INFO:pydiva4d:driver file:       /home/ctroupin/Software/DIVA/diva-4.7.1/JRA4/Climatology/driver\n",
      "INFO:pydiva4d:monthlist file:    /home/ctroupin/Software/DIVA/diva-4.7.1/JRA4/Climatology/monthlist\n",
      "INFO:pydiva4d:qflist file:       /home/ctroupin/Software/DIVA/diva-4.7.1/JRA4/Climatology/qflist\n",
      "INFO:pydiva4d:varlist file:      /home/ctroupin/Software/DIVA/diva-4.7.1/JRA4/Climatology/varlist\n",
      "INFO:pydiva4d:yearlist file:     /home/ctroupin/Software/DIVA/diva-4.7.1/JRA4/Climatology/yearlist\n",
      "INFO:pydiva4d:contourdepth file: /home/ctroupin/Software/DIVA/diva-4.7.1/JRA4/Climatology/contourdepth\n",
      "INFO:pydiva4d:ncdfinfo file:     /home/ctroupin/Software/DIVA/diva-4.7.1/JRA4/Climatology/ncdfinfo\n",
      "INFO:pydiva4d:param.par file:    /home/ctroupin/Software/DIVA/diva-4.7.1/JRA4/Climatology/input/param.par\n"
     ]
    }
   ],
   "source": [
    "diva4Dfiles = pydiva4d.Diva4Dfiles(divadirs.diva4d)"
   ]
  },
  {
   "cell_type": "markdown",
   "metadata": {},
   "source": [
    "## List of user parameters"
   ]
  },
  {
   "cell_type": "markdown",
   "metadata": {},
   "source": [
    "Set the different parameters necessary for a 4D analysis.<br>\n",
    "For clarity, they are separated by input files."
   ]
  },
  {
   "cell_type": "markdown",
   "metadata": {},
   "source": [
    "### List of ODV spreadsheet files"
   ]
  },
  {
   "cell_type": "code",
   "execution_count": 7,
   "metadata": {
    "collapsed": false
   },
   "outputs": [
    {
     "name": "stderr",
     "output_type": "stream",
     "text": [
      "INFO:pydiva4d:Creating Diva 4D Datasource object\n",
      "WARNING:pydiva4d:Argument converted from string to list\n"
     ]
    }
   ],
   "source": [
    "datasource = pydiva4d.Datasource('./blacksea_data_CTD.txt')"
   ]
  },
  {
   "cell_type": "markdown",
   "metadata": {},
   "source": [
    "### Parameters for the advection constraint and the reference field"
   ]
  },
  {
   "cell_type": "code",
   "execution_count": 8,
   "metadata": {
    "collapsed": true
   },
   "outputs": [],
   "source": [
    "advection_flag = 0               # indicates if advection is activated\n",
    "ref_flag = 0                     # indicates if there is a reference field\n",
    "var_year_code = '00000000'       # variable year code\n",
    "var_month_code = '0000'          # variable month code"
   ]
  },
  {
   "cell_type": "code",
   "execution_count": 9,
   "metadata": {
    "collapsed": false
   },
   "outputs": [
    {
     "name": "stderr",
     "output_type": "stream",
     "text": [
      "INFO:pydiva4d:Creating Diva 4D Constandrefe object\n"
     ]
    }
   ],
   "source": [
    "constandrefe = pydiva4d.Constandrefe(advection_flag, ref_flag, var_year_code, var_month_code)"
   ]
  },
  {
   "cell_type": "markdown",
   "metadata": {
    "collapsed": true
   },
   "source": [
    "### Parameters for the 4D analysis"
   ]
  },
  {
   "cell_type": "code",
   "execution_count": 10,
   "metadata": {
    "collapsed": true
   },
   "outputs": [],
   "source": [
    "extraction_flag = 1              # Data extraction: 1 do it, 0 do nothing, -1 press coord, -10 pressure+Saunders\n",
    "coast_flag = 1                   # Boundary lines and coastlines generation: 0 nothing, 1: contours, 2: UV, 3: 1+2\n",
    "clean_flag = 0                   # Cleaning data on mesh: 1, 2: RL, 3: both, 4: 1 + outliers elimination, 5: =4+2\n",
    "min_datanum = 0                  # Minimal number of data in a layer. If less, uses data from any month.\n",
    "param_flag = -30                 # Parameters estimation and vertical filtering\n",
    "min_l, max_l = 1.4, 10           # Minimal/maximal correlation length during optimization\n",
    "min_snr, max_snr = 0.1, 5.0      # Minimal/maximal signal-to-noise ratio during optimization\n",
    "analysisref_flag = 1             # Creation of reference field: 2 do reference, 1 do analysis and 0 do nothing\n",
    "lower_level, upper_level = 1, 3  # Depth lower/upper level numbers\n",
    "netcdf4d_flag = 0                # 4D netcdf files: 0 (no generation) or 1\n",
    "gnuplot_flag = 0                 # Gnuplots generation: 0 (no generation) or 1\n",
    "detrend_groupnum = 0             # Data detrending: number of groups, 0 if no detrending."
   ]
  },
  {
   "cell_type": "code",
   "execution_count": 11,
   "metadata": {
    "collapsed": false
   },
   "outputs": [
    {
     "name": "stderr",
     "output_type": "stream",
     "text": [
      "INFO:pydiva4d:Creating Diva 4D Driver object\n"
     ]
    }
   ],
   "source": [
    "driver = pydiva4d.Driver(extraction_flag, coast_flag, clean_flag, min_datanum, param_flag, min_l,\\\n",
    "                               max_l, min_snr, max_snr, analysisref_flag, lower_level,\\\n",
    "                               upper_level, netcdf4d_flag, gnuplot_flag, detrend_groupnum)"
   ]
  },
  {
   "cell_type": "markdown",
   "metadata": {
    "collapsed": true
   },
   "source": [
    "### Parameters for the netCDF file"
   ]
  },
  {
   "cell_type": "code",
   "execution_count": 12,
   "metadata": {
    "collapsed": true
   },
   "outputs": [],
   "source": [
    "# Title string for 3D NetCDF file\n",
    "ncdf_title = '4D Test on the Black Sea'\n",
    "# Reference time for data (ie: days since since 1900-01-01), if not climatological data\n",
    "ncdf_reftime = 'months since since xxxx-01-01'\n",
    "# Time value (that reprsents the data set), if not climatological data\n",
    "ncdf_timeval = 1200\n",
    "# Cell_methode string\n",
    "ncdf_cellmethod = 'time: mean (this month data from all years)'\n",
    "# Institution name: where the dataset was produced.\n",
    "ncdf_institution = 'University of Liege, GeoHydrodynamics and Environment Research'\n",
    "# Production group and e-mail\n",
    "ncdf_groupemail = 'Diva group. E-mails : a.barth@ulg.ac.be ; swatelet@ulg.ac.be'\n",
    "# Source (observation, radiosonde, database, model-generated data,...)\n",
    "ncdf_source = 'data_from various sources for diva software testing work'\n",
    "ncdf_comment = 'No comment'\n",
    "ncdf_authoremail = 'swatelet@ulg.ac.be'\n",
    "ncdf_acknowlegment = 'No acknowledgement'"
   ]
  },
  {
   "cell_type": "code",
   "execution_count": 13,
   "metadata": {
    "collapsed": false
   },
   "outputs": [
    {
     "name": "stderr",
     "output_type": "stream",
     "text": [
      "INFO:pydiva4d:Creating Diva 4D Ncdfinfo object\n"
     ]
    }
   ],
   "source": [
    "netcdfinfo = pydiva4d.Ncdfinfo(ncdf_title, ncdf_reftime, ncdf_timeval, ncdf_cellmethod,\\\n",
    "                                     ncdf_institution, ncdf_groupemail, ncdf_source,\\\n",
    "                                     ncdf_comment, ncdf_authoremail, ncdf_acknowlegment)"
   ]
  },
  {
   "cell_type": "markdown",
   "metadata": {},
   "source": [
    "### Parameters for the output grid"
   ]
  },
  {
   "cell_type": "code",
   "execution_count": 14,
   "metadata": {
    "collapsed": true
   },
   "outputs": [],
   "source": [
    "xmin, ymin = 27.0, 40.0        # longitute and latitude of the lower-left corner of the domain\n",
    "nx, ny = 151, 76               # number of cells in the x and y directions\n",
    "dx, dy = 0.1, 0.1              # spatial steps in the x and y directions"
   ]
  },
  {
   "cell_type": "markdown",
   "metadata": {},
   "source": [
    "### Parameters for the analysis"
   ]
  },
  {
   "cell_type": "code",
   "execution_count": 15,
   "metadata": {
    "collapsed": false
   },
   "outputs": [],
   "source": [
    "CorrelationLength = 1.5\n",
    "SignalToNoiseRatio = 0.5\n",
    "VarianceBackgroundField = 1.0\n",
    "ExclusionValue = -99.\n",
    "iCoordChange = 2\n",
    "iSpec = 11\n",
    "iReg = 2"
   ]
  },
  {
   "cell_type": "code",
   "execution_count": 16,
   "metadata": {
    "collapsed": false
   },
   "outputs": [
    {
     "name": "stderr",
     "output_type": "stream",
     "text": [
      "INFO:pydiva2d:Creating Diva 2D parameter object\n"
     ]
    }
   ],
   "source": [
    "parameters2D = pydiva4d.Diva2DParameters(CorrelationLength, iCoordChange, iSpec, iReg, xmin, ymin, dx, dy, nx, ny,\n",
    "                                ExclusionValue, SignalToNoiseRatio, VarianceBackgroundField)"
   ]
  },
  {
   "cell_type": "markdown",
   "metadata": {},
   "source": [
    "## Others: monthlist, QC flags, variables, years, contour levels"
   ]
  },
  {
   "cell_type": "code",
   "execution_count": 17,
   "metadata": {
    "collapsed": false
   },
   "outputs": [
    {
     "name": "stderr",
     "output_type": "stream",
     "text": [
      "INFO:pydiva4d:Creating Diva 4D Monthlist object\n",
      "INFO:pydiva4d:Creating Diva 4D Qflist object\n",
      "INFO:pydiva4d:Creating Diva 4D Varlist object\n",
      "INFO:pydiva4d:Creating Diva 4D Yearlist object\n",
      "INFO:pydiva4d:Creating Diva 4D Contourdepth object\n"
     ]
    }
   ],
   "source": [
    "months = pydiva4d.Monthlist(['0101', '0202', '0303'])       # list of strings representing the periods (months)\n",
    "qflags = pydiva4d.Qflist([0, 1])                            # list of integers representing the accepted flags\n",
    "variables = pydiva4d.Varlist(['Temperature', 'Salinity'])   # list of strings representing the variables to extract\n",
    "years = pydiva4d.Yearlist(['19002009',])                    # list of strings representing the perior (years)\n",
    "contours = pydiva4d.Contourdepth([30., 20., 10., 0.])       # list of floats representing the vertical levels"
   ]
  },
  {
   "cell_type": "markdown",
   "metadata": {},
   "source": [
    "# Create the new input files"
   ]
  },
  {
   "cell_type": "markdown",
   "metadata": {},
   "source": [
    "Now we have set all the parameters, we can write the information into the corresponding Diva files.<br>\n",
    "All the objects have a function *write_to* that is used to write to a file."
   ]
  },
  {
   "cell_type": "markdown",
   "metadata": {},
   "source": [
    "## Write the different input files"
   ]
  },
  {
   "cell_type": "code",
   "execution_count": 18,
   "metadata": {
    "collapsed": false
   },
   "outputs": [
    {
     "name": "stderr",
     "output_type": "stream",
     "text": [
      "INFO:pydiva4d:Written into file /home/ctroupin/Software/DIVA/diva-4.7.1/JRA4/Climatology/datasource\n"
     ]
    }
   ],
   "source": [
    "datasource.write_to(diva4Dfiles.datasource)"
   ]
  },
  {
   "cell_type": "code",
   "execution_count": 19,
   "metadata": {
    "collapsed": false
   },
   "outputs": [
    {
     "name": "stderr",
     "output_type": "stream",
     "text": [
      "INFO:pydiva4d:Written into file /home/ctroupin/Software/DIVA/diva-4.7.1/JRA4/Climatology/constandrefe\n"
     ]
    }
   ],
   "source": [
    "constandrefe.write_to(diva4Dfiles.constandrefe)"
   ]
  },
  {
   "cell_type": "code",
   "execution_count": 20,
   "metadata": {
    "collapsed": false
   },
   "outputs": [
    {
     "name": "stderr",
     "output_type": "stream",
     "text": [
      "INFO:pydiva4d:Written into file /home/ctroupin/Software/DIVA/diva-4.7.1/JRA4/Climatology/driver\n"
     ]
    }
   ],
   "source": [
    "driver.write_to(diva4Dfiles.driver)"
   ]
  },
  {
   "cell_type": "code",
   "execution_count": 21,
   "metadata": {
    "collapsed": false
   },
   "outputs": [
    {
     "name": "stderr",
     "output_type": "stream",
     "text": [
      "INFO:pydiva4d:Written in file /home/ctroupin/Software/DIVA/diva-4.7.1/JRA4/Climatology/monthlist\n"
     ]
    }
   ],
   "source": [
    "months.write_to(diva4Dfiles.monthlist)"
   ]
  },
  {
   "cell_type": "code",
   "execution_count": 22,
   "metadata": {
    "collapsed": false
   },
   "outputs": [
    {
     "name": "stderr",
     "output_type": "stream",
     "text": [
      "INFO:pydiva4d:Written in file /home/ctroupin/Software/DIVA/diva-4.7.1/JRA4/Climatology/qflist\n"
     ]
    }
   ],
   "source": [
    "qflags.write_to(diva4Dfiles.qflist)"
   ]
  },
  {
   "cell_type": "code",
   "execution_count": 23,
   "metadata": {
    "collapsed": false
   },
   "outputs": [
    {
     "name": "stderr",
     "output_type": "stream",
     "text": [
      "INFO:pydiva4d:Written in file /home/ctroupin/Software/DIVA/diva-4.7.1/JRA4/Climatology/varlist\n"
     ]
    }
   ],
   "source": [
    "variables.write_to(diva4Dfiles.varlist)"
   ]
  },
  {
   "cell_type": "code",
   "execution_count": 24,
   "metadata": {
    "collapsed": false
   },
   "outputs": [
    {
     "name": "stderr",
     "output_type": "stream",
     "text": [
      "INFO:pydiva4d:Written into file /home/ctroupin/Software/DIVA/diva-4.7.1/JRA4/Climatology/yearlist\n"
     ]
    }
   ],
   "source": [
    "years.write_to(diva4Dfiles.yearlist)"
   ]
  },
  {
   "cell_type": "code",
   "execution_count": 25,
   "metadata": {
    "collapsed": false
   },
   "outputs": [
    {
     "name": "stderr",
     "output_type": "stream",
     "text": [
      "INFO:pydiva4d:Written into file /home/ctroupin/Software/DIVA/diva-4.7.1/JRA4/Climatology/ncdfinfo\n"
     ]
    }
   ],
   "source": [
    "netcdfinfo.write_to(diva4Dfiles.ncdfinfo)"
   ]
  },
  {
   "cell_type": "code",
   "execution_count": 26,
   "metadata": {
    "collapsed": false
   },
   "outputs": [
    {
     "name": "stderr",
     "output_type": "stream",
     "text": [
      "INFO:pydiva2d:Written parameters into file /home/ctroupin/Software/DIVA/diva-4.7.1/JRA4/Climatology/input/param.par\n"
     ]
    }
   ],
   "source": [
    "parameters2D.write_to(diva4Dfiles.param)"
   ]
  },
  {
   "cell_type": "markdown",
   "metadata": {
    "collapsed": true
   },
   "source": [
    "# Run divadoall (4D analysis)"
   ]
  },
  {
   "cell_type": "markdown",
   "metadata": {},
   "source": [
    "We call the main script `divadoall` to perform the 4D analysis.<br>\n",
    "The time for the analysis depends on the number of variables, levels, periods, ..."
   ]
  },
  {
   "cell_type": "code",
   "execution_count": 27,
   "metadata": {
    "collapsed": false
   },
   "outputs": [
    {
     "name": "stderr",
     "output_type": "stream",
     "text": [
      "INFO:pydiva4d:Starting to run 'divadoall\n"
     ]
    }
   ],
   "source": [
    "pydiva4d.logger.info(\"Starting to run 'divadoall'\")\n",
    "divadoall_script = './divadoall'\n",
    "env = os.environ.copy()\n",
    "env[\"PATH\"] = \".:\" + env[\"PATH\"]\n",
    "\n",
    "p = subprocess.Popen(divadoall_script, stdout=subprocess.PIPE, cwd=divadirs.diva4d, env=env)\n",
    "out = p.stdout.read()"
   ]
  },
  {
   "cell_type": "markdown",
   "metadata": {
    "collapsed": true
   },
   "source": [
    "Write the Diva execution log into the same log file"
   ]
  },
  {
   "cell_type": "code",
   "execution_count": 29,
   "metadata": {
    "collapsed": false
   },
   "outputs": [
    {
     "name": "stderr",
     "output_type": "stream",
     "text": [
      "INFO:pydiva4d:Diva execution log:\n"
     ]
    }
   ],
   "source": [
    "pydiva4d.logger.info(\"Diva execution log:\")\n",
    "with open(pydiva4d.logfile, 'w') as f:\n",
    "    f.write(str(out).replace('\\\\n', '\\n'))"
   ]
  },
  {
   "cell_type": "code",
   "execution_count": 31,
   "metadata": {
    "collapsed": false
   },
   "outputs": [
    {
     "name": "stderr",
     "output_type": "stream",
     "text": [
      "INFO:pydiva4d:Finished the 'divadoall' run\n"
     ]
    }
   ],
   "source": [
    "pydiva4d.logger.info(\"Finished the 'divadoall' run\")"
   ]
  }
 ],
 "metadata": {
  "kernelspec": {
   "display_name": "Python 3",
   "language": "python",
   "name": "python3"
  },
  "language_info": {
   "codemirror_mode": {
    "name": "ipython",
    "version": 3
   },
   "file_extension": ".py",
   "mimetype": "text/x-python",
   "name": "python",
   "nbconvert_exporter": "python",
   "pygments_lexer": "ipython3",
   "version": "3.6.0"
  }
 },
 "nbformat": 4,
 "nbformat_minor": 2
}
