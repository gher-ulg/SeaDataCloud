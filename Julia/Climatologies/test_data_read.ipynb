{
 "cells": [
  {
   "cell_type": "code",
   "execution_count": 1,
   "metadata": {},
   "outputs": [],
   "source": [
    "using NCDatasets\n",
    "using DataStructures\n",
    "using DIVAnd\n",
    "using Dates"
   ]
  },
  {
   "cell_type": "code",
   "execution_count": 2,
   "metadata": {},
   "outputs": [
    {
     "data": {
      "text/plain": [
       "\"/data/SeaDataCloud/NorthSea/data_from_SDC_NS_DATA_DISCRETE_TS_V1.nc\""
      ]
     },
     "execution_count": 2,
     "metadata": {},
     "output_type": "execute_result"
    }
   ],
   "source": [
    "datafile1 = \"/data/SeaDataCloud/NorthSea/data_from_SDC_NS_DATA_DISCRETE_TS_V1.nc\""
   ]
  },
  {
   "cell_type": "code",
   "execution_count": 10,
   "metadata": {},
   "outputs": [
    {
     "name": "stdout",
     "output_type": "stream",
     "text": [
      "0 out of 162452 - 0.0 %\n",
      "10000 out of 162452 - 6.155664442419915 %\n",
      "20000 out of 162452 - 12.31132888483983 %\n",
      "30000 out of 162452 - 18.466993327259743 %\n",
      "40000 out of 162452 - 24.62265776967966 %\n",
      "50000 out of 162452 - 30.778322212099575 %\n",
      "60000 out of 162452 - 36.93398665451949 %\n",
      "70000 out of 162452 - 43.089651096939406 %\n",
      "80000 out of 162452 - 49.24531553935932 %\n",
      "90000 out of 162452 - 55.40097998177923 %\n",
      "100000 out of 162452 - 61.55664442419915 %\n",
      "110000 out of 162452 - 67.71230886661907 %\n",
      "120000 out of 162452 - 73.86797330903897 %\n",
      "130000 out of 162452 - 80.02363775145889 %\n",
      "140000 out of 162452 - 86.17930219387881 %\n",
      "150000 out of 162452 - 92.33496663629872 %\n",
      "160000 out of 162452 - 98.49063107871864 %\n",
      " 26.430497 seconds (3.93 M allocations: 1.097 GiB)\n"
     ]
    }
   ],
   "source": [
    "@time obsval, obslon, obslat, obsdepth, obstime, obsid = NCODV.load(Float64,\n",
    "        datafile1, \"Water body salinity\");"
   ]
  },
  {
   "cell_type": "code",
   "execution_count": 7,
   "metadata": {},
   "outputs": [
    {
     "data": {
      "text/plain": [
       "\"./test2remove2.nc\""
      ]
     },
     "execution_count": 7,
     "metadata": {},
     "output_type": "execute_result"
    }
   ],
   "source": [
    "datafile2 = \"./test2remove2.nc\""
   ]
  },
  {
   "cell_type": "code",
   "execution_count": 8,
   "metadata": {},
   "outputs": [
    {
     "name": "stdout",
     "output_type": "stream",
     "text": [
      " 12.488708 seconds (92.17 M allocations: 8.028 GiB, 15.72% gc time)\n"
     ]
    }
   ],
   "source": [
    "@time DIVAnd.saveobs(datafile2,\"Water body salinity\",obsval,\n",
    "                   (obslon, obslat, obsdepth, obstime),obsid)"
   ]
  },
  {
   "cell_type": "code",
   "execution_count": 9,
   "metadata": {},
   "outputs": [
    {
     "name": "stdout",
     "output_type": "stream",
     "text": [
      "  9.460341 seconds (23.04 M allocations: 7.059 GiB, 46.78% gc time)\n"
     ]
    }
   ],
   "source": [
    "@time obsval,obslon, obslat, obsdepth, obstime,obsid = DIVAnd.loadobs(Float64,datafile2,\"Water body salinity\");"
   ]
  },
  {
   "cell_type": "code",
   "execution_count": null,
   "metadata": {},
   "outputs": [],
   "source": []
  }
 ],
 "metadata": {
  "@webio": {
   "lastCommId": null,
   "lastKernelId": null
  },
  "kernelspec": {
   "display_name": "Julia 1.2.0",
   "language": "julia",
   "name": "julia-1.2"
  },
  "language_info": {
   "file_extension": ".jl",
   "mimetype": "application/julia",
   "name": "julia",
   "version": "1.2.0"
  }
 },
 "nbformat": 4,
 "nbformat_minor": 2
}
