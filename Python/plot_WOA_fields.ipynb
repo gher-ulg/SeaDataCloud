{
 "cells": [
  {
   "cell_type": "code",
   "execution_count": 16,
   "metadata": {},
   "outputs": [],
   "source": [
    "import os\n",
    "import numpy as np\n",
    "import netCDF4\n",
    "import datetime\n",
    "import logging\n",
    "import cmocean\n",
    "import matplotlib.pyplot as plt\n",
    "from mpl_toolkits.basemap import Basemap\n",
    "import sdcclimatologies"
   ]
  },
  {
   "cell_type": "code",
   "execution_count": 2,
   "metadata": {},
   "outputs": [
    {
     "data": {
      "text/plain": [
       "<module 'sdcclimatologies' from '/home/ctroupin/Projects/SeaDataCloud/Python/sdcclimatologies.py'>"
      ]
     },
     "execution_count": 2,
     "metadata": {},
     "output_type": "execute_result"
    }
   ],
   "source": [
    "from importlib import reload\n",
    "reload(sdcclimatologies)"
   ]
  },
  {
   "cell_type": "code",
   "execution_count": 17,
   "metadata": {},
   "outputs": [],
   "source": [
    "logger = logging.getLogger(\"WOA-Plots\")\n",
    "logger.setLevel(logging.INFO)\n",
    "logging.info(\"Starting\")"
   ]
  },
  {
   "cell_type": "markdown",
   "metadata": {},
   "source": [
    "## Files and directories"
   ]
  },
  {
   "cell_type": "code",
   "execution_count": 20,
   "metadata": {},
   "outputs": [],
   "source": [
    "baseurl = \"https://data.nodc.noaa.gov/thredds/dodsC/ncei/woa/\"\n",
    "wod_annual_T = sdcclimatologies.get_WOA_url(\"temperature\", 0)\n",
    "wod_annual_S = sdcclimatologies.get_WOA_url(\"salinity\", 0)\n",
    "\n",
    "sdcdir = \"../Julia/Climatologies/NorthSea/output/\"\n",
    "sdc_annual_T = os.path.join(sdcdir, \"Water_body_Temperature_NorthSea.4Danl_annual_merged.nc\")\n",
    "sdc_annual_S = os.path.join(sdcdir, \"Water_body_Salinity_NorthSea.4Danl_annual_merged.nc\")\n",
    "\n",
    "figdir = \"/home/ctroupin/dox/DIVAnd-data/NorthSea/figures/figures/WOA/annual/\"\n",
    "figdir2 = \"/home/ctroupin/dox/DIVAnd-data/NorthSea/figures/SDC/annual/\"\n",
    "if not os.path.exists(figdir):\n",
    "    os.makedirs(figdir)\n",
    "if not os.path.exists(figdir2):\n",
    "    os.makedirs(figdir2)"
   ]
  },
  {
   "cell_type": "markdown",
   "metadata": {},
   "source": [
    "## Load coordinates from WOA"
   ]
  },
  {
   "cell_type": "code",
   "execution_count": 21,
   "metadata": {},
   "outputs": [],
   "source": [
    "lonWOA, latWOA, depthWOA, timeWOA, timeWOAunits = \\\n",
    "sdcclimatologies.get_WOA_coords(wod_annual_T)"
   ]
  },
  {
   "cell_type": "markdown",
   "metadata": {},
   "source": [
    "## Select the fields for the region of interest\n",
    "Load the coordinates from the SDN product and find the good WOA coordinates."
   ]
  },
  {
   "cell_type": "code",
   "execution_count": 22,
   "metadata": {},
   "outputs": [],
   "source": [
    "lonmin, lonmax, latmin, latmax, dmin, dmax, datemin, datemax = \\\n",
    "sdcclimatologies.get_SDN_domain(sdc_annual_T)"
   ]
  },
  {
   "cell_type": "code",
   "execution_count": 23,
   "metadata": {},
   "outputs": [],
   "source": [
    "goodlon = (lonWOA >= lonmin - 1.) & (lonWOA <= lonmax + 1.)\n",
    "goodlat = (latWOA >= latmin - 1.) & (latWOA <= latmax + 1.)\n",
    "gooddepth = (depthWOA >= dmin) & (depthWOA <= dmax)\n",
    "lonWOA = lonWOA[goodlon]\n",
    "latWOA = latWOA[goodlat]\n",
    "depthWOA = depthWOA[gooddepth]"
   ]
  },
  {
   "cell_type": "markdown",
   "metadata": {},
   "source": [
    "### Load the WOA field in the area of interest"
   ]
  },
  {
   "cell_type": "code",
   "execution_count": 8,
   "metadata": {},
   "outputs": [],
   "source": [
    "with netCDF4.Dataset(wod_annual_T) as nc:\n",
    "    T_WOA = nc.variables[\"t_an\"][0, gooddepth, goodlat, goodlon]\n",
    "with netCDF4.Dataset(wod_annual_S) as nc:\n",
    "    S_WOA = nc.variables[\"s_an\"][0, gooddepth, goodlat, goodlon]"
   ]
  },
  {
   "cell_type": "markdown",
   "metadata": {},
   "source": [
    "## Make the plots\n",
    "### Define projection"
   ]
  },
  {
   "cell_type": "code",
   "execution_count": 24,
   "metadata": {},
   "outputs": [],
   "source": [
    "m = Basemap(projection='merc',llcrnrlat=latmin, urcrnrlat=latmax,\n",
    "            llcrnrlon=lonmin, urcrnrlon=lonmax, lat_ts=0.5*(latmin+latmax), resolution='i')"
   ]
  },
  {
   "cell_type": "markdown",
   "metadata": {},
   "source": [
    "### Temperature WOA"
   ]
  },
  {
   "cell_type": "code",
   "execution_count": 10,
   "metadata": {},
   "outputs": [
    {
     "name": "stderr",
     "output_type": "stream",
     "text": [
      "INFO:WOA-Plots:Figures saved in ../figures/WOA/annual/\n"
     ]
    }
   ],
   "source": [
    "varname = \"temperature\"\n",
    "for idepth, depth in enumerate(depthWOA):\n",
    "    \n",
    "    fname = \"WOA_{}_annual_{}m\".format(varname, str(int(depth)).zfill(3))\n",
    "    logger.debug(\"Plotting in figure: {}\".format(fname))\n",
    "    figname = os.path.join(figdir, fname)\n",
    "    \n",
    "    logger.debug(\"Working on depth: {} m\".format(depth))\n",
    "    sdcclimatologies.make_2Dplot(m, lonWOA, latWOA, T_WOA[idepth,:,:], varname=varname,\n",
    "                depth=depth, product=\"WOA annual\", figname=figname,\n",
    "                vmin=7.5, vmax=15)\n",
    "    plt.close()\n",
    "    \n",
    "logger.info(\"Figures saved in {}\".format(figdir))"
   ]
  },
  {
   "cell_type": "markdown",
   "metadata": {},
   "source": [
    "### Temperature SDC"
   ]
  },
  {
   "cell_type": "code",
   "execution_count": 25,
   "metadata": {},
   "outputs": [],
   "source": [
    "lonSDC, latSDC, depthSDC, datesSDC, T_SDC = \\\n",
    "sdcclimatologies.read_climato_sdc(sdc_annual_T, \"temperature\")\n",
    "T_SDC = T_SDC.squeeze()"
   ]
  },
  {
   "cell_type": "code",
   "execution_count": 26,
   "metadata": {},
   "outputs": [
    {
     "name": "stderr",
     "output_type": "stream",
     "text": [
      "INFO:WOA-Plots:Figures saved in /home/ctroupin/dox/DIVAnd-data/NorthSea/figures/figures/WOA/annual/\n"
     ]
    }
   ],
   "source": [
    "varname = \"temperature\"\n",
    "for idepth, depth in enumerate(depthSDC):\n",
    "    \n",
    "    fname = \"SDC_{}_annual_{}m\".format(varname, str(int(depth)).zfill(3))\n",
    "    logger.debug(\"Plotting in figure: {}\".format(fname))\n",
    "    figname = os.path.join(figdir2, fname)\n",
    "    \n",
    "    logger.debug(\"Working on depth: {} m\".format(depth))\n",
    "    sdcclimatologies.make_2Dplot(m, lonSDC, latSDC, T_SDC[idepth,:,:], varname=varname,\n",
    "                depth=depth, product=\"SDC annual\", figname=figname,\n",
    "                vmin=7.5, vmax=15)\n",
    "    plt.close()\n",
    "    \n",
    "logger.info(\"Figures saved in {}\".format(figdir))"
   ]
  },
  {
   "cell_type": "markdown",
   "metadata": {},
   "source": [
    "### Salinity WOA"
   ]
  },
  {
   "cell_type": "code",
   "execution_count": 13,
   "metadata": {},
   "outputs": [
    {
     "name": "stderr",
     "output_type": "stream",
     "text": [
      "INFO:WOA-Plots:Figures saved in ../figures/WOA/annual/\n"
     ]
    }
   ],
   "source": [
    "varname = \"salinity\"\n",
    "for idepth, depth in enumerate(depthWOA):\n",
    "    \n",
    "    fname = \"WOA_{}_annual_{}m\".format(varname, str(int(depth)).zfill(3))\n",
    "    logger.debug(\"Plotting in figure: {}\".format(fname))\n",
    "    figname = os.path.join(figdir, fname)\n",
    "    \n",
    "    logger.debug(\"Working on depth: {} m\".format(depth))\n",
    "    sdcclimatologies.make_2Dplot(m, lonWOA, latWOA, S_WOA[idepth,:,:], varname=varname,\n",
    "                depth=depth, product=\"WOA annual\", figname=figname,\n",
    "                vmin=32., vmax=36.)\n",
    "    plt.close()\n",
    "    \n",
    "logger.info(\"Figures saved in {}\".format(figdir))"
   ]
  },
  {
   "cell_type": "markdown",
   "metadata": {},
   "source": [
    "### Salinity SDC"
   ]
  },
  {
   "cell_type": "code",
   "execution_count": 29,
   "metadata": {},
   "outputs": [],
   "source": [
    "lonSDC, latSDC, depthSDC, datesSDC, S_SDC = \\\n",
    "sdcclimatologies.read_climato_sdc(sdc_annual_S, \"salinity\")"
   ]
  },
  {
   "cell_type": "code",
   "execution_count": 32,
   "metadata": {},
   "outputs": [],
   "source": [
    "S_SDC = S_SDC.squeeze()"
   ]
  },
  {
   "cell_type": "code",
   "execution_count": 33,
   "metadata": {},
   "outputs": [
    {
     "name": "stderr",
     "output_type": "stream",
     "text": [
      "INFO:WOA-Plots:Figures saved in /home/ctroupin/dox/DIVAnd-data/NorthSea/figures/figures/WOA/annual/\n"
     ]
    }
   ],
   "source": [
    "varname = \"salinity\"\n",
    "for idepth, depth in enumerate(depthSDC):\n",
    "    \n",
    "    fname = \"SDC_{}_annual_{}m\".format(varname, str(int(depth)).zfill(3))\n",
    "    logger.debug(\"Plotting in figure: {}\".format(fname))\n",
    "    figname = os.path.join(figdir2, fname)\n",
    "    \n",
    "    logger.debug(\"Working on depth: {} m\".format(depth))\n",
    "    sdcclimatologies.make_2Dplot(m, lonSDC, latSDC, S_SDC[idepth,:,:], varname=varname,\n",
    "                depth=depth, product=\"SDC annual\", figname=figname,\n",
    "                vmin=32., vmax=36.)\n",
    "    plt.close()\n",
    "    \n",
    "logger.info(\"Figures saved in {}\".format(figdir))"
   ]
  },
  {
   "cell_type": "code",
   "execution_count": null,
   "metadata": {},
   "outputs": [],
   "source": []
  }
 ],
 "metadata": {
  "@webio": {
   "lastCommId": null,
   "lastKernelId": null
  },
  "kernelspec": {
   "display_name": "Diva-python3.6",
   "language": "python",
   "name": "diva-python3.6"
  },
  "language_info": {
   "codemirror_mode": {
    "name": "ipython",
    "version": 3
   },
   "file_extension": ".py",
   "mimetype": "text/x-python",
   "name": "python",
   "nbconvert_exporter": "python",
   "pygments_lexer": "ipython3",
   "version": "3.6.0"
  }
 },
 "nbformat": 4,
 "nbformat_minor": 2
}
