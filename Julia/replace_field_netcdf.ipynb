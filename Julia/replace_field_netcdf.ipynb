{
 "cells": [
  {
   "cell_type": "markdown",
   "metadata": {},
   "source": [
    "The goal of this notebook is to show how to subtitute analysed fields from one file to another file.      \n",
    "This would occur typically if an analysis is performed for some time periods and have to replace other fields computed before.\n",
    "\n",
    "__Method:__              \n",
    "1. Open the new file and loop over the time\n",
    "2. Find the corresponding time period in the old file\n",
    "3. Replace all the fields that depend on time by the new one.\n",
    "\n",
    "__Remark:__           \n",
    "A backup copy of the old file is more than recommended!"
   ]
  },
  {
   "cell_type": "code",
   "execution_count": 1,
   "metadata": {},
   "outputs": [],
   "source": [
    "using DIVAnd\n",
    "using NCDatasets"
   ]
  },
  {
   "cell_type": "code",
   "execution_count": 2,
   "metadata": {},
   "outputs": [
    {
     "name": "stderr",
     "output_type": "stream",
     "text": [
      "┌ Info: true\n",
      "└ @ Main In[2]:4\n"
     ]
    }
   ],
   "source": [
    "datadir = \"/home/ctroupin/\"\n",
    "olddatafile = joinpath(datadir, \"Water_body_salinity_Baltic_monthly_decades_1955-2018_epsilon2_0.2_old.nc\")\n",
    "newdatafile = joinpath(datadir, \"Water_body_salinity_Baltic_monthly_decades_1955-2018_epsilon2_0.2_new.nc\")\n",
    "@info(isfile(olddatafile) & isfile(newdatafile));"
   ]
  },
  {
   "cell_type": "code",
   "execution_count": 3,
   "metadata": {},
   "outputs": [
    {
     "data": {
      "text/plain": [
       "replace_field (generic function with 1 method)"
      ]
     },
     "execution_count": 3,
     "metadata": {},
     "output_type": "execute_result"
    }
   ],
   "source": [
    "function replace_field(oldfile::String, newfile::String)\n",
    "\n",
    "    @info(\"Opening new file in *read* mode\")\n",
    "    NCDatasets.Dataset(newfile, \"r\") do ncnew\n",
    "\n",
    "        @info(\"Opening old file in *edit* mode\")\n",
    "        NCDatasets.Dataset(oldfile, \"a\") do ncold\n",
    "\n",
    "            @info(\"Read time variable and check for common periods\")\n",
    "            timesold = varbyattrib(ncold, standard_name=\"time\")[1]\n",
    "            timesnew = varbyattrib(ncnew, standard_name=\"time\")[1]\n",
    "            indexlist = [findall(t .== timesold)[1] for t in timesnew]\n",
    "            @info(\"Common period numbers: $(indexlist)\")\n",
    "            @info(\"Common periods:\\n $(timesold[indexlist])\")\n",
    "            @info(\"Common periods:\\n $(timesnew[:])\")\n",
    "            @info(\"There are $(length(indexlist)) periods common to the 2 files\")\n",
    "\n",
    "            # Replace fields\n",
    "            @info(\"Loop on the variables\")\n",
    "            for varname in keys(ncold)\n",
    "\n",
    "                # Check if time is a dimension\n",
    "                if \"time\" ∈ dimnames(ncold[varname])\n",
    "                    @info(\"Variable '$(varname)' contains 'time' dimension\")\n",
    "                    varold = ncold[varname]\n",
    "                    varnew = ncnew[varname]\n",
    "\n",
    "                    ndims1 = length(size(varnew))\n",
    "                    ndims2 = length(size(varold))\n",
    "\n",
    "                    if ndims1 !== ndims2\n",
    "                        @error(\"Variable $(varname) has a different dimension in the 2 files\")\n",
    "                    end\n",
    "\n",
    "                    @debug(\"Number of dimensions: $(ndims)\")\n",
    "\n",
    "                    @info(\"Replacing values for variable: $(varname)\")\n",
    "                    if ndims1 == 1\n",
    "                        varold[indexlist] = varnew[:]\n",
    "                    elseif ndims1 == 2\n",
    "                        varold[:,indexlist] = varnew[:,:]\n",
    "                    elseif ndims1 == 3\n",
    "                        varold[:,:,indexlist] = varnew[:,:,:]\n",
    "                    elseif ndims1 == 4\n",
    "                        varold[:,:,:,indexlist] = varnew[:,:,:,:]\n",
    "                    else\n",
    "                        @warn(\"Number of dimensions larger than 4\")\n",
    "                    end\n",
    "                end\n",
    "            end\n",
    "\n",
    "        end\n",
    "    end\n",
    "end"
   ]
  },
  {
   "cell_type": "code",
   "execution_count": 4,
   "metadata": {},
   "outputs": [
    {
     "name": "stderr",
     "output_type": "stream",
     "text": [
      "┌ Info: Opening new file in *read* mode\n",
      "└ @ Main In[3]:3\n",
      "┌ Info: Opening old file in *edit* mode\n",
      "└ @ Main In[3]:6\n",
      "┌ Info: Read time variable and check for common periods\n",
      "└ @ Main In[3]:9\n",
      "┌ Info: Common period numbers: [6, 7, 8, 9]\n",
      "└ @ Main In[3]:13\n",
      "┌ Info: Common periods:\n",
      "│  [Dates.DateTime(\"1959-06-16T00:00:00\"), Dates.DateTime(\"1959-07-16T00:00:00\"), Dates.DateTime(\"1959-08-16T00:00:00\"), Dates.DateTime(\"1959-09-16T00:00:00\")]\n",
      "└ @ Main In[3]:14\n",
      "┌ Info: Common periods:\n",
      "│  [Dates.DateTime(\"1959-06-16T00:00:00\"), Dates.DateTime(\"1959-07-16T00:00:00\"), Dates.DateTime(\"1959-08-16T00:00:00\"), Dates.DateTime(\"1959-09-16T00:00:00\")]\n",
      "└ @ Main In[3]:15\n",
      "┌ Info: There are 4 periods common to the 2 files\n",
      "└ @ Main In[3]:16\n",
      "┌ Info: Loop on the variables\n",
      "└ @ Main In[3]:19\n",
      "┌ Info: Variable 'time' contains 'time' dimension\n",
      "└ @ Main In[3]:24\n",
      "┌ Info: Replacing values for variable: time\n",
      "└ @ Main In[3]:37\n",
      "┌ Info: Variable 'climatology_bounds' contains 'time' dimension\n",
      "└ @ Main In[3]:24\n",
      "┌ Info: Replacing values for variable: climatology_bounds\n",
      "└ @ Main In[3]:37\n",
      "┌ Info: Variable 'Water body salinity' contains 'time' dimension\n",
      "└ @ Main In[3]:24\n",
      "┌ Info: Replacing values for variable: Water body salinity\n",
      "└ @ Main In[3]:37\n",
      "┌ Info: Variable 'Water body salinity_L1' contains 'time' dimension\n",
      "└ @ Main In[3]:24\n",
      "┌ Info: Replacing values for variable: Water body salinity_L1\n",
      "└ @ Main In[3]:37\n",
      "┌ Info: Variable 'Water body salinity_L2' contains 'time' dimension\n",
      "└ @ Main In[3]:24\n",
      "┌ Info: Replacing values for variable: Water body salinity_L2\n",
      "└ @ Main In[3]:37\n",
      "┌ Info: Variable 'Water body salinity_relerr' contains 'time' dimension\n",
      "└ @ Main In[3]:24\n",
      "┌ Info: Replacing values for variable: Water body salinity_relerr\n",
      "└ @ Main In[3]:37\n"
     ]
    },
    {
     "name": "stdout",
     "output_type": "stream",
     "text": [
      "1213.894599 seconds (692.26 M allocations: 34.609 GiB, 0.31% gc time)\n"
     ]
    }
   ],
   "source": [
    "@time replace_field(olddatafile, newdatafile)"
   ]
  },
  {
   "cell_type": "code",
   "execution_count": null,
   "metadata": {},
   "outputs": [],
   "source": []
  }
 ],
 "metadata": {
  "@webio": {
   "lastCommId": null,
   "lastKernelId": null
  },
  "kernelspec": {
   "display_name": "Julia 1.5.2",
   "language": "julia",
   "name": "julia-1.5"
  },
  "language_info": {
   "file_extension": ".jl",
   "mimetype": "application/julia",
   "name": "julia",
   "version": "1.5.2"
  }
 },
 "nbformat": 4,
 "nbformat_minor": 2
}
