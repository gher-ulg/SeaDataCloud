{
 "cells": [
  {
   "cell_type": "markdown",
   "metadata": {},
   "source": [
    "Create plot of the SLA L4 product."
   ]
  },
  {
   "cell_type": "code",
   "execution_count": 53,
   "metadata": {
    "collapsed": true
   },
   "outputs": [],
   "source": [
    "import os\n",
    "import glob\n",
    "import numpy as np\n",
    "import matplotlib.pyplot as plt\n",
    "from mpl_toolkits.basemap import Basemap\n",
    "from matplotlib import rcParams\n",
    "import netCDF4\n",
    "import logging"
   ]
  },
  {
   "cell_type": "code",
   "execution_count": 25,
   "metadata": {
    "collapsed": true
   },
   "outputs": [],
   "source": [
    "logger = logging.getLogger()\n",
    "logger.setLevel(logging.DEBUG)"
   ]
  },
  {
   "cell_type": "code",
   "execution_count": 69,
   "metadata": {
    "collapsed": true
   },
   "outputs": [],
   "source": [
    "rcParams.update({'font.size': 14, 'figure.dpi': 300, 'savefig.bbox': 'tight'})"
   ]
  },
  {
   "cell_type": "markdown",
   "metadata": {},
   "source": [
    "# User inputs"
   ]
  },
  {
   "cell_type": "markdown",
   "metadata": {},
   "source": [
    "## Domain"
   ]
  },
  {
   "cell_type": "code",
   "execution_count": 26,
   "metadata": {
    "collapsed": true
   },
   "outputs": [],
   "source": [
    "coordinates = [-6.75, 40.001, 30, 48.]"
   ]
  },
  {
   "cell_type": "markdown",
   "metadata": {},
   "source": [
    "## Data"
   ]
  },
  {
   "cell_type": "markdown",
   "metadata": {},
   "source": [
    "We downloaded the product *SEALEVEL_MED_SLA_MAP_L4_REP_OBSERVATIONS_008_029* from [CMEMS](http://marine.copernicus.eu).<br>\n",
    "It corresponds to *dataset-duacs-rep-medsea-merged-allsat-msla-l4*: a reprocessed product of Sea Level Anomalies (SLA) using all the available satellites"
   ]
  },
  {
   "cell_type": "code",
   "execution_count": 76,
   "metadata": {
    "collapsed": false
   },
   "outputs": [
    {
     "name": "stderr",
     "output_type": "stream",
     "text": [
      "INFO:root:Data directory: /home/ctroupin/Data/AVISO/Gridded/2014\n"
     ]
    }
   ],
   "source": [
    "datadir = os.path.expanduser(\"~/Data/AVISO/Gridded/2014\")\n",
    "figdir = os.path.expanduser(\"~/Data/AVISO/Gridded/figures/2014\")\n",
    "logging.info(\"Data directory: {0}\".format(datadir)) "
   ]
  },
  {
   "cell_type": "markdown",
   "metadata": {},
   "source": [
    "# File list"
   ]
  },
  {
   "cell_type": "code",
   "execution_count": 14,
   "metadata": {
    "collapsed": false
   },
   "outputs": [
    {
     "name": "stderr",
     "output_type": "stream",
     "text": [
      "INFO:root:Working on 365 files\n"
     ]
    }
   ],
   "source": [
    "datafilelist = sorted(glob.glob(os.path.join(datadir, \"dt_med_allsat_msla_h_*.nc\")))\n",
    "logging.info(\"Working on {0} files\".format(len(datafilelist)))"
   ]
  },
  {
   "cell_type": "code",
   "execution_count": 74,
   "metadata": {
    "collapsed": false
   },
   "outputs": [],
   "source": [
    "def readGriddedGSLA(datafile):\n",
    "    \"\"\"\n",
    "    Read the SLA and the coordinates from a netCDf file\n",
    "    Note that longitute have to be transformed in order to lie beween -180 and 180.\n",
    "    \"\"\"\n",
    "    with netCDF4.Dataset(datafile, 'r') as nc:\n",
    "        ttime = nc.variables['time'][:]\n",
    "        timeunits = nc.variables['time'].units\n",
    "        lat = nc.variables['lat'][:]\n",
    "        lon = nc.variables['lon'][:]\n",
    "        lon -= 360.\n",
    "        sla = nc.variables['sla'][:]\n",
    "        error = nc.variables['err'][:]\n",
    "    filetime = netCDF4.num2date(ttime, timeunits)\n",
    "    # Get date from netCDF variable `time`\n",
    "    return ttime, lon, lat, sla, error, filetime"
   ]
  },
  {
   "cell_type": "code",
   "execution_count": 88,
   "metadata": {
    "collapsed": false
   },
   "outputs": [],
   "source": [
    "def plotGriddedSLA(lon, lat, sla, figname, figtitle):\n",
    "    \"\"\"\n",
    "    Create pcolor plot of the Sea Level Anomaly field\n",
    "    and generate a figure\n",
    "    \"\"\"\n",
    "    \n",
    "    # Prepare data\n",
    "    llon, llat = np.meshgrid(lon, lat)\n",
    "    sla = np.squeeze(sla)\n",
    "                 \n",
    "    # Prepare figure\n",
    "    fig = plt.figure(figsize=(6, 6))\n",
    "    m.pcolormesh(llon, llat, sla, latlon=True, cmap=plt.cm.RdYlBu_r, vmin=-.2, vmax=.2)\n",
    "    # Add lines, coastline etc    \n",
    "    m.drawmeridians(np.arange(-8., round(coordinates[1]), 8), \n",
    "                    labels=[0, 0, 0, 1], linewidth=.2)\n",
    "    m.drawparallels(np.linspace(round(coordinates[2]), round(coordinates[3]), 5), \n",
    "                    labels=[1, 0, 0, 0], linewidth=.2)\n",
    "    m.drawcoastlines(linewidth=.2)\n",
    "    cbar = plt.colorbar(shrink=.5, extend='both')\n",
    "    cbar.set_label(\"m\", fontsize=12, rotation=0)\n",
    "    plt.title(figtitle)\n",
    "    plt.savefig(figname, dpi=300)\n",
    "    #plt.show()\n",
    "    plt.close()"
   ]
  },
  {
   "cell_type": "markdown",
   "metadata": {},
   "source": [
    "## Projection"
   ]
  },
  {
   "cell_type": "code",
   "execution_count": 89,
   "metadata": {
    "collapsed": true
   },
   "outputs": [],
   "source": [
    "m = Basemap(projection='merc',\n",
    "            llcrnrlon=coordinates[0], llcrnrlat=coordinates[2],\n",
    "            urcrnrlon=coordinates[1], urcrnrlat=coordinates[3],\n",
    "            lat_ts=0.5 * (coordinates[2] + coordinates[3]), resolution='i')"
   ]
  },
  {
   "cell_type": "markdown",
   "metadata": {},
   "source": [
    "## Loop on files"
   ]
  },
  {
   "cell_type": "code",
   "execution_count": 91,
   "metadata": {
    "collapsed": false
   },
   "outputs": [
    {
     "name": "stderr",
     "output_type": "stream",
     "text": [
      "DEBUG:root:Working on dt_med_allsat_msla_h_20140411_20140829.nc\n",
      "/home/ctroupin/Software/PythonEnvs/Diva-python3.6/lib/python3.6/site-packages/mpl_toolkits/basemap/__init__.py:3413: MatplotlibDeprecationWarning: The ishold function was deprecated in version 2.0.\n",
      "  b = ax.ishold()\n",
      "/home/ctroupin/Software/PythonEnvs/Diva-python3.6/lib/python3.6/site-packages/mpl_toolkits/basemap/__init__.py:3422: MatplotlibDeprecationWarning: axes.hold is deprecated.\n",
      "    See the API Changes document (http://matplotlib.org/api/api_changes.html)\n",
      "    for more details.\n",
      "  ax.hold(b)\n",
      "DEBUG:root:Working on dt_med_allsat_msla_h_20140412_20140829.nc\n",
      "DEBUG:root:Working on dt_med_allsat_msla_h_20140413_20140829.nc\n",
      "DEBUG:root:Working on dt_med_allsat_msla_h_20140414_20140829.nc\n",
      "DEBUG:root:Working on dt_med_allsat_msla_h_20140415_20140829.nc\n",
      "DEBUG:root:Working on dt_med_allsat_msla_h_20140416_20140829.nc\n",
      "DEBUG:root:Working on dt_med_allsat_msla_h_20140417_20140829.nc\n",
      "DEBUG:root:Working on dt_med_allsat_msla_h_20140418_20140829.nc\n",
      "DEBUG:root:Working on dt_med_allsat_msla_h_20140419_20140829.nc\n",
      "DEBUG:root:Working on dt_med_allsat_msla_h_20140420_20140829.nc\n",
      "DEBUG:root:Working on dt_med_allsat_msla_h_20140421_20140829.nc\n",
      "DEBUG:root:Working on dt_med_allsat_msla_h_20140422_20140829.nc\n",
      "DEBUG:root:Working on dt_med_allsat_msla_h_20140423_20140829.nc\n",
      "DEBUG:root:Working on dt_med_allsat_msla_h_20140424_20140829.nc\n",
      "DEBUG:root:Working on dt_med_allsat_msla_h_20140425_20140829.nc\n",
      "DEBUG:root:Working on dt_med_allsat_msla_h_20140426_20140829.nc\n",
      "DEBUG:root:Working on dt_med_allsat_msla_h_20140427_20140829.nc\n",
      "DEBUG:root:Working on dt_med_allsat_msla_h_20140428_20140829.nc\n",
      "DEBUG:root:Working on dt_med_allsat_msla_h_20140429_20140829.nc\n",
      "DEBUG:root:Working on dt_med_allsat_msla_h_20140430_20140829.nc\n",
      "DEBUG:root:Working on dt_med_allsat_msla_h_20140501_20140829.nc\n",
      "DEBUG:root:Working on dt_med_allsat_msla_h_20140502_20141010.nc\n",
      "DEBUG:root:Working on dt_med_allsat_msla_h_20140503_20141010.nc\n",
      "DEBUG:root:Working on dt_med_allsat_msla_h_20140504_20141010.nc\n",
      "DEBUG:root:Working on dt_med_allsat_msla_h_20140505_20141010.nc\n",
      "DEBUG:root:Working on dt_med_allsat_msla_h_20140506_20141010.nc\n",
      "DEBUG:root:Working on dt_med_allsat_msla_h_20140507_20141010.nc\n",
      "DEBUG:root:Working on dt_med_allsat_msla_h_20140508_20141010.nc\n",
      "DEBUG:root:Working on dt_med_allsat_msla_h_20140509_20141010.nc\n",
      "DEBUG:root:Working on dt_med_allsat_msla_h_20140510_20141010.nc\n",
      "DEBUG:root:Working on dt_med_allsat_msla_h_20140511_20141010.nc\n",
      "DEBUG:root:Working on dt_med_allsat_msla_h_20140512_20141010.nc\n",
      "DEBUG:root:Working on dt_med_allsat_msla_h_20140513_20141010.nc\n",
      "DEBUG:root:Working on dt_med_allsat_msla_h_20140514_20141010.nc\n",
      "DEBUG:root:Working on dt_med_allsat_msla_h_20140515_20141010.nc\n",
      "DEBUG:root:Working on dt_med_allsat_msla_h_20140516_20141010.nc\n",
      "DEBUG:root:Working on dt_med_allsat_msla_h_20140517_20141010.nc\n",
      "DEBUG:root:Working on dt_med_allsat_msla_h_20140518_20141010.nc\n",
      "DEBUG:root:Working on dt_med_allsat_msla_h_20140519_20141010.nc\n",
      "DEBUG:root:Working on dt_med_allsat_msla_h_20140520_20141010.nc\n",
      "DEBUG:root:Working on dt_med_allsat_msla_h_20140521_20141010.nc\n",
      "DEBUG:root:Working on dt_med_allsat_msla_h_20140522_20141010.nc\n",
      "DEBUG:root:Working on dt_med_allsat_msla_h_20140523_20141010.nc\n",
      "DEBUG:root:Working on dt_med_allsat_msla_h_20140524_20141010.nc\n",
      "DEBUG:root:Working on dt_med_allsat_msla_h_20140525_20141010.nc\n",
      "DEBUG:root:Working on dt_med_allsat_msla_h_20140526_20141010.nc\n",
      "DEBUG:root:Working on dt_med_allsat_msla_h_20140527_20141010.nc\n",
      "DEBUG:root:Working on dt_med_allsat_msla_h_20140528_20141010.nc\n",
      "DEBUG:root:Working on dt_med_allsat_msla_h_20140529_20141010.nc\n",
      "DEBUG:root:Working on dt_med_allsat_msla_h_20140530_20141010.nc\n",
      "DEBUG:root:Working on dt_med_allsat_msla_h_20140531_20141010.nc\n"
     ]
    }
   ],
   "source": [
    "for datafile in datafilelist[100:151]:\n",
    "    fname = os.path.basename(datafile)\n",
    "    figname = fname.split('.')[0]\n",
    "    logging.debug(\"Working on {0}\".format(fname))\n",
    "    \n",
    "    # Read data\n",
    "    ttime, lon, lat, sla, error, filetime = readGriddedGSLA(datafile)\n",
    "    # Plot\n",
    "    figtitle = filetime[0].strftime(\"%Y-%m-%d\")\n",
    "    plotGriddedSLA(lon, lat, sla, os.path.join(figdir, figname), figtitle)"
   ]
  },
  {
   "cell_type": "code",
   "execution_count": null,
   "metadata": {
    "collapsed": true
   },
   "outputs": [],
   "source": []
  }
 ],
 "metadata": {
  "kernelspec": {
   "display_name": "Diva-python3.6",
   "language": "python",
   "name": "diva-python3.6"
  },
  "language_info": {
   "codemirror_mode": {
    "name": "ipython",
    "version": 3
   },
   "file_extension": ".py",
   "mimetype": "text/x-python",
   "name": "python",
   "nbconvert_exporter": "python",
   "pygments_lexer": "ipython3",
   "version": "3.6.0"
  }
 },
 "nbformat": 4,
 "nbformat_minor": 2
}
