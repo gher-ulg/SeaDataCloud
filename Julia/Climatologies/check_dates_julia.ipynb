{
 "cells": [
  {
   "cell_type": "code",
   "execution_count": 10,
   "metadata": {},
   "outputs": [],
   "source": [
    "using NCDatasets\n",
    "using PhysOcean\n",
    "using DIVAnd"
   ]
  },
  {
   "cell_type": "markdown",
   "metadata": {},
   "source": [
    "## Reading WOD data"
   ]
  },
  {
   "cell_type": "code",
   "execution_count": 15,
   "metadata": {},
   "outputs": [
    {
     "data": {
      "text/plain": [
       "\"Salinity\""
      ]
     },
     "execution_count": 15,
     "metadata": {},
     "output_type": "execute_result"
    }
   ],
   "source": [
    "woddatadir = \"/data/SeaDataCloud/NorthSea/WOD/\"\n",
    "varname = \"Salinity\""
   ]
  },
  {
   "cell_type": "code",
   "execution_count": 16,
   "metadata": {},
   "outputs": [
    {
     "name": "stdout",
     "output_type": "stream",
     "text": [
      "118.361342 seconds (169.93 M allocations: 24.397 GiB, 7.97% gc time)\n"
     ]
    }
   ],
   "source": [
    "@time obsvalwod, obslonwod, obslatwod, obsdepthwod, obstimewod, obsidwod = \n",
    "    WorldOceanDatabase.load(Float64, woddatadir, varname);"
   ]
  },
  {
   "cell_type": "code",
   "execution_count": 28,
   "metadata": {},
   "outputs": [
    {
     "name": "stderr",
     "output_type": "stream",
     "text": [
      "┌ Info: Writing the data and coordinates into an observation file\n",
      "└ @ Main In[28]:1\n"
     ]
    },
    {
     "ename": "NCDatasets.NetCDFError",
     "evalue": "NCDatasets.NetCDFError(-42, \"NetCDF: String match to name in use\")",
     "output_type": "error",
     "traceback": [
      "NCDatasets.NetCDFError(-42, \"NetCDF: String match to name in use\")",
      "",
      "Stacktrace:",
      " [1] check at /home/ctroupin/.julia/packages/NCDatasets/P5zq1/src/NCDatasets.jl:52 [inlined]",
      " [2] nc_def_dim(::Int32, ::String, ::Int64) at /home/ctroupin/.julia/packages/NCDatasets/P5zq1/src/netcdf_c.jl:966",
      " [3] setindex!(::NCDatasets.Dimensions, ::Int64, ::String) at /home/ctroupin/.julia/packages/NCDatasets/P5zq1/src/NCDatasets.jl:236",
      " [4] #saveobs#355(::Type, ::Dates.DateTime, ::BitArray{1}, ::Symbol, ::Function, ::String, ::Tuple{Array{Float64,1},Array{Float64,1},Array{Float64,1},Array{Dates.DateTime,1}}, ::Array{String,1}) at /home/ctroupin/.julia/packages/DIVAnd/2RDHG/src/DIVAnd_save.jl:403",
      " [5] (::getfield(DIVAnd, Symbol(\"#kw##saveobs\")))(::NamedTuple{(:type_save, :timeorigin, :used),Tuple{DataType,Dates.DateTime,BitArray{1}}}, ::typeof(saveobs), ::String, ::Tuple{Array{Float64,1},Array{Float64,1},Array{Float64,1},Array{Dates.DateTime,1}}, ::Array{String,1}) at ./none:0",
      " [6] #saveobs#358(::Type, ::Dates.DateTime, ::BitArray{1}, ::Symbol, ::Function, ::String, ::String, ::Array{Float64,1}, ::Tuple{Array{Float64,1},Array{Float64,1},Array{Float64,1},Array{Dates.DateTime,1}}, ::Array{String,1}) at /home/ctroupin/.julia/packages/DIVAnd/2RDHG/src/DIVAnd_save.jl:478",
      " [7] saveobs(::String, ::String, ::Array{Float64,1}, ::Tuple{Array{Float64,1},Array{Float64,1},Array{Float64,1},Array{Dates.DateTime,1}}, ::Array{String,1}) at /home/ctroupin/.julia/packages/DIVAnd/2RDHG/src/DIVAnd_save.jl:478",
      " [8] top-level scope at In[28]:2"
     ]
    }
   ],
   "source": [
    "@info(\"Writing the data and coordinates into an observation file\")\n",
    "DIVAnd.saveobs(joinpath(woddatadir, \"NorthSea_obs_wod.nc\"), varname, obsvalwod,\n",
    "              (obslonwod, obslatwod, obsdepthwod, obstimewod), obsidwod)"
   ]
  },
  {
   "cell_type": "code",
   "execution_count": 25,
   "metadata": {},
   "outputs": [
    {
     "name": "stdout",
     "output_type": "stream",
     "text": [
      "  6.306373 seconds (20.52 M allocations: 3.379 GiB, 55.02% gc time)\n"
     ]
    }
   ],
   "source": [
    "@time obsvalwod2,obslonwod2, obslatwod2, obsdepthwod2, obstimewod2,obsidwod2 = DIVAnd.loadobs(Float64,\"./test2.nc\",varname);"
   ]
  },
  {
   "cell_type": "markdown",
   "metadata": {},
   "source": [
    "## One file..."
   ]
  },
  {
   "cell_type": "code",
   "execution_count": 2,
   "metadata": {},
   "outputs": [
    {
     "data": {
      "text/plain": [
       "\"/data/SeaDataCloud/NorthSea/WOD/CTD/ocldb1558431114.3020.CTD.nc\""
      ]
     },
     "execution_count": 2,
     "metadata": {},
     "output_type": "execute_result"
    }
   ],
   "source": [
    "datafile = \"/data/SeaDataCloud/NorthSea/WOD/CTD/ocldb1558431114.3020.CTD.nc\""
   ]
  },
  {
   "cell_type": "code",
   "execution_count": 3,
   "metadata": {},
   "outputs": [
    {
     "data": {
      "text/plain": [
       "\u001b[31mDataset: /data/SeaDataCloud/NorthSea/WOD/CTD/ocldb1558431114.3020.CTD.nc\u001b[39m\n",
       "Group: /\n",
       "\n",
       "\u001b[31mDimensions\u001b[39m\n",
       "   casts = 79242\n",
       "\n",
       "\u001b[31mVariables\u001b[39m\n",
       "\u001b[32m  lat\u001b[39m   (79242)\n",
       "    Datatype:    Float32\n",
       "    Dimensions:  casts\n",
       "    Attributes:\n",
       "     standard_name        = \u001b[34mlatitude\u001b[39m\n",
       "     long_name            = \u001b[34mlatitude\u001b[39m\n",
       "     lat_units            = \u001b[34mdegrees_north\u001b[39m\n",
       "\n",
       "\u001b[32m  lon\u001b[39m   (79242)\n",
       "    Datatype:    Float32\n",
       "    Dimensions:  casts\n",
       "    Attributes:\n",
       "     standard_name        = \u001b[34mlongitude\u001b[39m\n",
       "     long_name            = \u001b[34mlongitude\u001b[39m\n",
       "     lon_units            = \u001b[34mdegrees_east\u001b[39m\n",
       "\n",
       "\u001b[32m  time\u001b[39m   (79242)\n",
       "    Datatype:    Float64\n",
       "    Dimensions:  casts\n",
       "    Attributes:\n",
       "     standard_name        = \u001b[34mtime\u001b[39m\n",
       "     long_name            = \u001b[34mtime\u001b[39m\n",
       "     units                = \u001b[34mdays since 1770-01-01 00:00:00\u001b[39m\n",
       "\n",
       "\u001b[32m  cast\u001b[39m   (79242)\n",
       "    Datatype:    Int32\n",
       "    Dimensions:  casts\n",
       "    Attributes:\n",
       "     comment              = \u001b[34mWorld Ocean Database Unique Identifier\u001b[39m\n",
       "\n"
      ]
     },
     "execution_count": 3,
     "metadata": {},
     "output_type": "execute_result"
    }
   ],
   "source": [
    "ds = Dataset(datafile)"
   ]
  },
  {
   "cell_type": "code",
   "execution_count": 4,
   "metadata": {},
   "outputs": [
    {
     "data": {
      "text/plain": [
       "79242-element NCDatasets.CFVariable{Union{Missing, DateTime, AbstractCFDateTime, Number},1,NCDatasets.Variable{Float64,1},NCDatasets.Attributes}:\n",
       " 1972-05-20T12:00:00\n",
       " 1972-06-13T11:03:45\n",
       " 1972-06-14T16:07:30\n",
       " 1972-06-21T14:26:15\n",
       " 1972-06-26T15:33:45\n",
       " 1972-06-28T14:15:00\n",
       " 1972-07-05T11:26:15\n",
       " 1972-07-06T11:03:45\n",
       " 1972-07-07T15:00:00\n",
       " 1972-07-09T17:26:15\n",
       " 1972-07-12T09:45:00\n",
       " 1972-07-13T08:15:00\n",
       " 1972-07-26T08:15:00\n",
       " ⋮                  \n",
       " 2017-12-21T02:37:30\n",
       " 2017-12-21T03:22:30\n",
       " 2017-12-21T04:07:30\n",
       " 2017-12-21T05:26:15\n",
       " 2017-12-21T06:00:00\n",
       " 2017-12-21T07:52:30\n",
       " 2017-12-21T09:00:00\n",
       " 2017-12-21T09:45:00\n",
       " 2017-12-21T10:41:15\n",
       " 2017-12-21T11:48:45\n",
       " 2017-12-21T12:45:00\n",
       " 2017-12-21T13:52:30"
      ]
     },
     "execution_count": 4,
     "metadata": {},
     "output_type": "execute_result"
    }
   ],
   "source": [
    "timevec = ds[\"time\"]"
   ]
  },
  {
   "cell_type": "code",
   "execution_count": null,
   "metadata": {},
   "outputs": [],
   "source": []
  }
 ],
 "metadata": {
  "kernelspec": {
   "display_name": "Julia 1.1.0",
   "language": "julia",
   "name": "julia-1.1"
  },
  "language_info": {
   "file_extension": ".jl",
   "mimetype": "application/julia",
   "name": "julia",
   "version": "1.1.0"
  }
 },
 "nbformat": 4,
 "nbformat_minor": 2
}
