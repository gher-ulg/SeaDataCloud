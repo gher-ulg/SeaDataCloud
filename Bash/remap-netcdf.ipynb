{
 "cells": [
  {
   "cell_type": "markdown",
   "metadata": {},
   "source": [
    "# Requirements\n",
    "To run this notebook you need:\n",
    "* a recent version of [`nco`](http://nco.sourceforge.net/) toolbox\n",
    "* the Earth System Modeling Framework [ESMF](https://www.earthsystemcog.org/projects/esmf/)"
   ]
  },
  {
   "cell_type": "markdown",
   "metadata": {},
   "source": [
    "# Configuration\n",
    "\n",
    "Check if `ncremap` is installed"
   ]
  },
  {
   "cell_type": "code",
   "execution_count": 1,
   "metadata": {},
   "outputs": [
    {
     "name": "stdout",
     "output_type": "stream",
     "text": [
      "/usr/local/bin/ncremap\n"
     ]
    }
   ],
   "source": [
    "which ncremap"
   ]
  },
  {
   "cell_type": "markdown",
   "metadata": {},
   "source": [
    "Check if the LD_LIBRARY_PATH is properly defined"
   ]
  },
  {
   "cell_type": "code",
   "execution_count": 2,
   "metadata": {},
   "outputs": [
    {
     "name": "stdout",
     "output_type": "stream",
     "text": [
      "\n"
     ]
    }
   ],
   "source": [
    "echo ${LD_LIBRARY_PATH}"
   ]
  },
  {
   "cell_type": "markdown",
   "metadata": {},
   "source": [
    "If not, add the path to the directory containing `libnco.so`"
   ]
  },
  {
   "cell_type": "code",
   "execution_count": 3,
   "metadata": {},
   "outputs": [
    {
     "name": "stdout",
     "output_type": "stream",
     "text": [
      ":/usr/local/lib\n"
     ]
    }
   ],
   "source": [
    "export LD_LIBRARY_PATH=${LD_LIBRARY_PATH}:/usr/local/lib\n",
    "echo ${LD_LIBRARY_PATH}"
   ]
  },
  {
   "cell_type": "markdown",
   "metadata": {},
   "source": [
    "Check if `ESMF_RegridWeightGen` is installed and in your PATH:"
   ]
  },
  {
   "cell_type": "code",
   "execution_count": 4,
   "metadata": {},
   "outputs": [
    {
     "name": "stdout",
     "output_type": "stream",
     "text": [
      "/home/ctroupin/bin/ESMF_RegridWeightGen\n"
     ]
    }
   ],
   "source": [
    "which ESMF_RegridWeightGen"
   ]
  },
  {
   "cell_type": "markdown",
   "metadata": {},
   "source": [
    "# Input files\n",
    "We will need two files:\n",
    "1. A data file (`input.nc`) containing at least one field to be re-interpolated.\n",
    "2. A grid file (`newgrid.nc`) storing the coordinates (longitude, latitude) of the new grid.\n",
    "They are locate in the `data` directory."
   ]
  },
  {
   "cell_type": "code",
   "execution_count": 5,
   "metadata": {},
   "outputs": [
    {
     "name": "stdout",
     "output_type": "stream",
     "text": [
      "input_latlon.nc  input.nc  newgrid.nc  output.nc\n"
     ]
    }
   ],
   "source": [
    "ls ../data"
   ]
  },
  {
   "cell_type": "markdown",
   "metadata": {
    "collapsed": true
   },
   "source": [
    "## Modify dimension and variable names"
   ]
  },
  {
   "cell_type": "markdown",
   "metadata": {},
   "source": [
    "The tool expects that the dimension are lon and lat, while our file has x and y.     \n",
    "We will use [`ncrename`](https://linux.die.net/man/1/ncrename) to solve this."
   ]
  },
  {
   "cell_type": "code",
   "execution_count": 6,
   "metadata": {},
   "outputs": [
    {
     "name": "stdout",
     "output_type": "stream",
     "text": [
      "ncrename: In total renamed 0 attributes, 2 dimensions, 0 groups, and 2 variables\n"
     ]
    }
   ],
   "source": [
    "cp ../data/input.nc ../data/input_latlon.nc\n",
    "ncrename -d x,lon -v x,lon -d y,lat -v y,lat ../data/input_latlon.nc"
   ]
  },
  {
   "cell_type": "markdown",
   "metadata": {},
   "source": [
    "### Perform the regridding"
   ]
  },
  {
   "cell_type": "code",
   "execution_count": 7,
   "metadata": {},
   "outputs": [
    {
     "name": "stdout",
     "output_type": "stream",
     "text": [
      "Input #00: ../data/input_latlon.nc\n",
      "Grid(src): /tmp/ncremap_tmp_grd_src.nc.pid12414\n",
      "Grid(dst): /tmp/ncremap_tmp_grd_dst.nc.pid12414\n",
      "Map/Wgt  : /tmp/ncremap_tmp_map_esmf_bilinear.nc.pid12414\n",
      "Regridded: ../data/output.nc\n"
     ]
    }
   ],
   "source": [
    "ncremap -i ../data/input_latlon.nc -d ../data/newgrid.nc -o ../data/output.nc"
   ]
  },
  {
   "cell_type": "markdown",
   "metadata": {},
   "source": [
    "Now we can check the dimensions of the newly created file:"
   ]
  },
  {
   "cell_type": "code",
   "execution_count": 10,
   "metadata": {},
   "outputs": [
    {
     "name": "stdout",
     "output_type": "stream",
     "text": [
      "netcdf output {\n",
      "dimensions:\n",
      "\tlat = 321 ;\n",
      "\tlon = 851 ;\n",
      "\tnbnd = 2 ;\n"
     ]
    }
   ],
   "source": [
    "ncdump -h ../data/output.nc | head -5"
   ]
  },
  {
   "cell_type": "markdown",
   "metadata": {},
   "source": [
    "and compare them to the original one:"
   ]
  },
  {
   "cell_type": "code",
   "execution_count": 11,
   "metadata": {},
   "outputs": [
    {
     "name": "stdout",
     "output_type": "stream",
     "text": [
      "netcdf input {\n",
      "dimensions:\n",
      "\tx = 426 ;\n",
      "\ty = 161 ;\n",
      "\n"
     ]
    }
   ],
   "source": [
    "ncdump -h ../data/input.nc | head -5"
   ]
  }
 ],
 "metadata": {
  "kernelspec": {
   "display_name": "Bash",
   "language": "bash",
   "name": "bash"
  },
  "language_info": {
   "codemirror_mode": "shell",
   "file_extension": ".sh",
   "mimetype": "text/x-sh",
   "name": "bash"
  }
 },
 "nbformat": 4,
 "nbformat_minor": 2
}
