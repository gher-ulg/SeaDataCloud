{
 "cells": [
  {
   "cell_type": "code",
   "execution_count": 1,
   "metadata": {},
   "outputs": [],
   "source": [
    "using NCDatasets\n",
    "using DIVAnd\n",
    "using PyPlot\n",
    "using Dates\n",
    "using Statistics\n",
    "using Random\n",
    "using Printf"
   ]
  },
  {
   "cell_type": "markdown",
   "metadata": {},
   "source": [
    "## Files and directories"
   ]
  },
  {
   "cell_type": "code",
   "execution_count": 2,
   "metadata": {},
   "outputs": [
    {
     "name": "stderr",
     "output_type": "stream",
     "text": [
      "┌ Info: All the files exist\n",
      "└ @ Main In[2]:9\n",
      "┌ Info: All the files exist\n",
      "└ @ Main In[2]:19\n"
     ]
    }
   ],
   "source": [
    "varname = \"Salinity\"\n",
    "outputdir = \"/home/ctroupin/dox/Projects/SeaDataCloud/NorthSea/\"\n",
    "figdir = \"./NorthSea/figures/Profiles/\"\n",
    "varname = \"Salinity\"\n",
    "annualS = joinpath(outputdir, \"Water_body_$(replace(varname,\" \"=>\"_\"))_NorthSea.4Danl_annual.nc\")\n",
    "seasonalS = joinpath(outputdir, \"Water_body_$(replace(varname,\" \"=>\"_\"))_NorthSea.4Danl_seasonal.nc\")\n",
    "monthlyS = joinpath(outputdir, \"Water_body_$(replace(varname,\" \"=>\"_\"))_NorthSea.4Danl_monthly.nc\")\n",
    "if isfile(annualS) & isfile(seasonalS) & isfile(monthlyS)\n",
    "    @info \"All the files exist\"\n",
    "else\n",
    "    @warn \"Some files don't exist, check paths and file names\"\n",
    "end\n",
    "\n",
    "varname = \"Temperature\"\n",
    "annualT = joinpath(outputdir, \"Water_body_$(replace(varname,\" \"=>\"_\"))_NorthSea.4Danl_annual.nc\")\n",
    "seasonalT = joinpath(outputdir, \"Water_body_$(replace(varname,\" \"=>\"_\"))_NorthSea.4Danl_seasonal.nc\")\n",
    "monthlyT = joinpath(outputdir, \"Water_body_$(replace(varname,\" \"=>\"_\"))_NorthSea.4Danl_monthly.nc\")\n",
    "if isfile(annualT) & isfile(seasonalT) & isfile(monthlyT)\n",
    "    @info \"All the files exist\"\n",
    "else\n",
    "    @warn \"Some files don't exist, check paths and file names\"\n",
    "end"
   ]
  },
  {
   "cell_type": "code",
   "execution_count": 3,
   "metadata": {},
   "outputs": [
    {
     "data": {
      "text/plain": [
       "read_field_nc (generic function with 1 method)"
      ]
     },
     "execution_count": 3,
     "metadata": {},
     "output_type": "execute_result"
    }
   ],
   "source": [
    "function read_field_nc(datafile::String, varname::String)\n",
    "    local lon, lat, time, depth, field\n",
    "    Dataset(datafile) do ds\n",
    "        time = ds[\"time\"][:]\n",
    "        lon = ds[\"lon\"][:]\n",
    "        lat = ds[\"lat\"][:]\n",
    "        depth = ds[\"depth\"][:]\n",
    "        field = ds[varname][:]\n",
    "    end\n",
    "    return time, lon, lat, depth, field\n",
    "end"
   ]
  },
  {
   "cell_type": "code",
   "execution_count": 4,
   "metadata": {},
   "outputs": [
    {
     "data": {
      "text/plain": [
       "get_mean_profile (generic function with 1 method)"
      ]
     },
     "execution_count": 4,
     "metadata": {},
     "output_type": "execute_result"
    }
   ],
   "source": [
    "function get_mean_profile(field::Array, depth::Array)\n",
    "    local meanprof = zeros(length(depth))\n",
    "    for ii=1:length(depth)\n",
    "        meanprof[ii] = mean(skipmissing(field[:,:,ii,1]));\n",
    "    end\n",
    "    return meanprof\n",
    "end"
   ]
  },
  {
   "cell_type": "code",
   "execution_count": 5,
   "metadata": {},
   "outputs": [
    {
     "data": {
      "text/plain": [
       "plot_mean_profile (generic function with 3 methods)"
      ]
     },
     "execution_count": 5,
     "metadata": {},
     "output_type": "execute_result"
    }
   ],
   "source": [
    "function plot_mean_profile(field::Array, depth::Array, varname::String, \n",
    "        figname::String=\"\", figtitle::String=\"\")\n",
    "    PyPlot.figure()\n",
    "    PyPlot.plot(field, depth, \"ko-\")\n",
    "    PyPlot.gca().invert_yaxis()\n",
    "    xlabel(varname)\n",
    "    ylabel(\"Depth (m)\")\n",
    "    \n",
    "    if figtitle !== \"\"\n",
    "       PyPlot.title(figtitle) \n",
    "    end\n",
    "    if figname !== \"\"\n",
    "        PyPlot.savefig(figname, dpi=300, bbox_inches=\"tight\")\n",
    "        PyPlot.close_figs()\n",
    "    end\n",
    "end"
   ]
  },
  {
   "cell_type": "markdown",
   "metadata": {},
   "source": [
    "## Plots"
   ]
  },
  {
   "cell_type": "code",
   "execution_count": 6,
   "metadata": {},
   "outputs": [],
   "source": [
    "seasons = [\"winter\", \"spring\", \"summer\", \"fall\"]\n",
    "months = [\"January\", \"February\", \"March\", \"April\", \"May\", \"June\",\n",
    "          \"July\", \"August\", \"September\", \"October\", \"November\", \"December\"];"
   ]
  },
  {
   "cell_type": "markdown",
   "metadata": {},
   "source": [
    "### Annual salinity"
   ]
  },
  {
   "cell_type": "code",
   "execution_count": 7,
   "metadata": {},
   "outputs": [],
   "source": [
    "time, lon, lat, depth, S = read_field_nc(annualS, \"Salinity\");\n",
    "meanS = get_mean_profile(S, depth);\n",
    "plot_mean_profile(meanS, depth, \"Salinity\", joinpath(figdir, \"salinity_annual_mean.png\"), \"Annual mean\")"
   ]
  },
  {
   "cell_type": "markdown",
   "metadata": {},
   "source": [
    "### Annual temperature"
   ]
  },
  {
   "cell_type": "code",
   "execution_count": 8,
   "metadata": {},
   "outputs": [],
   "source": [
    "time, lon, lat, depth, T = read_field_nc(annualT, \"Temperature\");\n",
    "meanT = get_mean_profile(T, depth);\n",
    "plot_mean_profile(meanT, depth, \"Temperature (°C)\", joinpath(figdir, \"temperature_annual_mean.png\"), \"Annual mean\")"
   ]
  },
  {
   "cell_type": "markdown",
   "metadata": {},
   "source": [
    "### Seasonal salinity"
   ]
  },
  {
   "cell_type": "code",
   "execution_count": 9,
   "metadata": {},
   "outputs": [],
   "source": [
    "time, lon, lat, depth, S = read_field_nc(seasonalS, \"Salinity\");\n",
    "for (i, s) in enumerate(seasons)\n",
    "    ii = @sprintf(\"%02d\", i)\n",
    "    meanS = get_mean_profile(S[:,:,:,i], depth);\n",
    "    plot_mean_profile(meanS, depth, \"Salinity\", joinpath(figdir, \"salinity_seasonal_mean_$(ii).png\"), \n",
    "        \"Seasonal mean: $(s)\")\n",
    "end"
   ]
  },
  {
   "cell_type": "markdown",
   "metadata": {},
   "source": [
    "### Seasonal temperature"
   ]
  },
  {
   "cell_type": "code",
   "execution_count": 10,
   "metadata": {},
   "outputs": [],
   "source": [
    "time, lon, lat, depth, T = read_field_nc(seasonalT, \"Temperature\");\n",
    "for (i, s) in enumerate(seasons)\n",
    "    ii = @sprintf(\"%02d\", i)\n",
    "    meanT = get_mean_profile(T[:,:,:,i], depth);\n",
    "    plot_mean_profile(meanT, depth, \"Temperature (°C)\", joinpath(figdir, \"temperature_seasonal_mean_$(ii).png\"), \n",
    "        \"Seasonal mean: $(s)\")\n",
    "end"
   ]
  },
  {
   "cell_type": "markdown",
   "metadata": {},
   "source": [
    "### Monthly salinity"
   ]
  },
  {
   "cell_type": "code",
   "execution_count": 11,
   "metadata": {},
   "outputs": [],
   "source": [
    "time, lon, lat, depth, S = read_field_nc(monthlyS, \"Salinity\");\n",
    "for (i, m) in enumerate(months)\n",
    "    ii = @sprintf(\"%02d\", i)\n",
    "    @debug(\"Working on month: $(m)\")\n",
    "    meanS = get_mean_profile(S[:,:,:,i], depth);\n",
    "    plot_mean_profile(meanS, depth, \"Salinity\", joinpath(figdir, \"salinity_monthly_mean_$(ii).png\"), \n",
    "        \"Monthly mean: $(m)\")\n",
    "end"
   ]
  },
  {
   "cell_type": "markdown",
   "metadata": {},
   "source": [
    "### Monthly temperature"
   ]
  },
  {
   "cell_type": "code",
   "execution_count": 12,
   "metadata": {},
   "outputs": [],
   "source": [
    "time, lon, lat, depth, T = read_field_nc(monthlyT, \"Temperature\");\n",
    "for (i, m) in enumerate(months)\n",
    "    ii = @sprintf(\"%02d\", i)\n",
    "    @debug(\"Working on month: $(m)\")\n",
    "    meanT = get_mean_profile(T[:,:,:,i], depth);\n",
    "    plot_mean_profile(meanT, depth, \"Temperature (°C)\", joinpath(figdir, \"temperature_monthly_mean_$(ii).png\"), \n",
    "        \"Monthly mean: $(m)\")\n",
    "end"
   ]
  },
  {
   "cell_type": "code",
   "execution_count": null,
   "metadata": {},
   "outputs": [],
   "source": []
  }
 ],
 "metadata": {
  "@webio": {
   "lastCommId": null,
   "lastKernelId": null
  },
  "kernelspec": {
   "display_name": "Julia 1.2.0",
   "language": "julia",
   "name": "julia-1.2"
  },
  "language_info": {
   "file_extension": ".jl",
   "mimetype": "application/julia",
   "name": "julia",
   "version": "1.2.0"
  }
 },
 "nbformat": 4,
 "nbformat_minor": 2
}
