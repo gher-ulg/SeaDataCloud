{
 "cells": [
  {
   "cell_type": "code",
   "execution_count": 1,
   "metadata": {},
   "outputs": [],
   "source": [
    "import os\n",
    "import netCDF4\n",
    "import numpy as np\n",
    "import matplotlib.pyplot as plt"
   ]
  },
  {
   "cell_type": "code",
   "execution_count": null,
   "metadata": {},
   "outputs": [],
   "source": [
    "datafile1 = \"/data/SeaDataCloud/NorthSea/WOD/NativeLevels/data_from_data_from_data_from_WOD-PFL-OSD-QCed.nc\"\n",
    "datafile2 = \"/data/SeaDataCloud/NorthSea/WOD/NativeLevels/data_from_data_from_data_from_WOD-PFL-OSD-QCed.nc\"\n",
    "os.path.exists(datafile)"
   ]
  },
  {
   "cell_type": "code",
   "execution_count": null,
   "metadata": {},
   "outputs": [],
   "source": []
  },
  {
   "cell_type": "code",
   "execution_count": null,
   "metadata": {},
   "outputs": [],
   "source": [
    "with netCDF4.Dataset(datafile, \"r\") as nc:\n",
    "    T = nc.get_variables_by_attributes(long_name = \"Temperature\")[0][:].flatten()\n",
    "    S = nc.get_variables_by_attributes(long_name = \"Salinity\")[0][:].flatten()"
   ]
  },
  {
   "cell_type": "code",
   "execution_count": null,
   "metadata": {},
   "outputs": [],
   "source": [
    "plt.figure(figsize=(8, 8))\n",
    "ax = plt.subplot(111)\n",
    "plt.plot(S, T, \"ko\", markersize=0.2)\n",
    "plt.xlabel(\"Salinity\", fontsize=14)\n",
    "plt.ylabel(\"Temperature\\n($^{\\circ}$C)\", fontsize=14, rotation=0, ha=\"right\")\n",
    "plt.xlim(25., 40.)\n",
    "plt.ylim(-3., 25.)\n",
    "plt.title(\"World Ocean Database (WOD, PFL, OSD)\")\n",
    "plt.show()\n",
    "plt.close()"
   ]
  }
 ],
 "metadata": {
  "@webio": {
   "lastCommId": null,
   "lastKernelId": null
  },
  "kernelspec": {
   "display_name": "Diva-python3.6",
   "language": "python",
   "name": "diva-python3.6"
  },
  "language_info": {
   "codemirror_mode": {
    "name": "ipython",
    "version": 3
   },
   "file_extension": ".py",
   "mimetype": "text/x-python",
   "name": "python",
   "nbconvert_exporter": "python",
   "pygments_lexer": "ipython3",
   "version": "3.6.0"
  }
 },
 "nbformat": 4,
 "nbformat_minor": 2
}
