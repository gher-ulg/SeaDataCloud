{
 "cells": [
  {
   "cell_type": "code",
   "execution_count": 77,
   "metadata": {},
   "outputs": [],
   "source": [
    "import os\n",
    "import numpy as np\n",
    "import netCDF4\n",
    "import datetime\n",
    "import matplotlib.pyplot as plt"
   ]
  },
  {
   "cell_type": "code",
   "execution_count": 4,
   "metadata": {},
   "outputs": [],
   "source": [
    "datadir = \"/data/SeaDataCloud/NorthSea/\"\n",
    "figdir = \"/home/ctroupin/Projects/SeaDataCloud/Julia/Climatologies/NorthSea/figures/\"\n",
    "datafile1 = os.path.join(datadir, \"NorthSea_obs_temperature.nc\")\n",
    "datafile2 = os.path.join(datadir, \"NorthSea_obs_temperature_wod.nc\")"
   ]
  },
  {
   "cell_type": "code",
   "execution_count": 70,
   "metadata": {},
   "outputs": [],
   "source": [
    "with netCDF4.Dataset(datafile1, \"r\") as nc1:\n",
    "    obsid1 = nc1.variables[\"obsid\"][:]\n",
    "    obstimeval1 = nc1.variables[\"obstime\"][:]\n",
    "    obstimeunits1 = nc1.variables[\"obstime\"].units\n",
    "    obsdate1 = netCDF4.num2date(obstimeval1, obstimeunits1)"
   ]
  },
  {
   "cell_type": "code",
   "execution_count": 71,
   "metadata": {},
   "outputs": [],
   "source": [
    "with netCDF4.Dataset(datafile2, \"r\") as nc2:\n",
    "    obsid2 = nc2.variables[\"obsid\"][:]\n",
    "    obstimeval2 = nc2.variables[\"obstime\"][:]\n",
    "    obstimeunits2 = nc2.variables[\"obstime\"].units\n",
    "    obsdate2 = netCDF4.num2date(obstimeval2, obstimeunits2)"
   ]
  },
  {
   "cell_type": "markdown",
   "metadata": {},
   "source": [
    "## Compute the unique indices\n",
    "Need to convert to a list of string."
   ]
  },
  {
   "cell_type": "code",
   "execution_count": 63,
   "metadata": {},
   "outputs": [
    {
     "name": "stdout",
     "output_type": "stream",
     "text": [
      "CPU times: user 3min 9s, sys: 2.47 s, total: 3min 11s\n",
      "Wall time: 3min 8s\n"
     ]
    }
   ],
   "source": [
    "%time obsid1_c = [oo.tostring().decode(\"UTF-8\").rstrip('\\x00') for oo in obsid1]"
   ]
  },
  {
   "cell_type": "code",
   "execution_count": 65,
   "metadata": {},
   "outputs": [
    {
     "name": "stdout",
     "output_type": "stream",
     "text": [
      "CPU times: user 647 ms, sys: 36.2 ms, total: 683 ms\n",
      "Wall time: 683 ms\n"
     ]
    }
   ],
   "source": [
    "%time obsid2_c = [oo.tostring().decode(\"UTF-8\").rstrip('\\x00') for oo in obsid2]"
   ]
  },
  {
   "cell_type": "code",
   "execution_count": 66,
   "metadata": {},
   "outputs": [],
   "source": [
    "obsid1_u, ind1 = np.unique(obsid1_c, return_index=True)\n",
    "obsid2_u, ind2 = np.unique(obsid2_c, return_index=True)"
   ]
  },
  {
   "cell_type": "markdown",
   "metadata": {},
   "source": [
    "## Plot"
   ]
  },
  {
   "cell_type": "code",
   "execution_count": 93,
   "metadata": {},
   "outputs": [],
   "source": [
    "xmin = datetime.date(1955, 1, 1).toordinal()\n",
    "xmax = datetime.date(2015, 1, 1).toordinal()"
   ]
  },
  {
   "cell_type": "code",
   "execution_count": 111,
   "metadata": {},
   "outputs": [
    {
     "data": {
      "image/png": "[encoded data removed]",
      "text/plain": [
       "<matplotlib.figure.Figure at 0x7f3b2d16e470>"
      ]
     },
     "metadata": {},
     "output_type": "display_data"
    },
    {
     "data": {
      "image/png": "[encoded data removed]",
      "text/plain": [
       "<matplotlib.figure.Figure at 0x7f3b2d06a198>"
      ]
     },
     "metadata": {},
     "output_type": "display_data"
    }
   ],
   "source": [
    "fig = plt.figure(figsize=(8, 6))\n",
    "ax = plt.subplot(111)\n",
    "ax.hist([obstime1[ind1], obstime2[ind2]], histtype='bar', bins=10,\n",
    "         #bins=[datetime.datetime(yyyy, 1, 1).toordinal() for yyyy in range(1955, 2016)],\n",
    "         )\n",
    "#plt.xlim(xmin, xmax)\n",
    "plt.show()\n",
    "plt.close()"
   ]
  },
  {
   "cell_type": "code",
   "execution_count": 98,
   "metadata": {},
   "outputs": [],
   "source": [
    "plt.hist?"
   ]
  },
  {
   "cell_type": "code",
   "execution_count": 113,
   "metadata": {},
   "outputs": [
    {
     "data": {
      "image/png": "[encoded data removed]",
      "text/plain": [
       "<matplotlib.figure.Figure at 0x7f3c1bf15400>"
      ]
     },
     "metadata": {},
     "output_type": "display_data"
    }
   ],
   "source": [
    "np.random.seed(0)\n",
    "\n",
    "n_bins = 10\n",
    "x = np.random.randn(1000, 3)\n",
    "\n",
    "fig = plt.figure()\n",
    "ax = plt.subplot(111)\n",
    "\n",
    "# Make a multiple-histogram of data-sets with different length.\n",
    "x_multi = [np.random.randn(n) for n in [10000, 5000, 2000]]\n",
    "ax.hist(x_multi, n_bins, histtype='bar')\n",
    "ax.set_title('different sample sizes')\n",
    "\n",
    "fig.tight_layout()\n",
    "plt.show()"
   ]
  },
  {
   "cell_type": "code",
   "execution_count": null,
   "metadata": {},
   "outputs": [],
   "source": []
  }
 ],
 "metadata": {
  "kernelspec": {
   "display_name": "Diva-python3.6",
   "language": "python",
   "name": "diva-python3.6"
  },
  "language_info": {
   "codemirror_mode": {
    "name": "ipython",
    "version": 3
   },
   "file_extension": ".py",
   "mimetype": "text/x-python",
   "name": "python",
   "nbconvert_exporter": "python",
   "pygments_lexer": "ipython3",
   "version": "3.6.0"
  }
 },
 "nbformat": 4,
 "nbformat_minor": 2
}
