{
 "cells": [
  {
   "cell_type": "code",
   "execution_count": 7,
   "metadata": {
    "collapsed": true
   },
   "outputs": [],
   "source": [
    "import os\n",
    "import numpy as np\n",
    "import matplotlib.pyplot as plt\n",
    "import netCDF4\n",
    "import logging"
   ]
  },
  {
   "cell_type": "code",
   "execution_count": 3,
   "metadata": {
    "collapsed": true
   },
   "outputs": [],
   "source": [
    "logger = logging.getLogger(\"check_netcdf\")\n",
    "logger.setLevel(logging.DEBUG)"
   ]
  },
  {
   "cell_type": "code",
   "execution_count": 8,
   "metadata": {},
   "outputs": [],
   "source": [
    "datadir = \"/home/ctroupin/Data/EMODnet/winter\"\n",
    "datafile1 = os.path.join(datadir, \"Water_body_ammonium.4Danl.nc\")\n",
    "datafile2 = os.path.join(datadir, \"Water_body_ammonium.4Danl_c.nc\")"
   ]
  },
  {
   "cell_type": "markdown",
   "metadata": {},
   "source": [
    "Check if files exist"
   ]
  },
  {
   "cell_type": "code",
   "execution_count": 12,
   "metadata": {},
   "outputs": [
    {
     "name": "stderr",
     "output_type": "stream",
     "text": [
      "DEBUG:check_netcdf:File /home/ctroupin/Data/EMODnet/winter/Water_body_ammonium.4Danl.nc exists\n",
      "DEBUG:check_netcdf:File /home/ctroupin/Data/EMODnet/winter/Water_body_ammonium.4Danl_c.nc exists\n"
     ]
    }
   ],
   "source": [
    "if os.path.exists(datafile1):\n",
    "    logger.debug(\"File {0} exists\".format(datafile1))\n",
    "else:\n",
    "    logger.error(\"File {0} does not exist\".format(datafile1))\n",
    "if os.path.exists(datafile2):\n",
    "    logger.debug(\"File {0} exists\".format(datafile2))\n",
    "else:\n",
    "    logger.error(\"File {0} does not exist\".format(datafile2))"
   ]
  },
  {
   "cell_type": "markdown",
   "metadata": {},
   "source": [
    "# Coordinates"
   ]
  },
  {
   "cell_type": "code",
   "execution_count": 14,
   "metadata": {
    "collapsed": true
   },
   "outputs": [],
   "source": [
    "with netCDF4.Dataset(datafile1, 'r') as nc1:\n",
    "    lon1 = nc1.variables['lon'][:]\n",
    "    lat1 = nc1.variables['lat'][:]\n",
    "with netCDF4.Dataset(datafile2, 'r') as nc2:\n",
    "    lon2 = nc1.variables['lon'][:]\n",
    "    lat2 = nc1.variables['lat'][:]"
   ]
  },
  {
   "cell_type": "code",
   "execution_count": 17,
   "metadata": {},
   "outputs": [
    {
     "name": "stderr",
     "output_type": "stream",
     "text": [
      "INFO:check_netcdf:OK\n",
      "INFO:check_netcdf:OK\n"
     ]
    }
   ],
   "source": [
    "if len(lon1) == len(lon2):\n",
    "    logger.info(\"OK\")\n",
    "else:\n",
    "    logger.error(\"Mismatch in coordinate length\")\n",
    "if len(lat1) == len(lat2):\n",
    "    logger.info(\"OK\")\n",
    "else:\n",
    "    logger.error(\"Mismatch in coordinate length\")"
   ]
  },
  {
   "cell_type": "markdown",
   "metadata": {},
   "source": [
    "# Field \n",
    "Let's simply plot the difference of the fields."
   ]
  },
  {
   "cell_type": "code",
   "execution_count": 18,
   "metadata": {
    "collapsed": true
   },
   "outputs": [],
   "source": [
    "with netCDF4.Dataset(datafile1, 'r') as nc1:\n",
    "    ammonium1 = nc1.variables['Water_body_ammonium'][:]\n",
    "with netCDF4.Dataset(datafile1, 'r') as nc2:\n",
    "    ammonium2 = nc2.variables['Water_body_ammonium'][:]"
   ]
  },
  {
   "cell_type": "code",
   "execution_count": 19,
   "metadata": {},
   "outputs": [
    {
     "data": {
      "text/plain": [
       "(28, 20, 48, 67)"
      ]
     },
     "execution_count": 19,
     "metadata": {},
     "output_type": "execute_result"
    }
   ],
   "source": [
    "ammonium1.shape"
   ]
  },
  {
   "cell_type": "code",
   "execution_count": 20,
   "metadata": {},
   "outputs": [
    {
     "data": {
      "text/plain": [
       "(28, 20, 48, 67)"
      ]
     },
     "execution_count": 20,
     "metadata": {},
     "output_type": "execute_result"
    }
   ],
   "source": [
    "ammonium2.shape"
   ]
  },
  {
   "cell_type": "code",
   "execution_count": 24,
   "metadata": {},
   "outputs": [
    {
     "name": "stderr",
     "output_type": "stream",
     "text": [
      "INFO:check_netcdf:Mean difference = 0.0\n"
     ]
    }
   ],
   "source": [
    "depthindex = 19\n",
    "timeindex = 0\n",
    "ammonium_diff = ammonium1[timeindex, depthindex, :, :] - ammonium2[timeindex, depthindex, :, :]\n",
    "ammonium_diff_mean = ammonium_diff.mean()\n",
    "logger.info(\"Mean difference = {0}\".format(ammonium_diff_mean))"
   ]
  },
  {
   "cell_type": "code",
   "execution_count": 23,
   "metadata": {},
   "outputs": [
    {
     "data": {
      "image/png": "[encoded data removed]",
      "text/plain": [
       "<matplotlib.figure.Figure at 0x7fc87c338f60>"
      ]
     },
     "metadata": {},
     "output_type": "display_data"
    }
   ],
   "source": [
    "fig = plt.figure(figsize=(10, 10))\n",
    "plt.pcolormesh(ammonium_diff)\n",
    "plt.colorbar()\n",
    "plt.show()\n",
    "plt.close()"
   ]
  },
  {
   "cell_type": "code",
   "execution_count": null,
   "metadata": {
    "collapsed": true
   },
   "outputs": [],
   "source": []
  }
 ],
 "metadata": {
  "kernelspec": {
   "display_name": "Diva-python3.6",
   "language": "python",
   "name": "diva-python3.6"
  },
  "language_info": {
   "codemirror_mode": {
    "name": "ipython",
    "version": 3
   },
   "file_extension": ".py",
   "mimetype": "text/x-python",
   "name": "python",
   "nbconvert_exporter": "python",
   "pygments_lexer": "ipython3",
   "version": "3.6.0"
  }
 },
 "nbformat": 4,
 "nbformat_minor": 2
}
