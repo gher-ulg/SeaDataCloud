{
 "cells": [
  {
   "cell_type": "markdown",
   "metadata": {},
   "source": [
    "Here we create profiles of T and S, month by month, using all the observations."
   ]
  },
  {
   "cell_type": "code",
   "execution_count": 20,
   "metadata": {},
   "outputs": [],
   "source": [
    "using DIVAnd\n",
    "using Dates\n",
    "using PyPlot\n",
    "using Printf"
   ]
  },
  {
   "cell_type": "code",
   "execution_count": 18,
   "metadata": {},
   "outputs": [
    {
     "data": {
      "text/plain": [
       "true"
      ]
     },
     "execution_count": 18,
     "metadata": {},
     "output_type": "execute_result"
    }
   ],
   "source": [
    "datafileT = \"/data/SeaDataCloud/NorthSea/NorthSea_obs_Temperature_sdn_wod_merged.nc\"\n",
    "datafileS = \"/data/SeaDataCloud/NorthSea/NorthSea_obs_Salinity_sdn_wod_merged.nc\"\n",
    "figdir = \"./NorthSea/figures/Profiles/\"\n",
    "isfile(datafileT) & isfile(datafileS) & isdir(figdir)"
   ]
  },
  {
   "cell_type": "code",
   "execution_count": 16,
   "metadata": {},
   "outputs": [],
   "source": [
    "seasons = [\"winter\", \"spring\", \"summer\", \"fall\"]\n",
    "months = [\"January\", \"February\", \"March\", \"April\", \"May\", \"June\",\n",
    "          \"July\", \"August\", \"September\", \"October\", \"November\", \"December\"];"
   ]
  },
  {
   "cell_type": "markdown",
   "metadata": {},
   "source": [
    "## Plots\n",
    "### Temperature monthly"
   ]
  },
  {
   "cell_type": "code",
   "execution_count": 22,
   "metadata": {},
   "outputs": [
    {
     "name": "stdout",
     "output_type": "stream",
     "text": [
      " 13.947191 seconds (26.58 M allocations: 7.993 GiB, 41.84% gc time)\n"
     ]
    }
   ],
   "source": [
    "varname = \"Temperature\"\n",
    "@time T,obslon,obslat,obsdepth,obstime,obsid = DIVAnd.loadobs(Float64, datafileT, varname);"
   ]
  },
  {
   "cell_type": "code",
   "execution_count": 26,
   "metadata": {},
   "outputs": [],
   "source": [
    "for (i, m) in enumerate(months)\n",
    "    ii = @sprintf(\"%02d\", i)\n",
    "    @debug(\"Working on month: $(m)\")\n",
    "    sel = (Dates.month.(obstime) .== i);\n",
    "    PyPlot.plot(T[sel], obsdepth[sel], \"ko\", ms=0.5)\n",
    "    PyPlot.gca().invert_yaxis()\n",
    "    PyPlot.ylabel(\"Depth (m)\")\n",
    "    PyPlot.xlabel(\"$(varname) (°C)\")\n",
    "    PyPlot.title(\"$(varname) observations in $(m)\")\n",
    "    PyPlot.savefig(joinpath(figdir, \"$(varname)_monthly_mean_obs_$(ii).png\"), dpi=300, bbox_inches=\"tight\")\n",
    "    PyPlot.close_figs()\n",
    "end"
   ]
  },
  {
   "cell_type": "markdown",
   "metadata": {},
   "source": [
    "### Salinity monthly"
   ]
  },
  {
   "cell_type": "code",
   "execution_count": 41,
   "metadata": {},
   "outputs": [
    {
     "name": "stdout",
     "output_type": "stream",
     "text": [
      " 10.362235 seconds (25.66 M allocations: 7.845 GiB, 21.32% gc time)\n"
     ]
    }
   ],
   "source": [
    "varname = \"Salinity\"\n",
    "@time S,obslon,obslat,obsdepth,obstime,obsid = DIVAnd.loadobs(Float64, datafileS, varname);"
   ]
  },
  {
   "cell_type": "code",
   "execution_count": 42,
   "metadata": {},
   "outputs": [],
   "source": [
    "for (i, m) in enumerate(months)\n",
    "    ii = @sprintf(\"%02d\", i)\n",
    "    @debug(\"Working on month: $(m)\")\n",
    "    sel = (Dates.month.(obstime) .== i);\n",
    "    PyPlot.plot(S[sel], obsdepth[sel], \"ko\", ms=0.5)\n",
    "    PyPlot.gca().invert_yaxis()\n",
    "    PyPlot.ylabel(\"Depth (m)\")\n",
    "    PyPlot.xlabel(\"$(varname)\")\n",
    "    PyPlot.title(\"$(varname) observations in $(m)\")\n",
    "    PyPlot.savefig(joinpath(figdir, \"$(varname)_monthly_mean_obs_$(ii).png\"), dpi=300, bbox_inches=\"tight\")\n",
    "    PyPlot.close_figs()\n",
    "end"
   ]
  },
  {
   "cell_type": "code",
   "execution_count": null,
   "metadata": {},
   "outputs": [],
   "source": []
  }
 ],
 "metadata": {
  "kernelspec": {
   "display_name": "Julia 1.2.0",
   "language": "julia",
   "name": "julia-1.2"
  },
  "language_info": {
   "file_extension": ".jl",
   "mimetype": "application/julia",
   "name": "julia",
   "version": "1.2.0"
  }
 },
 "nbformat": 4,
 "nbformat_minor": 2
}
