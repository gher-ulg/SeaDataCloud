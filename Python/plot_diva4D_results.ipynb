{
 "cells": [
  {
   "cell_type": "markdown",
   "metadata": {},
   "source": [
    "This notebooks provides an example of how to create plots displaying the results of the analysis.<br>\n",
    "As a 4D analysis is made up of of several 2D interpolations (loops on time and depth), we can use the tools of the `pydiva2d` module."
   ]
  },
  {
   "cell_type": "code",
   "execution_count": 49,
   "metadata": {
    "collapsed": false
   },
   "outputs": [],
   "source": [
    "import pydiva4d\n",
    "import os\n",
    "from importlib import reload\n",
    "import numpy as np\n",
    "import matplotlib.pyplot as plt\n",
    "%matplotlib inline"
   ]
  },
  {
   "cell_type": "code",
   "execution_count": 64,
   "metadata": {
    "collapsed": false
   },
   "outputs": [
    {
     "data": {
      "text/plain": [
       "<module 'pydiva4d' from '/home/ctroupin/Projects/SeaDataCloud/Python/pydiva4d.py'>"
      ]
     },
     "execution_count": 64,
     "metadata": {},
     "output_type": "execute_result"
    }
   ],
   "source": [
    "reload(pydiva4d)"
   ]
  },
  {
   "cell_type": "code",
   "execution_count": 5,
   "metadata": {
    "collapsed": false
   },
   "outputs": [
    {
     "name": "stderr",
     "output_type": "stream",
     "text": [
      "INFO:pydiva2d:Diva main directory: /home/ctroupin/Software/DIVA/diva-4.7.1/\n",
      "INFO:pydiva2d:Creating Diva directory paths\n",
      "INFO:pydiva2d:Binary directory:   /home/ctroupin/Software/DIVA/diva-4.7.1/DIVA3D/bin\n",
      "INFO:pydiva2d:Source directory:   /home/ctroupin/Software/DIVA/diva-4.7.1/DIVA3D/src/Fortan\n",
      "INFO:pydiva2d:Main 2D directory:  /home/ctroupin/Software/DIVA/diva-4.7.1/DIVA3D/divastripped\n",
      "INFO:pydiva2d:Main 4D directory:  /home/ctroupin/Software/DIVA/diva-4.7.1/JRA4/Climatology\n",
      "INFO:pydiva2d:4D input directory: /home/ctroupin/Software/DIVA/diva-4.7.1/JRA4/Climatology/input\n"
     ]
    }
   ],
   "source": [
    "divamaindir = '/home/ctroupin/Software/DIVA/diva-4.7.1/'\n",
    "DivaDirs = pydiva4d.DivaDirectories(divamaindir)"
   ]
  },
  {
   "cell_type": "code",
   "execution_count": 31,
   "metadata": {
    "collapsed": false
   },
   "outputs": [
    {
     "name": "stderr",
     "output_type": "stream",
     "text": [
      "INFO:pydiva2d:Creating Diva 2D file names and paths\n",
      "INFO:pydiva2d:Contour file:   /home/ctroupin/Software/DIVA/diva-4.7.1/DIVA3D/divastripped/input/coast.cont\n",
      "INFO:pydiva2d:Parameter file: /home/ctroupin/Software/DIVA/diva-4.7.1/DIVA3D/divastripped/input/param.par\n",
      "INFO:pydiva2d:Data file:      /home/ctroupin/Software/DIVA/diva-4.7.1/DIVA3D/divastripped/input/data.dat\n",
      "INFO:pydiva2d:Valatxy file:   /home/ctroupin/Software/DIVA/diva-4.7.1/DIVA3D/divastripped/input/valatxy.coord\n",
      "INFO:pydiva2d:Result file:    /home/ctroupin/Software/DIVA/diva-4.7.1/DIVA3D/divastripped/output/ghertonetcdf/results.nc\n",
      "INFO:pydiva2d:Mesh file:      /home/ctroupin/Software/DIVA/diva-4.7.1/DIVA3D/divastripped/meshgenwork/fort.22\n",
      "INFO:pydiva2d:Mesh topo file: /home/ctroupin/Software/DIVA/diva-4.7.1/DIVA3D/divastripped/meshgenwork/fort.23\n",
      "INFO:pydiva4d:Creating Diva 4D file names and paths\n",
      "INFO:pydiva4d:datasource file:   /home/ctroupin/Software/DIVA/diva-4.7.1/JRA4/Climatology/datasource\n",
      "INFO:pydiva4d:constandrefe file: /home/ctroupin/Software/DIVA/diva-4.7.1/JRA4/Climatology/constandrefe\n",
      "INFO:pydiva4d:driver file:       /home/ctroupin/Software/DIVA/diva-4.7.1/JRA4/Climatology/driver\n",
      "INFO:pydiva4d:monthlist file:    /home/ctroupin/Software/DIVA/diva-4.7.1/JRA4/Climatology/monthlist\n",
      "INFO:pydiva4d:qflist file:       /home/ctroupin/Software/DIVA/diva-4.7.1/JRA4/Climatology/qflist\n",
      "INFO:pydiva4d:varlist file:      /home/ctroupin/Software/DIVA/diva-4.7.1/JRA4/Climatology/varlist\n",
      "INFO:pydiva4d:yearlist file:     /home/ctroupin/Software/DIVA/diva-4.7.1/JRA4/Climatology/yearlist\n",
      "INFO:pydiva4d:contourdepth file: /home/ctroupin/Software/DIVA/diva-4.7.1/JRA4/Climatology/input/contour.depth\n",
      "INFO:pydiva4d:ncdfinfo file:     /home/ctroupin/Software/DIVA/diva-4.7.1/JRA4/Climatology/ncdfinfo\n",
      "INFO:pydiva4d:param.par file:    /home/ctroupin/Software/DIVA/diva-4.7.1/JRA4/Climatology/input/param.par\n"
     ]
    }
   ],
   "source": [
    "Diva2Dfiles = pydiva4d.Diva2Dfiles(DivaDirs.diva2d)\n",
    "Diva4Dfiles = pydiva4d.Diva4Dfiles(DivaDirs.diva4d)"
   ]
  },
  {
   "cell_type": "code",
   "execution_count": 46,
   "metadata": {
    "collapsed": true
   },
   "outputs": [],
   "source": [
    "diva4Doutput = os.path.join(DivaDirs.diva4d,'output/')\n",
    "diva4Dmesh = os.path.join(DivaDirs.diva4d, 'newinput/divamesh/')\n",
    "diva4Dfields = os.path.join( DivaDirs.diva4d, 'output/3Danalysis/Fields')"
   ]
  },
  {
   "cell_type": "markdown",
   "metadata": {},
   "source": [
    "## Load the depth level"
   ]
  },
  {
   "cell_type": "code",
   "execution_count": 44,
   "metadata": {
    "collapsed": false
   },
   "outputs": [
    {
     "name": "stderr",
     "output_type": "stream",
     "text": [
      "INFO:pydiva4d:Creating Diva 4D `Contourdepth` object\n",
      "INFO:pydiva4d:Reading depth levels from file /home/ctroupin/Software/DIVA/diva-4.7.1/JRA4/Climatology/input/contour.depth\n"
     ]
    }
   ],
   "source": [
    "contourdepth = pydiva4d.Contourdepth()\n",
    "contourdepth.read_from(Diva4Dfiles.contourdepth)"
   ]
  },
  {
   "cell_type": "markdown",
   "metadata": {},
   "source": [
    "## Loop on the mesh"
   ]
  },
  {
   "cell_type": "code",
   "execution_count": 52,
   "metadata": {
    "collapsed": false
   },
   "outputs": [
    {
     "name": "stderr",
     "output_type": "stream",
     "text": [
      "INFO:pydiva2d:Creating Diva 2D mesh object\n",
      "DEBUG:pydiva2d:No projection defined\n",
      "DEBUG:pydiva2d:Adding finite-element mesh to plot\n",
      "DEBUG:pydiva2d:Setting limits to axes\n",
      "INFO:pydiva2d:Creating Diva 2D mesh object\n",
      "DEBUG:pydiva2d:No projection defined\n",
      "DEBUG:pydiva2d:Adding finite-element mesh to plot\n",
      "DEBUG:pydiva2d:Setting limits to axes\n",
      "INFO:pydiva2d:Creating Diva 2D mesh object\n",
      "DEBUG:pydiva2d:No projection defined\n",
      "DEBUG:pydiva2d:Adding finite-element mesh to plot\n",
      "DEBUG:pydiva2d:Setting limits to axes\n",
      "INFO:pydiva2d:Creating Diva 2D mesh object\n",
      "DEBUG:pydiva2d:No projection defined\n",
      "DEBUG:pydiva2d:Adding finite-element mesh to plot\n",
      "DEBUG:pydiva2d:Setting limits to axes\n"
     ]
    }
   ],
   "source": [
    "figdir = '/home/ctroupin/Projects/SeaDataCloud/Python/figures/'\n",
    "for idepth, depth in enumerate(contourdepth.depthlist):\n",
    "    meshtopofile = os.path.join(diva4Dmesh, \"mesh.dat.{0}\".format(str(10000 + idepth + 1)))\n",
    "    meshfile = os.path.join(diva4Dmesh, \"meshtopo.{0}\".format(str(10000 + idepth + 1)))\n",
    "    Mesh = pydiva4d.Diva2DMesh(meshfile, meshtopofile)\n",
    "    fig = plt.figure()\n",
    "    ax = plt.subplot(111)\n",
    "    Mesh.add_to_plot(ax)\n",
    "    Mesh.\n",
    "    plt.title(\"Mesh at depth: {0} m\".format(depth))\n",
    "    plt.savefig(os.path.join(figdir, \"mesh_{0}\".format(idepth)))\n",
    "    plt.close()"
   ]
  },
  {
   "cell_type": "markdown",
   "metadata": {},
   "source": [
    "## Load the time periods"
   ]
  },
  {
   "cell_type": "code",
   "execution_count": 54,
   "metadata": {
    "collapsed": false
   },
   "outputs": [
    {
     "data": {
      "text/plain": [
       "'/home/ctroupin/Software/DIVA/diva-4.7.1/JRA4/Climatology/ncdfinfo'"
      ]
     },
     "execution_count": 54,
     "metadata": {},
     "output_type": "execute_result"
    }
   ],
   "source": [
    "filename = Diva4Dfiles.ncdfinfo\n",
    "filename"
   ]
  },
  {
   "cell_type": "code",
   "execution_count": 99,
   "metadata": {
    "collapsed": false
   },
   "outputs": [],
   "source": [
    "ncdfinfo = []\n",
    "f = open(filename, 'r')\n",
    "line = f.readline()   \n",
    "while line:\n",
    "    ncdfinfo.append(line.rstrip())\n",
    "    line = f.readline()   \n",
    "selftitle, selfreftime, selftimeval, selfcellmethod, selfinstitution,\\\n",
    "selfgroupemail, selfsource, selfcomment, selfauthoremail, selfacknowledgment\\\n",
    "= ncdfinfo[1::2]"
   ]
  },
  {
   "cell_type": "code",
   "execution_count": 100,
   "metadata": {
    "collapsed": false
   },
   "outputs": [
    {
     "data": {
      "text/plain": [
       "(\"'4D Test on the Black Sea'\",\n",
       " \"'months since since xxxx-01-01'\",\n",
       " '1200',\n",
       " \"'time: mean (this month data from all years)'\",\n",
       " \"'University of Liege, GeoHydrodynamics and Environment Research'\",\n",
       " \"'Diva group. E-mails : a.barth@ulg.ac.be ; swatelet@ulg.ac.be'\",\n",
       " \"'data_from various sources for diva software testing work'\",\n",
       " \"'No comment'\",\n",
       " \"'swatelet@ulg.ac.be'\",\n",
       " \"'No acknowledgement'\")"
      ]
     },
     "execution_count": 100,
     "metadata": {},
     "output_type": "execute_result"
    }
   ],
   "source": [
    "selftitle, selfreftime, selftimeval, selfcellmethod, selfinstitution,\\\n",
    "selfgroupemail, selfsource, selfcomment, selfauthoremail, selfacknowledgment"
   ]
  },
  {
   "cell_type": "code",
   "execution_count": 78,
   "metadata": {
    "collapsed": false
   },
   "outputs": [
    {
     "data": {
      "text/plain": [
       "[\"'4D Test on the Black Sea'\\n\",\n",
       " \"'months since since xxxx-01-01'\\n\",\n",
       " '1200\\n',\n",
       " \"'time: mean (this month data from all years)'\\n\",\n",
       " \"'University of Liege, GeoHydrodynamics and Environment Research'\\n\",\n",
       " \"'Diva group. E-mails : a.barth@ulg.ac.be ; swatelet@ulg.ac.be'\\n\",\n",
       " \"'data_from various sources for diva software testing work'\\n\",\n",
       " \"'No comment'\\n\",\n",
       " \"'swatelet@ulg.ac.be'\\n\",\n",
       " \"'No acknowledgement'\"]"
      ]
     },
     "execution_count": 78,
     "metadata": {},
     "output_type": "execute_result"
    }
   ],
   "source": [
    "lines[1::2]"
   ]
  },
  {
   "cell_type": "code",
   "execution_count": 68,
   "metadata": {
    "collapsed": false
   },
   "outputs": [],
   "source": [
    "aaa = (1, 2, 3)"
   ]
  },
  {
   "cell_type": "code",
   "execution_count": 71,
   "metadata": {
    "collapsed": false
   },
   "outputs": [
    {
     "name": "stdout",
     "output_type": "stream",
     "text": [
      "a = 1, b = 2, c = 3\n"
     ]
    }
   ],
   "source": [
    "a, b, c = aaa[0], aaa[1], aaa[2]\n",
    "print(\"a = {0}, b = {1}, c = {2}\".format(a, b, c))"
   ]
  },
  {
   "cell_type": "code",
   "execution_count": 73,
   "metadata": {
    "collapsed": false
   },
   "outputs": [
    {
     "name": "stdout",
     "output_type": "stream",
     "text": [
      "a = 1, b = 2, c = 3\n"
     ]
    }
   ],
   "source": [
    "a, b, c = aaa[0:3]\n",
    "print(\"a = {0}, b = {1}, c = {2}\".format(a, b, c))"
   ]
  },
  {
   "cell_type": "code",
   "execution_count": 81,
   "metadata": {
    "collapsed": true
   },
   "outputs": [],
   "source": [
    "ll = ['jjrgki,rg', 'okok']"
   ]
  },
  {
   "cell_type": "code",
   "execution_count": 93,
   "metadata": {
    "collapsed": false
   },
   "outputs": [
    {
     "data": {
      "text/plain": [
       "\"'4D Test on the Black Sea'\\n\""
      ]
     },
     "execution_count": 93,
     "metadata": {},
     "output_type": "execute_result"
    }
   ],
   "source": [
    "ssss = \"'4D Test on the Black Sea'\\n\"\n",
    "ssss"
   ]
  },
  {
   "cell_type": "code",
   "execution_count": 95,
   "metadata": {
    "collapsed": false
   },
   "outputs": [
    {
     "data": {
      "text/plain": [
       "\"'4D Test on the Black Sea'\""
      ]
     },
     "execution_count": 95,
     "metadata": {},
     "output_type": "execute_result"
    }
   ],
   "source": [
    "ssss.rstrip()"
   ]
  },
  {
   "cell_type": "code",
   "execution_count": null,
   "metadata": {
    "collapsed": true
   },
   "outputs": [],
   "source": []
  }
 ],
 "metadata": {
  "kernelspec": {
   "display_name": "Python 3",
   "language": "python",
   "name": "python3"
  },
  "language_info": {
   "codemirror_mode": {
    "name": "ipython",
    "version": 3
   },
   "file_extension": ".py",
   "mimetype": "text/x-python",
   "name": "python",
   "nbconvert_exporter": "python",
   "pygments_lexer": "ipython3",
   "version": "3.6.0"
  }
 },
 "nbformat": 4,
 "nbformat_minor": 2
}
