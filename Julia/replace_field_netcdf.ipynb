{
 "cells": [
  {
   "cell_type": "markdown",
   "metadata": {},
   "source": [
    "The goal of this notebook is to show how to subtitute analysed fields from one file to another file.      \n",
    "This would occur typically if an analysis is performed for some time periods and have to replace other fields computed before.\n",
    "\n",
    "__Method:__              \n",
    "1. Open the new file and loop over the time\n",
    "2. Find the corresponding time period in the old file\n",
    "3. Replace all the fields that depend on time by the new one.\n",
    "\n",
    "__Remark:__           \n",
    "A backup copy of the old file is more than recommended!"
   ]
  },
  {
   "cell_type": "code",
   "execution_count": 10,
   "metadata": {},
   "outputs": [],
   "source": [
    "using DIVAnd\n",
    "using NCDatasets"
   ]
  },
  {
   "cell_type": "code",
   "execution_count": 15,
   "metadata": {},
   "outputs": [
    {
     "name": "stderr",
     "output_type": "stream",
     "text": [
      "┌ Info: true\n",
      "└ @ Main In[15]:4\n"
     ]
    }
   ],
   "source": [
    "datadir = \"/home/ctroupin/\"\n",
    "olddatafile = joinpath(datadir, \"Water_body_salinity_Baltic_monthly_decades_1955-2018_epsilon2_0.2_old.nc\")\n",
    "newdatafile = joinpath(datadir, \"Water_body_salinity_Baltic_monthly_decades_1955-2018_epsilon2_0.2_new.nc\")\n",
    "@info(isfile(datafile) & isfile(newdatafile));"
   ]
  },
  {
   "cell_type": "code",
   "execution_count": 24,
   "metadata": {},
   "outputs": [
    {
     "name": "stderr",
     "output_type": "stream",
     "text": [
      "┌ Info: Working on time 1959-06-16T00:00:00\n",
      "└ @ Main In[24]:13\n",
      "┌ Info: Time index: 6\n",
      "└ @ Main In[24]:17\n",
      "┌ Info: Working on time 1959-07-16T00:00:00\n",
      "└ @ Main In[24]:13\n",
      "┌ Info: Time index: 7\n",
      "└ @ Main In[24]:17\n",
      "┌ Info: Working on time 1959-08-16T00:00:00\n",
      "└ @ Main In[24]:13\n",
      "┌ Info: Time index: 8\n",
      "└ @ Main In[24]:17\n",
      "┌ Info: Working on time 1959-09-16T00:00:00\n",
      "└ @ Main In[24]:13\n",
      "┌ Info: Time index: 9\n",
      "└ @ Main In[24]:17\n"
     ]
    }
   ],
   "source": [
    "NCDatasets.Dataset(newdatafile, \"r\") do ncnew\n",
    "    \n",
    "    # netCDF file to be edited is opened in \"a\" mode\n",
    "    NCDatasets.Dataset(olddatafile, \"a\") do ncold\n",
    "    \n",
    "        timesold = varbyattrib(ncold, standard_name=\"time\")[1]\n",
    "\n",
    "    \n",
    "        # Load time of the new file\n",
    "        timesnew = varbyattrib(ncnew, standard_name=\"time\")[1]\n",
    "\n",
    "        for t in timesnew\n",
    "            @info(\"Working on time $(t)\")\n",
    "            \n",
    "            # Find the corresponding time in the old file\n",
    "            timeindex = findall(t .== timesold)[1]\n",
    "            @info(\"Time index: $(timeindex)\")\n",
    "            \n",
    "            # Replace fields \n",
    "            \n",
    "        end\n",
    "\n",
    "            \n",
    "        \n",
    "        \n",
    "        \n",
    "        \n",
    "    end\n",
    "    \n",
    "end"
   ]
  },
  {
   "cell_type": "code",
   "execution_count": null,
   "metadata": {},
   "outputs": [],
   "source": []
  }
 ],
 "metadata": {
  "kernelspec": {
   "display_name": "Julia 1.5.2",
   "language": "julia",
   "name": "julia-1.5"
  },
  "language_info": {
   "file_extension": ".jl",
   "mimetype": "application/julia",
   "name": "julia",
   "version": "1.5.2"
  }
 },
 "nbformat": 4,
 "nbformat_minor": 2
}
