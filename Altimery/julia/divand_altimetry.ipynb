{
 "cells": [
  {
   "cell_type": "markdown",
   "metadata": {
    "collapsed": true,
    "deletable": true,
    "editable": true
   },
   "source": [
    "Application using altimetry data obtained from AVISO.\n",
    "* Region of interest: Mediterranean Sea.\n",
    "* Period of interest: May 2014.\n",
    "* Satellite avaible: AltiKa, Cryosat, H2 and JASON-2. "
   ]
  },
  {
   "cell_type": "code",
   "execution_count": 1,
   "metadata": {
    "collapsed": false,
    "deletable": true,
    "editable": true
   },
   "outputs": [
    {
     "name": "stderr",
     "output_type": "stream",
     "text": [
      "WARNING: Method definition warn(Any...) in module Base at util.jl:354 overwritten in module Logging at /home/ctroupin/.julia/v0.5/Logging/src/Logging.jl:115.\n",
      "WARNING: Method definition info(Any...) in module Base at util.jl:324 overwritten in module Logging at /home/ctroupin/.julia/v0.5/Logging/src/Logging.jl:115.\n"
     ]
    }
   ],
   "source": [
    "using divand\n",
    "using NetCDF\n",
    "using PyPlot\n",
    "using Logging\n",
    "Logging.configure(level=DEBUG);"
   ]
  },
  {
   "cell_type": "markdown",
   "metadata": {
    "deletable": true,
    "editable": true
   },
   "source": [
    "# User inputs"
   ]
  },
  {
   "cell_type": "markdown",
   "metadata": {
    "deletable": true,
    "editable": true
   },
   "source": [
    "## Domain of interest, resolution"
   ]
  },
  {
   "cell_type": "code",
   "execution_count": 13,
   "metadata": {
    "collapsed": false,
    "deletable": true,
    "editable": true
   },
   "outputs": [],
   "source": [
    "lonmin, lonmax, latmin, latmax = -7., 40., 30., 48.\n",
    "dx, dy, dt = .125, .125, 1.\n",
    "lonr = lonmin:dx:lonmax;\n",
    "latr = latmin:dy:latmax;\n",
    "timer = 23510:dt:23529;"
   ]
  },
  {
   "cell_type": "markdown",
   "metadata": {
    "deletable": true,
    "editable": true
   },
   "source": [
    "## File and directories"
   ]
  },
  {
   "cell_type": "code",
   "execution_count": 14,
   "metadata": {
    "collapsed": false,
    "deletable": true,
    "editable": true
   },
   "outputs": [
    {
     "name": "stderr",
     "output_type": "stream",
     "text": [
      "31-mars 18:20:56:INFO:root:Data file:\n",
      "../data/ADT_20140515_20140604.dat\n",
      "31-mars 18:20:56:INFO:root:Result file:\n",
      "../results/divand/ADT_20140515_20140604_0pt125.nc\n"
     ]
    }
   ],
   "source": [
    "datadir = joinpath(\"../data/\");\n",
    "datafile = joinpath(datadir, \"ADT_20140515_20140604.dat\")\n",
    "resultdir = joinpath(\"../results/divand/\");\n",
    "resultfile = joinpath(resultdir, \"ADT_20140515_20140604_0pt125.nc\");\n",
    "info(\"Data file:\\n\", datafile)\n",
    "info(\"Result file:\\n\", resultfile)"
   ]
  },
  {
   "cell_type": "markdown",
   "metadata": {
    "deletable": true,
    "editable": true
   },
   "source": [
    "# Read data file (4-column, ascii)"
   ]
  },
  {
   "cell_type": "code",
   "execution_count": 4,
   "metadata": {
    "collapsed": false,
    "deletable": true,
    "editable": true
   },
   "outputs": [
    {
     "name": "stderr",
     "output_type": "stream",
     "text": [
      "31-mars 18:09:24:INFO:root:Data read from file ../data/ADT_20140515_20140604.dat\n"
     ]
    }
   ],
   "source": [
    "function readAltimetryFile(fname)\n",
    "\n",
    "    data = readlines(open(fname,\"r\"))\n",
    "    nobs = length(data)\n",
    "\n",
    "    lon = zeros(nobs)\n",
    "    lat = zeros(nobs)\n",
    "    time = zeros(nobs)\n",
    "    field = zeros(nobs)\n",
    "\n",
    "    for i in 1:nobs\n",
    "        rec = split(data[i])\n",
    "        lon[i] = parse(Float64,rec[1])\n",
    "        lat[i] = parse(Float64,rec[2])\n",
    "        time[i] = parse(Float64,rec[3])\n",
    "        field[i] = parse(Float64,rec[4])\n",
    "    end\n",
    "    \n",
    "    return lon, lat, time, field\n",
    "end\n",
    "info(\"Data read from file \", datafile)"
   ]
  },
  {
   "cell_type": "code",
   "execution_count": 7,
   "metadata": {
    "collapsed": false,
    "deletable": true,
    "editable": true
   },
   "outputs": [
    {
     "name": "stderr",
     "output_type": "stream",
     "text": [
      "31-mars 18:09:41:INFO:root:Reading 11371 data points\n",
      "31-mars 18:09:41:INFO:root:Mean field value = -0.09550065957259697\n"
     ]
    }
   ],
   "source": [
    "lon, lat, time, field = readAltimetryFile(datafile);\n",
    "info(\"Reading \", length(lon), \" data points\")\n",
    "info(\"Mean field value = \", mean(field))"
   ]
  },
  {
   "cell_type": "markdown",
   "metadata": {
    "deletable": true,
    "editable": true
   },
   "source": [
    "Create mask and metrics using coordinate vectors"
   ]
  },
  {
   "cell_type": "code",
   "execution_count": 15,
   "metadata": {
    "collapsed": false,
    "deletable": true,
    "editable": true
   },
   "outputs": [],
   "source": [
    "mask, (px, py, pt), (xi, yi, ti) = divand_rectdom(lonr, latr, timer);"
   ]
  },
  {
   "cell_type": "markdown",
   "metadata": {
    "deletable": true,
    "editable": true
   },
   "source": [
    "## Analysis parameters"
   ]
  },
  {
   "cell_type": "code",
   "execution_count": 16,
   "metadata": {
    "collapsed": false,
    "deletable": true,
    "editable": true
   },
   "outputs": [],
   "source": [
    "# correlation length\n",
    "len = (1., 1., 4.);\n",
    "# obs. error variance normalized by the background error variance\n",
    "epsilon2 = 1;"
   ]
  },
  {
   "cell_type": "markdown",
   "metadata": {
    "deletable": true,
    "editable": true
   },
   "source": [
    "# Perform interpolation"
   ]
  },
  {
   "cell_type": "code",
   "execution_count": 17,
   "metadata": {
    "collapsed": false,
    "deletable": true,
    "editable": true
   },
   "outputs": [
    {
     "ename": "LoadError",
     "evalue": "OutOfMemoryError()",
     "output_type": "error",
     "traceback": [
      "OutOfMemoryError()",
      "",
      " in factorize_p!(::Base.SparseArrays.CHOLMOD.Sparse{Float64}, ::Float64, ::Base.SparseArrays.CHOLMOD.Factor{Float64}, ::Array{UInt8,1}) at ./sparse/cholmod.jl:749",
      " in #cholfact!#6(::Float64, ::Function, ::Base.SparseArrays.CHOLMOD.Factor{Float64}, ::Base.SparseArrays.CHOLMOD.Sparse{Float64}) at ./sparse/cholmod.jl:1277",
      " in (::Base.LinAlg.#kw##cholfact!)(::Array{Any,1}, ::Base.LinAlg.#cholfact!, ::Base.SparseArrays.CHOLMOD.Factor{Float64}, ::Base.SparseArrays.CHOLMOD.Sparse{Float64}) at ./<missing>:0",
      " in #cholfact#8(::Float64, ::Array{Int64,1}, ::Function, ::Base.SparseArrays.CHOLMOD.Sparse{Float64}) at ./sparse/cholmod.jl:1316",
      " in #cholfact#9(::Array{Any,1}, ::Function, ::Symmetric{Float64,SparseMatrixCSC{Float64,Int64}}) at ./sparse/cholmod.jl:1355",
      " in cholfact(::Symmetric{Float64,SparseMatrixCSC{Float64,Int64}}) at ./sparse/cholmod.jl:1355",
      " in factorize!(::divand.CovarIS{Float64}) at /home/ctroupin/.julia/v0.5/divand/src/special_matrices.jl:60",
      " in divand_factorize!(::divand.divand_struct) at /home/ctroupin/.julia/v0.5/divand/src/divand_factorize.jl:37",
      " in #divandrun#215(::Tuple{}, ::Array{Any,1}, ::Int64, ::Bool, ::Bool, ::Float64, ::Int64, ::Int64, ::Tuple{}, ::Symbol, ::Array{Any,1}, ::Array{Any,1}, ::Array{Any,1}, ::Int64, ::divand.#divand_pc_none, ::divand.##217#219, ::Array{Float64,3}, ::Array{Float64,1}, ::Type{T}, ::Int64, ::Bool, ::Array{Any,1}, ::divand.#divandrun, ::BitArray{3}, ::Tuple{Array{Float64,3},Array{Float64,3},Array{Float64,3}}, ::Tuple{Array{Float64,3},Array{Float64,3},Array{Float64,3}}, ::Tuple{Array{Float64,1},Array{Float64,1},Array{Float64,1}}, ::Array{Float64,1}, ::Tuple{Float64,Float64,Float64}, ::Int64) at /home/ctroupin/.julia/v0.5/divand/src/divandrun.jl:231",
      " in (::divand.#kw##divandrun)(::Array{Any,1}, ::divand.#divandrun, ::BitArray{3}, ::Tuple{Array{Float64,3},Array{Float64,3},Array{Float64,3}}, ::Tuple{Array{Float64,3},Array{Float64,3},Array{Float64,3}}, ::Tuple{Array{Float64,1},Array{Float64,1},Array{Float64,1}}, ::Array{Float64,1}, ::Tuple{Float64,Float64,Float64}, ::Int64) at ./<missing>:0"
     ]
    }
   ],
   "source": [
    "@time fi,s = divandrun(mask, (px, py, pt), (xi, yi, ti), (lon, lat, time), field, len, epsilon2; alphabc=2);"
   ]
  },
  {
   "cell_type": "markdown",
   "metadata": {
    "deletable": true,
    "editable": true
   },
   "source": [
    "## Export results to netCDF"
   ]
  },
  {
   "cell_type": "code",
   "execution_count": 12,
   "metadata": {
    "collapsed": false,
    "deletable": true,
    "editable": true
   },
   "outputs": [
    {
     "name": "stderr",
     "output_type": "stream",
     "text": [
      "31-mars 18:20:37:INFO:root:Written interpolated field in file:\n",
      "../results/divand/ADT_20140515_20140604_0pt5.nc\n"
     ]
    }
   ],
   "source": [
    "sz = size(mask)\n",
    "dims = [NcDim(\"longitude\",sz[1]), NcDim(\"latitude\",sz[2]), NcDim(\"time\",sz[3])];\n",
    "nc = NetCDF.create(resultfile, NcVar(\"ADT\", dims))\n",
    "nc[\"ADT\"][:,:, :] = fi\n",
    "NetCDF.close(nc);\n",
    "info(\"Written interpolated field in file:\\n\", resultfile)"
   ]
  },
  {
   "cell_type": "markdown",
   "metadata": {
    "deletable": true,
    "editable": true
   },
   "source": [
    "# Plotting"
   ]
  },
  {
   "cell_type": "markdown",
   "metadata": {
    "deletable": true,
    "editable": true
   },
   "source": [
    "Done in [another notebook in Python](../python/plot_AVISO_divand.ipynb) due to a problem with Julia / matplotlib."
   ]
  }
 ],
 "metadata": {
  "kernelspec": {
   "display_name": "Julia 0.5.1",
   "language": "julia",
   "name": "julia-0.5"
  },
  "language_info": {
   "file_extension": ".jl",
   "mimetype": "application/julia",
   "name": "julia",
   "version": "0.5.1"
  }
 },
 "nbformat": 4,
 "nbformat_minor": 2
}
