{
 "cells": [
  {
   "cell_type": "markdown",
   "metadata": {},
   "source": [
    "This short tutorial shows how to run a simple Diva 2D case."
   ]
  },
  {
   "cell_type": "markdown",
   "metadata": {},
   "source": [
    "# Configuration"
   ]
  },
  {
   "cell_type": "markdown",
   "metadata": {},
   "source": [
    "First indicate where is your Diva main directory."
   ]
  },
  {
   "cell_type": "code",
   "execution_count": 1,
   "metadata": {
    "collapsed": true
   },
   "outputs": [],
   "source": [
    "divadir=/home/ctroupin/Software/DIVA/diva-4.7.1"
   ]
  },
  {
   "cell_type": "markdown",
   "metadata": {},
   "source": [
    "For the 2D case, we will go in the *divastripped* directory."
   ]
  },
  {
   "cell_type": "code",
   "execution_count": 3,
   "metadata": {
    "collapsed": false
   },
   "outputs": [
    {
     "name": "stdout",
     "output_type": "stream",
     "text": [
      "/home/ctroupin/Software/DIVA/diva-4.7.1/DIVA3D/divastripped\n"
     ]
    }
   ],
   "source": [
    "cd ${divadir}/DIVA3D/divastripped/\n",
    "pwd"
   ]
  },
  {
   "cell_type": "markdown",
   "metadata": {},
   "source": [
    "We also add the current directory (.) to the PATH variable."
   ]
  },
  {
   "cell_type": "code",
   "execution_count": 17,
   "metadata": {
    "collapsed": true
   },
   "outputs": [],
   "source": [
    "PATH=$PATH:."
   ]
  },
  {
   "cell_type": "markdown",
   "metadata": {},
   "source": [
    "# Input files"
   ]
  },
  {
   "cell_type": "markdown",
   "metadata": {},
   "source": [
    "We need to have at least these 3 input files, located inside the *input* directory:\n",
    "* *param.par*, which contains the analysis parameters,\n",
    "* *coast.cont*, which delimitates the physical domain over which the analysis will be performed and \n",
    "* *data.dat*, which contains the data points."
   ]
  },
  {
   "cell_type": "markdown",
   "metadata": {},
   "source": [
    "Let's create simple files to have an analysis running.<br>\n",
    "Before running these commands, make sure you have a copy of the input files."
   ]
  },
  {
   "cell_type": "code",
   "execution_count": 29,
   "metadata": {
    "collapsed": false
   },
   "outputs": [
    {
     "name": "stdout",
     "output_type": "stream",
     "text": [
      "1\n",
      "4\n",
      "-10 -10\n",
      "10 -10\n",
      "10 10\n",
      "-10 10\n"
     ]
    }
   ],
   "source": [
    "printf '1\\n4\\n-10 -10\\n10 -10\\n10 10\\n-10 10\\n' > input/coast.cont\n",
    "more input/coast.cont"
   ]
  },
  {
   "cell_type": "code",
   "execution_count": 12,
   "metadata": {
    "collapsed": false
   },
   "outputs": [
    {
     "name": "stdout",
     "output_type": "stream",
     "text": [
      "0 0 1\n",
      "1 -1 3\n",
      "-2 4 -1\n"
     ]
    }
   ],
   "source": [
    "printf '0 0 1\\n1 -1 3\\n-2 4 -1' > ./input/data.dat\n",
    "more input/data.dat"
   ]
  },
  {
   "cell_type": "code",
   "execution_count": 13,
   "metadata": {
    "collapsed": true
   },
   "outputs": [],
   "source": [
    "echo '# Correlation Length lc' > ./input/param.par\n",
    "echo '1.0' >> ./input/param.par\n",
    "echo '# icoordchange' >> ./input/param.par\n",
    "echo '0' >> ./input/param.par\n",
    "echo '# ispec' >> ./input/param.par\n",
    "echo '11' >> ./input/param.par\n",
    "echo '# ireg' >> ./input/param.par\n",
    "echo '0' >> ./input/param.par\n",
    "echo '# xori' >> ./input/param.par\n",
    "echo '-10' >> ./input/param.par\n",
    "echo '# yori' >> ./input/param.par\n",
    "echo '-10' >> ./input/param.par\n",
    "echo '# dx' >> ./input/param.par\n",
    "echo '0.1' >> ./input/param.par\n",
    "echo '# dy' >> ./input/param.par\n",
    "echo '0.1' >> ./input/param.par\n",
    "echo '# nx' >> ./input/param.par\n",
    "echo '201' >> ./input/param.par\n",
    "echo '#ny' >> ./input/param.par\n",
    "echo '201' >> ./input/param.par\n",
    "echo '# valex' >> ./input/param.par\n",
    "echo '-99' >> ./input/param.par\n",
    "echo '# snr' >> ./input/param.par\n",
    "echo '1.0' >> ./input/param.par\n",
    "echo '# varbak' >> ./input/param.par\n",
    "echo '1.0' >> ./input/param.par"
   ]
  },
  {
   "cell_type": "code",
   "execution_count": 14,
   "metadata": {
    "collapsed": false
   },
   "outputs": [
    {
     "name": "stdout",
     "output_type": "stream",
     "text": [
      "# Correlation Length lc\n",
      "1.0\n",
      "# icoordchange\n",
      "0\n",
      "# ispec\n",
      "11\n",
      "# ireg\n",
      "0\n",
      "# xori\n",
      "-10\n",
      "# yori\n",
      "-10\n",
      "# dx\n",
      "0.1\n",
      "# dy\n",
      "0.1\n",
      "# nx\n",
      "201\n",
      "#ny\n",
      "201\n",
      "# valex\n",
      "-99\n",
      "# snr\n",
      "\u001b[Km--More--(89%)\u001b[27m"
     ]
    }
   ],
   "source": [
    "more input/param.par"
   ]
  },
  {
   "cell_type": "markdown",
   "metadata": {},
   "source": [
    "# Mesh creation "
   ]
  },
  {
   "cell_type": "markdown",
   "metadata": {},
   "source": [
    "The first step of the analysis consists of the creation of a finite-element mesh.<br>\n",
    "The is done by running the command:"
   ]
  },
  {
   "cell_type": "code",
   "execution_count": 30,
   "metadata": {
    "collapsed": false
   },
   "outputs": [
    {
     "name": "stdout",
     "output_type": "stream",
     "text": [
      "//////////////////////////////////////////////////\n",
      "Mesh generation\n",
      "//////////////////////////////////////////////////\n",
      " \n",
      "Reading parameters\n",
      " \n",
      " \n",
      "---------------\n",
      "Mesh is created\n",
      "---------------\n",
      " \n"
     ]
    }
   ],
   "source": [
    "./divamesh"
   ]
  },
  {
   "cell_type": "markdown",
   "metadata": {},
   "source": [
    "The mesh generation created 2 files, located in the directory *meshgenwork*:\n",
    "* *fort.22*, which contains the location of the nodes,\n",
    "* *fort.23*, which contains the mesh topology."
   ]
  },
  {
   "cell_type": "markdown",
   "metadata": {},
   "source": [
    "# Diva analysis"
   ]
  },
  {
   "cell_type": "markdown",
   "metadata": {},
   "source": [
    "We just need to execute the **divacalc** script.<br>\n",
    "It may take a few seconds."
   ]
  },
  {
   "cell_type": "code",
   "execution_count": 32,
   "metadata": {
    "collapsed": false
   },
   "outputs": [
    {
     "name": "stdout",
     "output_type": "stream",
     "text": [
      "//////////////////////////////////////////////////\n",
      "Going to analyse a field\n",
      "                                            \n",
      "running divacalc with flag number for solver = 0\n",
      " possible values are 0: direct skyline, 1: parallel skyline and 2: iterative sparse\n",
      "//////////////////////////////////////////////////\n",
      " \n",
      " \n",
      "--------------------\n",
      "Analysis is finished\n",
      "--------------------\n"
     ]
    }
   ],
   "source": [
    "divacalc"
   ]
  },
  {
   "cell_type": "markdown",
   "metadata": {},
   "source": [
    "The results are stored in the *output* directory.<br> You can find more details about each output file in the [Diva User Guide](http://modb.oce.ulg.ac.be/mediawiki/upload/DIVA/notes/DivaUserGuide_June2016.pdf).\n",
    "If you have [ncview](http://meteora.ucsd.edu/%7Epierce/ncview_home_page.html) installed on your machine, you can directly have a look at the netCDF file."
   ]
  },
  {
   "cell_type": "code",
   "execution_count": 33,
   "metadata": {
    "collapsed": false
   },
   "outputs": [
    {
     "name": "stdout",
     "output_type": "stream",
     "text": [
      "Ncview 2.1.2 David W. Pierce  24 Oct 2012\n",
      "http://meteora.ucsd.edu:80/~pierce/ncview_home_page.html\n",
      "Copyright (C) 1993 through 2011, David W. Pierce\n",
      "Ncview comes with ABSOLUTELY NO WARRANTY; for details type `ncview -w'.\n",
      "This is free software licensed under the Gnu General Public License version 3; type `ncview -c' for redistribution details.\n",
      "\n",
      "Note: no Ncview app-defaults file found, using internal defaults\n",
      "Warning: Cannot convert string \"-*-helvetica-*-r-*-*-14-*-*-*-*-*-*-*\" to type FontStruct\n",
      "XIO:  fatal IO error 11 (Resource temporarily unavailable) on X server \":0\"\n",
      "      after 649 requests (649 known processed) with 0 events remaining.\n"
     ]
    },
    {
     "ename": "",
     "evalue": "1",
     "output_type": "error",
     "traceback": []
    }
   ],
   "source": [
    "ncview output/ghertonetcdf/results.nc"
   ]
  }
 ],
 "metadata": {
  "kernelspec": {
   "display_name": "Bash",
   "language": "bash",
   "name": "bash"
  },
  "language_info": {
   "codemirror_mode": "shell",
   "file_extension": ".sh",
   "mimetype": "text/x-sh",
   "name": "bash"
  }
 },
 "nbformat": 4,
 "nbformat_minor": 2
}
