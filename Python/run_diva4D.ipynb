{
 "cells": [
  {
   "cell_type": "markdown",
   "metadata": {},
   "source": [
    "In this notebook we show how to prepare all the input and parameter files necessary to run Diva4D.<br>\n",
    "The code rely on 2 modules:\n",
    "* [diva2Dwrite](./diva2Dwrite.py), for the preparation of the input files for the 2D. \n",
    "* [diva4Dwrite](./diva2Dwrite.py), for the preparation of the input and configuarion files for the 4D. "
   ]
  },
  {
   "cell_type": "code",
   "execution_count": 41,
   "metadata": {
    "collapsed": true
   },
   "outputs": [],
   "source": [
    "import os\n",
    "import logging\n",
    "import shutil\n",
    "import subprocess\n",
    "import diva2Dwrite\n",
    "import diva4Dwrite\n",
    "import importlib"
   ]
  },
  {
   "cell_type": "code",
   "execution_count": 54,
   "metadata": {
    "collapsed": false
   },
   "outputs": [
    {
     "name": "stdout",
     "output_type": "stream",
     "text": [
      "f\n"
     ]
    }
   ],
   "source": [
    "print('f')"
   ]
  },
  {
   "cell_type": "markdown",
   "metadata": {},
   "source": [
    "Reload the module (only during code development)"
   ]
  },
  {
   "cell_type": "code",
   "execution_count": 21,
   "metadata": {
    "collapsed": false
   },
   "outputs": [
    {
     "data": {
      "text/plain": [
       "<module 'diva2Dwrite' from '/home/ctroupin/Projects/SeaDataCloud/Python/diva2Dwrite.py'>"
      ]
     },
     "execution_count": 21,
     "metadata": {},
     "output_type": "execute_result"
    }
   ],
   "source": [
    "importlib.reload(diva4Dwrite)\n",
    "importlib.reload(diva2Dwrite)"
   ]
  },
  {
   "cell_type": "markdown",
   "metadata": {},
   "source": [
    "# User inputs and configuration"
   ]
  },
  {
   "cell_type": "markdown",
   "metadata": {},
   "source": [
    "Indicate the path to the Diva installation you want to work with (diva-x.y.z)."
   ]
  },
  {
   "cell_type": "code",
   "execution_count": 55,
   "metadata": {
    "collapsed": true
   },
   "outputs": [],
   "source": [
    "divabasedir = \"/home/ctroupin/Software/DIVA/diva-4.7.1\""
   ]
  },
  {
   "cell_type": "markdown",
   "metadata": {},
   "source": [
    "## List of user parameters"
   ]
  },
  {
   "cell_type": "markdown",
   "metadata": {},
   "source": [
    "Set the different parameters necessary for a 4D analysis.<br>\n",
    "For clarity, they are separated by input files."
   ]
  },
  {
   "cell_type": "markdown",
   "metadata": {},
   "source": [
    "### List of ODV spreadsheet files"
   ]
  },
  {
   "cell_type": "code",
   "execution_count": 56,
   "metadata": {
    "collapsed": true
   },
   "outputs": [],
   "source": [
    "datafilelist = ['./blacksea_data_CTD.txt']"
   ]
  },
  {
   "cell_type": "markdown",
   "metadata": {},
   "source": [
    "### Parameters for the advection constraint and the reference field"
   ]
  },
  {
   "cell_type": "markdown",
   "metadata": {},
   "source": [
    "* advection_flag: Flag that indicates if advection is activated\n",
    "* ref_flag: Flag that indicates if there is a reference field\n",
    "* var_year_code: Variable year code\n",
    "* var_month_code: Variable month code"
   ]
  },
  {
   "cell_type": "code",
   "execution_count": 7,
   "metadata": {
    "collapsed": true
   },
   "outputs": [],
   "source": [
    "advection_flag, ref_flag, var_year_code, var_month_code = 0, 0, '00000000', '0000'"
   ]
  },
  {
   "cell_type": "markdown",
   "metadata": {
    "collapsed": true
   },
   "source": [
    "### Parameters for the 4D analysis"
   ]
  },
  {
   "cell_type": "markdown",
   "metadata": {},
   "source": [
    "* extraction_flag: Data extraction: 1 do it, 0 do nothing, -1 press coord, -10 pressure+Saunders\n",
    "* coast_flag: boundary lines and coastlines generation: 0 nothing, 1: contours, 2: UV, 3: 1+2\n",
    "* clean_flag: cleaning data on mesh: 1, 2: RL, 3: both, 4: 1 + outliers elimination, 5: =4+2\n",
    "* min_datanum: minimal number of data in a layer. If less, uses data from any month.\n",
    "* param_flag: Parameters estimation and vertical filtering:\n",
    "* min_l, max_l: minimal/maximal correlation length\n",
    "* min_snr, max_snr: minimal/maximal signal-to-noise ratio\n",
    "* analysisref_flag: Analysis and reference field\n",
    "* lower_level, upper_level: lower/upper level numbers\n",
    "* netcdf4d_flag: 4D netcdf files generation\n",
    "* gnuplot_flag: gnuplot plots: 0 or 1\n",
    "* detrend_groupnum: Data detrending: number of groups, 0 if no detrending."
   ]
  },
  {
   "cell_type": "code",
   "execution_count": 8,
   "metadata": {
    "collapsed": true
   },
   "outputs": [],
   "source": [
    "extraction_flag, coast_flag, clean_flag, min_datanum, param_flag, min_l, max_l, min_snr, max_snr,\\\n",
    "analysisref_flag, lower_level, upper_level, netcdf4d_flag, gnuplot_flag, detrend_groupnum =\\\n",
    "1, 1, 0, 0, -30, 1.4, 10., 0.1, 5.0, 1, 1, 3, 0, 0, 0"
   ]
  },
  {
   "cell_type": "markdown",
   "metadata": {
    "collapsed": true
   },
   "source": [
    "### Parameters for the netCDF file"
   ]
  },
  {
   "cell_type": "markdown",
   "metadata": {},
   "source": [
    "* ncdf_title: Title string for 3D NetCDF file\n",
    "* ncdf_reftime: Reference time for data (ie: days since since 1900-01-01), if not climatological data\n",
    "* ncdf_timeval: Time value (that reprsents the data set), if not climatological data\n",
    "* ncdf_cellmethod: Cell_methode string:\n",
    "* ncdf_institution: Institution name: where the dataset was produced.\n",
    "* ncdf_groupemail: Production group and e-mail\n",
    "* ncdf_source: Source (observation, radiosonde, database, model-generated data,...)\n",
    "* ndf_comment: Comment\n",
    "* ncdf_authoremail: Autor e-mail adress (or contact person to report problems)\n",
    "* ncdf_acknowlegment: Acknowledgement"
   ]
  },
  {
   "cell_type": "code",
   "execution_count": 9,
   "metadata": {
    "collapsed": true
   },
   "outputs": [],
   "source": [
    "ncdf_title, ncdf_reftime, ncdf_timeval, ncdf_cellmethod,\\\n",
    "ncdf_institution, ncdf_groupemail, ncdf_source,\\\n",
    "ncdf_comment, ncdf_authoremail, ncdf_acknowlegment =\\\n",
    "\"4D Test on the Black Sea\", 'months since since xxxx-01-01', 1200, 'time: mean (this month data from all years)',\\\n",
    "'University of Liege, GeoHydrodynamics and Environment Research',\\\n",
    "'Diva group. E-mails : a.barth@ulg.ac.be ; swatelet@ulg.ac.be',\\\n",
    "'data_from various sources for diva software testing work', 'No comment', 'swatelet@ulg.ac.be',\\\n",
    "'No acknowledgement'"
   ]
  },
  {
   "cell_type": "markdown",
   "metadata": {},
   "source": [
    "### Parameters for the output grid"
   ]
  },
  {
   "cell_type": "markdown",
   "metadata": {},
   "source": [
    "* xmin, ymin: longitute and latitude of the lower-left corner of the domain\n",
    "* nx, ny: number of cells in the x and y directions\n",
    "* dx, dy: spatial steps in the x and y directions"
   ]
  },
  {
   "cell_type": "code",
   "execution_count": 33,
   "metadata": {
    "collapsed": true
   },
   "outputs": [],
   "source": [
    "xmin, ymin, nx, ny, dx, dy = 27.0, 40.0, 151, 76, 0.1, 0.1"
   ]
  },
  {
   "cell_type": "markdown",
   "metadata": {},
   "source": [
    "### Parameters for the analysis"
   ]
  },
  {
   "cell_type": "code",
   "execution_count": 34,
   "metadata": {
    "collapsed": false
   },
   "outputs": [],
   "source": [
    "CorrelationLength = 1.5\n",
    "SignalToNoiseRatio = 0.5\n",
    "VarianceBackgroundField = 1.0\n",
    "ExclusionValue = -99.\n",
    "iCoordChange = 2\n",
    "iSpec = 11\n",
    "iReg = 2"
   ]
  },
  {
   "cell_type": "markdown",
   "metadata": {},
   "source": [
    "# Create the new input files"
   ]
  },
  {
   "cell_type": "markdown",
   "metadata": {},
   "source": [
    "## Generate the names of the sub-directories"
   ]
  },
  {
   "cell_type": "code",
   "execution_count": 42,
   "metadata": {
    "collapsed": false
   },
   "outputs": [
    {
     "name": "stdout",
     "output_type": "stream",
     "text": [
      "/home/ctroupin/Software/DIVA/diva-4.7.1/JRA4/Climatology/input\n"
     ]
    }
   ],
   "source": [
    "divabindir, divasrcdir, diva2Ddir, diva4Ddir, diva4Dinputdir = diva2Dwrite.make_diva_directorynames(divabasedir)\n",
    "print(diva4Dinputdir)"
   ]
  },
  {
   "cell_type": "markdown",
   "metadata": {},
   "source": [
    "## Write the different input files using the functions of diva4Dwrite"
   ]
  },
  {
   "cell_type": "code",
   "execution_count": 43,
   "metadata": {
    "collapsed": false
   },
   "outputs": [],
   "source": [
    "diva4Dwrite.write_datasource(diva4Ddir, datafilelist)"
   ]
  },
  {
   "cell_type": "code",
   "execution_count": 44,
   "metadata": {
    "collapsed": false
   },
   "outputs": [],
   "source": [
    "diva4Dwrite.write_constandrefe(diva4Ddir, advection_flag, ref_flag, var_year_code, var_month_code)"
   ]
  },
  {
   "cell_type": "code",
   "execution_count": 45,
   "metadata": {
    "collapsed": false
   },
   "outputs": [],
   "source": [
    "diva4Dwrite.write_driver(diva4Ddir, extraction_flag, coast_flag, clean_flag, min_datanum, param_flag,\n",
    "                         min_l, max_l, min_snr, max_snr,\n",
    "                         analysisref_flag, lower_level, upper_level, \n",
    "                         netcdf4d_flag, gnuplot_flag, detrend_groupnum)"
   ]
  },
  {
   "cell_type": "code",
   "execution_count": 59,
   "metadata": {
    "collapsed": false
   },
   "outputs": [],
   "source": [
    "diva4Dwrite.write_monthlist(diva4Ddir, ['0101', '0202', '0303'])"
   ]
  },
  {
   "cell_type": "code",
   "execution_count": 60,
   "metadata": {
    "collapsed": false
   },
   "outputs": [],
   "source": [
    "diva4Dwrite.write_qflist(diva4Ddir, [0, 1])"
   ]
  },
  {
   "cell_type": "code",
   "execution_count": 61,
   "metadata": {
    "collapsed": false
   },
   "outputs": [],
   "source": [
    "diva4Dwrite.write_varlist(diva4Ddir, ['Temperature', 'Salinity'])"
   ]
  },
  {
   "cell_type": "code",
   "execution_count": 62,
   "metadata": {
    "collapsed": false
   },
   "outputs": [],
   "source": [
    "diva4Dwrite.write_yearlist(diva4Ddir, ['19002009',])"
   ]
  },
  {
   "cell_type": "code",
   "execution_count": 63,
   "metadata": {
    "collapsed": false
   },
   "outputs": [],
   "source": [
    "diva4Dwrite.write_contourdepth(diva4Dinputdir, [30, 20, 10, 0])"
   ]
  },
  {
   "cell_type": "code",
   "execution_count": 51,
   "metadata": {
    "collapsed": false
   },
   "outputs": [],
   "source": [
    "diva4Dwrite.write_ncdfinfo(diva4Dinputdir, ncdf_title, ncdf_reftime, ncdf_timeval, ncdf_cellmethod,\n",
    "                   ncdf_institution, ncdf_groupemail, ncdf_source,\n",
    "                   ncdf_comment, ncdf_authoremail, ncdf_acknowlegment)"
   ]
  },
  {
   "cell_type": "code",
   "execution_count": 52,
   "metadata": {
    "collapsed": false
   },
   "outputs": [],
   "source": [
    "diva2Dwrite.write_parameter(CorrelationLength, iCoordChange, iSpec, iReg, xmin, ymin, dx, dy, nx, ny,\n",
    "                ExclusionValue, SignalToNoiseRatio, VarianceBackgroundField, os.path.join(diva4Dinputdir, 'param.par'))"
   ]
  },
  {
   "cell_type": "markdown",
   "metadata": {
    "collapsed": true
   },
   "source": [
    "# Run divadoall (4D analysis)"
   ]
  },
  {
   "cell_type": "code",
   "execution_count": 53,
   "metadata": {
    "collapsed": false
   },
   "outputs": [
    {
     "name": "stdout",
     "output_type": "stream",
     "text": [
      "b\"divadoall: divadoall run starts at:\\nTue Jan 24 15:05:25 CET 2017\\ndivadoall:  Start divadoall: idorefe = 0\\ndivadoall:                   idoanal = 1\\ndivadoall: Working in /home/ctroupin/Software/DIVA/diva-4.7.1/JRA4/Climatology\\ndivadoall: Cleaning up the old NC info and list files\\ndivadoall: variable Temperature\\ndivadoall: year 19002009\\ndivadoall: variable Salinity\\ndivadoall: year 19002009\\ndivadoall: Cleaning up the old data files\\ndivadoall: variable Temperature\\ndivadoall: year 19002009\\ndivadoall: month 0101\\ndivadoall: variable Salinity\\ndivadoall: year 19002009\\ndivadoall: month 0101\\ndivadoall: Data source file is ./blacksea_data_CTD.txt\\ndivadoall: Trying to guess ODV format on ./blacksea_data_CTD.txt\\n2331776 and 145736\\n11, 16\\nNo depth axis (or speed+depth) ?\\nno.\\ndivadoall: Data source file is ./blacksea_data_CTD.txt\\ndivadoall: Trying to guess ODV format on ./blacksea_data_CTD.txt\\n2331776 and 145736\\n11, 16\\n./blacksea_data_CTD.txt\\ndivadoall: Now extracting\\nCreating working directory ./Datawork\\nTrying to make data extraction on data file ./blacksea_data_CTD.txt\\ndata 145746 comments 10 user 145735\\nTrying to see if exclusion value is present\\nvalexodv =  -99\\n\\nChecking file structure\\n2331776 and 145736\\n11, 16\\n\\n=================\\nFinished checking\\nColumns found\\nCruise\\t \\t1\\nStation\\t \\t2\\nType\\t \\t3\\nyyyy-mm-ddThh:mm:ss.sss\\t \\t4\\nLongitude [degrees_east]\\t \\t5\\nLatitude [degrees_north]\\t \\t6\\nBot. Depth [m]:METAVAR:FLOAT:4\\t \\t7\\nOriginator's Cruise:METAVAR:TEXT:20\\t \\t8\\nOriginator's Station:METAVAR:TEXT:20\\t \\t9\\nDepth [m]\\t \\t10\\nQV:WOD\\t \\t11\\nTemperature [\\xb0C]\\t \\t12\\nQV:WOD\\t \\t13\\nSalinity [psu]\\t \\t14\\nQV:WOD\\t \\t15\\nQV:ODV:SAMPLE\\t \\t16\\n\\n================\\nDelimiter for ODV \\\\t\\nMaking sure files have correct line endings\\n----------------------------\\nNow starting data extraction\\n----------------------------\\nWorking on parameter Temperature\\nBottom depth in column  7\\nWARNING NO CDI FOUND\\nWARNING NO EDMO-CODE FOUND\\n=== DEPTH COORDINATE in column 10\\nData are in column 12\\nCorresponding quality flags are in column 13\\nUnits are \\xb0C\\nchecking for bounds -1E36 and 1E36\\nNow producing one big file for variable Temperature\\nQuality flags retained are\\n0\\n1\\nForeseen to put two parameters on CDI EDMO\\nNow interpolating\\nNow split in layers 10001 and drop exclusion values\\nOrder now: x y val 1 year month day hour meta1 meta2\\nWorking on years 19002009 and month 0101\\nyear from 1900 to 2009\\nmonth from 1 to 1\\n======================================================\\nBefore additional elimination\\n366 input/Temperature.19002009.0101.10001\\nAfter additional elimination\\n366 input/Temperature.19002009.0101.10001\\n======================================================\\nNow split in layers 10002 and drop exclusion values\\nOrder now: x y val 1 year month day hour meta1 meta2\\nWorking on years 19002009 and month 0101\\nyear from 1900 to 2009\\nmonth from 1 to 1\\n======================================================\\nBefore additional elimination\\n388 input/Temperature.19002009.0101.10002\\nAfter additional elimination\\n388 input/Temperature.19002009.0101.10002\\n======================================================\\nFinished loop on layers\\nWorking on parameter Salinity\\nBottom depth in column  7\\nWARNING NO CDI FOUND\\nWARNING NO EDMO-CODE FOUND\\n=== DEPTH COORDINATE in column 10\\nData are in column 14\\nCorresponding quality flags are in column 15\\nUnits are psu\\nchecking for bounds -1E36 and 1E36\\nNow producing one big file for variable Salinity\\nQuality flags retained are\\n0\\n1\\nForeseen to put two parameters on CDI EDMO\\nNow interpolating\\nNow split in layers 10001 and drop exclusion values\\nOrder now: x y val 1 year month day hour meta1 meta2\\nWorking on years 19002009 and month 0101\\nyear from 1900 to 2009\\nmonth from 1 to 1\\n======================================================\\nBefore additional elimination\\n332 input/Salinity.19002009.0101.10001\\nAfter additional elimination\\n332 input/Salinity.19002009.0101.10001\\n======================================================\\nNow split in layers 10002 and drop exclusion values\\nOrder now: x y val 1 year month day hour meta1 meta2\\nWorking on years 19002009 and month 0101\\nyear from 1900 to 2009\\nmonth from 1 to 1\\n======================================================\\nBefore additional elimination\\n346 input/Salinity.19002009.0101.10002\\nAfter additional elimination\\n346 input/Salinity.19002009.0101.10002\\n======================================================\\nFinished loop on layers\\nFinished loop on variables\\n==================================\\n=======Finished data =============\\n==================================\\ndivadoall: finished with ./blacksea_data_CTD.txt\\ndivadoall:\\ndivadoall: ======================= Finished with data extraction ===========\\ndivadoall: =================================================================\\nChecking for duplicates in input/divadata/Temperature.19002009.0101.10001 ...\\n0 duplicates in this file\\nChecking for duplicates in input/divadata/Temperature.19002009.0101.10002 ...\\n0 duplicates in this file\\nChecking for duplicates in input/divadata/Salinity.19002009.0101.10001 ...\\n0 duplicates in this file\\nChecking for duplicates in input/divadata/Salinity.19002009.0101.10002 ...\\n0 duplicates in this file\\ndivadoall:\\ndivadoall: =================================================================\\ndivadoall: ======================= Starting analysis loops ===========\\ndivadoall: =======================\\ndivadoall: ======================= Starting analysis loop on :\\ndivadoall: =======================      variable     Temperature\\ndivadoall: =======================           year    19002009\\ndivadoall: =======================          month    0101\\ndivadoall: working on variable Temperature\\ndivadoall: 12\\ndivadoall: ======================  Checking levels data coverage ======\\ndivadoall: level 1 with data points 366\\ndivadoall: level 2 with data points 388\\ndivadoall: ======================  Finished checking data coverage ======\\nWARNING : some contour(s) file(s) absent\\nDiva will create these contours\\nWARNING : some contour(s) file(s) absent\\nDiva will create these contours\\nWARNING : some contour(s) file(s) absent\\nDiva will create these contours\\ndivadoall:\\ndivadoall: ======================  Cleaning DIVA working derectories ======\\ndivadoall:\\ndivadoall:\\ndivadoall: ======================  Copying inputs to DIVA working derectory ======\\ndivadoall:\\n`./input/topo.grd' -> `../../DIVA3D/divastripped/input/./topo.grd'\\n`./input/TopoInfo.dat' -> `../../DIVA3D/divastripped/input/./TopoInfo.dat'\\n`./input/param.par' -> `../../DIVA3D/divastripped/input/./param.par'\\n`./input/contour.depth' -> `../../DIVA3D/divastripped/input/./contour.depth'\\n`./input/param.par' -> `../../DIVA3D/divastripped/input/./param.par'\\n`./input/divadata/Temperature.19002009.0101.10001' -> `../../DIVA3D/divastripped/input/divadata/./Temperature.19002009.0101.10001'\\n`./input/divadata/Temperature.19002009.0101.10002' -> `../../DIVA3D/divastripped/input/divadata/./Temperature.19002009.0101.10002'\\ndivadoall:\\ndivadoall:  preparing 3Dinfo input file for 3D DIVA run for: Temperature 19002009 0101\\ndivadoall:\\ndivadoall:  input 3Dinfo file for diva3Ddress:\\ndivadoall:\\ndivadoall: Running diva3Ddress on Temperature 19002009 0101\\ndivadoall: ########################################\\ndivadoall:\\ndivadoall:\\ndivadoall:\\ndivadoall:\\ndiva3Ddress:\\ndiva3Ddress: Start run on Temperature.19002009.0101\\ndiva3Ddress: level 1 to level 3\\ndiva3Ddress:\\ndiva3Ddress:\\ndiva3Ddress: Running diva3Dcont (contour generation) \\ndiva3Ddress: on Temperature.19002009.0101\\ndiva3Ddress: level 1 to level 3\\ndiva3Ddress:\\ndiva3Dcont:\\ndiva3Dcont: Start contour generation flag number: 1\\ndiva3Dcont: on Temperature.19002009.0101\\ndiva3Dcont: level 1 to level 3\\ndiva3Dcont:\\n/////////////////////////////////\\nContour generation\\n/////////////////////////////////\\n \\n \\n   27.00000    \\n   40.00000    \\n  1.6666668E-02\\n  1.6666668E-02\\n         901\\n         481\\n \\n`./divawork/coast.cont' -> `./output/coast.cont'\\n`./divawork/coast.cont.10001' -> `./output/coast.cont.10001'\\n`./divawork/coast.cont.10002' -> `./output/coast.cont.10002'\\ndiva3Ddress:\\ndiva3Ddress: Running diva3Dclop  (CL optimisation)\\ndiva3Ddress:  on Temperature.19002009.0101\\ndiva3Ddress: level 1 to level 3\\ndiva3Ddress:\\ndiva3Dclop:\\ndiva3Dclop: Start CL estimation flag number: -30\\ndiva3Dclop: on Temperature.19002009.0101\\ndiva3Dclop: level 1 to level 3\\ndiva3Dclop:\\n//////////////////////////////////////////////////\\nCleaning up the mess\\n//////////////////////////////////////////////////\\n \\nMaking directories\\n \\nCleaning divawork and gnuwork directory\\n \\nCleaning meshgenwork directory\\n \\nCleaning output directory\\n \\nLooking for density file...\\n \\n... there is no density file\\n \\n--------------------\\nCleaning is finished\\n--------------------\\n \\noooooooooooooooooooooooooooooooooooooooooooooooo\\ndiva3Dclop: determination of CL for level: 10001\\noooooooooooooooooooooooooooooooooooooooooooooooo\\n>>>>>>>>>>>> did not find reference field for Temperature.19002009.0101.10001  <<<<<<<< \\n//////////////////////////////////////////////////\\nMesh generation\\n//////////////////////////////////////////////////\\n \\nReading parameters\\n \\n \\n---------------\\nMesh is created\\n---------------\\n \\n`./output/meshvisu/fort.22' -> `./input/divamesh/meshtopo.10001'\\n`./output/meshvisu/fort.23' -> `./input/divamesh/mesh.dat.10001'\\n`./output/meshvisu/fort.10' -> `./input/divaparam/coast.cont.10001'\\n \\n=============================================================\\nPreparing RL field based on data coverage\\nPreparing data density field DATABINS.dat\\n=============================================================\\ncreating a mesh\\ndivadatacoverage: using mesh found in ./output/meshvisu\\n//////////////////////////////////////////////////\\nGoing to analyse a field\\n                                            \\nrunning divacalc with flag number for solver = 0\\n possible values are 0: direct skyline, 1: parallel skyline and 2: iterative sparse\\n//////////////////////////////////////////////////\\n \\n \\n--------------------\\nAnalysis is finished\\n--------------------\\n`./output/fieldgher.anl' -> `./divawork/fort.10'\\n`./output/ghertonetcdf/GridInfo.dat' -> `./divawork/fort.11'\\n`./input/data.dat' -> `./divawork/fort.40'\\n`./divawork/fort.11' -> `./output/RLinfo.dat'\\n`./divawork/fort.20' -> `./output/RL.dat'\\n`./divawork/fort.21' -> `./output/DATABINS.dat'\\n`./divawork/fort.11' -> `./output/DATABINSinfo.dat'\\n`./divawork/fort.33' -> `./output/meandistance.dat'\\n////////////////////////////////////////\\nFitting of the covariance function\\n////////////////////////////////////////\\n \\nGoing to fit covariance function\\n \\n-------------------------------------------------------------\\nFinished fitting\\nEstimated correlation length L =  0.404376358\\nFiles created : covariancefit.dat covariance.dat paramfit.dat\\n-------------------------------------------------------------\\n=======================================================\\nReplacing param file with fit\\n`./input/param.par' -> `./input/param.par.old'\\n`./output/param.par.fit' -> `./input/param.par'\\n=======================================================\\nooooooooooo CL optimal val :  0.404376358\\n \\noooooooooooooooooooooooooooooooooooooooooooooooo\\ndiva3Dclop: determination of CL for level: 10002\\noooooooooooooooooooooooooooooooooooooooooooooooo\\n>>>>>>>>>>>> did not find reference field for Temperature.19002009.0101.10002  <<<<<<<< \\n//////////////////////////////////////////////////\\nMesh generation\\n//////////////////////////////////////////////////\\n \\nReading parameters\\n \\n \\n---------------\\nMesh is created\\n---------------\\n \\n`./output/meshvisu/fort.22' -> `./input/divamesh/meshtopo.10002'\\n`./output/meshvisu/fort.23' -> `./input/divamesh/mesh.dat.10002'\\n`./output/meshvisu/fort.10' -> `./input/divaparam/coast.cont.10002'\\n \\n=============================================================\\nPreparing RL field based on data coverage\\nPreparing data density field DATABINS.dat\\n=============================================================\\ncreating a mesh\\ndivadatacoverage: using mesh found in ./output/meshvisu\\n//////////////////////////////////////////////////\\nGoing to analyse a field\\n                                            \\nrunning divacalc with flag number for solver = 0\\n possible values are 0: direct skyline, 1: parallel skyline and 2: iterative sparse\\n//////////////////////////////////////////////////\\n \\n \\n--------------------\\nAnalysis is finished\\n--------------------\\n`./output/fieldgher.anl' -> `./divawork/fort.10'\\n`./output/ghertonetcdf/GridInfo.dat' -> `./divawork/fort.11'\\n`./input/data.dat' -> `./divawork/fort.40'\\n`./divawork/fort.11' -> `./output/RLinfo.dat'\\n`./divawork/fort.20' -> `./output/RL.dat'\\n`./divawork/fort.21' -> `./output/DATABINS.dat'\\n`./divawork/fort.11' -> `./output/DATABINSinfo.dat'\\n`./divawork/fort.33' -> `./output/meandistance.dat'\\n////////////////////////////////////////\\nFitting of the covariance function\\n////////////////////////////////////////\\n \\nGoing to fit covariance function\\n \\n-------------------------------------------------------------\\nFinished fitting\\nEstimated correlation length L =  0.390727699\\nFiles created : covariancefit.dat covariance.dat paramfit.dat\\n-------------------------------------------------------------\\n=======================================================\\nReplacing param file with fit\\n`./input/param.par' -> `./input/param.par.old'\\n`./output/param.par.fit' -> `./input/param.par'\\n=======================================================\\nooooooooooo CL optimal val :  0.390727699\\n \\noooooooooooooooooooooooooooooooooooooooooooooooo\\ndiva3Dclop: determination of CL for level: 10003\\noooooooooooooooooooooooooooooooooooooooooooooooo\\n!!!!! diva3Dclop did not find coast.cont.10003 in divaparam/ !!!!!\\n!!!!! diva3Dclop did not find Temperature.19002009.0101.10003 in divadata/ !!!!!\\n!!!!!!!!!!!!!diva3Dclop WARNING: !!!!!!!!!!!!!!!!!!\\n!!!!!!!!!!!!!DID NOT FIND DATA FILE FOR Temperature.19002009.0101 10003!\\n!!!!!!!!!!!!!THE OPTIMISATION WAS NOT PERFORMED !\\n!!!!!!!!!!!!! !!!!!!!!!!!!!!!!!!!!!!!!!!!!!!!!!!!!!\\n`./output/Temperature.19002009.0101.CL.dat' -> `./input/divaparam/Temperature.19002009.0101.CL.dat.notfiltered'\\ndiva3Ddress:\\ndiva3Ddress: Running diva3Dsnop  (SN optimisation)\\ndiva3Ddress:  on Temperature.19002009.0101\\ndiva3Ddress: level 1 to level 3\\ndiva3Ddress:\\ndiva3Dsnop:\\ndiva3Dsnop: Start S/N estimation: \\ndiva3Dsnop: on Temperature.19002009.0101\\ndiva3Dsnop: level 1 to level 3\\ndiva3Dsnop:\\n//////////////////////////////////////////////////\\nCleaning up the mess\\n//////////////////////////////////////////////////\\n \\nMaking directories\\n \\nCleaning divawork and gnuwork directory\\n \\nCleaning meshgenwork directory\\n \\nCleaning output directory\\n \\nLooking for density file...\\n \\n... there is no density file\\n \\n--------------------\\nCleaning is finished\\n--------------------\\n \\n \\nooooooooooooooooooooooooooooooooooooooooooooooooooo\\ndiva3Dsnop: determination of SN for level: 10001\\nooooooooooooooooooooooooooooooooooooooooooooooooooo\\n>>SNop:  did not find reference field for Temperature.19002009.0101.10001  <<<<<<<< \\n//////////////////////////////////////////////////\\nMesh generation\\n//////////////////////////////////////////////////\\n \\nReading parameters\\n \\n \\n---------------\\nMesh is created\\n---------------\\n \\ndivagcv:///////////////////////////////////////////\\ndivagcv: Generalized Cross Validation\\ndivagcv:///////////////////////////////////////////\\n \\n \\ndivagcv:=============================================\\ndivagcv:Generalized Cross Validation with value 9.99999940E-02\\ndivagcv:=============================================\\n//////////////////////////////////////////////////\\nGoing to analyse a field\\n                                            \\nrunning divacalc with flag number for solver = 0\\n possible values are 0: direct skyline, 1: parallel skyline and 2: iterative sparse\\n//////////////////////////////////////////////////\\n \\n \\n--------------------\\nAnalysis is finished\\n--------------------\\n \\ndivagcv:=============================================\\ndivagcv:Generalized Cross Validation with value 0.174867854\\ndivagcv:=============================================\\n//////////////////////////////////////////////////\\nGoing to analyse a field\\n                                            \\nrunning divacalc with flag number for solver = 0\\n possible values are 0: direct skyline, 1: parallel skyline and 2: iterative sparse\\n//////////////////////////////////////////////////\\n \\n \\n--------------------\\nAnalysis is finished\\n--------------------\\n \\ndivagcv:=============================================\\ndivagcv:Generalized Cross Validation with value 0.305787683\\ndivagcv:=============================================\\n//////////////////////////////////////////////////\\nGoing to analyse a field\\n                                            \\nrunning divacalc with flag number for solver = 0\\n possible values are 0: direct skyline, 1: parallel skyline and 2: iterative sparse\\n//////////////////////////////////////////////////\\n \\n \\n--------------------\\nAnalysis is finished\\n--------------------\\n \\ndivagcv:=============================================\\ndivagcv:Generalized Cross Validation with value 0.534724355\\ndivagcv:=============================================\\n//////////////////////////////////////////////////\\nGoing to analyse a field\\n                                            \\nrunning divacalc with flag number for solver = 0\\n possible values are 0: direct skyline, 1: parallel skyline and 2: iterative sparse\\n//////////////////////////////////////////////////\\n \\n \\n--------------------\\nAnalysis is finished\\n--------------------\\n \\ndivagcv:=============================================\\ndivagcv:Generalized Cross Validation with value 0.935061038\\ndivagcv:=============================================\\n//////////////////////////////////////////////////\\nGoing to analyse a field\\n                                            \\nrunning divacalc with flag number for solver = 0\\n possible values are 0: direct skyline, 1: parallel skyline and 2: iterative sparse\\n//////////////////////////////////////////////////\\n \\n \\n--------------------\\nAnalysis is finished\\n--------------------\\n \\ndivagcv:=============================================\\ndivagcv:Generalized Cross Validation with value 1.63512146\\ndivagcv:=============================================\\n//////////////////////////////////////////////////\\nGoing to analyse a field\\n                                            \\nrunning divacalc with flag number for solver = 0\\n possible values are 0: direct skyline, 1: parallel skyline and 2: iterative sparse\\n//////////////////////////////////////////////////\\n \\n \\n--------------------\\nAnalysis is finished\\n--------------------\\n \\ndivagcv:=============================================\\ndivagcv:Generalized Cross Validation with value 2.85930157\\ndivagcv:=============================================\\n//////////////////////////////////////////////////\\nGoing to analyse a field\\n                                            \\nrunning divacalc with flag number for solver = 0\\n possible values are 0: direct skyline, 1: parallel skyline and 2: iterative sparse\\n//////////////////////////////////////////////////\\n \\n \\n--------------------\\nAnalysis is finished\\n--------------------\\n \\ndivagcv:=============================================\\ndivagcv:Generalized Cross Validation with value 5.00000000\\ndivagcv:=============================================\\n//////////////////////////////////////////////////\\nGoing to analyse a field\\n                                            \\nrunning divacalc with flag number for solver = 0\\n possible values are 0: direct skyline, 1: parallel skyline and 2: iterative sparse\\n//////////////////////////////////////////////////\\n \\n \\n--------------------\\nAnalysis is finished\\n--------------------\\n \\n----------------------------------------\\nGCV finished\\nEstimated value of SNR =  5.00000000\\nResults written in ./output/gcvsnvar.dat\\n----------------------------------------\\n%%%%%%%%% divagcv SN param: 5.00000000 for  Temperature.19002009.0101 10001\\nooooooooooo considered SN val =  5.00000000 and VARBAK =  2.69849992\\n \\n \\nooooooooooooooooooooooooooooooooooooooooooooooooooo\\ndiva3Dsnop: determination of SN for level: 10002\\nooooooooooooooooooooooooooooooooooooooooooooooooooo\\n>>SNop:  did not find reference field for Temperature.19002009.0101.10002  <<<<<<<< \\n//////////////////////////////////////////////////\\nMesh generation\\n//////////////////////////////////////////////////\\n \\nReading parameters\\n \\n \\n---------------\\nMesh is created\\n---------------\\n \\ndivagcv:///////////////////////////////////////////\\ndivagcv: Generalized Cross Validation\\ndivagcv:///////////////////////////////////////////\\n \\n \\ndivagcv:=============================================\\ndivagcv:Generalized Cross Validation with value 9.99999940E-02\\ndivagcv:=============================================\\n//////////////////////////////////////////////////\\nGoing to analyse a field\\n                                            \\nrunning divacalc with flag number for solver = 0\\n possible values are 0: direct skyline, 1: parallel skyline and 2: iterative sparse\\n//////////////////////////////////////////////////\\n \\n \\n--------------------\\nAnalysis is finished\\n--------------------\\n \\ndivagcv:=============================================\\ndivagcv:Generalized Cross Validation with value 0.174867854\\ndivagcv:=============================================\\n//////////////////////////////////////////////////\\nGoing to analyse a field\\n                                            \\nrunning divacalc with flag number for solver = 0\\n possible values are 0: direct skyline, 1: parallel skyline and 2: iterative sparse\\n//////////////////////////////////////////////////\\n \\n \\n--------------------\\nAnalysis is finished\\n--------------------\\n \\ndivagcv:=============================================\\ndivagcv:Generalized Cross Validation with value 0.305787683\\ndivagcv:=============================================\\n//////////////////////////////////////////////////\\nGoing to analyse a field\\n                                            \\nrunning divacalc with flag number for solver = 0\\n possible values are 0: direct skyline, 1: parallel skyline and 2: iterative sparse\\n//////////////////////////////////////////////////\\n \\n \\n--------------------\\nAnalysis is finished\\n--------------------\\n \\ndivagcv:=============================================\\ndivagcv:Generalized Cross Validation with value 0.534724355\\ndivagcv:=============================================\\n//////////////////////////////////////////////////\\nGoing to analyse a field\\n                                            \\nrunning divacalc with flag number for solver = 0\\n possible values are 0: direct skyline, 1: parallel skyline and 2: iterative sparse\\n//////////////////////////////////////////////////\\n \\n \\n--------------------\\nAnalysis is finished\\n--------------------\\n \\ndivagcv:=============================================\\ndivagcv:Generalized Cross Validation with value 0.935061038\\ndivagcv:=============================================\\n//////////////////////////////////////////////////\\nGoing to analyse a field\\n                                            \\nrunning divacalc with flag number for solver = 0\\n possible values are 0: direct skyline, 1: parallel skyline and 2: iterative sparse\\n//////////////////////////////////////////////////\\n \\n \\n--------------------\\nAnalysis is finished\\n--------------------\\n \\ndivagcv:=============================================\\ndivagcv:Generalized Cross Validation with value 1.63512146\\ndivagcv:=============================================\\n//////////////////////////////////////////////////\\nGoing to analyse a field\\n                                            \\nrunning divacalc with flag number for solver = 0\\n possible values are 0: direct skyline, 1: parallel skyline and 2: iterative sparse\\n//////////////////////////////////////////////////\\n \\n \\n--------------------\\nAnalysis is finished\\n--------------------\\n \\ndivagcv:=============================================\\ndivagcv:Generalized Cross Validation with value 2.85930157\\ndivagcv:=============================================\\n//////////////////////////////////////////////////\\nGoing to analyse a field\\n                                            \\nrunning divacalc with flag number for solver = 0\\n possible values are 0: direct skyline, 1: parallel skyline and 2: iterative sparse\\n//////////////////////////////////////////////////\\n \\n \\n--------------------\\nAnalysis is finished\\n--------------------\\n \\ndivagcv:=============================================\\ndivagcv:Generalized Cross Validation with value 5.00000000\\ndivagcv:=============================================\\n//////////////////////////////////////////////////\\nGoing to analyse a field\\n                                            \\nrunning divacalc with flag number for solver = 0\\n possible values are 0: direct skyline, 1: parallel skyline and 2: iterative sparse\\n//////////////////////////////////////////////////\\n \\n \\n--------------------\\nAnalysis is finished\\n--------------------\\n \\n----------------------------------------\\nGCV finished\\nEstimated value of SNR =  2.27805495\\nResults written in ./output/gcvsnvar.dat\\n----------------------------------------\\n%%%%%%%%% divagcv SN param: 2.27805495 for  Temperature.19002009.0101 10002\\nooooooooooo considered SN val =  2.27805495 and VARBAK =  2.57135129\\n \\n \\nooooooooooooooooooooooooooooooooooooooooooooooooooo\\ndiva3Dsnop: determination of SN for level: 10003\\nooooooooooooooooooooooooooooooooooooooooooooooooooo\\n!!!!! diva3Dsnop did not find coast.cont.10003 in divaparam/ !!!!!\\n!!!!! diva3Dsnop did not find Temperature.19002009.0101.10003 in divadata/ !!!!!\\n!!!!!!!!!!!!!diva3Dsnop WARNING: !!!!!!!!!!!!!!!!!!\\n!!!!!!!!!!!!!DID NOT FIND DATA FILE FOR Temperature.19002009.0101 10003!\\n!!!!!!!!!!!!!THE OPTIMISATION WAS NOT PERFORMED !\\n!!!!!!!!!!!!! !!!!!!!!!!!!!!!!!!!!!!!!!!!!!!!!!!!!!\\n`./output/Temperature.19002009.0101.SN.dat' -> `./input/divaparam/Temperature.19002009.0101.SN.dat.notfiltered'\\n`./output/Temperature.19002009.0101.VAR.dat' -> `./input/divaparam/Temperature.19002009.0101.VAR.dat.notfiltered'\\n`./input/divaparam/Temperature.19002009.0101.gcv.dat.10001' -> `./output/gcv.dat.10001'\\n`./input/divaparam/Temperature.19002009.0101.gcv.dat.10002' -> `./output/gcv.dat.10002'\\nlevel 1\\nlevel 2\\nlevel 3\\nCross validation points 5\\nlevel 1\\nLooking for the minimum of GCV\\n \\n \\n----------------------------------------\\nlevel 2\\nLooking for the minimum of GCV\\n \\n \\n----------------------------------------\\nlevel 3\\nLooking for the minimum of GCV\\n \\n \\n----------------------------------------\\n`./output/VAR.dat' -> `./output/Temperature.19002009.0101.VAR.dat'\\n`./output/Temperature.19002009.0101.SN.dat' -> `./input/divaparam/Temperature.19002009.0101.SN.dat.filtered'\\n`./output/Temperature.19002009.0101.VAR.dat' -> `./input/divaparam/Temperature.19002009.0101.VAR.dat.filtered'\\noooooooooooooooooooooooo\\ndiva3Dsnop: rewriting param.par.Temperature.19002009.0101.10001: SN = 0.262627214\\noooooooooooooooooooooooo\\noooooooooooooooooooooooo\\ndiva3Dsnop: rewriting param.par.Temperature.19002009.0101.10002: SN = 5.00000000\\noooooooooooooooooooooooo\\ndiva3Ddress:\\ndiva3Ddress: Running diva3Dsup  (3D analysis)\\ndiva3Ddress:  on Temperature.19002009.0101\\ndiva3Ddress: level 1 to level 3\\ndiva3Ddress:\\ndiva3Dsub:\\ndiva3Dsub: Start a 3D analysis flag number: 1\\ndiva3Dsub: on Temperature.19002009.0101\\ndiva3Dsub: level 1 to level 3\\ndiva3Dsub:\\nooooooooooooooooooooooooooooooooooo\\ndiva3Dsub: performing analysis for Temperature.19002009.0101.10001\\nooooooooooooooooooooooooooooooooooo\\n \\n=================== running dv3Drefoanl =================== \\n level:10001 var: Temperature.19002009.0101 isanalysis: 1 trend: 0\\n=========================================================== \\ndv3Drefoanl:\\ndv3Drefoanl: Start data analysis flag number: 1\\ndv3Drefoanl: on Temperature.19002009.0101.10001\\ndv3Drefoanl: >>>>>>>>>>>>>>>>>>>>>>>>>>>>>$gnpl $gmin $gmax 0 1 0\\ndv3Drefoanal: check on /output/ghertonetcdf?\\n./output/ghertonetcdf exists\\n \\n%%%%%%%%%%%%%%%%%%%%%%%%%%%%%%%%%%%%%%%%%%%%%%%%%%%%%%%%%%%%%%%%%%\\n%%%%%%%%%%%% running  analysis for Temperature.19002009.0101.10001\\n%%%%%%%%%%%%%%%%%%%%%%%%%%%%%%%%%%%%%%%%%%%%%%%%%%%%%%%%%%%%%%%%%%\\n \\n//////////////////////////////////////////////////\\nCleaning up the mess\\n//////////////////////////////////////////////////\\n \\nMaking directories\\n \\nCleaning divawork and gnuwork directory\\n \\nCleaning meshgenwork directory\\n \\nCleaning output directory\\n \\nLooking for density file...\\n \\n... there is no density file\\n \\n--------------------\\nCleaning is finished\\n--------------------\\n`./input/divamesh/meshtopo.10001' -> `./output/meshvisu/fort.22'\\n`./input/divamesh/mesh.dat.10001' -> `./output/meshvisu/fort.23'\\n`./input/divaparam/coast.cont.10001' -> `./output/meshvisu/fort.10'\\n//////////////////////////////////////////////////\\nGoing to analyse a field\\n                                            \\nrunning divacalc with flag number for solver = 0\\n possible values are 0: direct skyline, 1: parallel skyline and 2: iterative sparse\\n//////////////////////////////////////////////////\\n \\n \\n--------------------\\nAnalysis is finished\\n--------------------\\n \\n%%%%%%%%%%%% Finished  analysis for Temperature.19002009.0101.10001\\n%%%%%%%%%%%%%%%%%%%%%%%%%%%%%%%%%%%%%%%%%%%%%%%%%%%%%%%%%%%%%%%%%%\\n \\n \\n=============================================================\\nPreparing RL field based on data coverage\\nPreparing data density field DATABINS.dat\\n=============================================================\\n`./output/fieldgher.anl' -> `./divawork/fort.10'\\n`./output/ghertonetcdf/GridInfo.dat' -> `./divawork/fort.11'\\n`./input/data.dat' -> `./divawork/fort.40'\\n`./divawork/fort.11' -> `./output/RLinfo.dat'\\n`./divawork/fort.20' -> `./output/RL.dat'\\n`./divawork/fort.21' -> `./output/DATABINS.dat'\\n`./divawork/fort.11' -> `./output/DATABINSinfo.dat'\\n`./divawork/fort.33' -> `./output/meandistance.dat'\\n`./output/DATABINS.dat' -> `./input/divadata/Temperature.19002009.0101.10001.DATABINS'\\n`./output/DATABINSinfo.dat' -> `./input/divadata/Temperature.19002009.0101.10001.DATABINSinfo'\\n`./output/ghertonetcdf/results.nc' -> `./output/3Danalysis/Fields/Temperature.19002009.0101.10001.anl.nc'\\n`./output/ghertonetcdf/fort.84' -> `./output/3Danalysis/Fields/Temperature.19002009.0101.10001.anl'\\n`./output/ghertonetcdf/GridInfo.dat' -> `./output/3Danalysis/Fields/GridInfo.dat'\\n`./output/errorfieldgher.anl' -> `./output/3Danalysis/Fields/Temperature.19002009.0101.10001.error'\\n`./output/fieldascii.anl' -> `./output/3Danalysis/Fields/Temperature.19002009.0101.10001.ascii.anl'\\n`./output/errorfieldascii.anl' -> `./output/3Danalysis/Fields/Temperature.19002009.0101.10001.errorascii'\\n`./output/valatxyascii.anl' -> `./output/3Danalysis/Fields/Temperature.19002009.0101.10001.valatxyasc.anl'\\n`./output/fieldatdatapoint.anl' -> `./output/3Danalysis/Fields/Temperature.19002009.0101.10001.fieldatdatapoint.anl'\\n`./output/erroratxyascii.anl' -> `./output/3Danalysis/Fields/Temperature.19002009.0101.10001.erroratxyascii.anl'\\n`./output/fieldatdatapoint.anl' -> `./output/3Danalysis/Fields/Temperature.19002009.0101.10001.fieldatdatapoint.anl'\\n \\ndiva3Dsub:dv3Drefoanl finished with Temperature.19002009.0101.10001\\n \\nooooooooooooooooooooooooooooooooooo\\ndiva3Dsub: performing analysis for Temperature.19002009.0101.10002\\nooooooooooooooooooooooooooooooooooo\\n \\n=================== running dv3Drefoanl =================== \\n level:10002 var: Temperature.19002009.0101 isanalysis: 1 trend: 0\\n=========================================================== \\ndv3Drefoanl:\\ndv3Drefoanl: Start data analysis flag number: 1\\ndv3Drefoanl: on Temperature.19002009.0101.10002\\ndv3Drefoanl: >>>>>>>>>>>>>>>>>>>>>>>>>>>>>$gnpl $gmin $gmax 0 1 0\\ndv3Drefoanal: check on /output/ghertonetcdf?\\n./output/ghertonetcdf exists\\n \\n%%%%%%%%%%%%%%%%%%%%%%%%%%%%%%%%%%%%%%%%%%%%%%%%%%%%%%%%%%%%%%%%%%\\n%%%%%%%%%%%% running  analysis for Temperature.19002009.0101.10002\\n%%%%%%%%%%%%%%%%%%%%%%%%%%%%%%%%%%%%%%%%%%%%%%%%%%%%%%%%%%%%%%%%%%\\n \\n//////////////////////////////////////////////////\\nCleaning up the mess\\n//////////////////////////////////////////////////\\n \\nMaking directories\\n \\nCleaning divawork and gnuwork directory\\n \\nCleaning meshgenwork directory\\n \\nCleaning output directory\\n \\nLooking for density file...\\n \\n... there is no density file\\n \\n--------------------\\nCleaning is finished\\n--------------------\\n`./input/divamesh/meshtopo.10002' -> `./output/meshvisu/fort.22'\\n`./input/divamesh/mesh.dat.10002' -> `./output/meshvisu/fort.23'\\n`./input/divaparam/coast.cont.10002' -> `./output/meshvisu/fort.10'\\n//////////////////////////////////////////////////\\nGoing to analyse a field\\n                                            \\nrunning divacalc with flag number for solver = 0\\n possible values are 0: direct skyline, 1: parallel skyline and 2: iterative sparse\\n//////////////////////////////////////////////////\\n \\n \\n--------------------\\nAnalysis is finished\\n--------------------\\n \\n%%%%%%%%%%%% Finished  analysis for Temperature.19002009.0101.10002\\n%%%%%%%%%%%%%%%%%%%%%%%%%%%%%%%%%%%%%%%%%%%%%%%%%%%%%%%%%%%%%%%%%%\\n \\n \\n=============================================================\\nPreparing RL field based on data coverage\\nPreparing data density field DATABINS.dat\\n=============================================================\\n`./output/fieldgher.anl' -> `./divawork/fort.10'\\n`./output/ghertonetcdf/GridInfo.dat' -> `./divawork/fort.11'\\n`./input/data.dat' -> `./divawork/fort.40'\\n`./divawork/fort.11' -> `./output/RLinfo.dat'\\n`./divawork/fort.20' -> `./output/RL.dat'\\n`./divawork/fort.21' -> `./output/DATABINS.dat'\\n`./divawork/fort.11' -> `./output/DATABINSinfo.dat'\\n`./divawork/fort.33' -> `./output/meandistance.dat'\\n`./output/DATABINS.dat' -> `./input/divadata/Temperature.19002009.0101.10002.DATABINS'\\n`./output/DATABINSinfo.dat' -> `./input/divadata/Temperature.19002009.0101.10002.DATABINSinfo'\\n`./output/ghertonetcdf/results.nc' -> `./output/3Danalysis/Fields/Temperature.19002009.0101.10002.anl.nc'\\n`./output/ghertonetcdf/fort.84' -> `./output/3Danalysis/Fields/Temperature.19002009.0101.10002.anl'\\n`./output/ghertonetcdf/GridInfo.dat' -> `./output/3Danalysis/Fields/GridInfo.dat'\\n`./output/errorfieldgher.anl' -> `./output/3Danalysis/Fields/Temperature.19002009.0101.10002.error'\\n`./output/fieldascii.anl' -> `./output/3Danalysis/Fields/Temperature.19002009.0101.10002.ascii.anl'\\n`./output/errorfieldascii.anl' -> `./output/3Danalysis/Fields/Temperature.19002009.0101.10002.errorascii'\\n`./output/valatxyascii.anl' -> `./output/3Danalysis/Fields/Temperature.19002009.0101.10002.valatxyasc.anl'\\n`./output/fieldatdatapoint.anl' -> `./output/3Danalysis/Fields/Temperature.19002009.0101.10002.fieldatdatapoint.anl'\\n`./output/erroratxyascii.anl' -> `./output/3Danalysis/Fields/Temperature.19002009.0101.10002.erroratxyascii.anl'\\n`./output/fieldatdatapoint.anl' -> `./output/3Danalysis/Fields/Temperature.19002009.0101.10002.fieldatdatapoint.anl'\\n \\ndiva3Dsub:dv3Drefoanl finished with Temperature.19002009.0101.10002\\n \\nooooooooooooooooooooooooooooooooooo\\ndiva3Dsub: performing analysis for Temperature.19002009.0101.10003\\nooooooooooooooooooooooooooooooooooo\\n \\n=================== running dv3Drefoanl =================== \\n level:10003 var: Temperature.19002009.0101 isanalysis: 1 trend: 0\\n=========================================================== \\ndv3Drefoanl:\\ndv3Drefoanl: Start data analysis flag number: 1\\ndv3Drefoanl: on Temperature.19002009.0101.10003\\ndv3Drefoanl: >>>>>>>>>>>>>>>>>>>>>>>>>>>>>$gnpl $gmin $gmax 0 1 0\\ndv3Drefoanal: check on /output/ghertonetcdf?\\n./output/ghertonetcdf exists\\n!!!!! diva3Dsub did not find Temperature.19002009.0101.10003 in divadata/ !!!!!\\n!!!!! diva3Dsub did not find coast.cont.10003 in divaparam/ !!!!!\\n!!!!!!!!!!!!!diva3Dsub WARNING: !!!!!!!!!!!!!!!!!!\\n!!!!!!!!!!!!!DID NOT FIND CONTOUR FILE FOR Temperature.19002009.0101 10003!\\n!!!!!!!!!!!!!THE ANALYSIS WAS NOT PERFORMED !\\n!!!!!!!!!!!!! !!!!!!!!!!!!!!!!!!!!!!!!!!!!!!!!!!!!!\\n \\ndiva3Dsub:dv3Drefoanl finished with Temperature.19002009.0101.10003\\n \\ndivadoall:\\ndivadoall: ======================   Saving  results: ================\\ndivadoall:                       #####################\\ndivadoall:\\ndivadoall: ======================  Copying output/3Danalysis to climatology/output directory ======\\ndivadoall:\\n`../../DIVA3D/divastripped/output/diva.log' -> `/home/ctroupin/Software/DIVA/diva-4.7.1/JRA4/Climatology/output/3Danalysis/Temperature.19002009.0101.Fortran.log'\\ndivadoall:\\ndivadoall: ======================  Copying divastripped/input/ to climatology/newinput directory ======\\ndivadoall:\\ndivadoall: = Saving contour files to ./input/divaparam =======\\n             ====== for use in the following loops =============\\n`./newinput/divaparam/coast.cont.10001' -> `./input/divaparam/./coast.cont.10001'\\n`./newinput/divaparam/coast.cont.10002' -> `./input/divaparam/./coast.cont.10002'\\ndivadoall: ==================\\ndivadoall: first loop  0101\\ndivadoall: ==================\\ndivadoall: ==================\\ndivadoall: second loop  19002009\\ndivadoall: ==================\\ndivadoall: ======================= Starting analysis loop on :\\ndivadoall: =======================      variable     Salinity\\ndivadoall: =======================           year    19002009\\ndivadoall: =======================          month    0101\\ndivadoall: working on variable Salinity\\ndivadoall: 14\\ndivadoall: ======================  Checking levels data coverage ======\\ndivadoall: level 1 with data points 332\\ndivadoall: level 2 with data points 346\\ndivadoall: ======================  Finished checking data coverage ======\\ncontour for level 1 is present\\ncontour for level 2 is present\\nWARNING : some contour(s) file(s) absent\\nDiva will create these contours\\ndivadoall:\\ndivadoall: ======================  Cleaning DIVA working derectories ======\\ndivadoall:\\ndivadoall:\\ndivadoall: ======================  Copying inputs to DIVA working derectory ======\\ndivadoall:\\n`./input/topo.grd' -> `../../DIVA3D/divastripped/input/./topo.grd'\\n`./input/TopoInfo.dat' -> `../../DIVA3D/divastripped/input/./TopoInfo.dat'\\n`./input/param.par' -> `../../DIVA3D/divastripped/input/./param.par'\\n`./input/contour.depth' -> `../../DIVA3D/divastripped/input/./contour.depth'\\n`./input/param.par' -> `../../DIVA3D/divastripped/input/./param.par'\\n`./input/divaparam/coast.cont.10001' -> `../../DIVA3D/divastripped/input/divaparam/./coast.cont.10001'\\n`./input/divadata/Salinity.19002009.0101.10001' -> `../../DIVA3D/divastripped/input/divadata/./Salinity.19002009.0101.10001'\\n`./input/divaparam/coast.cont.10002' -> `../../DIVA3D/divastripped/input/divaparam/./coast.cont.10002'\\n`./input/divadata/Salinity.19002009.0101.10002' -> `../../DIVA3D/divastripped/input/divadata/./Salinity.19002009.0101.10002'\\ndivadoall:\\ndivadoall:  preparing 3Dinfo input file for 3D DIVA run for: Salinity 19002009 0101\\ndivadoall:\\ndivadoall:  input 3Dinfo file for diva3Ddress:\\ndivadoall:\\ndivadoall: Running diva3Ddress on Salinity 19002009 0101\\ndivadoall: ########################################\\ndivadoall:\\ndivadoall:\\ndivadoall:\\ndivadoall:\\ndiva3Ddress:\\ndiva3Ddress: Start run on Salinity.19002009.0101\\ndiva3Ddress: level 1 to level 3\\ndiva3Ddress:\\ndiva3Ddress:\\ndiva3Ddress: Running diva3Dcont (contour generation) \\ndiva3Ddress: on Salinity.19002009.0101\\ndiva3Ddress: level 1 to level 3\\ndiva3Ddress:\\ndiva3Dcont:\\ndiva3Dcont: Start contour generation flag number: 1\\ndiva3Dcont: on Salinity.19002009.0101\\ndiva3Dcont: level 1 to level 3\\ndiva3Dcont:\\n/////////////////////////////////\\nContour generation\\n/////////////////////////////////\\n \\n \\n   27.00000    \\n   40.00000    \\n  1.6666668E-02\\n  1.6666668E-02\\n         901\\n         481\\n \\n`./divawork/coast.cont' -> `./output/coast.cont'\\n`./divawork/coast.cont.10001' -> `./output/coast.cont.10001'\\n`./divawork/coast.cont.10002' -> `./output/coast.cont.10002'\\ndiva3Ddress:\\ndiva3Ddress: Running diva3Dclop  (CL optimisation)\\ndiva3Ddress:  on Salinity.19002009.0101\\ndiva3Ddress: level 1 to level 3\\ndiva3Ddress:\\ndiva3Dclop:\\ndiva3Dclop: Start CL estimation flag number: -30\\ndiva3Dclop: on Salinity.19002009.0101\\ndiva3Dclop: level 1 to level 3\\ndiva3Dclop:\\n//////////////////////////////////////////////////\\nCleaning up the mess\\n//////////////////////////////////////////////////\\n \\nMaking directories\\n \\nCleaning divawork and gnuwork directory\\n \\nCleaning meshgenwork directory\\n \\nCleaning output directory\\n \\nLooking for density file...\\n \\n... there is no density file\\n \\n--------------------\\nCleaning is finished\\n--------------------\\n \\noooooooooooooooooooooooooooooooooooooooooooooooo\\ndiva3Dclop: determination of CL for level: 10001\\noooooooooooooooooooooooooooooooooooooooooooooooo\\n>>>>>>>>>>>> did not find reference field for Salinity.19002009.0101.10001  <<<<<<<< \\n//////////////////////////////////////////////////\\nMesh generation\\n//////////////////////////////////////////////////\\n \\nReading parameters\\n \\n \\n---------------\\nMesh is created\\n---------------\\n \\n`./output/meshvisu/fort.22' -> `./input/divamesh/meshtopo.10001'\\n`./output/meshvisu/fort.23' -> `./input/divamesh/mesh.dat.10001'\\n`./output/meshvisu/fort.10' -> `./input/divaparam/coast.cont.10001'\\n \\n=============================================================\\nPreparing RL field based on data coverage\\nPreparing data density field DATABINS.dat\\n=============================================================\\ncreating a mesh\\ndivadatacoverage: using mesh found in ./output/meshvisu\\n//////////////////////////////////////////////////\\nGoing to analyse a field\\n                                            \\nrunning divacalc with flag number for solver = 0\\n possible values are 0: direct skyline, 1: parallel skyline and 2: iterative sparse\\n//////////////////////////////////////////////////\\n \\n \\n--------------------\\nAnalysis is finished\\n--------------------\\n`./output/fieldgher.anl' -> `./divawork/fort.10'\\n`./output/ghertonetcdf/GridInfo.dat' -> `./divawork/fort.11'\\n`./input/data.dat' -> `./divawork/fort.40'\\n`./divawork/fort.11' -> `./output/RLinfo.dat'\\n`./divawork/fort.20' -> `./output/RL.dat'\\n`./divawork/fort.21' -> `./output/DATABINS.dat'\\n`./divawork/fort.11' -> `./output/DATABINSinfo.dat'\\n`./divawork/fort.33' -> `./output/meandistance.dat'\\n////////////////////////////////////////\\nFitting of the covariance function\\n////////////////////////////////////////\\n \\nGoing to fit covariance function\\n \\n-------------------------------------------------------------\\nFinished fitting\\nEstimated correlation length L =  0.790022731\\nFiles created : covariancefit.dat covariance.dat paramfit.dat\\n-------------------------------------------------------------\\n=======================================================\\nReplacing param file with fit\\n`./input/param.par' -> `./input/param.par.old'\\n`./output/param.par.fit' -> `./input/param.par'\\n=======================================================\\nooooooooooo CL optimal val :  0.790022731\\n \\noooooooooooooooooooooooooooooooooooooooooooooooo\\ndiva3Dclop: determination of CL for level: 10002\\noooooooooooooooooooooooooooooooooooooooooooooooo\\n>>>>>>>>>>>> did not find reference field for Salinity.19002009.0101.10002  <<<<<<<< \\n//////////////////////////////////////////////////\\nMesh generation\\n//////////////////////////////////////////////////\\n \\nReading parameters\\n \\n \\n---------------\\nMesh is created\\n---------------\\n \\n`./output/meshvisu/fort.22' -> `./input/divamesh/meshtopo.10002'\\n`./output/meshvisu/fort.23' -> `./input/divamesh/mesh.dat.10002'\\n`./output/meshvisu/fort.10' -> `./input/divaparam/coast.cont.10002'\\n \\n=============================================================\\nPreparing RL field based on data coverage\\nPreparing data density field DATABINS.dat\\n=============================================================\\ncreating a mesh\\ndivadatacoverage: using mesh found in ./output/meshvisu\\n//////////////////////////////////////////////////\\nGoing to analyse a field\\n                                            \\nrunning divacalc with flag number for solver = 0\\n possible values are 0: direct skyline, 1: parallel skyline and 2: iterative sparse\\n//////////////////////////////////////////////////\\n \\n \\n--------------------\\nAnalysis is finished\\n--------------------\\n`./output/fieldgher.anl' -> `./divawork/fort.10'\\n`./output/ghertonetcdf/GridInfo.dat' -> `./divawork/fort.11'\\n`./input/data.dat' -> `./divawork/fort.40'\\n`./divawork/fort.11' -> `./output/RLinfo.dat'\\n`./divawork/fort.20' -> `./output/RL.dat'\\n`./divawork/fort.21' -> `./output/DATABINS.dat'\\n`./divawork/fort.11' -> `./output/DATABINSinfo.dat'\\n`./divawork/fort.33' -> `./output/meandistance.dat'\\n////////////////////////////////////////\\nFitting of the covariance function\\n////////////////////////////////////////\\n \\nGoing to fit covariance function\\n \\n-------------------------------------------------------------\\nFinished fitting\\nEstimated correlation length L =  0.317725509\\nFiles created : covariancefit.dat covariance.dat paramfit.dat\\n-------------------------------------------------------------\\n=======================================================\\nReplacing param file with fit\\n`./input/param.par' -> `./input/param.par.old'\\n`./output/param.par.fit' -> `./input/param.par'\\n=======================================================\\nooooooooooo CL optimal val :  0.39736174028131988\\n \\noooooooooooooooooooooooooooooooooooooooooooooooo\\ndiva3Dclop: determination of CL for level: 10003\\noooooooooooooooooooooooooooooooooooooooooooooooo\\n!!!!! diva3Dclop did not find coast.cont.10003 in divaparam/ !!!!!\\n!!!!! diva3Dclop did not find Salinity.19002009.0101.10003 in divadata/ !!!!!\\n!!!!!!!!!!!!!diva3Dclop WARNING: !!!!!!!!!!!!!!!!!!\\n!!!!!!!!!!!!!DID NOT FIND DATA FILE FOR Salinity.19002009.0101 10003!\\n!!!!!!!!!!!!!THE OPTIMISATION WAS NOT PERFORMED !\\n!!!!!!!!!!!!! !!!!!!!!!!!!!!!!!!!!!!!!!!!!!!!!!!!!!\\n`./output/Salinity.19002009.0101.CL.dat' -> `./input/divaparam/Salinity.19002009.0101.CL.dat.notfiltered'\\ndiva3Ddress:\\ndiva3Ddress: Running diva3Dsnop  (SN optimisation)\\ndiva3Ddress:  on Salinity.19002009.0101\\ndiva3Ddress: level 1 to level 3\\ndiva3Ddress:\\ndiva3Dsnop:\\ndiva3Dsnop: Start S/N estimation: \\ndiva3Dsnop: on Salinity.19002009.0101\\ndiva3Dsnop: level 1 to level 3\\ndiva3Dsnop:\\n//////////////////////////////////////////////////\\nCleaning up the mess\\n//////////////////////////////////////////////////\\n \\nMaking directories\\n \\nCleaning divawork and gnuwork directory\\n \\nCleaning meshgenwork directory\\n \\nCleaning output directory\\n \\nLooking for density file...\\n \\n... there is no density file\\n \\n--------------------\\nCleaning is finished\\n--------------------\\n \\n \\nooooooooooooooooooooooooooooooooooooooooooooooooooo\\ndiva3Dsnop: determination of SN for level: 10001\\nooooooooooooooooooooooooooooooooooooooooooooooooooo\\n>>SNop:  did not find reference field for Salinity.19002009.0101.10001  <<<<<<<< \\n//////////////////////////////////////////////////\\nMesh generation\\n//////////////////////////////////////////////////\\n \\nReading parameters\\n \\n \\n---------------\\nMesh is created\\n---------------\\n \\ndivagcv:///////////////////////////////////////////\\ndivagcv: Generalized Cross Validation\\ndivagcv:///////////////////////////////////////////\\n \\n \\ndivagcv:=============================================\\ndivagcv:Generalized Cross Validation with value 9.99999940E-02\\ndivagcv:=============================================\\n//////////////////////////////////////////////////\\nGoing to analyse a field\\n                                            \\nrunning divacalc with flag number for solver = 0\\n possible values are 0: direct skyline, 1: parallel skyline and 2: iterative sparse\\n//////////////////////////////////////////////////\\n \\n \\n--------------------\\nAnalysis is finished\\n--------------------\\n \\ndivagcv:=============================================\\ndivagcv:Generalized Cross Validation with value 0.174867854\\ndivagcv:=============================================\\n//////////////////////////////////////////////////\\nGoing to analyse a field\\n                                            \\nrunning divacalc with flag number for solver = 0\\n possible values are 0: direct skyline, 1: parallel skyline and 2: iterative sparse\\n//////////////////////////////////////////////////\\n \\n \\n--------------------\\nAnalysis is finished\\n--------------------\\n \\ndivagcv:=============================================\\ndivagcv:Generalized Cross Validation with value 0.305787683\\ndivagcv:=============================================\\n//////////////////////////////////////////////////\\nGoing to analyse a field\\n                                            \\nrunning divacalc with flag number for solver = 0\\n possible values are 0: direct skyline, 1: parallel skyline and 2: iterative sparse\\n//////////////////////////////////////////////////\\n \\n \\n--------------------\\nAnalysis is finished\\n--------------------\\n \\ndivagcv:=============================================\\ndivagcv:Generalized Cross Validation with value 0.534724355\\ndivagcv:=============================================\\n//////////////////////////////////////////////////\\nGoing to analyse a field\\n                                            \\nrunning divacalc with flag number for solver = 0\\n possible values are 0: direct skyline, 1: parallel skyline and 2: iterative sparse\\n//////////////////////////////////////////////////\\n \\n \\n--------------------\\nAnalysis is finished\\n--------------------\\n \\ndivagcv:=============================================\\ndivagcv:Generalized Cross Validation with value 0.935061038\\ndivagcv:=============================================\\n//////////////////////////////////////////////////\\nGoing to analyse a field\\n                                            \\nrunning divacalc with flag number for solver = 0\\n possible values are 0: direct skyline, 1: parallel skyline and 2: iterative sparse\\n//////////////////////////////////////////////////\\n \\n \\n--------------------\\nAnalysis is finished\\n--------------------\\n \\ndivagcv:=============================================\\ndivagcv:Generalized Cross Validation with value 1.63512146\\ndivagcv:=============================================\\n//////////////////////////////////////////////////\\nGoing to analyse a field\\n                                            \\nrunning divacalc with flag number for solver = 0\\n possible values are 0: direct skyline, 1: parallel skyline and 2: iterative sparse\\n//////////////////////////////////////////////////\\n \\n \\n--------------------\\nAnalysis is finished\\n--------------------\\n \\ndivagcv:=============================================\\ndivagcv:Generalized Cross Validation with value 2.85930157\\ndivagcv:=============================================\\n//////////////////////////////////////////////////\\nGoing to analyse a field\\n                                            \\nrunning divacalc with flag number for solver = 0\\n possible values are 0: direct skyline, 1: parallel skyline and 2: iterative sparse\\n//////////////////////////////////////////////////\\n \\n \\n--------------------\\nAnalysis is finished\\n--------------------\\n \\ndivagcv:=============================================\\ndivagcv:Generalized Cross Validation with value 5.00000000\\ndivagcv:=============================================\\n//////////////////////////////////////////////////\\nGoing to analyse a field\\n                                            \\nrunning divacalc with flag number for solver = 0\\n possible values are 0: direct skyline, 1: parallel skyline and 2: iterative sparse\\n//////////////////////////////////////////////////\\n \\n \\n--------------------\\nAnalysis is finished\\n--------------------\\n \\n----------------------------------------\\nGCV finished\\nEstimated value of SNR =  0.762155592\\nResults written in ./output/gcvsnvar.dat\\n----------------------------------------\\n%%%%%%%%% divagcv SN param: 0.762155592 for  Salinity.19002009.0101 10001\\nooooooooooo considered SN val =  0.762155592 and VARBAK =  3.05877682E-02\\n \\n \\nooooooooooooooooooooooooooooooooooooooooooooooooooo\\ndiva3Dsnop: determination of SN for level: 10002\\nooooooooooooooooooooooooooooooooooooooooooooooooooo\\n>>SNop:  did not find reference field for Salinity.19002009.0101.10002  <<<<<<<< \\n//////////////////////////////////////////////////\\nMesh generation\\n//////////////////////////////////////////////////\\n \\nReading parameters\\n \\n \\n---------------\\nMesh is created\\n---------------\\n \\ndivagcv:///////////////////////////////////////////\\ndivagcv: Generalized Cross Validation\\ndivagcv:///////////////////////////////////////////\\n \\n \\ndivagcv:=============================================\\ndivagcv:Generalized Cross Validation with value 9.99999940E-02\\ndivagcv:=============================================\\n//////////////////////////////////////////////////\\nGoing to analyse a field\\n                                            \\nrunning divacalc with flag number for solver = 0\\n possible values are 0: direct skyline, 1: parallel skyline and 2: iterative sparse\\n//////////////////////////////////////////////////\\n \\n \\n--------------------\\nAnalysis is finished\\n--------------------\\n \\ndivagcv:=============================================\\ndivagcv:Generalized Cross Validation with value 0.174867854\\ndivagcv:=============================================\\n//////////////////////////////////////////////////\\nGoing to analyse a field\\n                                            \\nrunning divacalc with flag number for solver = 0\\n possible values are 0: direct skyline, 1: parallel skyline and 2: iterative sparse\\n//////////////////////////////////////////////////\\n \\n \\n--------------------\\nAnalysis is finished\\n--------------------\\n \\ndivagcv:=============================================\\ndivagcv:Generalized Cross Validation with value 0.305787683\\ndivagcv:=============================================\\n//////////////////////////////////////////////////\\nGoing to analyse a field\\n                                            \\nrunning divacalc with flag number for solver = 0\\n possible values are 0: direct skyline, 1: parallel skyline and 2: iterative sparse\\n//////////////////////////////////////////////////\\n \\n \\n--------------------\\nAnalysis is finished\\n--------------------\\n \\ndivagcv:=============================================\\ndivagcv:Generalized Cross Validation with value 0.534724355\\ndivagcv:=============================================\\n//////////////////////////////////////////////////\\nGoing to analyse a field\\n                                            \\nrunning divacalc with flag number for solver = 0\\n possible values are 0: direct skyline, 1: parallel skyline and 2: iterative sparse\\n//////////////////////////////////////////////////\\n \\n \\n--------------------\\nAnalysis is finished\\n--------------------\\n \\ndivagcv:=============================================\\ndivagcv:Generalized Cross Validation with value 0.935061038\\ndivagcv:=============================================\\n//////////////////////////////////////////////////\\nGoing to analyse a field\\n                                            \\nrunning divacalc with flag number for solver = 0\\n possible values are 0: direct skyline, 1: parallel skyline and 2: iterative sparse\\n//////////////////////////////////////////////////\\n \\n \\n--------------------\\nAnalysis is finished\\n--------------------\\n \\ndivagcv:=============================================\\ndivagcv:Generalized Cross Validation with value 1.63512146\\ndivagcv:=============================================\\n//////////////////////////////////////////////////\\nGoing to analyse a field\\n                                            \\nrunning divacalc with flag number for solver = 0\\n possible values are 0: direct skyline, 1: parallel skyline and 2: iterative sparse\\n//////////////////////////////////////////////////\\n \\n \\n--------------------\\nAnalysis is finished\\n--------------------\\n \\ndivagcv:=============================================\\ndivagcv:Generalized Cross Validation with value 2.85930157\\ndivagcv:=============================================\\n//////////////////////////////////////////////////\\nGoing to analyse a field\\n                                            \\nrunning divacalc with flag number for solver = 0\\n possible values are 0: direct skyline, 1: parallel skyline and 2: iterative sparse\\n//////////////////////////////////////////////////\\n \\n \\n--------------------\\nAnalysis is finished\\n--------------------\\n \\ndivagcv:=============================================\\ndivagcv:Generalized Cross Validation with value 5.00000000\\ndivagcv:=============================================\\n//////////////////////////////////////////////////\\nGoing to analyse a field\\n                                            \\nrunning divacalc with flag number for solver = 0\\n possible values are 0: direct skyline, 1: parallel skyline and 2: iterative sparse\\n//////////////////////////////////////////////////\\n \\n \\n--------------------\\nAnalysis is finished\\n--------------------\\n \\n----------------------------------------\\nGCV finished\\nEstimated value of SNR =  2.73517179\\nResults written in ./output/gcvsnvar.dat\\n----------------------------------------\\n%%%%%%%%% divagcv SN param: 2.73517179 for  Salinity.19002009.0101 10002\\nooooooooooo considered SN val =  2.73517179 and VARBAK =  2.33727455\\nWARNING : SN could be too low\\n \\n \\nooooooooooooooooooooooooooooooooooooooooooooooooooo\\ndiva3Dsnop: determination of SN for level: 10003\\nooooooooooooooooooooooooooooooooooooooooooooooooooo\\n!!!!! diva3Dsnop did not find coast.cont.10003 in divaparam/ !!!!!\\n!!!!! diva3Dsnop did not find Salinity.19002009.0101.10003 in divadata/ !!!!!\\n!!!!!!!!!!!!!diva3Dsnop WARNING: !!!!!!!!!!!!!!!!!!\\n!!!!!!!!!!!!!DID NOT FIND DATA FILE FOR Salinity.19002009.0101 10003!\\n!!!!!!!!!!!!!THE OPTIMISATION WAS NOT PERFORMED !\\n!!!!!!!!!!!!! !!!!!!!!!!!!!!!!!!!!!!!!!!!!!!!!!!!!!\\nWARNING : SN could be too low\\n`./output/Salinity.19002009.0101.SN.dat' -> `./input/divaparam/Salinity.19002009.0101.SN.dat.notfiltered'\\n`./output/Salinity.19002009.0101.VAR.dat' -> `./input/divaparam/Salinity.19002009.0101.VAR.dat.notfiltered'\\n`./input/divaparam/Salinity.19002009.0101.gcv.dat.10001' -> `./output/gcv.dat.10001'\\n`./input/divaparam/Salinity.19002009.0101.gcv.dat.10002' -> `./output/gcv.dat.10002'\\nlevel 1\\nlevel 2\\nlevel 3\\nCross validation points 5\\nlevel 1\\nLooking for the minimum of GCV\\n \\n \\n----------------------------------------\\nlevel 2\\nLooking for the minimum of GCV\\n \\n \\n----------------------------------------\\nlevel 3\\nLooking for the minimum of GCV\\n \\n \\n----------------------------------------\\n`./output/VAR.dat' -> `./output/Salinity.19002009.0101.VAR.dat'\\n`./output/Salinity.19002009.0101.SN.dat' -> `./input/divaparam/Salinity.19002009.0101.SN.dat.filtered'\\n`./output/Salinity.19002009.0101.VAR.dat' -> `./input/divaparam/Salinity.19002009.0101.VAR.dat.filtered'\\noooooooooooooooooooooooo\\ndiva3Dsnop: rewriting param.par.Salinity.19002009.0101.10001: SN = 0.232237756\\noooooooooooooooooooooooo\\noooooooooooooooooooooooo\\ndiva3Dsnop: rewriting param.par.Salinity.19002009.0101.10002: SN = 5.00000000\\noooooooooooooooooooooooo\\ndiva3Ddress:\\ndiva3Ddress: Running diva3Dsup  (3D analysis)\\ndiva3Ddress:  on Salinity.19002009.0101\\ndiva3Ddress: level 1 to level 3\\ndiva3Ddress:\\ndiva3Dsub:\\ndiva3Dsub: Start a 3D analysis flag number: 1\\ndiva3Dsub: on Salinity.19002009.0101\\ndiva3Dsub: level 1 to level 3\\ndiva3Dsub:\\nooooooooooooooooooooooooooooooooooo\\ndiva3Dsub: performing analysis for Salinity.19002009.0101.10001\\nooooooooooooooooooooooooooooooooooo\\n \\n=================== running dv3Drefoanl =================== \\n level:10001 var: Salinity.19002009.0101 isanalysis: 1 trend: 0\\n=========================================================== \\ndv3Drefoanl:\\ndv3Drefoanl: Start data analysis flag number: 1\\ndv3Drefoanl: on Salinity.19002009.0101.10001\\ndv3Drefoanl: >>>>>>>>>>>>>>>>>>>>>>>>>>>>>$gnpl $gmin $gmax 0 1 0\\ndv3Drefoanal: check on /output/ghertonetcdf?\\n./output/ghertonetcdf exists\\n \\n%%%%%%%%%%%%%%%%%%%%%%%%%%%%%%%%%%%%%%%%%%%%%%%%%%%%%%%%%%%%%%%%%%\\n%%%%%%%%%%%% running  analysis for Salinity.19002009.0101.10001\\n%%%%%%%%%%%%%%%%%%%%%%%%%%%%%%%%%%%%%%%%%%%%%%%%%%%%%%%%%%%%%%%%%%\\n \\n//////////////////////////////////////////////////\\nCleaning up the mess\\n//////////////////////////////////////////////////\\n \\nMaking directories\\n \\nCleaning divawork and gnuwork directory\\n \\nCleaning meshgenwork directory\\n \\nCleaning output directory\\n \\nLooking for density file...\\n \\n... there is no density file\\n \\n--------------------\\nCleaning is finished\\n--------------------\\n`./input/divamesh/meshtopo.10001' -> `./output/meshvisu/fort.22'\\n`./input/divamesh/mesh.dat.10001' -> `./output/meshvisu/fort.23'\\n`./input/divaparam/coast.cont.10001' -> `./output/meshvisu/fort.10'\\n//////////////////////////////////////////////////\\nGoing to analyse a field\\n                                            \\nrunning divacalc with flag number for solver = 0\\n possible values are 0: direct skyline, 1: parallel skyline and 2: iterative sparse\\n//////////////////////////////////////////////////\\n \\n \\n--------------------\\nAnalysis is finished\\n--------------------\\n \\n%%%%%%%%%%%% Finished  analysis for Salinity.19002009.0101.10001\\n%%%%%%%%%%%%%%%%%%%%%%%%%%%%%%%%%%%%%%%%%%%%%%%%%%%%%%%%%%%%%%%%%%\\n \\n \\n=============================================================\\nPreparing RL field based on data coverage\\nPreparing data density field DATABINS.dat\\n=============================================================\\n`./output/fieldgher.anl' -> `./divawork/fort.10'\\n`./output/ghertonetcdf/GridInfo.dat' -> `./divawork/fort.11'\\n`./input/data.dat' -> `./divawork/fort.40'\\n`./divawork/fort.11' -> `./output/RLinfo.dat'\\n`./divawork/fort.20' -> `./output/RL.dat'\\n`./divawork/fort.21' -> `./output/DATABINS.dat'\\n`./divawork/fort.11' -> `./output/DATABINSinfo.dat'\\n`./divawork/fort.33' -> `./output/meandistance.dat'\\n`./output/DATABINS.dat' -> `./input/divadata/Salinity.19002009.0101.10001.DATABINS'\\n`./output/DATABINSinfo.dat' -> `./input/divadata/Salinity.19002009.0101.10001.DATABINSinfo'\\n`./output/ghertonetcdf/results.nc' -> `./output/3Danalysis/Fields/Salinity.19002009.0101.10001.anl.nc'\\n`./output/ghertonetcdf/fort.84' -> `./output/3Danalysis/Fields/Salinity.19002009.0101.10001.anl'\\n`./output/ghertonetcdf/GridInfo.dat' -> `./output/3Danalysis/Fields/GridInfo.dat'\\n`./output/errorfieldgher.anl' -> `./output/3Danalysis/Fields/Salinity.19002009.0101.10001.error'\\n`./output/fieldascii.anl' -> `./output/3Danalysis/Fields/Salinity.19002009.0101.10001.ascii.anl'\\n`./output/errorfieldascii.anl' -> `./output/3Danalysis/Fields/Salinity.19002009.0101.10001.errorascii'\\n`./output/valatxyascii.anl' -> `./output/3Danalysis/Fields/Salinity.19002009.0101.10001.valatxyasc.anl'\\n`./output/fieldatdatapoint.anl' -> `./output/3Danalysis/Fields/Salinity.19002009.0101.10001.fieldatdatapoint.anl'\\n`./output/erroratxyascii.anl' -> `./output/3Danalysis/Fields/Salinity.19002009.0101.10001.erroratxyascii.anl'\\n`./output/fieldatdatapoint.anl' -> `./output/3Danalysis/Fields/Salinity.19002009.0101.10001.fieldatdatapoint.anl'\\n \\ndiva3Dsub:dv3Drefoanl finished with Salinity.19002009.0101.10001\\n \\nooooooooooooooooooooooooooooooooooo\\ndiva3Dsub: performing analysis for Salinity.19002009.0101.10002\\nooooooooooooooooooooooooooooooooooo\\n \\n=================== running dv3Drefoanl =================== \\n level:10002 var: Salinity.19002009.0101 isanalysis: 1 trend: 0\\n=========================================================== \\ndv3Drefoanl:\\ndv3Drefoanl: Start data analysis flag number: 1\\ndv3Drefoanl: on Salinity.19002009.0101.10002\\ndv3Drefoanl: >>>>>>>>>>>>>>>>>>>>>>>>>>>>>$gnpl $gmin $gmax 0 1 0\\ndv3Drefoanal: check on /output/ghertonetcdf?\\n./output/ghertonetcdf exists\\n \\n%%%%%%%%%%%%%%%%%%%%%%%%%%%%%%%%%%%%%%%%%%%%%%%%%%%%%%%%%%%%%%%%%%\\n%%%%%%%%%%%% running  analysis for Salinity.19002009.0101.10002\\n%%%%%%%%%%%%%%%%%%%%%%%%%%%%%%%%%%%%%%%%%%%%%%%%%%%%%%%%%%%%%%%%%%\\n \\n//////////////////////////////////////////////////\\nCleaning up the mess\\n//////////////////////////////////////////////////\\n \\nMaking directories\\n \\nCleaning divawork and gnuwork directory\\n \\nCleaning meshgenwork directory\\n \\nCleaning output directory\\n \\nLooking for density file...\\n \\n... there is no density file\\n \\n--------------------\\nCleaning is finished\\n--------------------\\n`./input/divamesh/meshtopo.10002' -> `./output/meshvisu/fort.22'\\n`./input/divamesh/mesh.dat.10002' -> `./output/meshvisu/fort.23'\\n`./input/divaparam/coast.cont.10002' -> `./output/meshvisu/fort.10'\\n//////////////////////////////////////////////////\\nGoing to analyse a field\\n                                            \\nrunning divacalc with flag number for solver = 0\\n possible values are 0: direct skyline, 1: parallel skyline and 2: iterative sparse\\n//////////////////////////////////////////////////\\n \\n \\n--------------------\\nAnalysis is finished\\n--------------------\\n \\n%%%%%%%%%%%% Finished  analysis for Salinity.19002009.0101.10002\\n%%%%%%%%%%%%%%%%%%%%%%%%%%%%%%%%%%%%%%%%%%%%%%%%%%%%%%%%%%%%%%%%%%\\n \\n \\n=============================================================\\nPreparing RL field based on data coverage\\nPreparing data density field DATABINS.dat\\n=============================================================\\n`./output/fieldgher.anl' -> `./divawork/fort.10'\\n`./output/ghertonetcdf/GridInfo.dat' -> `./divawork/fort.11'\\n`./input/data.dat' -> `./divawork/fort.40'\\n`./divawork/fort.11' -> `./output/RLinfo.dat'\\n`./divawork/fort.20' -> `./output/RL.dat'\\n`./divawork/fort.21' -> `./output/DATABINS.dat'\\n`./divawork/fort.11' -> `./output/DATABINSinfo.dat'\\n`./divawork/fort.33' -> `./output/meandistance.dat'\\n`./output/DATABINS.dat' -> `./input/divadata/Salinity.19002009.0101.10002.DATABINS'\\n`./output/DATABINSinfo.dat' -> `./input/divadata/Salinity.19002009.0101.10002.DATABINSinfo'\\n`./output/ghertonetcdf/results.nc' -> `./output/3Danalysis/Fields/Salinity.19002009.0101.10002.anl.nc'\\n`./output/ghertonetcdf/fort.84' -> `./output/3Danalysis/Fields/Salinity.19002009.0101.10002.anl'\\n`./output/ghertonetcdf/GridInfo.dat' -> `./output/3Danalysis/Fields/GridInfo.dat'\\n`./output/errorfieldgher.anl' -> `./output/3Danalysis/Fields/Salinity.19002009.0101.10002.error'\\n`./output/fieldascii.anl' -> `./output/3Danalysis/Fields/Salinity.19002009.0101.10002.ascii.anl'\\n`./output/errorfieldascii.anl' -> `./output/3Danalysis/Fields/Salinity.19002009.0101.10002.errorascii'\\n`./output/valatxyascii.anl' -> `./output/3Danalysis/Fields/Salinity.19002009.0101.10002.valatxyasc.anl'\\n`./output/fieldatdatapoint.anl' -> `./output/3Danalysis/Fields/Salinity.19002009.0101.10002.fieldatdatapoint.anl'\\n`./output/erroratxyascii.anl' -> `./output/3Danalysis/Fields/Salinity.19002009.0101.10002.erroratxyascii.anl'\\n`./output/fieldatdatapoint.anl' -> `./output/3Danalysis/Fields/Salinity.19002009.0101.10002.fieldatdatapoint.anl'\\n \\ndiva3Dsub:dv3Drefoanl finished with Salinity.19002009.0101.10002\\n \\nooooooooooooooooooooooooooooooooooo\\ndiva3Dsub: performing analysis for Salinity.19002009.0101.10003\\nooooooooooooooooooooooooooooooooooo\\n \\n=================== running dv3Drefoanl =================== \\n level:10003 var: Salinity.19002009.0101 isanalysis: 1 trend: 0\\n=========================================================== \\ndv3Drefoanl:\\ndv3Drefoanl: Start data analysis flag number: 1\\ndv3Drefoanl: on Salinity.19002009.0101.10003\\ndv3Drefoanl: >>>>>>>>>>>>>>>>>>>>>>>>>>>>>$gnpl $gmin $gmax 0 1 0\\ndv3Drefoanal: check on /output/ghertonetcdf?\\n./output/ghertonetcdf exists\\n!!!!! diva3Dsub did not find Salinity.19002009.0101.10003 in divadata/ !!!!!\\n!!!!! diva3Dsub did not find coast.cont.10003 in divaparam/ !!!!!\\n!!!!!!!!!!!!!diva3Dsub WARNING: !!!!!!!!!!!!!!!!!!\\n!!!!!!!!!!!!!DID NOT FIND CONTOUR FILE FOR Salinity.19002009.0101 10003!\\n!!!!!!!!!!!!!THE ANALYSIS WAS NOT PERFORMED !\\n!!!!!!!!!!!!! !!!!!!!!!!!!!!!!!!!!!!!!!!!!!!!!!!!!!\\n \\ndiva3Dsub:dv3Drefoanl finished with Salinity.19002009.0101.10003\\n \\ndivadoall:\\ndivadoall: ======================   Saving  results: ================\\ndivadoall:                       #####################\\ndivadoall:\\ndivadoall: ======================  Copying output/3Danalysis to climatology/output directory ======\\ndivadoall:\\n`../../DIVA3D/divastripped/output/diva.log' -> `/home/ctroupin/Software/DIVA/diva-4.7.1/JRA4/Climatology/output/3Danalysis/Salinity.19002009.0101.Fortran.log'\\ndivadoall:\\ndivadoall: ======================  Copying divastripped/input/ to climatology/newinput directory ======\\ndivadoall:\\ndivadoall: = Saving contour files to ./input/divaparam =======\\n             ====== for use in the following loops =============\\n`./newinput/divaparam/coast.cont.10001' -> `./input/divaparam/./coast.cont.10001'\\n`./newinput/divaparam/coast.cont.10002' -> `./input/divaparam/./coast.cont.10002'\\ndivadoall: ==================\\ndivadoall: first loop  0101\\ndivadoall: ==================\\ndivadoall: ==================\\ndivadoall: second loop  19002009\\ndivadoall: ==================\\ndivadoall:\\ndivadoall: ==========================================================================\\ndivadoall: ======================= Starting generation of 4D NetCDF files ===========\\ndivadoall:\\ndivadoall: Producing 4D yearly netcdf files\\nvariable Temperature\\nyear 19002009\\n \\n =================== Running divadoNCDF ======================== \\n =================== working on variable:  Temperature  and year: 19002009\\n \\n`./output/3Danalysis/Temperature.19002009.3DNCliste' -> `../../DIVA3D/divastripped/output/3Danalysis/./Temperature.19002009.3DNCliste'\\n`./output/3Danalysis/Temperature.19002009.3DNCinfo' -> `../../DIVA3D/divastripped/output/3Danalysis/./Temperature.19002009.3DNCinfo'\\n`./output/3Danalysis/Fields/GridInfo.dat' -> `../../DIVA3D/divastripped/output/3Danalysis/./GridInfo.dat'\\n`Temperature.19002009.0101.10001.10003.anl.nc' -> `../../../../DIVA3D/divastripped/output/3Danalysis/./Temperature.19002009.0101.10001.10003.anl.nc'\\n`Temperature.19002009.0101.nbrdata' -> `../../../../DIVA3D/divastripped/output/3Danalysis/./Temperature.19002009.0101.nbrdata'\\n`Temperature.19002009.0101.3Dparam' -> `../../../../DIVA3D/divastripped/output/3Danalysis/./Temperature.19002009.0101.3Dparam'\\n \\n==================== Running diva4Dncwrite ========================\\nworking on level 1 for Temperature.19002009\\n-rw-r--r-- 1 ctroupin ctroupin 35298 Jan 24 15:05 /home/ctroupin/Software/DIVA/diva-4.7.1/JRA4/Climatology/input/divadata/Temperature.19002009.0101.10001\\nworking on level 2 for Temperature.19002009\\n-rw-r--r-- 1 ctroupin ctroupin 37370 Jan 24 15:05 /home/ctroupin/Software/DIVA/diva-4.7.1/JRA4/Climatology/input/divadata/Temperature.19002009.0101.10002\\nworking on level 3 for Temperature.19002009\\n======\\n======\\n`../output/3Danalysis/Temperature.19002009.3DNCliste' -> `./3Dncliste'\\n`../output/3Danalysis/Temperature.19002009.3DNCinfo' -> `./3DNCinfo'\\n  WRITE 4D NetCdf file gathering:\\n Temperature.19002009.0101.10001.10003.anl.nc\\n NCREAD   climatology_bounds \\n climatology_bounds    0.00000000       39843.0000    \\n \\n========  Copying netcdf and metadata files to climatology output directory ======\\n \\n`./output/3Danalysis/Temperature.4DNCMetainfo' -> `/home/ctroupin/Software/DIVA/diva-4.7.1/JRA4/Climatology/output/3Danalysis/./Temperature.4DNCMetainfo'\\n`./output/3Danalysis/Temperature.Metainfo.txt' -> `/home/ctroupin/Software/DIVA/diva-4.7.1/JRA4/Climatology/output/3Danalysis/./Temperature.Metainfo.txt'\\n============================= divadoNCDF: end year loop    19002009\\n============================= divadoNCDF: end var loop    Temperature\\nvariable Salinity\\nyear 19002009\\n \\n =================== Running divadoNCDF ======================== \\n =================== working on variable:  Salinity  and year: 19002009\\n \\n`./output/3Danalysis/Salinity.19002009.3DNCliste' -> `../../DIVA3D/divastripped/output/3Danalysis/./Salinity.19002009.3DNCliste'\\n`./output/3Danalysis/Salinity.19002009.3DNCinfo' -> `../../DIVA3D/divastripped/output/3Danalysis/./Salinity.19002009.3DNCinfo'\\n`./output/3Danalysis/Fields/GridInfo.dat' -> `../../DIVA3D/divastripped/output/3Danalysis/./GridInfo.dat'\\n`Salinity.19002009.0101.10001.10003.anl.nc' -> `../../../../DIVA3D/divastripped/output/3Danalysis/./Salinity.19002009.0101.10001.10003.anl.nc'\\n`Salinity.19002009.0101.nbrdata' -> `../../../../DIVA3D/divastripped/output/3Danalysis/./Salinity.19002009.0101.nbrdata'\\n`Salinity.19002009.0101.3Dparam' -> `../../../../DIVA3D/divastripped/output/3Danalysis/./Salinity.19002009.0101.3Dparam'\\n \\n==================== Running diva4Dncwrite ========================\\nworking on level 1 for Salinity.19002009\\n-rw-r--r-- 1 ctroupin ctroupin 32438 Jan 24 15:05 /home/ctroupin/Software/DIVA/diva-4.7.1/JRA4/Climatology/input/divadata/Salinity.19002009.0101.10001\\nworking on level 2 for Salinity.19002009\\n-rw-r--r-- 1 ctroupin ctroupin 33755 Jan 24 15:05 /home/ctroupin/Software/DIVA/diva-4.7.1/JRA4/Climatology/input/divadata/Salinity.19002009.0101.10002\\nworking on level 3 for Salinity.19002009\\n======\\n======\\n`../output/3Danalysis/Salinity.19002009.3DNCliste' -> `./3Dncliste'\\n`../output/3Danalysis/Salinity.19002009.3DNCinfo' -> `./3DNCinfo'\\n  WRITE 4D NetCdf file gathering:\\n Salinity.19002009.0101.10001.10003.anl.nc\\n NCREAD   climatology_bounds \\n climatology_bounds    0.00000000       39843.0000    \\n \\n========  Copying netcdf and metadata files to climatology output directory ======\\n \\n`./output/3Danalysis/Salinity.4DNCMetainfo' -> `/home/ctroupin/Software/DIVA/diva-4.7.1/JRA4/Climatology/output/3Danalysis/./Salinity.4DNCMetainfo'\\n`./output/3Danalysis/Salinity.Metainfo.txt' -> `/home/ctroupin/Software/DIVA/diva-4.7.1/JRA4/Climatology/output/3Danalysis/./Salinity.Metainfo.txt'\\n============================= divadoNCDF: end year loop    19002009\\n============================= divadoNCDF: end var loop    Salinity\\n=================================\\nFinished writing 4D NetCDF files\\n=================================\\nQuick check-list of errors :\\nNo visible error, you are lucky.\\nInfo : if you are running ./divadoall, a more complete errors check is available by launching ./godiva.\\ndivadoall: ==================\\ndivadoall: Finished  Salinity\\ndivadoall: ==================\\n****************\\nTue Jan 24 15:07:35 CET 2017\\n****************\\n\"\n"
     ]
    }
   ],
   "source": [
    "divadoall_script = './divadoall'\n",
    "env = os.environ.copy()\n",
    "env[\"PATH\"] = \".:\" + env[\"PATH\"]\n",
    "\n",
    "p = subprocess.Popen(divadoall_script, stdout=subprocess.PIPE, cwd=diva4Ddir, env=env)\n",
    "out = p.stdout.read()\n",
    "\n",
    "print(out)"
   ]
  },
  {
   "cell_type": "code",
   "execution_count": null,
   "metadata": {
    "collapsed": true
   },
   "outputs": [],
   "source": []
  }
 ],
 "metadata": {
  "kernelspec": {
   "display_name": "Python 3",
   "language": "python",
   "name": "python3"
  },
  "language_info": {
   "codemirror_mode": {
    "name": "ipython",
    "version": 3
   },
   "file_extension": ".py",
   "mimetype": "text/x-python",
   "name": "python",
   "nbconvert_exporter": "python",
   "pygments_lexer": "ipython3",
   "version": "3.6.0"
  }
 },
 "nbformat": 4,
 "nbformat_minor": 2
}
