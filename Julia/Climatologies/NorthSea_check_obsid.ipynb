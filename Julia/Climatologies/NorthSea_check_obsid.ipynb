{
 "cells": [
  {
   "cell_type": "markdown",
   "metadata": {},
   "source": [
    "Check if some of the `obsid` are empty."
   ]
  },
  {
   "cell_type": "code",
   "execution_count": 38,
   "metadata": {},
   "outputs": [],
   "source": [
    "using DIVAnd\n",
    "using NCDatasets"
   ]
  },
  {
   "cell_type": "markdown",
   "metadata": {},
   "source": [
    "We test both the WOD and the SDC files."
   ]
  },
  {
   "cell_type": "code",
   "execution_count": 40,
   "metadata": {},
   "outputs": [
    {
     "data": {
      "text/plain": [
       "true"
      ]
     },
     "execution_count": 40,
     "metadata": {},
     "output_type": "execute_result"
    }
   ],
   "source": [
    "datadir = \"/data/SeaDataCloud/NorthSea/\"\n",
    "datafile1 = joinpath(datadir, \"NorthSea_obs_Salinity.nc\")\n",
    "datafile2 = joinpath(datadir, \"NorthSea_obs_Salinity_wod.nc\")\n",
    "isfile(datafile1) & isfile(datafile2) "
   ]
  },
  {
   "cell_type": "markdown",
   "metadata": {},
   "source": [
    "Load the id's"
   ]
  },
  {
   "cell_type": "code",
   "execution_count": 41,
   "metadata": {},
   "outputs": [
    {
     "name": "stderr",
     "output_type": "stream",
     "text": [
      "┌ Info: 7680899\n",
      "└ @ Main In[41]:4\n",
      "┌ Info: 1085790\n",
      "└ @ Main In[41]:9\n"
     ]
    }
   ],
   "source": [
    "ds = Dataset(datafile1)\n",
    "obsid1 = DIVAnd.loadobsid(ds, \"obsid\")\n",
    "close(ds)\n",
    "@info(length(obsid1))\n",
    "\n",
    "ds = Dataset(datafile2)\n",
    "obsid2 = DIVAnd.loadobsid(ds, \"obsid\")\n",
    "close(ds)\n",
    "@info(length(obsid2))"
   ]
  },
  {
   "cell_type": "code",
   "execution_count": 44,
   "metadata": {},
   "outputs": [],
   "source": [
    "edmo1 = split.(obsid1, \"-\");\n",
    "edmo2 = split.(obsid2, \"-\");"
   ]
  },
  {
   "cell_type": "code",
   "execution_count": 45,
   "metadata": {},
   "outputs": [
    {
     "data": {
      "text/plain": [
       "count_empty (generic function with 1 method)"
      ]
     },
     "execution_count": 45,
     "metadata": {},
     "output_type": "execute_result"
    }
   ],
   "source": [
    "function count_empty(edmo::Array)::Int\n",
    "    nn = 0\n",
    "    for ee in edmo\n",
    "        if ee\n",
    "            nn += 1\n",
    "        end\n",
    "    end\n",
    "    return nn\n",
    "end"
   ]
  },
  {
   "cell_type": "code",
   "execution_count": 47,
   "metadata": {},
   "outputs": [
    {
     "data": {
      "text/plain": [
       "0"
      ]
     },
     "execution_count": 47,
     "metadata": {},
     "output_type": "execute_result"
    }
   ],
   "source": [
    "count_empty(obsid1)"
   ]
  },
  {
   "cell_type": "code",
   "execution_count": 51,
   "metadata": {},
   "outputs": [
    {
     "data": {
      "text/plain": [
       "1085790"
      ]
     },
     "execution_count": 51,
     "metadata": {},
     "output_type": "execute_result"
    }
   ],
   "source": [
    "length(findall(obsid2 .== \"-\"))"
   ]
  },
  {
   "cell_type": "code",
   "execution_count": 52,
   "metadata": {},
   "outputs": [
    {
     "data": {
      "text/plain": [
       "1085790"
      ]
     },
     "execution_count": 52,
     "metadata": {},
     "output_type": "execute_result"
    }
   ],
   "source": [
    "length(obsid2)"
   ]
  },
  {
   "cell_type": "code",
   "execution_count": null,
   "metadata": {},
   "outputs": [],
   "source": []
  }
 ],
 "metadata": {
  "@webio": {
   "lastCommId": null,
   "lastKernelId": null
  },
  "kernelspec": {
   "display_name": "Julia 1.1.0",
   "language": "julia",
   "name": "julia-1.1"
  },
  "language_info": {
   "file_extension": ".jl",
   "mimetype": "application/julia",
   "name": "julia",
   "version": "1.1.0"
  }
 },
 "nbformat": 4,
 "nbformat_minor": 2
}
