{
 "cells": [
  {
   "cell_type": "code",
   "execution_count": 13,
   "metadata": {
    "collapsed": false,
    "deletable": true,
    "editable": true
   },
   "outputs": [],
   "source": [
    "using Logging\n",
    "Logging.configure(level=DEBUG);"
   ]
  },
  {
   "cell_type": "markdown",
   "metadata": {},
   "source": [
    "# Input file"
   ]
  },
  {
   "cell_type": "code",
   "execution_count": 42,
   "metadata": {
    "collapsed": false,
    "deletable": true,
    "editable": true
   },
   "outputs": [],
   "source": [
    "datadir = \"./data/\";\n",
    "ODVfile = joinpath(datadir, \"SmallODV.txt\");"
   ]
  },
  {
   "cell_type": "markdown",
   "metadata": {},
   "source": [
    "Check if file exists"
   ]
  },
  {
   "cell_type": "code",
   "execution_count": 43,
   "metadata": {
    "collapsed": false,
    "deletable": true,
    "editable": true
   },
   "outputs": [
    {
     "name": "stderr",
     "output_type": "stream",
     "text": [
      "23-mars 11:14:25:INFO:root:Working on file ./data/SmallODV.txt\n"
     ]
    }
   ],
   "source": [
    "if isfile(ODVfile)\n",
    "   info(\"Working on file $ODVfile\") \n",
    "end"
   ]
  },
  {
   "cell_type": "markdown",
   "metadata": {},
   "source": [
    "# Loop on the file lines"
   ]
  },
  {
   "cell_type": "markdown",
   "metadata": {},
   "source": [
    "The metadata (lines starting with //) are stored in a dictionary."
   ]
  },
  {
   "cell_type": "code",
   "execution_count": 174,
   "metadata": {
    "collapsed": false,
    "deletable": true,
    "editable": true
   },
   "outputs": [
    {
     "name": "stderr",
     "output_type": "stream",
     "text": [
      "23-mars 16:58:42:DEBUG:root:Match found\n",
      "23-mars 16:58:42:DEBUG:root:Match found\n",
      "23-mars 16:58:42:DEBUG:root:Match found\n",
      "23-mars 16:58:42:DEBUG:root:Match found\n",
      "23-mars 16:58:42:DEBUG:root:Match found\n",
      "23-mars 16:58:42:DEBUG:root:Match found\n",
      "23-mars 16:58:42:DEBUG:root:Match found\n",
      "23-mars 16:58:42:DEBUG:root:Match found\n",
      "23-mars 16:58:42:DEBUG:root:Match found\n",
      "23-mars 16:58:42:DEBUG:root:Line indicating column names\n",
      "23-mars 16:58:42:DEBUG:root:String\n"
     ]
    },
    {
     "name": "stdout",
     "output_type": "stream",
     "text": [
      "Version: ODV Spreadsheet V4.0\n",
      "Creator: charles@gher13.phys.ulg.ac.be\n",
      "CreateTime: 2011-12-19T12:42:52\n",
      "Software: Ocean Data View Version 4.2.1 - 2009\n",
      "Source: /home/charles/DIVA/BlackSea4diva/New_ODV4_Collection.odv\n",
      "SourceLastModified: 2011-12-19T12:42:03\n",
      "DataField: Ocean\n",
      "DataType: Profiles\n",
      "MissingValueIndicators: -99\n",
      "Other lines\n",
      "Other lines\n",
      "Other lines\n",
      "Other lines\n",
      "Other lines\n",
      "Other lines\n",
      "Other lines\n",
      "Other lines\n",
      "Other lines\n",
      "Other lines\n",
      "Other lines\n",
      "Other lines\n",
      "Other lines\n",
      "Other lines\n",
      "Other lines\n",
      "Other lines\n",
      "Other lines\n",
      "Other lines\n",
      "Other lines\n",
      "Other lines\n",
      "Other lines\n",
      "Other lines\n",
      "Other lines\n",
      "Other lines\n",
      "Other lines\n",
      "Other lines\n",
      "Other lines\n",
      "Other lines\n",
      "Other lines\n",
      "Other lines\n",
      "Other lines\n",
      "Other lines\n",
      "Other lines\n",
      "Other lines\n",
      "Other lines\n"
     ]
    }
   ],
   "source": [
    "metadata = Dict{String,String}()\n",
    "columnnames = \"\"\n",
    "open(ODVfile, \"r\") do f\n",
    "    for line in eachline(f)\n",
    "        if line[1:2] == \"//\"\n",
    "          \n",
    "            m = match(r\"<(\\w+)>(.+)</(\\w+)>\", line)\n",
    "            # Check if something is matched\n",
    "            if m != nothing\n",
    "                debug(\"Match found\")\n",
    "                println(m[1] * \": \" * m[2])\n",
    "                # println(typeof(m[1]))\n",
    "                metadata[String(m[1])] = String(m[2])\n",
    "            end\n",
    "            \n",
    "        elseif match(r\"Cruise\", line) != nothing\n",
    "            debug(\"Line indicating column names\")\n",
    "            debug(typeof(line))\n",
    "            global columnnames\n",
    "            columnnames = columnnames*line\n",
    "        else\n",
    "            println(\"Other lines\")\n",
    "        end\n",
    "    end    \n",
    "end"
   ]
  },
  {
   "cell_type": "code",
   "execution_count": 186,
   "metadata": {
    "collapsed": false
   },
   "outputs": [
    {
     "name": "stderr",
     "output_type": "stream",
     "text": [
      "23-mars 17:18:26:DEBUG:root:Match found\n",
      "23-mars 17:18:26:DEBUG:root:Match found\n",
      "23-mars 17:18:26:DEBUG:root:Match found\n",
      "23-mars 17:18:26:DEBUG:root:Match found\n",
      "23-mars 17:18:26:DEBUG:root:Match found\n",
      "23-mars 17:18:26:DEBUG:root:Match found\n",
      "23-mars 17:18:26:DEBUG:root:Match found\n",
      "23-mars 17:18:26:DEBUG:root:Match found\n",
      "23-mars 17:18:26:DEBUG:root:Match found\n"
     ]
    },
    {
     "name": "stdout",
     "output_type": "stream",
     "text": [
      "Version: ODV Spreadsheet V4.0\n",
      "Creator: charles@gher13.phys.ulg.ac.be\n",
      "CreateTime: 2011-12-19T12:42:52\n",
      "Software: Ocean Data View Version 4.2.1 - 2009\n",
      "Source: /home/charles/DIVA/BlackSea4diva/New_ODV4_Collection.odv\n",
      "SourceLastModified: 2011-12-19T12:42:03\n",
      "DataField: Ocean\n",
      "DataType: Profiles\n",
      "MissingValueIndicators: -99\n"
     ]
    },
    {
     "data": {
      "text/plain": [
       "25-element Array{SubString{String},1}:\n",
       " \"Cruise\"                 \n",
       " \"Station\"                \n",
       " \"Type\"                   \n",
       " \"yyyy-mm-ddThh:mm:ss.sss\"\n",
       " \"Longitude\"              \n",
       " \"[degrees_east]\"         \n",
       " \"Latitude\"               \n",
       " \"[degrees_north]\"        \n",
       " \"Bot.\"                   \n",
       " \"Depth\"                  \n",
       " \"[m]:METAVAR:FLOAT:4\"    \n",
       " \"Originator's\"           \n",
       " \"Cruise:METAVAR:TEXT:20\" \n",
       " \"Originator's\"           \n",
       " \"Station:METAVAR:TEXT:20\"\n",
       " \"Depth\"                  \n",
       " \"[m]\"                    \n",
       " \"QV:WOD\"                 \n",
       " \"Temperature\"            \n",
       " \"[°C]\"                   \n",
       " \"QV:WOD\"                 \n",
       " \"Salinity\"               \n",
       " \"[psu]\"                  \n",
       " \"QV:WOD\"                 \n",
       " \"QV:ODV:SAMPLE\"          "
      ]
     },
     "execution_count": 186,
     "metadata": {},
     "output_type": "execute_result"
    }
   ],
   "source": [
    "metadata = Dict{String,String}()\n",
    "open(ODVfile, \"r\") do f\n",
    "    line = readline(f)\n",
    "    \n",
    "    # Read the metadata (lines starting with //)\n",
    "    while line[1:2] == \"//\"\n",
    "        \n",
    "        # Identify metadata fields using regex\n",
    "        m = match(r\"<(\\w+)>(.+)</(\\w+)>\", line)\n",
    "        \n",
    "        if m != nothing\n",
    "            debug(\"Match found\")\n",
    "            println(m[1] * \": \" * m[2])\n",
    "            metadata[String(m[1])] = String(m[2])\n",
    "        end\n",
    "        line = readline(f)\n",
    "    end\n",
    "    \n",
    "    # Read the column names\n",
    "    global columnnames\n",
    "    columnnames = split(line);\n",
    "    \n",
    "    # Read metadata of the first profile\n",
    "\n",
    "end"
   ]
  },
  {
   "cell_type": "code",
   "execution_count": 184,
   "metadata": {
    "collapsed": false
   },
   "outputs": [
    {
     "data": {
      "text/plain": [
       "\"Cruise  Station Type    yyyy-mm-ddThh:mm:ss.sss Longitude [degrees_east]        Latitude [degrees_north]        Bot. Depth [m]:METAVAR:FLOAT:4  Originator's Cruise:METAVAR:TEXT:20     Originator's Station:METAVAR:TEXT:20    Depth [m]       QV:WOD  Temperature [°C]        QV:WOD  Salinity [psu]  QV:WOD  QV:ODV:SAMPLE\\n\""
      ]
     },
     "execution_count": 184,
     "metadata": {},
     "output_type": "execute_result"
    }
   ],
   "source": [
    "columnnames"
   ]
  },
  {
   "cell_type": "markdown",
   "metadata": {},
   "source": [
    "Check what's inside the dictionnary."
   ]
  },
  {
   "cell_type": "code",
   "execution_count": 168,
   "metadata": {
    "collapsed": false,
    "deletable": true,
    "editable": true
   },
   "outputs": [
    {
     "data": {
      "text/plain": [
       "Dict{String,String} with 9 entries:\n",
       "  \"DataType\"               => \"Profiles\"\n",
       "  \"Source\"                 => \"/home/charles/DIVA/BlackSea4diva/New_ODV4_Collec…\n",
       "  \"DataField\"              => \"Ocean\"\n",
       "  \"Software\"               => \"Ocean Data View Version 4.2.1 - 2009\"\n",
       "  \"SourceLastModified\"     => \"2011-12-19T12:42:03\"\n",
       "  \"Version\"                => \"ODV Spreadsheet V4.0\"\n",
       "  \"Creator\"                => \"charles@gher13.phys.ulg.ac.be\"\n",
       "  \"CreateTime\"             => \"2011-12-19T12:42:52\"\n",
       "  \"MissingValueIndicators\" => \"-99\""
      ]
     },
     "execution_count": 168,
     "metadata": {},
     "output_type": "execute_result"
    }
   ],
   "source": [
    "metadata"
   ]
  },
  {
   "cell_type": "code",
   "execution_count": 175,
   "metadata": {
    "collapsed": false
   },
   "outputs": [
    {
     "data": {
      "text/plain": [
       "\"Cruise  Station Type    yyyy-mm-ddThh:mm:ss.sss Longitude [degrees_east]        Latitude [degrees_north]        Bot. Depth [m]:METAVAR:FLOAT:4  Originator's Cruise:METAVAR:TEXT:20     Originator's Station:METAVAR:TEXT:20    Depth [m]       QV:WOD  Temperature [°C]        QV:WOD  Salinity [psu]  QV:WOD  QV:ODV:SAMPLE\\n\""
      ]
     },
     "execution_count": 175,
     "metadata": {},
     "output_type": "execute_result"
    }
   ],
   "source": [
    "columnnames"
   ]
  },
  {
   "cell_type": "code",
   "execution_count": 178,
   "metadata": {
    "collapsed": false
   },
   "outputs": [
    {
     "data": {
      "text/plain": [
       "25-element Array{SubString{String},1}:\n",
       " \"Cruise\"                 \n",
       " \"Station\"                \n",
       " \"Type\"                   \n",
       " \"yyyy-mm-ddThh:mm:ss.sss\"\n",
       " \"Longitude\"              \n",
       " \"[degrees_east]\"         \n",
       " \"Latitude\"               \n",
       " \"[degrees_north]\"        \n",
       " \"Bot.\"                   \n",
       " \"Depth\"                  \n",
       " \"[m]:METAVAR:FLOAT:4\"    \n",
       " \"Originator's\"           \n",
       " \"Cruise:METAVAR:TEXT:20\" \n",
       " \"Originator's\"           \n",
       " \"Station:METAVAR:TEXT:20\"\n",
       " \"Depth\"                  \n",
       " \"[m]\"                    \n",
       " \"QV:WOD\"                 \n",
       " \"Temperature\"            \n",
       " \"[°C]\"                   \n",
       " \"QV:WOD\"                 \n",
       " \"Salinity\"               \n",
       " \"[psu]\"                  \n",
       " \"QV:WOD\"                 \n",
       " \"QV:ODV:SAMPLE\"          "
      ]
     },
     "execution_count": 178,
     "metadata": {},
     "output_type": "execute_result"
    }
   ],
   "source": [
    "columnnames = split(columnnames)"
   ]
  },
  {
   "cell_type": "code",
   "execution_count": 179,
   "metadata": {
    "collapsed": false
   },
   "outputs": [
    {
     "data": {
      "text/plain": [
       "\"Cruise\""
      ]
     },
     "execution_count": 179,
     "metadata": {},
     "output_type": "execute_result"
    }
   ],
   "source": [
    "columnnames[1]"
   ]
  },
  {
   "cell_type": "code",
   "execution_count": null,
   "metadata": {
    "collapsed": true
   },
   "outputs": [],
   "source": []
  }
 ],
 "metadata": {
  "kernelspec": {
   "display_name": "Julia 0.5.1",
   "language": "julia",
   "name": "julia-0.5"
  },
  "language_info": {
   "file_extension": ".jl",
   "mimetype": "application/julia",
   "name": "julia",
   "version": "0.5.1"
  }
 },
 "nbformat": 4,
 "nbformat_minor": 2
}
