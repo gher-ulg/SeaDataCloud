{
 "cells": [
  {
   "cell_type": "markdown",
   "metadata": {},
   "source": [
    "This notebooks provides an example of how to create plots displaying the results of the analysis.<br>\n",
    "As a 4D analysis is made up of of several 2D interpolations (loops on time and depth), we can use the tools of the `pydiva2d` module."
   ]
  },
  {
   "cell_type": "code",
   "execution_count": 1,
   "metadata": {
    "collapsed": false
   },
   "outputs": [
    {
     "name": "stderr",
     "output_type": "stream",
     "text": [
      "/usr/local/lib/python3.6/site-packages/matplotlib/__init__.py:913: UserWarning: axes.color_cycle is deprecated and replaced with axes.prop_cycle; please use the latter.\n",
      "  warnings.warn(self.msg_depr % (key, alt_key))\n"
     ]
    }
   ],
   "source": [
    "import pydiva4d\n",
    "import os\n",
    "from importlib import reload\n",
    "import numpy as np\n",
    "import matplotlib.pyplot as plt\n",
    "%matplotlib inline"
   ]
  },
  {
   "cell_type": "code",
   "execution_count": 6,
   "metadata": {
    "collapsed": false
   },
   "outputs": [
    {
     "data": {
      "text/plain": [
       "<module 'pydiva4d' from '/home/ctroupin/Projects/SeaDataCloud/Python/pydiva4d.py'>"
      ]
     },
     "execution_count": 6,
     "metadata": {},
     "output_type": "execute_result"
    }
   ],
   "source": [
    "reload(pydiva4d)"
   ]
  },
  {
   "cell_type": "markdown",
   "metadata": {},
   "source": [
    "Define a directory for the figures"
   ]
  },
  {
   "cell_type": "code",
   "execution_count": 9,
   "metadata": {
    "collapsed": true
   },
   "outputs": [],
   "source": [
    "figdir = './figures/'"
   ]
  },
  {
   "cell_type": "code",
   "execution_count": 3,
   "metadata": {
    "collapsed": false
   },
   "outputs": [
    {
     "name": "stderr",
     "output_type": "stream",
     "text": [
      "INFO:pydiva2d:Diva main directory: /home/ctroupin/Software/DIVA/diva-4.7.1/\n",
      "INFO:pydiva2d:Creating Diva directory paths\n",
      "INFO:pydiva2d:Binary directory:   /home/ctroupin/Software/DIVA/diva-4.7.1/DIVA3D/bin\n",
      "INFO:pydiva2d:Source directory:   /home/ctroupin/Software/DIVA/diva-4.7.1/DIVA3D/src/Fortan\n",
      "INFO:pydiva2d:Main 2D directory:  /home/ctroupin/Software/DIVA/diva-4.7.1/DIVA3D/divastripped\n",
      "INFO:pydiva2d:Main 4D directory:  /home/ctroupin/Software/DIVA/diva-4.7.1/JRA4/Climatology\n",
      "INFO:pydiva2d:4D input directory: /home/ctroupin/Software/DIVA/diva-4.7.1/JRA4/Climatology/input\n"
     ]
    }
   ],
   "source": [
    "divamaindir = '/home/ctroupin/Software/DIVA/diva-4.7.1/'\n",
    "DivaDirs = pydiva4d.DivaDirectories(divamaindir)"
   ]
  },
  {
   "cell_type": "code",
   "execution_count": 4,
   "metadata": {
    "collapsed": false
   },
   "outputs": [
    {
     "name": "stderr",
     "output_type": "stream",
     "text": [
      "INFO:pydiva2d:Creating Diva 2D file names and paths\n",
      "INFO:pydiva2d:Contour file:   /home/ctroupin/Software/DIVA/diva-4.7.1/DIVA3D/divastripped/input/coast.cont\n",
      "INFO:pydiva2d:Parameter file: /home/ctroupin/Software/DIVA/diva-4.7.1/DIVA3D/divastripped/input/param.par\n",
      "INFO:pydiva2d:Data file:      /home/ctroupin/Software/DIVA/diva-4.7.1/DIVA3D/divastripped/input/data.dat\n",
      "INFO:pydiva2d:Valatxy file:   /home/ctroupin/Software/DIVA/diva-4.7.1/DIVA3D/divastripped/input/valatxy.coord\n",
      "INFO:pydiva2d:Result file:    /home/ctroupin/Software/DIVA/diva-4.7.1/DIVA3D/divastripped/output/ghertonetcdf/results.nc\n",
      "INFO:pydiva2d:Mesh file:      /home/ctroupin/Software/DIVA/diva-4.7.1/DIVA3D/divastripped/meshgenwork/fort.22\n",
      "INFO:pydiva2d:Mesh topo file: /home/ctroupin/Software/DIVA/diva-4.7.1/DIVA3D/divastripped/meshgenwork/fort.23\n",
      "INFO:pydiva4d:Creating Diva 4D file names and paths\n",
      "INFO:pydiva4d:datasource file:   /home/ctroupin/Software/DIVA/diva-4.7.1/JRA4/Climatology/datasource\n",
      "INFO:pydiva4d:constandrefe file: /home/ctroupin/Software/DIVA/diva-4.7.1/JRA4/Climatology/constandrefe\n",
      "INFO:pydiva4d:driver file:       /home/ctroupin/Software/DIVA/diva-4.7.1/JRA4/Climatology/driver\n",
      "INFO:pydiva4d:monthlist file:    /home/ctroupin/Software/DIVA/diva-4.7.1/JRA4/Climatology/monthlist\n",
      "INFO:pydiva4d:qflist file:       /home/ctroupin/Software/DIVA/diva-4.7.1/JRA4/Climatology/qflist\n",
      "INFO:pydiva4d:varlist file:      /home/ctroupin/Software/DIVA/diva-4.7.1/JRA4/Climatology/varlist\n",
      "INFO:pydiva4d:yearlist file:     /home/ctroupin/Software/DIVA/diva-4.7.1/JRA4/Climatology/yearlist\n",
      "INFO:pydiva4d:contourdepth file: /home/ctroupin/Software/DIVA/diva-4.7.1/JRA4/Climatology/input/contour.depth\n",
      "INFO:pydiva4d:ncdfinfo file:     /home/ctroupin/Software/DIVA/diva-4.7.1/JRA4/Climatology/ncdfinfo\n",
      "INFO:pydiva4d:param.par file:    /home/ctroupin/Software/DIVA/diva-4.7.1/JRA4/Climatology/input/param.par\n"
     ]
    }
   ],
   "source": [
    "Diva2Dfiles = pydiva4d.Diva2Dfiles(DivaDirs.diva2d)\n",
    "Diva4Dfiles = pydiva4d.Diva4Dfiles(DivaDirs.diva4d)"
   ]
  },
  {
   "cell_type": "code",
   "execution_count": 10,
   "metadata": {
    "collapsed": true
   },
   "outputs": [],
   "source": [
    "diva4Doutput = os.path.join(DivaDirs.diva4d,'output/')\n",
    "diva4Dmesh = os.path.join(DivaDirs.diva4d, 'newinput/divamesh/')\n",
    "diva4Dparam = os.path.join(DivaDirs.diva4d, 'newinput/divaparam/')\n",
    "diva4Dfields = os.path.join( DivaDirs.diva4d, 'output/3Danalysis/Fields')"
   ]
  },
  {
   "cell_type": "markdown",
   "metadata": {},
   "source": [
    "## Load the depth levels"
   ]
  },
  {
   "cell_type": "code",
   "execution_count": 6,
   "metadata": {
    "collapsed": false
   },
   "outputs": [
    {
     "name": "stderr",
     "output_type": "stream",
     "text": [
      "INFO:pydiva4d:Creating Diva 4D Contourdepth object\n",
      "INFO:pydiva4d:Reading depth levels from file /home/ctroupin/Software/DIVA/diva-4.7.1/JRA4/Climatology/input/contour.depth\n"
     ]
    }
   ],
   "source": [
    "contourdepth = pydiva4d.Contourdepth()\n",
    "contourdepth.read_from(Diva4Dfiles.contourdepth)"
   ]
  },
  {
   "cell_type": "markdown",
   "metadata": {},
   "source": [
    "## Loop on the contour"
   ]
  },
  {
   "cell_type": "code",
   "execution_count": 16,
   "metadata": {
    "collapsed": false
   },
   "outputs": [
    {
     "name": "stderr",
     "output_type": "stream",
     "text": [
      "INFO:pydiva2d:Creating Diva 2D contour object\n",
      "INFO:pydiva2d:Reading contours from file /home/ctroupin/Software/DIVA/diva-4.7.1/JRA4/Climatology/newinput/divaparam/coast.cont.10001\n",
      "DEBUG:pydiva2d:Number of contours: 13\n",
      "DEBUG:pydiva2d:No projection defined\n",
      "DEBUG:pydiva2d:Adding contours to plot\n",
      "INFO:pydiva2d:Creating Diva 2D contour object\n",
      "INFO:pydiva2d:Reading contours from file /home/ctroupin/Software/DIVA/diva-4.7.1/JRA4/Climatology/newinput/divaparam/coast.cont.10002\n",
      "DEBUG:pydiva2d:Number of contours: 11\n",
      "DEBUG:pydiva2d:No projection defined\n",
      "DEBUG:pydiva2d:Adding contours to plot\n",
      "INFO:pydiva2d:Creating Diva 2D contour object\n",
      "INFO:pydiva2d:Reading contours from file /home/ctroupin/Software/DIVA/diva-4.7.1/JRA4/Climatology/newinput/divaparam/coast.cont.10003\n",
      "DEBUG:pydiva2d:Number of contours: 7\n",
      "DEBUG:pydiva2d:No projection defined\n",
      "DEBUG:pydiva2d:Adding contours to plot\n",
      "INFO:pydiva2d:Creating Diva 2D contour object\n",
      "INFO:pydiva2d:Reading contours from file /home/ctroupin/Software/DIVA/diva-4.7.1/JRA4/Climatology/newinput/divaparam/coast.cont.10004\n",
      "DEBUG:pydiva2d:Number of contours: 28\n",
      "DEBUG:pydiva2d:No projection defined\n",
      "DEBUG:pydiva2d:Adding contours to plot\n"
     ]
    }
   ],
   "source": [
    "for idepth, depth in enumerate(contourdepth.depthlist):\n",
    "    \n",
    "    contourfile = os.path.join(diva4Dparam, 'coast.cont.{0}'.format(str(10001 + idepth)))\n",
    "\n",
    "    contour2D = pydiva4d.Diva2DContours()\n",
    "    contour2D.read_from(contourfile)\n",
    "\n",
    "    fig = plt.figure()\n",
    "    contour2D.add_to_plot(color='k', linewidth=.5)\n",
    "    plt.xlim(26., 42.)\n",
    "    plt.ylim(40., 48.)\n",
    "    plt.title(\"Contour at depth: {0} m\".format(depth))\n",
    "    plt.savefig(os.path.join(figdir, \"BlackSea_contour{0}\".format(idepth)))\n",
    "    plt.close()"
   ]
  },
  {
   "cell_type": "markdown",
   "metadata": {},
   "source": [
    "## Loop on the mesh"
   ]
  },
  {
   "cell_type": "code",
   "execution_count": 22,
   "metadata": {
    "collapsed": false
   },
   "outputs": [
    {
     "name": "stderr",
     "output_type": "stream",
     "text": [
      "INFO:pydiva2d:Creating Diva 2D mesh object\n",
      "DEBUG:pydiva2d:No projection defined\n",
      "DEBUG:pydiva2d:Adding finite-element mesh to plot\n",
      "DEBUG:pydiva2d:Setting limits to axes\n",
      "INFO:pydiva2d:Creating Diva 2D mesh object\n",
      "DEBUG:pydiva2d:No projection defined\n",
      "DEBUG:pydiva2d:Adding finite-element mesh to plot\n",
      "DEBUG:pydiva2d:Setting limits to axes\n",
      "INFO:pydiva2d:Creating Diva 2D mesh object\n",
      "DEBUG:pydiva2d:No projection defined\n",
      "DEBUG:pydiva2d:Adding finite-element mesh to plot\n",
      "DEBUG:pydiva2d:Setting limits to axes\n",
      "INFO:pydiva2d:Creating Diva 2D mesh object\n",
      "DEBUG:pydiva2d:No projection defined\n",
      "DEBUG:pydiva2d:Adding finite-element mesh to plot\n",
      "DEBUG:pydiva2d:Setting limits to axes\n"
     ]
    }
   ],
   "source": [
    "for idepth, depth in enumerate(contourdepth.depthlist):\n",
    "    # Create the file names\n",
    "    meshtopofile = os.path.join(diva4Dmesh, \"mesh.dat.{0}\".format(str(10000 + idepth + 1)))\n",
    "    meshfile = os.path.join(diva4Dmesh, \"meshtopo.{0}\".format(str(10000 + idepth + 1)))\n",
    "    \n",
    "    # Mesh object\n",
    "    Mesh = pydiva4d.Diva2DMesh()\n",
    "    Mesh.read_from(meshfile, meshtopofile)\n",
    "    \n",
    "    # Make the plot\n",
    "    fig = plt.figure()\n",
    "    ax = plt.subplot(111)\n",
    "    Mesh.add_to_plot(ax, linewidth=0.1, color='k')\n",
    "    plt.xlim(26., 42.)\n",
    "    plt.ylim(40., 48.)\n",
    "    plt.title(\"Mesh at depth: {0} m\".format(depth))\n",
    "    plt.savefig(os.path.join(figdir, \"BlackSea_mesh{0}\".format(idepth)))\n",
    "    plt.close()"
   ]
  },
  {
   "cell_type": "markdown",
   "metadata": {},
   "source": [
    "## Load the time periods"
   ]
  },
  {
   "cell_type": "code",
   "execution_count": 156,
   "metadata": {
    "collapsed": false
   },
   "outputs": [
    {
     "data": {
      "text/plain": [
       "<module 'pydiva4d' from '/home/ctroupin/Projects/SeaDataCloud/Python/pydiva4d.py'>"
      ]
     },
     "execution_count": 156,
     "metadata": {},
     "output_type": "execute_result"
    }
   ],
   "source": [
    "reload(pydiva4d)"
   ]
  },
  {
   "cell_type": "code",
   "execution_count": 157,
   "metadata": {
    "collapsed": false
   },
   "outputs": [
    {
     "name": "stderr",
     "output_type": "stream",
     "text": [
      "INFO:pydiva4d:Creating Diva 4D Contourdepth object\n",
      "DEBUG:pydiva4d:Ordering list of depths in decreasing order\n",
      "WARNING:pydiva4d:Depth levels should be defined as positive values\n"
     ]
    }
   ],
   "source": [
    "DepthList = pydiva4d.Contourdepth(dlist)"
   ]
  },
  {
   "cell_type": "code",
   "execution_count": 137,
   "metadata": {
    "collapsed": false
   },
   "outputs": [
    {
     "data": {
      "text/plain": [
       "[200.0, 100.0, 50.0, 0]"
      ]
     },
     "execution_count": 137,
     "metadata": {},
     "output_type": "execute_result"
    }
   ],
   "source": [
    "DepthList.depthlist"
   ]
  },
  {
   "cell_type": "code",
   "execution_count": 142,
   "metadata": {
    "collapsed": false
   },
   "outputs": [
    {
     "data": {
      "text/plain": [
       "[0, 50.0, 100.0, 200.0, -500.0, -500.0]"
      ]
     },
     "execution_count": 142,
     "metadata": {},
     "output_type": "execute_result"
    }
   ],
   "source": [
    "dlist.append(-500.)\n"
   ]
  },
  {
   "cell_type": "code",
   "execution_count": 148,
   "metadata": {
    "collapsed": false
   },
   "outputs": [],
   "source": [
    "if any(dlist) == 0.:\n",
    "    print('efvi,eop,v')"
   ]
  },
  {
   "cell_type": "code",
   "execution_count": 155,
   "metadata": {
    "collapsed": false
   },
   "outputs": [
    {
     "data": {
      "text/plain": [
       "False"
      ]
     },
     "execution_count": 155,
     "metadata": {},
     "output_type": "execute_result"
    }
   ],
   "source": []
  },
  {
   "cell_type": "code",
   "execution_count": 154,
   "metadata": {
    "collapsed": true
   },
   "outputs": [],
   "source": [
    "dlist2 = [3., 5., 100.]"
   ]
  },
  {
   "cell_type": "code",
   "execution_count": null,
   "metadata": {
    "collapsed": true
   },
   "outputs": [],
   "source": []
  }
 ],
 "metadata": {
  "kernelspec": {
   "display_name": "Python 3",
   "language": "python",
   "name": "python3"
  },
  "language_info": {
   "codemirror_mode": {
    "name": "ipython",
    "version": 3
   },
   "file_extension": ".py",
   "mimetype": "text/x-python",
   "name": "python",
   "nbconvert_exporter": "python",
   "pygments_lexer": "ipython3",
   "version": "3.6.0"
  }
 },
 "nbformat": 4,
 "nbformat_minor": 2
}
