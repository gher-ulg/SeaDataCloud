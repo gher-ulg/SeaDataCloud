{
 "cells": [
  {
   "cell_type": "code",
   "execution_count": 3,
   "metadata": {},
   "outputs": [],
   "source": [
    "using NCDatasets\n",
    "using PhysOcean\n",
    "using PyPlot\n",
    "using DIVAnd\n",
    "using JLD"
   ]
  },
  {
   "cell_type": "code",
   "execution_count": 2,
   "metadata": {},
   "outputs": [
    {
     "name": "stderr",
     "output_type": "stream",
     "text": [
      "┌ Info: Reading data from the observation file\n",
      "└ @ Main In[2]:6\n"
     ]
    },
    {
     "name": "stdout",
     "output_type": "stream",
     "text": [
      " 11.506360 seconds (30.95 M allocations: 7.450 GiB, 25.76% gc time)\n"
     ]
    },
    {
     "name": "stderr",
     "output_type": "stream",
     "text": [
      "┌ Info: Total number of data points: 7680899\n",
      "└ @ Main In[2]:8\n"
     ]
    }
   ],
   "source": [
    "datadir = \"/data/SeaDataCloud/NorthSea/\"\n",
    "varname = \"Salinity\"\n",
    "obsfile = joinpath(datadir, \"NorthSea_obs.nc\")\n",
    "netcdfODV = joinpath(datadir, \"data_from_SDC_NS_DATA_DISCRETE_TS_V1b.nc\")\n",
    "isfile(netcdfODV)\n",
    "@info(\"Reading data from the observation file\")\n",
    "@time obsval,obslon, obslat, obsdepth, obstime,obsid = DIVAnd.loadobs(Float64,obsfile,varname)\n",
    "@info(\"Total number of data points: $(length(obsval))\");"
   ]
  },
  {
   "cell_type": "code",
   "execution_count": null,
   "metadata": {},
   "outputs": [],
   "source": [
    "@time rdiag=1.0./DIVAnd.weight_RtimesOne((obslon,obslat),(0.03,0.03));\n",
    "@show maximum(rdiag),mean(rdiag)\n",
    "save(\"northsea_weights.jld\", \"rdiag\", rdiag);"
   ]
  }
 ],
 "metadata": {
  "kernelspec": {
   "display_name": "Julia 1.1.0",
   "language": "julia",
   "name": "julia-1.1"
  },
  "language_info": {
   "file_extension": ".jl",
   "mimetype": "application/julia",
   "name": "julia",
   "version": "1.1.0"
  }
 },
 "nbformat": 4,
 "nbformat_minor": 2
}
