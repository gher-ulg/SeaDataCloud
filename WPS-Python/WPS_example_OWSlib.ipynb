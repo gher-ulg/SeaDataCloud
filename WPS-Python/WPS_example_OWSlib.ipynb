{
 "cells": [
  {
   "cell_type": "code",
   "execution_count": 2,
   "metadata": {
    "collapsed": false
   },
   "outputs": [],
   "source": [
    "from owslib.wps import WebProcessingService"
   ]
  },
  {
   "cell_type": "code",
   "execution_count": 24,
   "metadata": {
    "collapsed": true
   },
   "outputs": [],
   "source": [
    "wpsurl = 'http://ec.oceanbrowser.net/emodnet/Python/web/wpswms'\n",
    "wpsurl = 'http://emodnet02.cineca.it/wps'"
   ]
  },
  {
   "cell_type": "markdown",
   "metadata": {},
   "source": [
    "We can access the URL with the command:"
   ]
  },
  {
   "cell_type": "code",
   "execution_count": 25,
   "metadata": {
    "collapsed": false
   },
   "outputs": [
    {
     "data": {
      "text/plain": [
       "owslib.wps.WebProcessingService"
      ]
     },
     "execution_count": 25,
     "metadata": {},
     "output_type": "execute_result"
    }
   ],
   "source": [
    "wps = WebProcessingService(wpsurl, verbose=True, skip_caps=True)\n",
    "type(wps)"
   ]
  },
  {
   "cell_type": "markdown",
   "metadata": {},
   "source": [
    "## GetCapabilities"
   ]
  },
  {
   "cell_type": "markdown",
   "metadata": {},
   "source": [
    "**GetCapabilities** lists the supported operations and access methods."
   ]
  },
  {
   "cell_type": "code",
   "execution_count": 26,
   "metadata": {
    "collapsed": false
   },
   "outputs": [
    {
     "name": "stdout",
     "output_type": "stream",
     "text": [
      " owslib.ows.ServiceIdentification : {'_root': <Element '{http://www.opengis.net/ows/1.1}ServiceIdentification' at 0x7f84be39eea8>, 'title': 'OpenEarth WPS server', 'abstract': 'OpenEarth WPS server', 'keywords': ['GRASS', 'GIS', 'WPS'], 'accessconstraints': 'none', 'fees': 'None', 'type': 'WPS', 'service': 'WPS', 'version': '1.0.0', 'versions': ['1.0.0'], 'profiles': []}\n",
      " owslib.ows.ServiceProvider : {'_root': <Element '{http://www.opengis.net/ows/1.1}ServiceProvider' at 0x7f84be3ab098>, 'name': 'Deltares', 'contact': <owslib.ows.ServiceContact object at 0x7f84be3a5390>, 'url': 'http://www.deltares.nl'}\n",
      " owslib.ows.OperationsMetadata : {'name': 'GetCapabilities', 'formatOptions': ['text/xml'], 'methods': [{'constraints': [], 'type': 'Get', 'url': 'http://wps.openearth.nl?'}, {'constraints': [], 'type': 'Post', 'url': 'http://wps.openearth.nl'}], 'constraints': [], 'parameters': {}}\n",
      " owslib.ows.OperationsMetadata : {'name': 'DescribeProcess', 'formatOptions': ['text/xml'], 'methods': [{'constraints': [], 'type': 'Get', 'url': 'http://wps.openearth.nl?'}, {'constraints': [], 'type': 'Post', 'url': 'http://wps.openearth.nl'}], 'constraints': [], 'parameters': {}}\n",
      " owslib.ows.OperationsMetadata : {'name': 'Execute', 'formatOptions': ['text/xml'], 'methods': [{'constraints': [], 'type': 'Get', 'url': 'http://wps.openearth.nl?'}, {'constraints': [], 'type': 'Post', 'url': 'http://wps.openearth.nl'}], 'constraints': [], 'parameters': {}}\n",
      " owslib.wps.Process : {'_root': <Element '{http://www.opengis.net/wps/1.0.0}Process' at 0x7f84be3a6db8>, 'verbose': True, 'processVersion': '$Id: odvGetParameters.py 10693 2014-05-15 13:21:46Z boer_g $', 'statusSupported': False, 'storeSupported': False, 'abstract': 'odvGetCDI returns a list of the datafiles of a remote server', 'identifier': 'cdi_get_metadata', 'title': 'OceanDataView web processing service: cdi_get_metadata > cdi_get_parameters > [odv_plot_map, odv_plot_profile, odv_plot_timeseries]'}\n",
      " owslib.wps.Process : {'_root': <Element '{http://www.opengis.net/wps/1.0.0}Process' at 0x7f84be3a6db8>, 'verbose': True, 'processVersion': '$Id: odvGetParameters.py 10693 2014-05-15 13:21:46Z boer_g $', 'statusSupported': False, 'storeSupported': False, 'abstract': 'odvGetCDI returns a list of the datafiles of a remote server', 'identifier': 'cdi_get_metadata', 'title': 'OceanDataView web processing service: cdi_get_metadata > cdi_get_parameters > [odv_plot_map, odv_plot_profile, odv_plot_timeseries]', 'dataInputs': [], 'processOutputs': []}\n",
      " owslib.wps.Process : {'_root': <Element '{http://www.opengis.net/wps/1.0.0}Process' at 0x7f84be3a6c28>, 'verbose': True, 'processVersion': '$Id: cdi_get_parameters.py 11429 2014-11-24 18:13:50Z santinel $', 'statusSupported': False, 'storeSupported': False, 'abstract': 'cdi_get_parameters returns the Parameters of a remote ODV file as html', 'identifier': 'cdi_get_parameters', 'title': 'OceanDataView web processing service: cdi_get_metadata > cdi_get_parameters > [odv_plot_map, odv_plot_profile, odv_plot_timeseries]'}\n",
      " owslib.wps.Process : {'_root': <Element '{http://www.opengis.net/wps/1.0.0}Process' at 0x7f84be3a6c28>, 'verbose': True, 'processVersion': '$Id: cdi_get_parameters.py 11429 2014-11-24 18:13:50Z santinel $', 'statusSupported': False, 'storeSupported': False, 'abstract': 'cdi_get_parameters returns the Parameters of a remote ODV file as html', 'identifier': 'cdi_get_parameters', 'title': 'OceanDataView web processing service: cdi_get_metadata > cdi_get_parameters > [odv_plot_map, odv_plot_profile, odv_plot_timeseries]', 'dataInputs': [], 'processOutputs': []}\n",
      " owslib.wps.Process : {'_root': <Element '{http://www.opengis.net/wps/1.0.0}Process' at 0x7f84be3a6ae8>, 'verbose': True, 'processVersion': '$Id: bbox_get_parameters.py 10991 2014-07-25 09:15:55Z santinel $', 'statusSupported': False, 'storeSupported': False, 'abstract': 'bbox_get_parameters returns the Parameters of a remote ODV file as html', 'identifier': 'bbox_get_parameters', 'title': 'OceanDataView web processing service: bbox_get_metadata > bbox_get_parameters > [odv_plot_map, odv_plot_profile, odv_plot_timeseries]'}\n",
      " owslib.wps.Process : {'_root': <Element '{http://www.opengis.net/wps/1.0.0}Process' at 0x7f84be3a6ae8>, 'verbose': True, 'processVersion': '$Id: bbox_get_parameters.py 10991 2014-07-25 09:15:55Z santinel $', 'statusSupported': False, 'storeSupported': False, 'abstract': 'bbox_get_parameters returns the Parameters of a remote ODV file as html', 'identifier': 'bbox_get_parameters', 'title': 'OceanDataView web processing service: bbox_get_metadata > bbox_get_parameters > [odv_plot_map, odv_plot_profile, odv_plot_timeseries]', 'dataInputs': [], 'processOutputs': []}\n",
      " owslib.wps.Process : {'_root': <Element '{http://www.opengis.net/wps/1.0.0}Process' at 0x7f84be3a69a8>, 'verbose': True, 'processVersion': '$Id: cdi_plot_timeseries.py 10666 2014-05-08 15:17:18Z boer_g $', 'statusSupported': False, 'storeSupported': False, 'abstract': 'returns a timeseries plot of 1 parameter from a remote cdi as png', 'identifier': 'cdi_plot_timeseries', 'title': 'OceanDataView web processing service: cdi_get_metadata > odv_get_parameters > [cdi_plot_map, cdi_plot_profile, cdi_plot_timeseries]'}\n",
      " owslib.wps.Process : {'_root': <Element '{http://www.opengis.net/wps/1.0.0}Process' at 0x7f84be3a69a8>, 'verbose': True, 'processVersion': '$Id: cdi_plot_timeseries.py 10666 2014-05-08 15:17:18Z boer_g $', 'statusSupported': False, 'storeSupported': False, 'abstract': 'returns a timeseries plot of 1 parameter from a remote cdi as png', 'identifier': 'cdi_plot_timeseries', 'title': 'OceanDataView web processing service: cdi_get_metadata > odv_get_parameters > [cdi_plot_map, cdi_plot_profile, cdi_plot_timeseries]', 'dataInputs': [], 'processOutputs': []}\n",
      " owslib.wps.Process : {'_root': <Element '{http://www.opengis.net/wps/1.0.0}Process' at 0x7f84be3a6868>, 'verbose': True, 'processVersion': '$Id: cdi_plot_map.py 11122 2014-09-19 17:08:21Z santinel $', 'statusSupported': False, 'storeSupported': False, 'abstract': 'returns a planview plot of 1 parameter from a remote cdi as png image or kmz Google Earth file.', 'identifier': 'cdi_plot_map', 'title': 'OceanDataView web processing service: cdi_get_metadata > odv_get_parameters > [cdi_plot_map, cdi_plot_profile, cdi_plot_timeseries]'}\n",
      " owslib.wps.Process : {'_root': <Element '{http://www.opengis.net/wps/1.0.0}Process' at 0x7f84be3a6868>, 'verbose': True, 'processVersion': '$Id: cdi_plot_map.py 11122 2014-09-19 17:08:21Z santinel $', 'statusSupported': False, 'storeSupported': False, 'abstract': 'returns a planview plot of 1 parameter from a remote cdi as png image or kmz Google Earth file.', 'identifier': 'cdi_plot_map', 'title': 'OceanDataView web processing service: cdi_get_metadata > odv_get_parameters > [cdi_plot_map, cdi_plot_profile, cdi_plot_timeseries]', 'dataInputs': [], 'processOutputs': []}\n",
      " owslib.wps.Process : {'_root': <Element '{http://www.opengis.net/wps/1.0.0}Process' at 0x7f84be3a6728>, 'verbose': True, 'processVersion': '$Id: cdi_plot_profile.py 11429 2014-11-24 18:13:50Z santinel $', 'statusSupported': False, 'storeSupported': False, 'abstract': 'returns a scatter/profile plot of 1 parameter from a remote cdi as png', 'identifier': 'cdi_plot_profile', 'title': 'OceanDataView web processing service: cdi_get_metadata > odv_get_parameters > [cdi_plot_map, cdi_plot_profile, cdi_plot_timeseries]'}\n",
      " owslib.wps.Process : {'_root': <Element '{http://www.opengis.net/wps/1.0.0}Process' at 0x7f84be3a6728>, 'verbose': True, 'processVersion': '$Id: cdi_plot_profile.py 11429 2014-11-24 18:13:50Z santinel $', 'statusSupported': False, 'storeSupported': False, 'abstract': 'returns a scatter/profile plot of 1 parameter from a remote cdi as png', 'identifier': 'cdi_plot_profile', 'title': 'OceanDataView web processing service: cdi_get_metadata > odv_get_parameters > [cdi_plot_map, cdi_plot_profile, cdi_plot_timeseries]', 'dataInputs': [], 'processOutputs': []}\n",
      " owslib.wps.Process : {'_root': <Element '{http://www.opengis.net/wps/1.0.0}Process' at 0x7f84be3a65e8>, 'verbose': True, 'processVersion': '$Id: bbox_plot_timeseries.py 10666 2014-05-08 15:17:18Z boer_g $', 'statusSupported': False, 'storeSupported': False, 'abstract': 'returns a timeseries plot of 1 parameter from a bounding box as png', 'identifier': 'bbox_plot_timeseries', 'title': 'OceanDataView web processing service: cdi_get_metadata > odv_get_parameters > [bbox_plot_map, bbox_plot_profile, bbox_plot_timeseries]'}\n",
      " owslib.wps.Process : {'_root': <Element '{http://www.opengis.net/wps/1.0.0}Process' at 0x7f84be3a65e8>, 'verbose': True, 'processVersion': '$Id: bbox_plot_timeseries.py 10666 2014-05-08 15:17:18Z boer_g $', 'statusSupported': False, 'storeSupported': False, 'abstract': 'returns a timeseries plot of 1 parameter from a bounding box as png', 'identifier': 'bbox_plot_timeseries', 'title': 'OceanDataView web processing service: cdi_get_metadata > odv_get_parameters > [bbox_plot_map, bbox_plot_profile, bbox_plot_timeseries]', 'dataInputs': [], 'processOutputs': []}\n",
      " owslib.wps.Process : {'_root': <Element '{http://www.opengis.net/wps/1.0.0}Process' at 0x7f84be3a64a8>, 'verbose': True, 'processVersion': '$Id: bbox_plot_map.py 10971 2014-07-18 09:39:38Z boer_g $', 'statusSupported': False, 'storeSupported': False, 'abstract': 'returns a planview plot of 1 parameter from a bounding box as png image or kmz Google Earth file.', 'identifier': 'bbox_plot_map', 'title': 'OceanDataView web processing service: cdi_get_metadata > odv_get_parameters > [bbox_plot_map, bbox_plot_profile, bbox_plot_timeseries]'}\n",
      " owslib.wps.Process : {'_root': <Element '{http://www.opengis.net/wps/1.0.0}Process' at 0x7f84be3a64a8>, 'verbose': True, 'processVersion': '$Id: bbox_plot_map.py 10971 2014-07-18 09:39:38Z boer_g $', 'statusSupported': False, 'storeSupported': False, 'abstract': 'returns a planview plot of 1 parameter from a bounding box as png image or kmz Google Earth file.', 'identifier': 'bbox_plot_map', 'title': 'OceanDataView web processing service: cdi_get_metadata > odv_get_parameters > [bbox_plot_map, bbox_plot_profile, bbox_plot_timeseries]', 'dataInputs': [], 'processOutputs': []}\n",
      " owslib.wps.Process : {'_root': <Element '{http://www.opengis.net/wps/1.0.0}Process' at 0x7f84be3a6368>, 'verbose': True, 'processVersion': '$Id: bbox_plot_profile.py 10971 2014-07-18 09:39:38Z boer_g $', 'statusSupported': False, 'storeSupported': False, 'abstract': 'returns a scatter/profile plot of 1 parameter from a bounding box as png', 'identifier': 'bbox_plot_profile', 'title': 'OceanDataView web processing service: cdi_get_metadata > odv_get_parameters > [bbox_plot_map, bbox_plot_profile, bbox_plot_timeseries]'}\n",
      " owslib.wps.Process : {'_root': <Element '{http://www.opengis.net/wps/1.0.0}Process' at 0x7f84be3a6368>, 'verbose': True, 'processVersion': '$Id: bbox_plot_profile.py 10971 2014-07-18 09:39:38Z boer_g $', 'statusSupported': False, 'storeSupported': False, 'abstract': 'returns a scatter/profile plot of 1 parameter from a bounding box as png', 'identifier': 'bbox_plot_profile', 'title': 'OceanDataView web processing service: cdi_get_metadata > odv_get_parameters > [bbox_plot_map, bbox_plot_profile, bbox_plot_timeseries]', 'dataInputs': [], 'processOutputs': []}\n",
      " owslib.wps.Process : {'_root': <Element '{http://www.opengis.net/wps/1.0.0}Process' at 0x7f84be3a6138>, 'verbose': True, 'processVersion': '$Id$', 'statusSupported': False, 'storeSupported': False, 'abstract': 'returns a timeseries plot of profiles from a bounding box as png', 'identifier': 'bbox_plot_timeprofile', 'title': 'OceanDataView web processing service: cdi_get_metadata > odv_get_parameters > [bbox_plot_map, bbox_plot_profile, bbox_plot_timeseries, bbox_plot_timeprofile]'}\n",
      " owslib.wps.Process : {'_root': <Element '{http://www.opengis.net/wps/1.0.0}Process' at 0x7f84be3a6138>, 'verbose': True, 'processVersion': '$Id$', 'statusSupported': False, 'storeSupported': False, 'abstract': 'returns a timeseries plot of profiles from a bounding box as png', 'identifier': 'bbox_plot_timeprofile', 'title': 'OceanDataView web processing service: cdi_get_metadata > odv_get_parameters > [bbox_plot_map, bbox_plot_profile, bbox_plot_timeseries, bbox_plot_timeprofile]', 'dataInputs': [], 'processOutputs': []}\n",
      " owslib.wps.Process : {'_root': <Element '{http://www.opengis.net/wps/1.0.0}Process' at 0x7f84be3a6228>, 'verbose': True, 'processVersion': '0.1', 'statusSupported': False, 'storeSupported': False, 'abstract': 'Returns GEOJSON FC with point geometry and count.', 'identifier': 'observed_cindex', 'title': 'ObservedCindex'}\n",
      " owslib.wps.Process : {'_root': <Element '{http://www.opengis.net/wps/1.0.0}Process' at 0x7f84be3a6228>, 'verbose': True, 'processVersion': '0.1', 'statusSupported': False, 'storeSupported': False, 'abstract': 'Returns GEOJSON FC with point geometry and count.', 'identifier': 'observed_cindex', 'title': 'ObservedCindex', 'dataInputs': [], 'processOutputs': []}\n"
     ]
    }
   ],
   "source": [
    "wps.getcapabilities()"
   ]
  },
  {
   "cell_type": "markdown",
   "metadata": {
    "collapsed": true
   },
   "source": [
    "the response should be a XML document."
   ]
  },
  {
   "cell_type": "markdown",
   "metadata": {},
   "source": [
    "## Describeprocess"
   ]
  },
  {
   "cell_type": "markdown",
   "metadata": {},
   "source": [
    "**Describeprocess** requests a full description of one or more processes that can be executed by the service.<br>\n",
    "Here we ask for the description of the process **cdi_plot_profile**."
   ]
  },
  {
   "cell_type": "code",
   "execution_count": 34,
   "metadata": {
    "collapsed": false
   },
   "outputs": [
    {
     "name": "stdout",
     "output_type": "stream",
     "text": [
      " owslib.wps.Process : {'_root': <Element 'ProcessDescription' at 0x7f84be2fcd68>, 'verbose': True, 'processVersion': None, 'statusSupported': True, 'storeSupported': True, 'abstract': 'returns a scatter/profile plot of 1 parameter from a remote cdi as png', 'identifier': 'cdi_plot_profile', 'title': 'OceanDataView web processing service: cdi_get_metadata > odv_get_parameters > [cdi_plot_map, cdi_plot_profile, cdi_plot_timeseries]'}\n",
      "\tInput:  owslib.wps.Input : {'abstract': None, 'identifier': 'linewidth', 'title': 'linewidth from matplotlib dictionary: http://matplotlib.org/api/pyplot_api.html?highlight=plot#matplotlib.pyplot.plot', 'allowedValues': [], 'supportedValues': [], 'defaultValue': '1', 'dataType': '//www.w3.org/TR/xmlschema-2/#float', 'anyValue': True, 'minOccurs': 0, 'maxOccurs': 1}\n",
      "\tInput:  owslib.wps.Input : {'abstract': None, 'identifier': 'z', 'title': 'ODV column name, html encoding of special characters may be used but not required (e.g. replacing space with by %20)', 'allowedValues': [], 'supportedValues': [], 'defaultValue': 'PRESSURE [dbar]', 'dataType': '//www.w3.org/TR/xmlschema-2/#string', 'anyValue': True, 'minOccurs': 0, 'maxOccurs': 1}\n",
      "\tInput:  owslib.wps.Input : {'abstract': None, 'identifier': 'colormap', 'title': 'colormap from matplotlib dictionary: http://wiki.scipy.org/Cookbook/Matplotlib/Show_colormaps, http://www.physics.ox.ac.uk/Users/msshin/science/code/matplotlib_cm/', 'allowedValues': [], 'supportedValues': [], 'defaultValue': 'jet', 'dataType': '//www.w3.org/TR/xmlschema-2/#string', 'anyValue': True, 'minOccurs': 0, 'maxOccurs': 1}\n",
      "\tInput:  owslib.wps.Input : {'abstract': None, 'identifier': 'log10', 'title': 'whether to plot data in log scale (1) or not (0, default)', 'allowedValues': [], 'supportedValues': [], 'defaultValue': '0', 'dataType': '//www.w3.org/TR/xmlschema-2/#integer', 'anyValue': True, 'minOccurs': 1, 'maxOccurs': 1}\n",
      "\tInput:  owslib.wps.Input : {'abstract': None, 'identifier': 'clim0', 'title': 'lower x-axis limit for plot, skip keyword for autoscale', 'allowedValues': [], 'supportedValues': [], 'defaultValue': '3.40282346639e+38', 'dataType': '//www.w3.org/TR/xmlschema-2/#float', 'anyValue': True, 'minOccurs': 0, 'maxOccurs': 1}\n",
      "\tInput:  owslib.wps.Input : {'abstract': None, 'identifier': 'clim1', 'title': 'upper x-axis limit for plot, skip keyword for autoscale', 'allowedValues': [], 'supportedValues': [], 'defaultValue': '-3.40282346639e+38', 'dataType': '//www.w3.org/TR/xmlschema-2/#float', 'anyValue': True, 'minOccurs': 0, 'maxOccurs': 1}\n",
      "\tInput:  owslib.wps.Input : {'abstract': None, 'identifier': 'markersize', 'title': 'markersize from matplotlib dictionary: http://matplotlib.org/api/pyplot_api.html?highlight=plot_date#matplotlib.pyplot.plot_date', 'allowedValues': [], 'supportedValues': [], 'defaultValue': '6.0', 'dataType': '//www.w3.org/TR/xmlschema-2/#float', 'anyValue': True, 'minOccurs': 0, 'maxOccurs': 1}\n",
      "\tInput:  owslib.wps.Input : {'abstract': None, 'identifier': 'LOCAL_CDI_ID', 'title': 'Unique local identifier of dataset in datacenter', 'allowedValues': [], 'supportedValues': [], 'defaultValue': '18037204_PCh_Surf', 'dataType': '//www.w3.org/TR/xmlschema-2/#string', 'anyValue': True, 'minOccurs': 0, 'maxOccurs': 1}\n",
      "\tInput:  owslib.wps.Input : {'abstract': None, 'identifier': 'filename', 'title': 'filename (without *.txt extension)', 'allowedValues': [], 'supportedValues': [], 'defaultValue': None, 'dataType': '//www.w3.org/TR/xmlschema-2/#string', 'anyValue': True, 'minOccurs': 1, 'maxOccurs': 1}\n",
      "\tInput:  owslib.wps.Input : {'abstract': None, 'identifier': 'color', 'title': 'color from matplotlib dictionary: http://matplotlib.org/api/pyplot_api.html?highlight=plot#matplotlib.pyplot.plot', 'allowedValues': [], 'supportedValues': [], 'defaultValue': 'blue', 'dataType': '//www.w3.org/TR/xmlschema-2/#string', 'anyValue': True, 'minOccurs': 0, 'maxOccurs': 1}\n",
      "\tInput:  owslib.wps.Input : {'abstract': None, 'identifier': 'EDMO_code', 'title': 'EDMO_code of datacenter', 'allowedValues': [], 'supportedValues': [], 'defaultValue': '486', 'dataType': '//www.w3.org/TR/xmlschema-2/#string', 'anyValue': True, 'minOccurs': 0, 'maxOccurs': 1}\n",
      "\tInput:  owslib.wps.Input : {'abstract': None, 'identifier': 'zlim0', 'title': 'lower y-axis limit for plot, skip keyword for autoscale', 'allowedValues': [], 'supportedValues': [], 'defaultValue': '-3.40282346639e+38', 'dataType': '//www.w3.org/TR/xmlschema-2/#float', 'anyValue': True, 'minOccurs': 0, 'maxOccurs': 1}\n",
      "\tInput:  owslib.wps.Input : {'abstract': None, 'identifier': 'starttime', 'title': 'start time limit for plot', 'allowedValues': [], 'supportedValues': [], 'defaultValue': '1970-01-01T00:00:00Z', 'dataType': '//www.w3.org/TR/xmlschema-2/#string', 'anyValue': True, 'minOccurs': 0, 'maxOccurs': 1}\n",
      "\tInput:  owslib.wps.Input : {'abstract': None, 'identifier': 'alpha', 'title': 'alpha from matplotlib dictionary: http://matplotlib.org/api/pyplot_api.html?highlight=plot_date#matplotlib.pyplot.plot_date', 'allowedValues': [], 'supportedValues': [], 'defaultValue': '1', 'dataType': '//www.w3.org/TR/xmlschema-2/#float', 'anyValue': True, 'minOccurs': 0, 'maxOccurs': 1}\n",
      "\tInput:  owslib.wps.Input : {'abstract': None, 'identifier': 'marker', 'title': 'marker from matplotlib dictionary: http://matplotlib.org/api/pyplot_api.html?highlight=plot_date#matplotlib.pyplot.plot_date', 'allowedValues': [], 'supportedValues': [], 'defaultValue': 'o', 'dataType': '//www.w3.org/TR/xmlschema-2/#string', 'anyValue': True, 'minOccurs': 0, 'maxOccurs': 1}\n",
      "\tInput:  owslib.wps.Input : {'abstract': None, 'identifier': 'zlim1', 'title': 'upper y-axis limit for plot, skip keyword for autoscale', 'allowedValues': [], 'supportedValues': [], 'defaultValue': '3.40282346639e+38', 'dataType': '//www.w3.org/TR/xmlschema-2/#float', 'anyValue': True, 'minOccurs': 0, 'maxOccurs': 1}\n",
      "\tInput:  owslib.wps.Input : {'abstract': None, 'identifier': 'linestyle', 'title': 'linestyle from matplotlib dictionary: http://matplotlib.org/api/pyplot_api.html?highlight=plot#matplotlib.pyplot.plot', 'allowedValues': [], 'supportedValues': [], 'defaultValue': 'solid', 'dataType': '//www.w3.org/TR/xmlschema-2/#string', 'anyValue': True, 'minOccurs': 0, 'maxOccurs': 1}\n",
      "\tInput:  owslib.wps.Input : {'abstract': None, 'identifier': 'endtime', 'title': 'end time limit for plot', 'allowedValues': [], 'supportedValues': [], 'defaultValue': '2020-01-01T00:00:00Z', 'dataType': '//www.w3.org/TR/xmlschema-2/#string', 'anyValue': True, 'minOccurs': 0, 'maxOccurs': 1}\n",
      "\tInput:  owslib.wps.Input : {'abstract': None, 'identifier': 'parameter', 'title': 'ODV column name, html encoding of special characters may be used but not required (e.g. replacing space with by %20)', 'allowedValues': [], 'supportedValues': [], 'defaultValue': 'WSALIN_[PSU]', 'dataType': '//www.w3.org/TR/xmlschema-2/#string', 'anyValue': True, 'minOccurs': 0, 'maxOccurs': 1}\n",
      "\tOutput:  owslib.wps.Output : {'abstract': None, 'identifier': 'urlmapname', 'title': 'url of png file created', 'allowedValues': [], 'supportedValues': [], 'defaultValue': None, 'dataType': '//www.w3.org/TR/xmlschema-2/#string', 'anyValue': False, 'reference': None, 'mimeType': None, 'data': [], 'fileName': None, 'filePath': None}\n",
      "\tOutput:  owslib.wps.Output : {'abstract': None, 'identifier': 'pngname', 'title': 'mime png file created', 'allowedValues': [], 'supportedValues': [<owslib.wps.ComplexData object at 0x7f84be345f98>], 'defaultValue': <owslib.wps.ComplexData object at 0x7f84be345cc0>, 'dataType': 'ComplexData', 'anyValue': False, 'reference': None, 'mimeType': None, 'data': [], 'fileName': None, 'filePath': None}\n"
     ]
    }
   ],
   "source": [
    "cdi_plot_profile_description = wps.describeprocess('cdi_plot_profile')"
   ]
  },
  {
   "cell_type": "markdown",
   "metadata": {},
   "source": [
    "The process is described with inputs and outputs."
   ]
  },
  {
   "cell_type": "markdown",
   "metadata": {},
   "source": [
    "## Input  "
   ]
  },
  {
   "cell_type": "markdown",
   "metadata": {},
   "source": [
    "The inputs are obtained as a list:"
   ]
  },
  {
   "cell_type": "code",
   "execution_count": 40,
   "metadata": {
    "collapsed": false
   },
   "outputs": [
    {
     "data": {
      "text/plain": [
       "[<owslib.wps.Input at 0x7f84be33e470>,\n",
       " <owslib.wps.Input at 0x7f84be33ea58>,\n",
       " <owslib.wps.Input at 0x7f84be33e128>,\n",
       " <owslib.wps.Input at 0x7f84be33ed68>,\n",
       " <owslib.wps.Input at 0x7f84be33ef60>,\n",
       " <owslib.wps.Input at 0x7f84be33e518>,\n",
       " <owslib.wps.Input at 0x7f84be33ef98>,\n",
       " <owslib.wps.Input at 0x7f84be33eba8>,\n",
       " <owslib.wps.Input at 0x7f84be33ef28>,\n",
       " <owslib.wps.Input at 0x7f84be33e4a8>,\n",
       " <owslib.wps.Input at 0x7f84be3452e8>,\n",
       " <owslib.wps.Input at 0x7f84be345470>,\n",
       " <owslib.wps.Input at 0x7f84be3450f0>,\n",
       " <owslib.wps.Input at 0x7f84be345320>,\n",
       " <owslib.wps.Input at 0x7f84be345278>,\n",
       " <owslib.wps.Input at 0x7f84be345cf8>,\n",
       " <owslib.wps.Input at 0x7f84be345ef0>,\n",
       " <owslib.wps.Input at 0x7f84be345400>,\n",
       " <owslib.wps.Input at 0x7f84be345d68>]"
      ]
     },
     "execution_count": 40,
     "metadata": {},
     "output_type": "execute_result"
    }
   ],
   "source": [
    "cdi_plot_profile_description.dataInputs"
   ]
  },
  {
   "cell_type": "markdown",
   "metadata": {},
   "source": [
    "and each element of the list contains specification (strings) of the considered input: "
   ]
  },
  {
   "cell_type": "code",
   "execution_count": 50,
   "metadata": {
    "collapsed": false
   },
   "outputs": [
    {
     "name": "stdout",
     "output_type": "stream",
     "text": [
      "linewidth from matplotlib dictionary: http://matplotlib.org/api/pyplot_api.html?highlight=plot#matplotlib.pyplot.plot\n",
      "linewidth\n",
      "//www.w3.org/TR/xmlschema-2/#float\n"
     ]
    }
   ],
   "source": [
    "input0 = cdi_plot_profile_description.dataInputs[0]\n",
    "print(input0.title)\n",
    "print(input0.identifier)\n",
    "print(input0.dataType)"
   ]
  },
  {
   "cell_type": "markdown",
   "metadata": {},
   "source": [
    "## Outputs"
   ]
  },
  {
   "cell_type": "markdown",
   "metadata": {},
   "source": [
    "They are also given as a list. Here we check the first element of the list:"
   ]
  },
  {
   "cell_type": "code",
   "execution_count": 65,
   "metadata": {
    "collapsed": false
   },
   "outputs": [
    {
     "name": "stdout",
     "output_type": "stream",
     "text": [
      "url of png file created\n"
     ]
    }
   ],
   "source": [
    "output0 = cdi_plot_profile_description.processOutputs[0]\n",
    "print(output0.title)"
   ]
  },
  {
   "cell_type": "markdown",
   "metadata": {},
   "source": [
    "## Execute operation"
   ]
  },
  {
   "cell_type": "markdown",
   "metadata": {},
   "source": [
    "Run a specified process implemented by a server, using the input parameter values provided and returning the output values produced"
   ]
  },
  {
   "cell_type": "code",
   "execution_count": 71,
   "metadata": {
    "collapsed": false
   },
   "outputs": [],
   "source": [
    "wps.execute?"
   ]
  },
  {
   "cell_type": "code",
   "execution_count": 70,
   "metadata": {
    "collapsed": false
   },
   "outputs": [
    {
     "ename": "AttributeError",
     "evalue": "'Process' object has no attribute 'Process'",
     "output_type": "error",
     "traceback": [
      "\u001b[0;31m---------------------------------------------------------------------------\u001b[0m",
      "\u001b[0;31mAttributeError\u001b[0m                            Traceback (most recent call last)",
      "\u001b[0;32m<ipython-input-70-d797aba257c3>\u001b[0m in \u001b[0;36m<module>\u001b[0;34m()\u001b[0m\n\u001b[0;32m----> 1\u001b[0;31m \u001b[0mcdi_plot_profile_description\u001b[0m\u001b[0;34m.\u001b[0m\u001b[0mProcess\u001b[0m\u001b[0;34m\u001b[0m\u001b[0m\n\u001b[0m",
      "\u001b[0;31mAttributeError\u001b[0m: 'Process' object has no attribute 'Process'"
     ]
    }
   ],
   "source": [
    "cdi_plot_profile_description."
   ]
  },
  {
   "cell_type": "code",
   "execution_count": null,
   "metadata": {
    "collapsed": true
   },
   "outputs": [],
   "source": []
  }
 ],
 "metadata": {
  "kernelspec": {
   "display_name": "WPS_Python3.6",
   "language": "python",
   "name": "wps_python3.6"
  },
  "language_info": {
   "codemirror_mode": {
    "name": "ipython",
    "version": 3
   },
   "file_extension": ".py",
   "mimetype": "text/x-python",
   "name": "python",
   "nbconvert_exporter": "python",
   "pygments_lexer": "ipython3",
   "version": "3.6.0"
  }
 },
 "nbformat": 4,
 "nbformat_minor": 2
}
