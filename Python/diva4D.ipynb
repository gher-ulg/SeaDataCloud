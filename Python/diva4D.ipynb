{
 "cells": [
  {
   "cell_type": "markdown",
   "metadata": {},
   "source": [
    "This notebook shows how to run 4D example of DIVA.<br>\n",
    "The input files and the figures are created within the notebook."
   ]
  },
  {
   "cell_type": "code",
   "execution_count": 1,
   "metadata": {
    "collapsed": true
   },
   "outputs": [],
   "source": [
    "import os\n",
    "import logging\n",
    "import shutil\n",
    "import subprocess"
   ]
  },
  {
   "cell_type": "code",
   "execution_count": 9,
   "metadata": {
    "collapsed": false
   },
   "outputs": [
    {
     "ename": "ModuleNotFoundError",
     "evalue": "No module named 'diva2D'",
     "output_type": "error",
     "traceback": [
      "\u001b[0;31m---------------------------------------------------------------------------\u001b[0m",
      "\u001b[0;31mModuleNotFoundError\u001b[0m                       Traceback (most recent call last)",
      "\u001b[0;32m<ipython-input-9-5423b9e0fb10>\u001b[0m in \u001b[0;36m<module>\u001b[0;34m()\u001b[0m\n\u001b[0;32m----> 1\u001b[0;31m \u001b[0;32mfrom\u001b[0m \u001b[0mdiva2D\u001b[0m \u001b[0;32mimport\u001b[0m \u001b[0;34m*\u001b[0m\u001b[0;34m\u001b[0m\u001b[0m\n\u001b[0m",
      "\u001b[0;31mModuleNotFoundError\u001b[0m: No module named 'diva2D'"
     ]
    }
   ],
   "source": [
    "from divafunctions import make_diva2D_filenames"
   ]
  },
  {
   "cell_type": "markdown",
   "metadata": {},
   "source": [
    "# Setup "
   ]
  },
  {
   "cell_type": "markdown",
   "metadata": {},
   "source": [
    "Adapt the path to the diva installation you want to work with."
   ]
  },
  {
   "cell_type": "code",
   "execution_count": 2,
   "metadata": {
    "collapsed": true
   },
   "outputs": [],
   "source": [
    "divadir = \"/home/ctroupin/Software/DIVA/diva-4.7.1\""
   ]
  },
  {
   "cell_type": "markdown",
   "metadata": {},
   "source": [
    "## Logging configuration"
   ]
  },
  {
   "cell_type": "code",
   "execution_count": 3,
   "metadata": {
    "collapsed": true
   },
   "outputs": [],
   "source": [
    "logger = logging.getLogger()\n",
    "logger.setLevel(logging.DEBUG)"
   ]
  },
  {
   "cell_type": "markdown",
   "metadata": {},
   "source": [
    "Create a function to generate the paths to the main directories, based on the location of the main DIVA directory."
   ]
  },
  {
   "cell_type": "code",
   "execution_count": 6,
   "metadata": {
    "collapsed": true
   },
   "outputs": [],
   "source": [
    "def make_diva_directories(divadir):\n",
    "    '''Create directory names based on the Diva main directory.'''\n",
    "    if os.path.isdir(divadir):\n",
    "        logging.debug(\"{0} already exists\".format(divadir))\n",
    "        divabindir = os.path.join(divadir, 'DIVA3D/bin') \n",
    "        divasrcdir = os.path.join(divadir, 'DIVA3D/src/Fortan')\n",
    "        diva2Ddir = os.path.join(divadir, 'DIVA3D/divastripped')\n",
    "        diva4Ddir = os.path.join(divadir, 'JRA4/Climatology')\n",
    "        return divabindir, divasrcdir, diva2Ddir, diva4Ddir\n",
    "    else:\n",
    "        logging.error(\"%{0} is not a directory\".format(divadir))\n",
    "        return '', '', '', ''"
   ]
  },
  {
   "cell_type": "code",
   "execution_count": 7,
   "metadata": {
    "collapsed": false
   },
   "outputs": [
    {
     "name": "stderr",
     "output_type": "stream",
     "text": [
      "DEBUG:root:/home/ctroupin/Software/DIVA/diva-4.7.1 already exists\n"
     ]
    }
   ],
   "source": [
    "divabindir, divasrcdir, diva2Ddir, diva4Ddir = make_diva_directories(divadir)"
   ]
  },
  {
   "cell_type": "markdown",
   "metadata": {},
   "source": [
    "We also need to create the path to the main input files, to which the parameters will be written."
   ]
  },
  {
   "cell_type": "code",
   "execution_count": null,
   "metadata": {
    "collapsed": true
   },
   "outputs": [],
   "source": [
    "def make_diva_input(diva2Ddir):\n",
    "    '''Generate the input file names and location based on the diva2D main directory.'''\n",
    "    ContourFile = os.path.join(diva2Ddir, 'input/coast.cont')\n",
    "    ParameterFile = os.path.join(diva2Ddir, 'input/param.par')\n",
    "    DataFile = os.path.join(diva2Ddir, 'input/data.dat')\n",
    "    ValatxyFile = os.path.join(diva2Ddir, 'input/valatxy.coord')\n",
    "    return ContourFile, DataFile, ParameterFile, ValatxyFile"
   ]
  },
  {
   "cell_type": "code",
   "execution_count": 180,
   "metadata": {
    "collapsed": true
   },
   "outputs": [],
   "source": [
    "ContourFile, DataFile, ParameterFile, ValatxyFile = make_diva_input(diva2Ddir)"
   ]
  },
  {
   "cell_type": "markdown",
   "metadata": {},
   "source": [
    "# Prepate the input files"
   ]
  },
  {
   "cell_type": "markdown",
   "metadata": {},
   "source": [
    "## Contour"
   ]
  },
  {
   "cell_type": "markdown",
   "metadata": {},
   "source": [
    "Create a sequence of points representing the contour (no crossing, no duplicate points, etc).<br>\n",
    "It is defined as a list of list of tuples (don't forget the double brackets!)."
   ]
  },
  {
   "cell_type": "code",
   "execution_count": 198,
   "metadata": {
    "collapsed": false
   },
   "outputs": [],
   "source": [
    "contours = [[(0., 0.), (2., 0.), (2., 4.), (0., 4.)], \n",
    "           [(2.5, 0.), (6., 0.), (6., 3.), (2.5, 3.)]\n",
    "           ]"
   ]
  },
  {
   "cell_type": "code",
   "execution_count": 199,
   "metadata": {
    "collapsed": false
   },
   "outputs": [],
   "source": [
    "def write_contour(contours, ContourFile):\n",
    "    ncontours = len(contours)\n",
    "    logger.debug(\"Contour has {0} sub-contours\".format(ncontours))\n",
    "    with open(ContourFile, 'w') as f:\n",
    "        f.write(str(ncontours) + '\\n')\n",
    "        for n, contour in enumerate(contours):\n",
    "            npoints = len(contour)\n",
    "            logger.debug(\"Sub-contour no. {0} has {1} points\".format(n, npoints))\n",
    "            f.write(str(npoints) + '\\n')\n",
    "            for points in contour:\n",
    "                line = ' '.join(str(x) for x in points)\n",
    "                f.write(line + '\\n')"
   ]
  },
  {
   "cell_type": "code",
   "execution_count": 200,
   "metadata": {
    "collapsed": false
   },
   "outputs": [
    {
     "name": "stderr",
     "output_type": "stream",
     "text": [
      "DEBUG:root:Contour has 2 sub-contours\n",
      "DEBUG:root:Sub-contour no. 0 has 4 points\n",
      "DEBUG:root:Sub-contour no. 1 has 4 points\n"
     ]
    }
   ],
   "source": [
    "write_contour(contours, ContourFile)"
   ]
  },
  {
   "cell_type": "markdown",
   "metadata": {},
   "source": [
    "## Data"
   ]
  },
  {
   "cell_type": "markdown",
   "metadata": {},
   "source": [
    "Create a sequence of coordinates and values representing the data points. <br>\n",
    "It is defined as a list of tuples, each tuple containing 3 or 4 values (if weights are also included).<br>\n",
    "It is not a problem to mix 3- and 4-value tuples, as diva can deal with such kind of data file.=+"
   ]
  },
  {
   "cell_type": "code",
   "execution_count": 185,
   "metadata": {
    "collapsed": true
   },
   "outputs": [],
   "source": [
    "data = [(1.2, 2.1, 1., 1.), (2., 3.5, -2), (3., 2., 4), (5.5, 0.2, -1)]"
   ]
  },
  {
   "cell_type": "code",
   "execution_count": 186,
   "metadata": {
    "collapsed": true
   },
   "outputs": [],
   "source": [
    "def write_data(data, DataFile):\n",
    "    ndata = len(data)\n",
    "    with open(DataFile, 'w') as f:\n",
    "        for datapoints in data:\n",
    "            line = ' '.join(str(x) for x in datapoints)\n",
    "            f.write(line + '\\n')     "
   ]
  },
  {
   "cell_type": "code",
   "execution_count": 187,
   "metadata": {
    "collapsed": true
   },
   "outputs": [],
   "source": [
    "write_data(data, DataFile)"
   ]
  },
  {
   "cell_type": "markdown",
   "metadata": {},
   "source": [
    "## Parameters"
   ]
  },
  {
   "cell_type": "code",
   "execution_count": 188,
   "metadata": {
    "collapsed": false
   },
   "outputs": [],
   "source": [
    "xmin, ymin, nx, ny, dx, dy = 0.0, 0.0, 61, 81, 0.1, 0.05"
   ]
  },
  {
   "cell_type": "code",
   "execution_count": 189,
   "metadata": {
    "collapsed": true
   },
   "outputs": [],
   "source": [
    "CorrelationLength = 1.5\n",
    "SignalToNoiseRatio = 0.5\n",
    "VarianceBackgroundField = 1.0\n",
    "ExclusionValue = -999.\n",
    "iCoordChange = 0\n",
    "iSpec = 11\n",
    "iReg = 0"
   ]
  },
  {
   "cell_type": "code",
   "execution_count": 192,
   "metadata": {
    "collapsed": false
   },
   "outputs": [],
   "source": [
    "def write_parameter(CorrelationLength, iCoordChange, iSpec, iReg,\n",
    "                    xmin, ymin, dx, dy, nx, ny,\n",
    "                    ExclusionValue, SignalToNoiseRatio, VarianceBackgroundField, ParameterFile):\n",
    "\n",
    "    ParamString = (\"# Correlation Length lc \\n{0} \\n\"\n",
    "            \"# icoordchange \\n{1} \\n\"\n",
    "            \"# ispec \\n{2} \\n\"\n",
    "            \"# ireg \\n{3} \\n\"\n",
    "            \"# xori \\n{4} \\n\"\n",
    "            \"# yori \\n{5} \\n\"\n",
    "            \"# dx \\n{6} \\n\"\n",
    "            \"# dy \\n{7} \\n\"\n",
    "            \"# nx \\n{8} \\n\"\n",
    "            \"# ny \\n{9} \\n\"\n",
    "            \"# valex \\n{10} \\n\"\n",
    "            \"# snr \\n{11} \\n\"\n",
    "            \"# varbak \\n{12}\".format(CorrelationLength, iCoordChange, iSpec, iReg,\n",
    "                                     xmin, ymin, dx, dy, nx, ny,\n",
    "                                     ExclusionValue, SignalToNoiseRatio, VarianceBackgroundField)\n",
    "           )\n",
    "    with open(ParameterFile, 'w') as f:\n",
    "        f.write(ParamString)"
   ]
  },
  {
   "cell_type": "code",
   "execution_count": 193,
   "metadata": {
    "collapsed": false
   },
   "outputs": [],
   "source": [
    "write_parameter(CorrelationLength, iCoordChange, iSpec, iReg, xmin, ymin, dx, dy, nx, ny,\n",
    "                ExclusionValue, SignalToNoiseRatio, VarianceBackgroundField, ParameterFile)"
   ]
  },
  {
   "cell_type": "markdown",
   "metadata": {},
   "source": [
    "# Run diva"
   ]
  },
  {
   "cell_type": "markdown",
   "metadata": {},
   "source": [
    "## Mesh generation"
   ]
  },
  {
   "cell_type": "code",
   "execution_count": 201,
   "metadata": {
    "collapsed": false
   },
   "outputs": [
    {
     "name": "stderr",
     "output_type": "stream",
     "text": [
      "INFO:root:Generating finite element mesh\n"
     ]
    },
    {
     "data": {
      "text/plain": [
       "<subprocess.Popen at 0x7f6fd9e38e10>"
      ]
     },
     "execution_count": 201,
     "metadata": {},
     "output_type": "execute_result"
    }
   ],
   "source": [
    "logging.info(\"Generating finite element mesh\")\n",
    "subprocess.Popen(\"./divamesh\", cwd=diva2Ddir, shell=True)"
   ]
  },
  {
   "cell_type": "markdown",
   "metadata": {},
   "source": [
    "## Run the diva calculation"
   ]
  },
  {
   "cell_type": "code",
   "execution_count": 202,
   "metadata": {
    "collapsed": false
   },
   "outputs": [
    {
     "name": "stderr",
     "output_type": "stream",
     "text": [
      "INFO:root:Generating gridded field\n"
     ]
    },
    {
     "data": {
      "text/plain": [
       "<subprocess.Popen at 0x7f6fd9e38e80>"
      ]
     },
     "execution_count": 202,
     "metadata": {},
     "output_type": "execute_result"
    }
   ],
   "source": [
    "logging.info(\"Generating gridded field\")\n",
    "subprocess.Popen(\"./divacalc\", cwd=diva2Ddir, shell=True)"
   ]
  },
  {
   "cell_type": "markdown",
   "metadata": {},
   "source": [
    "# Time for some plots"
   ]
  },
  {
   "cell_type": "code",
   "execution_count": 203,
   "metadata": {
    "collapsed": false
   },
   "outputs": [],
   "source": [
    "import netCDF4\n",
    "import matplotlib.pyplot as plt"
   ]
  },
  {
   "cell_type": "markdown",
   "metadata": {},
   "source": [
    "## Results "
   ]
  },
  {
   "cell_type": "code",
   "execution_count": 204,
   "metadata": {
    "collapsed": false
   },
   "outputs": [
    {
     "name": "stderr",
     "output_type": "stream",
     "text": [
      "WARNING:root:No error field stored in the file\n"
     ]
    }
   ],
   "source": [
    "with netCDF4.Dataset(os.path.join(diva2Ddir, 'output/ghertonetcdf/results.nc')) as nc:\n",
    "    x = nc.variables['x'][:]\n",
    "    y = nc.variables['y'][:]\n",
    "    field = nc.variables['analyzed_field'][:]\n",
    "    try:\n",
    "        error = nc.variables['errer_field'][:]\n",
    "    except KeyError:\n",
    "        logger.warning('No error field stored in the file')"
   ]
  },
  {
   "cell_type": "code",
   "execution_count": 205,
   "metadata": {
    "collapsed": false
   },
   "outputs": [
    {
     "data": {
      "image/png": "[encoded data removed]",
      "text/plain": [
       "<matplotlib.figure.Figure at 0x7f6fd9e4c860>"
      ]
     },
     "metadata": {},
     "output_type": "display_data"
    }
   ],
   "source": [
    "cmap = plt.cm.RdYlBu_r\n",
    "fig = plt.figure(figsize=(4, 4))\n",
    "pcm = plt.pcolormesh(x, y, field, cmap=cmap)\n",
    "cbar = plt.colorbar(pcm)\n",
    "plt.show()"
   ]
  },
  {
   "cell_type": "code",
   "execution_count": null,
   "metadata": {
    "collapsed": true
   },
   "outputs": [],
   "source": []
  }
 ],
 "metadata": {
  "kernelspec": {
   "display_name": "Python 3",
   "language": "python",
   "name": "python3"
  },
  "language_info": {
   "codemirror_mode": {
    "name": "ipython",
    "version": 3
   },
   "file_extension": ".py",
   "mimetype": "text/x-python",
   "name": "python",
   "nbconvert_exporter": "python",
   "pygments_lexer": "ipython3",
   "version": "3.6.0"
  }
 },
 "nbformat": 4,
 "nbformat_minor": 2
}
