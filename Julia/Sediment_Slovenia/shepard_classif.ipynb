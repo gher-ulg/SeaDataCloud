{
 "cells": [
  {
   "cell_type": "code",
   "execution_count": 40,
   "metadata": {},
   "outputs": [
    {
     "data": {
      "text/plain": [
       "get_shephard_type"
      ]
     },
     "execution_count": 40,
     "metadata": {},
     "output_type": "execute_result"
    }
   ],
   "source": [
    "\"\"\"\n",
    "get_shephard_type(sand, silt, clay)\n",
    "\n",
    "Return the Shephard type according to the percentage of each sediment\n",
    "\"\"\"\n",
    "function get_shephard_type(sand::Float64, silt::Float64, clay::Float64)::String\n",
    "    \n",
    "    if sand + silt + clay != 100.\n",
    "        @warn(\"The sum is not equal to 100, will perform identification with these values\")\n",
    "    end\n",
    "    \n",
    "    if sand >= 75.\n",
    "        sedimenttype = \"sand\"\n",
    "    elseif silt >= 75.\n",
    "        sedimenttype = \"silt\"\n",
    "    elseif clay >= 75.\n",
    "        @info(\"Looks like clay\")\n",
    "        sedimenttype = \"clay\"\n",
    "    elseif (sand > 20.) & (silt > 20.) & (clay > 20.)\n",
    "        sedimenttype = \"sand silt clay\"\n",
    "    else\n",
    "        if sand >= clay\n",
    "            if clay >= silt\n",
    "                sedimenttype = \"clayey sand\"\n",
    "            else\n",
    "                if sand >= silt\n",
    "                    sedimenttype = \"silty sand\"\n",
    "                else\n",
    "                    sedimenttype = \"sandy silt\"\n",
    "                end\n",
    "            end\n",
    "        else\n",
    "            if clay >= silt\n",
    "                if sand >= silt\n",
    "                    sedimenttype = \"sandy clay\"\n",
    "                else\n",
    "                    sedimenttype = \"silty clay\"\n",
    "                end\n",
    "            else\n",
    "                sedimenttype = \"clayey silt\"\n",
    "            end\n",
    "        end\n",
    "            \n",
    "    end\n",
    "\n",
    "    return sedimenttype\n",
    "end"
   ]
  },
  {
   "cell_type": "code",
   "execution_count": 41,
   "metadata": {},
   "outputs": [
    {
     "name": "stderr",
     "output_type": "stream",
     "text": [
      "┌ Warning: The sum is not equal to 100\n",
      "└ @ Main In[40]:9\n"
     ]
    },
    {
     "data": {
      "text/plain": [
       "\"sandy clay\""
      ]
     },
     "execution_count": 41,
     "metadata": {},
     "output_type": "execute_result"
    }
   ],
   "source": [
    "get_shephard_type(10., 10., 70.)"
   ]
  },
  {
   "cell_type": "code",
   "execution_count": null,
   "metadata": {},
   "outputs": [],
   "source": [
    "get_shephard_type(10., 20., 70.)"
   ]
  }
 ],
 "metadata": {
  "kernelspec": {
   "display_name": "Julia 1.2.0",
   "language": "julia",
   "name": "julia-1.2"
  },
  "language_info": {
   "file_extension": ".jl",
   "mimetype": "application/julia",
   "name": "julia",
   "version": "1.2.0"
  }
 },
 "nbformat": 4,
 "nbformat_minor": 2
}
