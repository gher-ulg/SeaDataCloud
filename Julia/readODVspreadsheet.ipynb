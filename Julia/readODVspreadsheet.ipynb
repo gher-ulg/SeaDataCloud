{
 "cells": [
  {
   "cell_type": "markdown",
   "metadata": {
    "deletable": true,
    "editable": true
   },
   "source": [
    "Explain how to read an ODV spreadsheet data file using `Julia`"
   ]
  },
  {
   "cell_type": "code",
   "execution_count": 5,
   "metadata": {
    "collapsed": false,
    "deletable": true,
    "editable": true
   },
   "outputs": [],
   "source": [
    "using Logging\n",
    "Logging.configure(level=WARNING);"
   ]
  },
  {
   "cell_type": "markdown",
   "metadata": {
    "deletable": true,
    "editable": true
   },
   "source": [
    "# Input file"
   ]
  },
  {
   "cell_type": "code",
   "execution_count": 3,
   "metadata": {
    "collapsed": false,
    "deletable": true,
    "editable": true
   },
   "outputs": [],
   "source": [
    "datadir = \"./data/\";\n",
    "ODVfile = joinpath(datadir, \"SmallODV2.txt\");"
   ]
  },
  {
   "cell_type": "markdown",
   "metadata": {
    "deletable": true,
    "editable": true
   },
   "source": [
    "Check if the file exists:"
   ]
  },
  {
   "cell_type": "code",
   "execution_count": 4,
   "metadata": {
    "collapsed": false,
    "deletable": true,
    "editable": true
   },
   "outputs": [],
   "source": [
    "if isfile(ODVfile)\n",
    "    info(\"Working on file $ODVfile\")\n",
    "else\n",
    "    err(\"File $ODVfile doesn't exist\")\n",
    "end"
   ]
  },
  {
   "cell_type": "markdown",
   "metadata": {
    "deletable": true,
    "editable": true
   },
   "source": [
    "# Read the file"
   ]
  },
  {
   "cell_type": "markdown",
   "metadata": {
    "deletable": true,
    "editable": true
   },
   "source": [
    "Loop on the file lines.<br>\n",
    "According to ODV guide, there are 3 types of lines:\n",
    "1. comment lines, \n",
    "2. the column labels line, and \n",
    "3. data lines. "
   ]
  },
  {
   "cell_type": "markdown",
   "metadata": {
    "deletable": true,
    "editable": true
   },
   "source": [
    "First we define a function that will create a profile:"
   ]
  },
  {
   "cell_type": "code",
   "execution_count": 4,
   "metadata": {
    "collapsed": false,
    "deletable": true,
    "editable": true
   },
   "outputs": [
    {
     "data": {
      "text/plain": [
       "initProfileList (generic function with 1 method)"
      ]
     },
     "execution_count": 4,
     "metadata": {},
     "output_type": "execute_result"
    }
   ],
   "source": [
    "function initProfileList(line)\n",
    "    \"\"\"\n",
    "    Create an empty list of lists, \n",
    "    the number of internal lists is the number of columns\n",
    "    \n",
    "    List of lists is preferred because the length of each list is \n",
    "    not always the same.\n",
    "    \"\"\"\n",
    "    debug(\"Creating new profile (list of list) with empty values\")\n",
    "    \n",
    "    # Compute number of columns\n",
    "    ncolumns = length(line);\n",
    "    debug(\"No. of columns: \" * string(ncolumns))\n",
    "    \n",
    "    profile = []\n",
    "    for i in 1:ncolumns\n",
    "        push!(profile, [line[i]]) \n",
    "    end\n",
    "    \n",
    "    return profile\n",
    "end"
   ]
  },
  {
   "cell_type": "markdown",
   "metadata": {
    "deletable": true,
    "editable": true
   },
   "source": [
    "We need to be able to distinguish between:\n",
    "* *header* lines, i.e. lines that contain metadata about a given profiles,\n",
    "* *data* lines, which really contain the measured values.\n",
    "To do so, we count the number of empty values and compare it to the expect number of columns, obtained as the 1st line after the comments. "
   ]
  },
  {
   "cell_type": "code",
   "execution_count": 5,
   "metadata": {
    "collapsed": false,
    "deletable": true,
    "editable": true
   },
   "outputs": [
    {
     "data": {
      "text/plain": [
       "getNonEmptyInd (generic function with 1 method)"
      ]
     },
     "execution_count": 5,
     "metadata": {},
     "output_type": "execute_result"
    }
   ],
   "source": [
    "function getNonEmptyInd(line)\n",
    "    nonempty(x) = length(x) > 0;\n",
    "    nonempty_ind = find(nonempty, line);\n",
    "    return nonempty_ind;\n",
    "end"
   ]
  },
  {
   "cell_type": "code",
   "execution_count": 6,
   "metadata": {
    "collapsed": false,
    "deletable": true,
    "editable": true
   },
   "outputs": [],
   "source": [
    "global ODVspreadsheet3\n",
    "type ODVspreadsheet3\n",
    "        metadata::Dict{String,String}\n",
    "        columnLabels::Array{SubString{String},1}\n",
    "        profileList::Array{Any,1}\n",
    "end"
   ]
  },
  {
   "cell_type": "code",
   "execution_count": 7,
   "metadata": {
    "collapsed": false,
    "deletable": true,
    "editable": true
   },
   "outputs": [
    {
     "data": {
      "text/plain": [
       "readODVspreadsheet (generic function with 1 method)"
      ]
     },
     "execution_count": 7,
     "metadata": {},
     "output_type": "execute_result"
    }
   ],
   "source": [
    "function readODVspreadsheet(datafile)\n",
    "    \n",
    "    \"\"\"\n",
    "    The function will return a composite type that will store:\n",
    "    1. The general metadata of the spreadsheet\n",
    "    2. The labels of the columns\n",
    "    3. The individual profiles\n",
    "    \"\"\"\n",
    "\n",
    "    # metadata will be stored in a dictionary\n",
    "    # ODV doc: Comment lines start with two slashes  // as first two characters\n",
    "    metadata = Dict{String, String}()\n",
    "\n",
    "    # Context manager\n",
    "    open(datafile, \"r\") do f\n",
    "        line = readline(f)\n",
    "\n",
    "        # Read the metadata (lines starting with //)\n",
    "        while line[1:2] == \"//\"\n",
    "\n",
    "            # Identify metadata fields using regex\n",
    "            # (name of the field is between < > and </ >)\n",
    "            m = match(r\"<(\\w+)>(.+)</(\\w+)>\", line)\n",
    "\n",
    "            if m != nothing\n",
    "                debug(\"Match found\")\n",
    "                println(m[1] * \": \" * m[2])\n",
    "                # Add key - value in the dictionnary\n",
    "                metadata[String(m[1])] = String(m[2])\n",
    "            end\n",
    "            line = readline(f);\n",
    "        end\n",
    "\n",
    "        # Read the column labels and set number of columns\n",
    "        #ODV doc: must be the first non-comment line in the file\n",
    "        #ODV doc: must provide columns for all mandatory meta-variables\n",
    "        columnline = line\n",
    "        columnLabels = split(chomp(columnline), '\\t')\n",
    "        ncols = length(columnLabels);\n",
    "        debug(\"No. of columns: \" * string(ncols))\n",
    "\n",
    "        # Create an array that will store all the profiles\n",
    "        profileList = []\n",
    "\n",
    "        # Loop on the lines\n",
    "        jj = 0\n",
    "        profile = [];\n",
    "        nprofiles = 0;\n",
    "\n",
    "        while !eof(f)\n",
    "            jj += 1;\n",
    "            line = split(chomp(readline(f)), \"\\t\");\n",
    "\n",
    "            # Count empty values\n",
    "            nonempty_ind = getNonEmptyInd(line);\n",
    "            debug(\"Indices of the non-empty columns :\")\n",
    "            debug(nonempty_ind);\n",
    "\n",
    "            # If the first value (Station) is not empty, \n",
    "            # then it's a header line\n",
    "            if (nonempty_ind[1] == 1)\n",
    "                debug(\"Working with a header line\")\n",
    "                debug(\"Adding the profile to the array\")\n",
    "                push!(profileList, profile)\n",
    "\n",
    "                # Initiate a profile (list of lists)\n",
    "                nprofiles += 1;\n",
    "                debug(\"Create a new, empty profile\")\n",
    "                profile = initProfileList(line)\n",
    "            else\n",
    "                debug(\"Adding values to the existing profile\")\n",
    "                for ii in nonempty_ind\n",
    "                    push!(profile[ii], line[ii]);\n",
    "                end\n",
    "            end\n",
    "        end\n",
    "\n",
    "        info(\"No. of profiles in the file: \" * string(nprofiles))\n",
    "        ODVdata = ODVspreadsheet3(metadata, columnLabels, profileList)\n",
    "        return ODVdata\n",
    "    end\n",
    "end"
   ]
  },
  {
   "cell_type": "code",
   "execution_count": 11,
   "metadata": {
    "collapsed": false,
    "deletable": true,
    "editable": true
   },
   "outputs": [
    {
     "name": "stderr",
     "output_type": "stream",
     "text": [
      "14-juin 16:12:15:INFO:root:No. of profiles in the file: 2\n"
     ]
    },
    {
     "name": "stdout",
     "output_type": "stream",
     "text": [
      "Version: ODV Spreadsheet V4.0\n",
      "Creator: charles@gher13.phys.ulg.ac.be\n",
      "CreateTime: 2011-12-19T12:42:52\n",
      "Software: Ocean Data View Version 4.2.1 - 2009\n",
      "Source: /home/charles/DIVA/BlackSea4diva/New_ODV4_Collection.odv\n",
      "SourceLastModified: 2011-12-19T12:42:03\n",
      "DataField: Ocean\n",
      "DataType: Profiles\n",
      "MissingValueIndicators: -99\n",
      "  0.000747 seconds (1.77 k allocations: 117.391 KB)\n"
     ]
    },
    {
     "data": {
      "text/plain": [
       "ODVspreadsheet3(Dict(\"DataType\"=>\"Profiles\",\"Source\"=>\"/home/charles/DIVA/BlackSea4diva/New_ODV4_Collection.odv\",\"DataField\"=>\"Ocean\",\"Software\"=>\"Ocean Data View Version 4.2.1 - 2009\",\"SourceLastModified\"=>\"2011-12-19T12:42:03\",\"Version\"=>\"ODV Spreadsheet V4.0\",\"Creator\"=>\"charles@gher13.phys.ulg.ac.be\",\"CreateTime\"=>\"2011-12-19T12:42:52\",\"MissingValueIndicators\"=>\"-99\"),SubString{String}[\"Cruise\",\"Station\",\"Type\",\"yyyy-mm-ddThh:mm:ss.sss\",\"Longitude [degrees_east]\",\"Latitude [degrees_north]\",\"Bot. Depth [m]:METAVAR:FLOAT:4\",\"Originator's Cruise:METAVAR:TEXT:20\",\"Originator's Station:METAVAR:TEXT:20\",\"Depth [m]\",\"QV:WOD\",\"Temperature [C]\",\"QV:WOD\",\"Salinity [psu]\",\"QV:WOD\",\"QV:ODV:SAMPLE\"],Any[Any[],Any[SubString{String}[\"WOD05_BG000003\"],SubString{String}[\"11570900\"],SubString{String}[\"B\"],SubString{String}[\"1991-09-03T16:25\"],SubString{String}[\"28.3333\"],SubString{String}[\"43.167\"],SubString{String}[\"36\"],SubString{String}[\"\"],SubString{String}[\"CoMSBlack91\"],SubString{String}[\"0.0\",\"10.0\",\"20.0\",\"30.0\"],SubString{String}[\"0\",\"0\",\"0\",\"0\"],SubString{String}[\"22.208\",\"22.260\",\"22.346\",\"22.308\"],SubString{String}[\"0\",\"0\",\"0\",\"0\"],SubString{String}[\"15.7020\",\"15.7380\",\"15.9740\",\"16.0270\"],SubString{String}[\"0\",\"0\",\"0\",\"0\"],SubString{String}[\"1\",\"1\",\"1\",\"1\"]]])"
      ]
     },
     "execution_count": 11,
     "metadata": {},
     "output_type": "execute_result"
    }
   ],
   "source": [
    "@time ODVstuff = readODVspreadsheet(ODVfile)"
   ]
  },
  {
   "cell_type": "code",
   "execution_count": 10,
   "metadata": {
    "collapsed": false,
    "deletable": true,
    "editable": true
   },
   "outputs": [
    {
     "data": {
      "text/plain": [
       "Dict{String,String} with 9 entries:\n",
       "  \"DataType\"               => \"Profiles\"\n",
       "  \"Source\"                 => \"/home/charles/DIVA/BlackSea4diva/New_ODV4_Collec…\n",
       "  \"DataField\"              => \"Ocean\"\n",
       "  \"Software\"               => \"Ocean Data View Version 4.2.1 - 2009\"\n",
       "  \"SourceLastModified\"     => \"2011-12-19T12:42:03\"\n",
       "  \"Version\"                => \"ODV Spreadsheet V4.0\"\n",
       "  \"Creator\"                => \"charles@gher13.phys.ulg.ac.be\"\n",
       "  \"CreateTime\"             => \"2011-12-19T12:42:52\"\n",
       "  \"MissingValueIndicators\" => \"-99\""
      ]
     },
     "execution_count": 10,
     "metadata": {},
     "output_type": "execute_result"
    }
   ],
   "source": [
    "ODVstuff.metadata"
   ]
  },
  {
   "cell_type": "code",
   "execution_count": 12,
   "metadata": {
    "collapsed": true,
    "deletable": true,
    "editable": true
   },
   "outputs": [],
   "source": [
    "ODVfile = joinpath(datadir, \"blacksea_data_CTD.txt\");"
   ]
  },
  {
   "cell_type": "code",
   "execution_count": 13,
   "metadata": {
    "collapsed": false,
    "deletable": true,
    "editable": true
   },
   "outputs": [
    {
     "name": "stdout",
     "output_type": "stream",
     "text": [
      "Version: ODV Spreadsheet V4.0\n",
      "Creator: charles@gher13.phys.ulg.ac.be\n",
      "CreateTime: 2011-12-19T12:42:52\n",
      "Software: Ocean Data View Version 4.2.1 - 2009\n",
      "Source: /home/charles/DIVA/BlackSea4diva/New_ODV4_Collection.odv\n",
      "SourceLastModified: 2011-12-19T12:42:03\n",
      "DataField: Ocean\n",
      "DataType: Profiles\n",
      "MissingValueIndicators: -99\n"
     ]
    },
    {
     "name": "stderr",
     "output_type": "stream",
     "text": [
      "14-juin 16:13:32:INFO:root:No. of profiles in the file: 14546\n"
     ]
    },
    {
     "name": "stdout",
     "output_type": "stream",
     "text": [
      "  0.753340 seconds (7.62 M allocations: 348.062 MB, 45.97% gc time)\n"
     ]
    }
   ],
   "source": [
    "@time ODVinfo = readODVspreadsheet(ODVfile);"
   ]
  },
  {
   "cell_type": "code",
   "execution_count": 14,
   "metadata": {
    "collapsed": false,
    "deletable": true,
    "editable": true
   },
   "outputs": [
    {
     "data": {
      "text/plain": [
       "Dict{String,String} with 9 entries:\n",
       "  \"DataType\"               => \"Profiles\"\n",
       "  \"Source\"                 => \"/home/charles/DIVA/BlackSea4diva/New_ODV4_Collec…\n",
       "  \"DataField\"              => \"Ocean\"\n",
       "  \"Software\"               => \"Ocean Data View Version 4.2.1 - 2009\"\n",
       "  \"SourceLastModified\"     => \"2011-12-19T12:42:03\"\n",
       "  \"Version\"                => \"ODV Spreadsheet V4.0\"\n",
       "  \"Creator\"                => \"charles@gher13.phys.ulg.ac.be\"\n",
       "  \"CreateTime\"             => \"2011-12-19T12:42:52\"\n",
       "  \"MissingValueIndicators\" => \"-99\""
      ]
     },
     "execution_count": 14,
     "metadata": {},
     "output_type": "execute_result"
    }
   ],
   "source": [
    "ODVinfo.metadata"
   ]
  },
  {
   "cell_type": "code",
   "execution_count": 16,
   "metadata": {
    "collapsed": false,
    "deletable": true,
    "editable": true
   },
   "outputs": [
    {
     "data": {
      "text/plain": [
       "14546-element Array{Any,1}:\n",
       " Any[]                                                                                                                                                                                                                                                                                                                                                                                                                                                                                                                                                                                                                                                                                                                                                                                                                                                                                                                                                                                                                                                                                                                                                                                                                                                                                                                    \n",
       " Any[SubString{String}[\"WOD05_BG000003\"],SubString{String}[\"11570900\"],SubString{String}[\"B\"],SubString{String}[\"1991-09-03T16:25\"],SubString{String}[\"28.3333\"],SubString{String}[\"43.167\"],SubString{String}[\"36\"],SubString{String}[\"\"],SubString{String}[\"CoMSBlack91\"],SubString{String}[\"0.0\",\"10.0\",\"20.0\",\"30.0\"],SubString{String}[\"0\",\"0\",\"0\",\"0\"],SubString{String}[\"22.208\",\"22.260\",\"22.346\",\"22.308\"],SubString{String}[\"0\",\"0\",\"0\",\"0\"],SubString{String}[\"15.7020\",\"15.7380\",\"15.9740\",\"16.0270\"],SubString{String}[\"0\",\"0\",\"0\",\"0\"],SubString{String}[\"1\",\"1\",\"1\",\"1\"]]                                                                                                                                                                                                                                                                                                                                                                                                                                                                                                                                                                                                                                                                                                                                  \n",
       " Any[SubString{String}[\"WOD05_BG000003\"],SubString{String}[\"11570901\"],SubString{String}[\"B\"],SubString{String}[\"1991-09-03T21:10\"],SubString{String}[\"28.8333\"],SubString{String}[\"43.167\"],SubString{String}[\"325\"],SubString{String}[\"\"],SubString{String}[\"CoMSBlack91\"],SubString{String}[\"0.0\",\"10.0\",\"20.0\",\"30.0\",\"50.0\",\"75.0\",\"100.0\",\"125.0\",\"150.0\",\"200.0\",\"250.0\"],SubString{String}[\"0\",\"0\",\"0\",\"0\",\"0\",\"0\",\"0\",\"0\",\"0\",\"0\",\"0\"],SubString{String}[\"21.946\",\"21.956\",\"21.969\",\"9.954\",\"7.447\",\"7.121\",\"7.248\",\"8.097\",\"8.359\",\"8.615\",\"8.741\"],SubString{String}[\"0\",\"0\",\"0\",\"0\",\"0\",\"0\",\"0\",\"0\",\"0\",\"0\",\"0\"],SubString{String}[\"17.5830\",\"17.5830\",\"17.5870\",\"18.0420\",\"18.1402\",\"18.3111\",\"18.8920\",\"20.3090\",\"20.7490\",\"21.2030\",\"21.4960\"],SubString{String}[\"0\",\"0\",\"0\",\"0\",\"0\",\"0\",\"0\",\"0\",\"0\",\"0\",\"0\"],SubString{String}[\"1\",\"1\",\"1\",\"1\",\"1\",\"1\",\"1\",\"1\",\"1\",\"1\",\"1\"]]                                                                                                                                                                                                                                                                                                                                                                                                                              \n",
       " Any[SubString{String}[\"WOD05_BG000003\"],SubString{String}[\"11570902\"],SubString{String}[\"B\"],SubString{String}[\"1991-09-04T02:12\"],SubString{String}[\"29.2500\"],SubString{String}[\"43.167\"],SubString{String}[\"1640\"],SubString{String}[\"\"],SubString{String}[\"CoMSBlack91\"],SubString{String}[\"0.0\",\"10.0\",\"20.0\",\"30.0\",\"50.0\",\"75.0\",\"100.0\",\"125.0\",\"150.0\",\"200.0\",\"250.0\",\"300.0\",\"400.0\",\"500.0\",\"600.0\",\"700.0\",\"800.0\",\"900.0\",\"1000.0\",\"1100.0\"],SubString{String}[\"0\",\"0\",\"0\",\"0\",\"0\",\"0\",\"0\",\"0\",\"0\",\"0\",\"0\",\"0\",\"0\",\"0\",\"0\",\"0\",\"0\",\"0\",\"0\",\"0\"],SubString{String}[\"21.432\",\"21.439\",\"9.060\",\"7.769\",\"7.168\",\"7.108\",\"7.226\",\"7.646\",\"8.086\",\"8.604\",\"8.725\",\"8.796\",\"8.857\",\"8.883\",\"8.895\",\"8.907\",\"8.924\",\"8.940\",\"8.958\",\"8.978\"],SubString{String}[\"0\",\"0\",\"5\",\"0\",\"0\",\"0\",\"0\",\"0\",\"0\",\"0\",\"0\",\"0\",\"0\",\"0\",\"0\",\"0\",\"0\",\"0\",\"0\",\"0\"],SubString{String}[\"17.2870\",\"17.2850\",\"18.0690\",\"18.1160\",\"18.1509\",\"18.2719\",\"18.6390\",\"19.3270\",\"20.2580\",\"21.1870\",\"21.4520\",\"21.6476\",\"21.8710\",\"22.0136\",\"22.1056\",\"22.1794\",\"22.2232\",\"22.2548\",\"22.2792\",\"22.2950\"],SubString{String}[\"0\",\"0\",\"0\",\"0\",\"0\",\"0\",\"0\",\"0\",\"0\",\"0\",\"0\",\"0\",\"0\",\"0\",\"0\",\"0\",\"0\",\"0\",\"0\",\"0\"],SubString{String}[\"1\",\"1\",\"1\",\"1\",\"1\",\"1\",\"1\",\"1\",\"1\",\"1\",\"1\",\"1\",\"1\",\"1\",\"1\",\"1\",\"1\",\"1\",\"1\",\"1\"]]                                  \n",
       " Any[SubString{String}[\"WOD05_BG000003\"],SubString{String}[\"11570903\"],SubString{String}[\"B\"],SubString{String}[\"1991-09-04T06:45\"],SubString{String}[\"29.7500\"],SubString{String}[\"43.167\"],SubString{String}[\"1600\"],SubString{String}[\"\"],SubString{String}[\"CoMSBlack91\"],SubString{String}[\"0.0\",\"10.0\",\"20.0\",\"30.0\",\"50.0\",\"75.0\",\"100.0\",\"125.0\",\"150.0\",\"200.0\",\"250.0\",\"300.0\",\"400.0\",\"500.0\",\"600.0\",\"700.0\",\"800.0\",\"900.0\",\"1000.0\",\"1100.0\"],SubString{String}[\"0\",\"0\",\"0\",\"0\",\"0\",\"0\",\"0\",\"0\",\"0\",\"0\",\"0\",\"0\",\"0\",\"0\",\"0\",\"0\",\"0\",\"0\",\"0\",\"0\"],SubString{String}[\"21.055\",\"21.054\",\"10.119\",\"8.191\",\"7.357\",\"7.014\",\"7.216\",\"7.541\",\"7.897\",\"8.505\",\"8.696\",\"8.789\",\"8.853\",\"8.882\",\"8.895\",\"8.905\",\"8.920\",\"8.937\",\"8.955\",\"8.972\"],SubString{String}[\"0\",\"0\",\"5\",\"0\",\"0\",\"0\",\"0\",\"0\",\"0\",\"0\",\"0\",\"0\",\"0\",\"0\",\"0\",\"0\",\"0\",\"0\",\"0\",\"0\"],SubString{String}[\"17.9080\",\"17.9080\",\"18.1470\",\"18.0710\",\"18.1435\",\"18.2031\",\"18.5080\",\"19.0490\",\"19.8900\",\"20.9960\",\"21.3790\",\"21.6239\",\"21.8421\",\"21.9925\",\"22.0886\",\"22.1541\",\"22.2108\",\"22.2458\",\"22.2731\",\"22.2880\"],SubString{String}[\"0\",\"0\",\"0\",\"0\",\"0\",\"0\",\"0\",\"0\",\"0\",\"0\",\"0\",\"0\",\"0\",\"0\",\"0\",\"0\",\"0\",\"0\",\"0\",\"0\"],SubString{String}[\"1\",\"1\",\"1\",\"1\",\"1\",\"1\",\"1\",\"1\",\"1\",\"1\",\"1\",\"1\",\"1\",\"1\",\"1\",\"1\",\"1\",\"1\",\"1\",\"1\"]]                                 \n",
       " Any[SubString{String}[\"WOD05_BG000003\"],SubString{String}[\"11570904\"],SubString{String}[\"B\"],SubString{String}[\"1991-09-04T10:49\"],SubString{String}[\"30.2500\"],SubString{String}[\"43.167\"],SubString{String}[\"1743\"],SubString{String}[\"\"],SubString{String}[\"CoMSBlack91\"],SubString{String}[\"0.0\",\"10.0\",\"20.0\",\"30.0\",\"50.0\",\"75.0\",\"100.0\",\"125.0\",\"150.0\",\"200.0\"  …  \"600.0\",\"700.0\",\"800.0\",\"900.0\",\"1000.0\",\"1100.0\",\"1200.0\",\"1300.0\",\"1400.0\",\"1500.0\"],SubString{String}[\"0\",\"0\",\"0\",\"0\",\"0\",\"0\",\"0\",\"0\",\"0\",\"0\"  …  \"0\",\"0\",\"0\",\"0\",\"0\",\"0\",\"0\",\"0\",\"0\",\"0\"],SubString{String}[\"21.551\",\"21.514\",\"11.831\",\"7.965\",\"6.905\",\"7.320\",\"7.942\",\"8.282\",\"8.481\",\"8.678\"  …  \"8.895\",\"8.906\",\"8.922\",\"8.939\",\"8.957\",\"8.976\",\"8.993\",\"9.009\",\"9.024\",\"9.040\"],SubString{String}[\"0\",\"0\",\"0\",\"0\",\"0\",\"0\",\"0\",\"0\",\"0\",\"0\"  …  \"0\",\"0\",\"0\",\"0\",\"0\",\"0\",\"0\",\"0\",\"0\",\"0\"],SubString{String}[\"18.0870\",\"18.0910\",\"17.9540\",\"18.1280\",\"18.2230\",\"18.8748\",\"20.0000\",\"20.6180\",\"20.9640\",\"21.3520\"  …  \"22.1154\",\"22.1780\",\"22.2232\",\"22.2557\",\"22.2761\",\"22.2944\",\"22.3047\",\"22.3100\",\"22.3150\",\"22.3205\"],SubString{String}[\"0\",\"0\",\"0\",\"0\",\"0\",\"0\",\"0\",\"0\",\"0\",\"0\"  …  \"0\",\"0\",\"0\",\"0\",\"0\",\"0\",\"0\",\"0\",\"0\",\"0\"],SubString{String}[\"1\",\"1\",\"1\",\"1\",\"1\",\"1\",\"1\",\"1\",\"1\",\"1\"  …  \"1\",\"1\",\"1\",\"1\",\"1\",\"1\",\"1\",\"1\",\"1\",\"1\"]] \n",
       " Any[SubString{String}[\"WOD05_BG000003\"],SubString{String}[\"11570905\"],SubString{String}[\"B\"],SubString{String}[\"1991-09-04T15:04\"],SubString{String}[\"30.7500\"],SubString{String}[\"43.167\"],SubString{String}[\"1945\"],SubString{String}[\"\"],SubString{String}[\"CoMSBlack91\"],SubString{String}[\"0.0\",\"10.0\",\"20.0\",\"30.0\",\"50.0\",\"75.0\",\"100.0\",\"125.0\",\"150.0\",\"200.0\"  …  \"700.0\",\"800.0\",\"900.0\",\"1000.0\",\"1100.0\",\"1200.0\",\"1300.0\",\"1400.0\",\"1500.0\",\"1750.0\"],SubString{String}[\"0\",\"0\",\"0\",\"0\",\"0\",\"0\",\"0\",\"0\",\"0\",\"0\"  …  \"0\",\"0\",\"0\",\"0\",\"0\",\"0\",\"0\",\"0\",\"0\",\"0\"],SubString{String}[\"22.122\",\"22.132\",\"16.728\",\"8.144\",\"7.094\",\"7.922\",\"8.298\",\"8.486\",\"8.603\",\"8.740\"  …  \"8.908\",\"8.924\",\"8.942\",\"8.959\",\"8.975\",\"8.992\",\"9.008\",\"9.022\",\"9.036\",\"9.077\"],SubString{String}[\"0\",\"0\",\"0\",\"0\",\"0\",\"0\",\"0\",\"0\",\"0\",\"0\"  …  \"0\",\"0\",\"0\",\"0\",\"0\",\"0\",\"0\",\"0\",\"0\",\"0\"],SubString{String}[\"18.0370\",\"18.0390\",\"18.4870\",\"18.3140\",\"18.8299\",\"20.0232\",\"20.6380\",\"20.9780\",\"21.1880\",\"21.5060\"  …  \"22.1997\",\"22.2352\",\"22.2638\",\"22.2840\",\"22.2960\",\"22.3050\",\"22.3110\",\"22.3160\",\"22.3190\",\"22.3270\"],SubString{String}[\"0\",\"0\",\"0\",\"0\",\"0\",\"0\",\"0\",\"0\",\"0\",\"0\"  …  \"0\",\"0\",\"0\",\"0\",\"0\",\"0\",\"0\",\"0\",\"0\",\"0\"],SubString{String}[\"1\",\"1\",\"1\",\"1\",\"1\",\"1\",\"1\",\"1\",\"1\",\"1\"  …  \"1\",\"1\",\"1\",\"1\",\"1\",\"1\",\"1\",\"1\",\"1\",\"1\"]]\n",
       " Any[SubString{String}[\"WOD05_BG000003\"],SubString{String}[\"11570906\"],SubString{String}[\"B\"],SubString{String}[\"1991-09-05T06:30\"],SubString{String}[\"31.2500\"],SubString{String}[\"43.500\"],SubString{String}[\"1600\"],SubString{String}[\"\"],SubString{String}[\"CoMSBlack91\"],SubString{String}[\"0.0\",\"10.0\",\"20.0\",\"30.0\",\"50.0\",\"75.0\",\"100.0\",\"125.0\",\"150.0\",\"200.0\"  …  \"600.0\",\"700.0\",\"800.0\",\"900.0\",\"1000.0\",\"1100.0\",\"1200.0\",\"1300.0\",\"1400.0\",\"1500.0\"],SubString{String}[\"0\",\"0\",\"0\",\"0\",\"0\",\"0\",\"0\",\"0\",\"0\",\"0\"  …  \"0\",\"0\",\"0\",\"0\",\"0\",\"0\",\"0\",\"0\",\"0\",\"0\"],SubString{String}[\"21.671\",\"21.639\",\"11.481\",\"7.481\",\"6.970\",\"7.889\",\"8.166\",\"8.469\",\"8.594\",\"8.736\"  …  \"8.896\",\"8.909\",\"8.926\",\"8.944\",\"8.960\",\"8.978\",\"8.995\",\"9.011\",\"9.026\",\"9.043\"],SubString{String}[\"0\",\"0\",\"0\",\"0\",\"0\",\"0\",\"0\",\"0\",\"0\",\"0\"  …  \"0\",\"0\",\"0\",\"0\",\"0\",\"0\",\"0\",\"0\",\"0\",\"0\"],SubString{String}[\"18.0840\",\"18.0860\",\"18.1970\",\"18.2130\",\"18.6407\",\"19.9060\",\"20.4290\",\"20.9460\",\"21.1790\",\"21.4930\"  …  \"22.1415\",\"22.2058\",\"22.2406\",\"22.2688\",\"22.2870\",\"22.2984\",\"22.3080\",\"22.3140\",\"22.3190\",\"22.3230\"],SubString{String}[\"0\",\"0\",\"0\",\"0\",\"0\",\"0\",\"0\",\"0\",\"0\",\"0\"  …  \"0\",\"0\",\"0\",\"0\",\"0\",\"0\",\"0\",\"0\",\"0\",\"0\"],SubString{String}[\"1\",\"1\",\"1\",\"1\",\"1\",\"1\",\"1\",\"1\",\"1\",\"1\"  …  \"1\",\"1\",\"1\",\"1\",\"1\",\"1\",\"1\",\"1\",\"1\",\"1\"]] \n",
       " Any[SubString{String}[\"WOD05_BG000003\"],SubString{String}[\"11570907\"],SubString{String}[\"B\"],SubString{String}[\"1991-09-05T11:30\"],SubString{String}[\"30.7500\"],SubString{String}[\"43.000\"],SubString{String}[\"1400\"],SubString{String}[\"\"],SubString{String}[\"CoMSBlack91\"],SubString{String}[\"0.0\",\"10.0\",\"20.0\",\"30.0\",\"50.0\",\"75.0\",\"100.0\",\"125.0\",\"150.0\",\"200.0\"  …  \"300.0\",\"400.0\",\"500.0\",\"600.0\",\"700.0\",\"800.0\",\"900.0\",\"1000.0\",\"1100.0\",\"1200.0\"],SubString{String}[\"0\",\"0\",\"0\",\"0\",\"0\",\"0\",\"0\",\"0\",\"0\",\"0\"  …  \"0\",\"0\",\"0\",\"0\",\"0\",\"0\",\"0\",\"0\",\"0\",\"0\"],SubString{String}[\"20.489\",\"20.141\",\"9.206\",\"7.510\",\"6.917\",\"7.134\",\"7.613\",\"8.002\",\"8.321\",\"8.608\"  …  \"8.804\",\"8.860\",\"8.885\",\"8.895\",\"8.906\",\"8.923\",\"8.944\",\"8.961\",\"8.981\",\"9.000\"],SubString{String}[\"2\",\"2\",\"2\",\"2\",\"0\",\"0\",\"0\",\"0\",\"0\",\"0\"  …  \"0\",\"0\",\"0\",\"0\",\"0\",\"0\",\"0\",\"0\",\"0\",\"0\"],SubString{String}[\"18.1090\",\"17.9080\",\"18.8680\",\"18.1490\",\"18.3357\",\"18.7092\",\"19.3620\",\"20.0950\",\"20.6730\",\"21.1930\"  …  \"21.6744\",\"21.8896\",\"22.0387\",\"22.1195\",\"22.1827\",\"22.2252\",\"22.2657\",\"22.2880\",\"22.3024\",\"22.3127\"],SubString{String}[\"2\",\"2\",\"2\",\"2\",\"0\",\"0\",\"0\",\"0\",\"0\",\"0\"  …  \"0\",\"0\",\"0\",\"0\",\"0\",\"0\",\"0\",\"0\",\"0\",\"0\"],SubString{String}[\"1\",\"1\",\"1\",\"1\",\"1\",\"1\",\"1\",\"1\",\"1\",\"1\"  …  \"1\",\"1\",\"1\",\"1\",\"1\",\"1\",\"1\",\"1\",\"1\",\"1\"]]     \n",
       " Any[SubString{String}[\"WOD05_BG000003\"],SubString{String}[\"11570908\"],SubString{String}[\"B\"],SubString{String}[\"1991-09-05T15:49\"],SubString{String}[\"30.2500\"],SubString{String}[\"43.500\"],SubString{String}[\"1300\"],SubString{String}[\"\"],SubString{String}[\"CoMSBlack91\"],SubString{String}[\"0.0\",\"10.0\",\"20.0\",\"30.0\",\"50.0\",\"75.0\",\"100.0\",\"125.0\",\"150.0\",\"200.0\",\"250.0\",\"300.0\",\"400.0\",\"500.0\",\"600.0\",\"700.0\",\"800.0\",\"900.0\",\"1000.0\",\"1100.0\"],SubString{String}[\"0\",\"0\",\"0\",\"0\",\"0\",\"0\",\"0\",\"0\",\"0\",\"0\",\"0\",\"0\",\"0\",\"0\",\"0\",\"0\",\"0\",\"0\",\"0\",\"0\"],SubString{String}[\"21.192\",\"21.081\",\"9.656\",\"7.759\",\"7.096\",\"6.946\",\"7.516\",\"7.999\",\"8.335\",\"8.635\",\"8.742\",\"8.803\",\"8.857\",\"8.882\",\"8.895\",\"8.905\",\"8.922\",\"8.941\",\"8.966\",\"8.986\"],SubString{String}[\"0\",\"0\",\"0\",\"0\",\"0\",\"0\",\"0\",\"0\",\"0\",\"0\",\"0\",\"0\",\"0\",\"0\",\"0\",\"0\",\"0\",\"0\",\"0\",\"0\"],SubString{String}[\"17.9960\",\"18.0410\",\"18.0760\",\"18.0970\",\"18.2547\",\"18.5314\",\"19.2470\",\"20.0970\",\"20.6970\",\"21.2460\",\"21.5000\",\"21.6743\",\"21.8716\",\"22.0046\",\"22.1017\",\"22.1628\",\"22.2212\",\"22.2598\",\"22.2902\",\"22.3060\"],SubString{String}[\"0\",\"0\",\"0\",\"0\",\"0\",\"0\",\"0\",\"0\",\"0\",\"0\",\"0\",\"0\",\"0\",\"0\",\"0\",\"0\",\"0\",\"0\",\"0\",\"0\"],SubString{String}[\"1\",\"1\",\"1\",\"1\",\"1\",\"1\",\"1\",\"1\",\"1\",\"1\",\"1\",\"1\",\"1\",\"1\",\"1\",\"1\",\"1\",\"1\",\"1\",\"1\"]]                                  \n",
       " Any[SubString{String}[\"WOD05_BG000003\"],SubString{String}[\"11570909\"],SubString{String}[\"B\"],SubString{String}[\"1991-09-05T20:49\"],SubString{String}[\"29.7500\"],SubString{String}[\"43.500\"],SubString{String}[\"820\"],SubString{String}[\"\"],SubString{String}[\"CoMSBlack91\"],SubString{String}[\"0.0\",\"10.0\",\"20.0\",\"30.0\",\"50.0\",\"75.0\",\"100.0\",\"125.0\",\"150.0\",\"200.0\",\"250.0\",\"300.0\",\"400.0\",\"500.0\",\"600.0\",\"700.0\"],SubString{String}[\"0\",\"0\",\"0\",\"0\",\"0\",\"0\",\"0\",\"0\",\"0\",\"0\",\"0\",\"0\",\"0\",\"0\",\"0\",\"0\"],SubString{String}[\"22.177\",\"22.101\",\"20.237\",\"10.206\",\"7.141\",\"7.028\",\"7.717\",\"8.063\",\"8.294\",\"8.624\",\"8.740\",\"8.804\",\"8.858\",\"8.882\",\"8.895\",\"8.908\"],SubString{String}[\"0\",\"0\",\"0\",\"0\",\"0\",\"0\",\"0\",\"0\",\"0\",\"0\",\"0\",\"0\",\"0\",\"0\",\"0\",\"0\"],SubString{String}[\"17.2810\",\"17.4660\",\"17.7550\",\"18.0670\",\"18.1568\",\"18.5289\",\"19.5910\",\"20.2490\",\"20.6290\",\"21.2240\",\"21.4910\",\"21.6705\",\"21.8772\",\"22.0036\",\"22.1044\",\"22.1947\"],SubString{String}[\"0\",\"0\",\"0\",\"0\",\"0\",\"0\",\"0\",\"0\",\"0\",\"0\",\"0\",\"0\",\"0\",\"0\",\"0\",\"0\"],SubString{String}[\"1\",\"1\",\"1\",\"1\",\"1\",\"1\",\"1\",\"1\",\"1\",\"1\",\"1\",\"1\",\"1\",\"1\",\"1\",\"1\"]]                                                                                                                                                                                                           \n",
       " Any[SubString{String}[\"WOD05_BG000003\"],SubString{String}[\"11570910\"],SubString{String}[\"B\"],SubString{String}[\"1991-09-06T02:00\"],SubString{String}[\"29.2500\"],SubString{String}[\"43.500\"],SubString{String}[\"91\"],SubString{String}[\"\"],SubString{String}[\"CoMSBlack91\"],SubString{String}[\"0.0\",\"10.0\",\"20.0\",\"30.0\",\"50.0\",\"75.0\"],SubString{String}[\"0\",\"0\",\"0\",\"0\",\"0\",\"0\"],SubString{String}[\"22.498\",\"22.502\",\"22.302\",\"11.873\",\"7.117\",\"6.973\"],SubString{String}[\"0\",\"0\",\"0\",\"0\",\"0\",\"0\"],SubString{String}[\"16.1590\",\"16.1930\",\"17.4770\",\"17.9970\",\"18.1636\",\"18.4186\"],SubString{String}[\"0\",\"0\",\"0\",\"0\",\"0\",\"0\"],SubString{String}[\"1\",\"1\",\"1\",\"1\",\"1\",\"1\"]]                                                                                                                                                                                                                                                                                                                                                                                                                                                                                                                                                                                                                                                \n",
       " Any[SubString{String}[\"WOD05_BG000003\"],SubString{String}[\"11570911\"],SubString{String}[\"B\"],SubString{String}[\"1991-09-06T06:10\"],SubString{String}[\"28.8333\"],SubString{String}[\"43.500\"],SubString{String}[\"74\"],SubString{String}[\"\"],SubString{String}[\"CoMSBlack91\"],SubString{String}[\"0.0\",\"10.0\",\"20.0\",\"30.0\",\"50.0\"],SubString{String}[\"0\",\"0\",\"0\",\"0\",\"0\"],SubString{String}[\"21.387\",\"22.902\",\"21.993\",\"8.444\",\"6.865\"],SubString{String}[\"0\",\"0\",\"0\",\"0\",\"0\"],SubString{String}[\"14.4130\",\"17.0870\",\"17.6400\",\"18.1300\",\"18.2116\"],SubString{String}[\"0\",\"0\",\"0\",\"0\",\"0\"],SubString{String}[\"1\",\"1\",\"1\",\"1\",\"1\"]]                                                                                                                                                                                                                                                                                                                                                                                                                                                                                                                                                                                                                                                                                          \n",
       " ⋮                                                                                                                                                                                                                                                                                                                                                                                                                                                                                                                                                                                                                                                                                                                                                                                                                                                                                                                                                                                                                                                                                                                                                                                                                                                                                                                        \n",
       " Any[SubString{String}[\"WOD05_US009874\"],SubString{String}[\"11568487\"],SubString{String}[\"B\"],SubString{String}[\"1988-07-24T18:00\"],SubString{String}[\"33.9950\"],SubString{String}[\"43.082\"],SubString{String}[\"\"],SubString{String}[\"\"],SubString{String}[\"98741\"],SubString{String}[\"0.0\",\"10.0\",\"20.0\",\"30.0\",\"50.0\",\"75.0\",\"100.0\"],SubString{String}[\"0\",\"0\",\"0\",\"0\",\"0\",\"0\",\"0\"],SubString{String}[\"25.089\",\"24.963\",\"13.285\",\"9.589\",\"6.970\",\"8.014\",\"8.380\"],SubString{String}[\"0\",\"0\",\"0\",\"0\",\"0\",\"0\",\"0\"],SubString{String}[\"17.8970\",\"17.9700\",\"18.4330\",\"18.4160\",\"18.7910\",\"20.2000\",\"20.7210\"],SubString{String}[\"0\",\"0\",\"0\",\"0\",\"0\",\"0\",\"0\"],SubString{String}[\"1\",\"1\",\"1\",\"1\",\"1\",\"1\",\"1\"]]                                                                                                                                                                                                                                                                                                                                                                                                                                                                                                                                                                                                               \n",
       " Any[SubString{String}[\"WOD05_US009874\"],SubString{String}[\"11568489\"],SubString{String}[\"B\"],SubString{String}[\"1988-07-24T20:06\"],SubString{String}[\"33.9720\"],SubString{String}[\"43.102\"],SubString{String}[\"\"],SubString{String}[\"\"],SubString{String}[\"98741\"],SubString{String}[\"0.0\",\"10.0\",\"20.0\",\"30.0\",\"50.0\",\"75.0\",\"100.0\",\"125.0\",\"150.0\",\"200.0\"  …  \"600.0\",\"700.0\",\"800.0\",\"900.0\",\"1000.0\",\"1100.0\",\"1200.0\",\"1300.0\",\"1400.0\",\"1500.0\"],SubString{String}[\"0\",\"0\",\"0\",\"0\",\"0\",\"0\",\"0\",\"0\",\"0\",\"0\"  …  \"0\",\"0\",\"0\",\"0\",\"0\",\"0\",\"0\",\"0\",\"0\",\"0\"],SubString{String}[\"24.930\",\"24.933\",\"13.586\",\"10.370\",\"6.993\",\"7.946\",\"8.372\",\"8.548\",\"8.645\",\"8.753\"  …  \"8.900\",\"8.911\",\"8.927\",\"8.945\",\"8.963\",\"8.980\",\"8.996\",\"9.011\",\"9.026\",\"9.041\"],SubString{String}[\"0\",\"0\",\"0\",\"0\",\"0\",\"0\",\"0\",\"0\",\"0\",\"0\"  …  \"0\",\"0\",\"0\",\"0\",\"0\",\"0\",\"0\",\"0\",\"0\",\"0\"],SubString{String}[\"17.8410\",\"17.8400\",\"18.3710\",\"18.4750\",\"18.7860\",\"20.0990\",\"20.7010\",\"21.0320\",\"21.2330\",\"21.5000\"  …  \"22.1380\",\"22.1880\",\"22.2300\",\"22.2580\",\"22.2780\",\"22.2900\",\"22.2980\",\"22.3040\",\"22.3080\",\"22.3120\"],SubString{String}[\"0\",\"0\",\"0\",\"0\",\"0\",\"0\",\"0\",\"0\",\"0\",\"0\"  …  \"0\",\"0\",\"0\",\"0\",\"0\",\"0\",\"0\",\"0\",\"0\",\"0\"],SubString{String}[\"1\",\"1\",\"1\",\"1\",\"1\",\"1\",\"1\",\"1\",\"1\",\"1\"  …  \"1\",\"1\",\"1\",\"1\",\"1\",\"1\",\"1\",\"1\",\"1\",\"1\"]]          \n",
       " Any[SubString{String}[\"WOD05_US009874\"],SubString{String}[\"11568491\"],SubString{String}[\"B\"],SubString{String}[\"1988-07-25T02:30\"],SubString{String}[\"34.0020\"],SubString{String}[\"43.077\"],SubString{String}[\"\"],SubString{String}[\"\"],SubString{String}[\"98741\"],SubString{String}[\"0.0\",\"10.0\",\"20.0\",\"30.0\",\"50.0\",\"75.0\"],SubString{String}[\"0\",\"0\",\"0\",\"0\",\"0\",\"0\"],SubString{String}[\"24.795\",\"24.797\",\"13.684\",\"10.895\",\"6.982\",\"8.022\"],SubString{String}[\"0\",\"0\",\"0\",\"0\",\"0\",\"0\"],SubString{String}[\"17.8950\",\"17.9050\",\"18.3770\",\"18.4450\",\"18.8890\",\"20.2050\"],SubString{String}[\"0\",\"0\",\"0\",\"0\",\"0\",\"0\"],SubString{String}[\"1\",\"1\",\"1\",\"1\",\"1\",\"1\"]]                                                                                                                                                                                                                                                                                                                                                                                                                                                                                                                                                                                                                                                        \n",
       " Any[SubString{String}[\"WOD05_US009874\"],SubString{String}[\"11568493\"],SubString{String}[\"B\"],SubString{String}[\"1988-07-25T07:00\"],SubString{String}[\"34.0020\"],SubString{String}[\"43.070\"],SubString{String}[\"\"],SubString{String}[\"\"],SubString{String}[\"98741\"],SubString{String}[\"0.0\",\"10.0\",\"20.0\",\"30.0\",\"50.0\",\"75.0\",\"100.0\",\"125.0\",\"150.0\",\"200.0\",\"250.0\"],SubString{String}[\"0\",\"0\",\"0\",\"0\",\"0\",\"0\",\"0\",\"0\",\"0\",\"0\",\"0\"],SubString{String}[\"24.638\",\"24.642\",\"13.878\",\"9.895\",\"7.040\",\"7.933\",\"8.345\",\"8.569\",\"8.658\",\"8.753\",\"8.811\"],SubString{String}[\"0\",\"0\",\"0\",\"0\",\"0\",\"0\",\"0\",\"0\",\"0\",\"0\",\"0\"],SubString{String}[\"17.8680\",\"17.8740\",\"18.4690\",\"18.4570\",\"18.8700\",\"20.1110\",\"20.6580\",\"21.0650\",\"21.2780\",\"21.5190\",\"21.6930\"],SubString{String}[\"0\",\"0\",\"0\",\"0\",\"0\",\"0\",\"0\",\"0\",\"0\",\"0\",\"0\"],SubString{String}[\"1\",\"1\",\"1\",\"1\",\"1\",\"1\",\"1\",\"1\",\"1\",\"1\",\"1\"]]                                                                                                                                                                                                                                                                                                                                                                                                                                       \n",
       " Any[SubString{String}[\"WOD05_US009874\"],SubString{String}[\"11568495\"],SubString{String}[\"B\"],SubString{String}[\"1988-07-25T20:36\"],SubString{String}[\"33.9930\"],SubString{String}[\"43.077\"],SubString{String}[\"\"],SubString{String}[\"\"],SubString{String}[\"98741\"],SubString{String}[\"0.0\",\"10.0\",\"20.0\",\"30.0\",\"50.0\",\"75.0\",\"100.0\",\"125.0\",\"150.0\",\"200.0\"  …  \"700.0\",\"800.0\",\"900.0\",\"1000.0\",\"1100.0\",\"1200.0\",\"1300.0\",\"1400.0\",\"1500.0\",\"1750.0\"],SubString{String}[\"0\",\"0\",\"0\",\"0\",\"0\",\"0\",\"0\",\"0\",\"0\",\"0\"  …  \"0\",\"0\",\"0\",\"0\",\"0\",\"0\",\"0\",\"0\",\"0\",\"0\"],SubString{String}[\"25.052\",\"24.043\",\"13.029\",\"10.117\",\"7.053\",\"8.019\",\"8.374\",\"8.576\",\"8.648\",\"8.752\"  …  \"8.912\",\"8.927\",\"8.946\",\"8.963\",\"8.980\",\"8.997\",\"9.011\",\"9.027\",\"9.042\",\"9.084\"],SubString{String}[\"0\",\"0\",\"0\",\"0\",\"0\",\"0\",\"0\",\"0\",\"0\",\"0\"  …  \"0\",\"0\",\"0\",\"0\",\"0\",\"0\",\"0\",\"0\",\"0\",\"0\"],SubString{String}[\"17.7900\",\"17.7930\",\"18.4390\",\"18.4120\",\"18.8990\",\"20.2010\",\"20.7130\",\"21.0820\",\"21.2580\",\"21.5140\"  …  \"22.1970\",\"22.2330\",\"22.2610\",\"22.2790\",\"22.2910\",\"22.3000\",\"22.3050\",\"22.3090\",\"22.3130\",\"22.3200\"],SubString{String}[\"0\",\"0\",\"0\",\"0\",\"0\",\"0\",\"0\",\"0\",\"0\",\"0\"  …  \"0\",\"0\",\"0\",\"0\",\"0\",\"0\",\"0\",\"0\",\"0\",\"0\"],SubString{String}[\"1\",\"1\",\"1\",\"1\",\"1\",\"1\",\"1\",\"1\",\"1\",\"1\"  …  \"1\",\"1\",\"1\",\"1\",\"1\",\"1\",\"1\",\"1\",\"1\",\"1\"]]         \n",
       " Any[SubString{String}[\"WOD05_US009874\"],SubString{String}[\"11568496\"],SubString{String}[\"B\"],SubString{String}[\"1988-07-25T23:06\"],SubString{String}[\"33.9930\"],SubString{String}[\"43.087\"],SubString{String}[\"\"],SubString{String}[\"\"],SubString{String}[\"98741\"],SubString{String}[\"0.0\",\"10.0\",\"20.0\",\"30.0\",\"50.0\",\"75.0\",\"100.0\",\"125.0\",\"150.0\",\"200.0\",\"250.0\",\"300.0\",\"400.0\"],SubString{String}[\"0\",\"0\",\"0\",\"0\",\"0\",\"0\",\"0\",\"0\",\"0\",\"0\",\"0\",\"0\",\"0\"],SubString{String}[\"24.971\",\"24.483\",\"13.174\",\"10.143\",\"7.006\",\"8.019\",\"8.326\",\"8.566\",\"8.645\",\"8.758\",\"8.811\",\"8.844\",\"8.877\"],SubString{String}[\"0\",\"0\",\"0\",\"0\",\"0\",\"0\",\"0\",\"0\",\"0\",\"0\",\"0\",\"0\",\"0\"],SubString{String}[\"17.8180\",\"17.8830\",\"18.4250\",\"18.4620\",\"18.8700\",\"20.2380\",\"20.6580\",\"21.0570\",\"21.2460\",\"21.5320\",\"21.6950\",\"21.8070\",\"21.9670\"],SubString{String}[\"0\",\"0\",\"0\",\"0\",\"0\",\"0\",\"0\",\"0\",\"0\",\"0\",\"0\",\"0\",\"0\"],SubString{String}[\"1\",\"1\",\"1\",\"1\",\"1\",\"1\",\"1\",\"1\",\"1\",\"1\",\"1\",\"1\",\"1\"]]                                                                                                                                                                                                                                                                                                                                                  \n",
       " Any[SubString{String}[\"WOD05_US009874\"],SubString{String}[\"11568500\"],SubString{String}[\"B\"],SubString{String}[\"1988-07-26T08:30\"],SubString{String}[\"33.9730\"],SubString{String}[\"43.080\"],SubString{String}[\"\"],SubString{String}[\"\"],SubString{String}[\"98741\"],SubString{String}[\"0.0\",\"10.0\",\"20.0\",\"30.0\",\"50.0\",\"75.0\",\"100.0\",\"125.0\"],SubString{String}[\"0\",\"0\",\"0\",\"0\",\"0\",\"0\",\"0\",\"0\"],SubString{String}[\"25.143\",\"24.880\",\"14.525\",\"10.658\",\"7.028\",\"8.091\",\"8.384\",\"8.540\"],SubString{String}[\"0\",\"0\",\"0\",\"0\",\"0\",\"0\",\"0\",\"0\"],SubString{String}[\"17.8990\",\"17.9020\",\"18.4730\",\"18.4960\",\"18.9430\",\"20.2700\",\"20.7320\",\"21.0190\"],SubString{String}[\"0\",\"0\",\"0\",\"0\",\"0\",\"0\",\"0\",\"0\"],SubString{String}[\"1\",\"1\",\"1\",\"1\",\"1\",\"1\",\"1\",\"1\"]]                                                                                                                                                                                                                                                                                                                                                                                                                                                                                                                                                                    \n",
       " Any[SubString{String}[\"WOD05_US009874\"],SubString{String}[\"11568502\"],SubString{String}[\"B\"],SubString{String}[\"1988-07-26T10:00\"],SubString{String}[\"33.9970\"],SubString{String}[\"43.090\"],SubString{String}[\"\"],SubString{String}[\"\"],SubString{String}[\"98741\"],SubString{String}[\"0.0\",\"10.0\",\"20.0\",\"30.0\",\"50.0\",\"75.0\",\"100.0\",\"125.0\",\"150.0\",\"200.0\",\"250.0\"],SubString{String}[\"0\",\"0\",\"0\",\"0\",\"0\",\"0\",\"0\",\"0\",\"0\",\"0\",\"0\"],SubString{String}[\"25.061\",\"24.504\",\"13.209\",\"10.547\",\"7.037\",\"8.084\",\"8.386\",\"8.567\",\"8.649\",\"8.753\",\"8.811\"],SubString{String}[\"0\",\"0\",\"0\",\"0\",\"0\",\"0\",\"0\",\"0\",\"0\",\"0\",\"0\"],SubString{String}[\"17.8830\",\"17.8670\",\"18.4370\",\"18.4850\",\"18.9110\",\"20.2960\",\"20.7330\",\"21.0620\",\"21.2560\",\"21.5140\",\"21.6910\"],SubString{String}[\"0\",\"0\",\"0\",\"0\",\"0\",\"0\",\"0\",\"0\",\"0\",\"0\",\"0\"],SubString{String}[\"1\",\"1\",\"1\",\"1\",\"1\",\"1\",\"1\",\"1\",\"1\",\"1\",\"1\"]]                                                                                                                                                                                                                                                                                                                                                                                                                                      \n",
       " Any[SubString{String}[\"WOD05_US009874\"],SubString{String}[\"11568503\"],SubString{String}[\"B\"],SubString{String}[\"1988-07-26T12:22\"],SubString{String}[\"33.9970\"],SubString{String}[\"43.082\"],SubString{String}[\"\"],SubString{String}[\"\"],SubString{String}[\"98741\"],SubString{String}[\"0.0\",\"10.0\",\"20.0\",\"30.0\",\"50.0\",\"75.0\",\"100.0\",\"125.0\",\"150.0\",\"200.0\"  …  \"700.0\",\"800.0\",\"900.0\",\"1000.0\",\"1100.0\",\"1200.0\",\"1300.0\",\"1400.0\",\"1500.0\",\"1750.0\"],SubString{String}[\"0\",\"0\",\"0\",\"0\",\"0\",\"0\",\"0\",\"0\",\"0\",\"0\"  …  \"0\",\"0\",\"0\",\"0\",\"0\",\"0\",\"0\",\"0\",\"0\",\"0\"],SubString{String}[\"25.181\",\"18.839\",\"12.332\",\"10.008\",\"7.041\",\"8.155\",\"8.390\",\"8.583\",\"8.656\",\"8.756\"  …  \"8.912\",\"8.928\",\"8.946\",\"8.963\",\"8.980\",\"8.996\",\"9.011\",\"9.026\",\"9.041\",\"9.084\"],SubString{String}[\"0\",\"0\",\"0\",\"0\",\"0\",\"0\",\"0\",\"0\",\"0\",\"0\"  …  \"0\",\"0\",\"0\",\"0\",\"0\",\"0\",\"0\",\"0\",\"0\",\"0\"],SubString{String}[\"17.9360\",\"18.3330\",\"18.4230\",\"18.4740\",\"19.0190\",\"20.3520\",\"20.7390\",\"21.0930\",\"21.2710\",\"21.5240\"  …  \"22.1970\",\"22.2340\",\"22.2600\",\"22.2780\",\"22.2900\",\"22.2990\",\"22.3050\",\"22.3090\",\"22.3120\",\"22.3200\"],SubString{String}[\"0\",\"0\",\"0\",\"0\",\"0\",\"0\",\"0\",\"0\",\"0\",\"0\"  …  \"0\",\"0\",\"0\",\"0\",\"0\",\"0\",\"0\",\"0\",\"0\",\"0\"],SubString{String}[\"1\",\"1\",\"1\",\"1\",\"1\",\"1\",\"1\",\"1\",\"1\",\"1\"  …  \"1\",\"1\",\"1\",\"1\",\"1\",\"1\",\"1\",\"1\",\"1\",\"1\"]]         \n",
       " Any[SubString{String}[\"WOD05_US009874\"],SubString{String}[\"11568505\"],SubString{String}[\"B\"],SubString{String}[\"1988-07-26T15:30\"],SubString{String}[\"33.9670\"],SubString{String}[\"43.100\"],SubString{String}[\"\"],SubString{String}[\"\"],SubString{String}[\"98741\"],SubString{String}[\"0.0\",\"10.0\",\"20.0\",\"30.0\",\"50.0\",\"75.0\",\"100.0\",\"125.0\",\"150.0\"],SubString{String}[\"0\",\"0\",\"0\",\"0\",\"0\",\"0\",\"0\",\"0\",\"0\"],SubString{String}[\"25.252\",\"24.133\",\"14.211\",\"10.403\",\"7.082\",\"8.148\",\"8.371\",\"8.576\",\"8.661\"],SubString{String}[\"0\",\"0\",\"0\",\"0\",\"0\",\"0\",\"0\",\"0\",\"0\"],SubString{String}[\"18.0050\",\"18.0680\",\"18.4400\",\"18.4530\",\"18.8750\",\"20.3200\",\"20.7170\",\"21.0860\",\"21.2870\"],SubString{String}[\"0\",\"0\",\"0\",\"0\",\"0\",\"0\",\"0\",\"0\",\"0\"],SubString{String}[\"1\",\"1\",\"1\",\"1\",\"1\",\"1\",\"1\",\"1\",\"1\"]]                                                                                                                                                                                                                                                                                                                                                                                                                                                                                                                          \n",
       " Any[SubString{String}[\"WOD05_US009874\"],SubString{String}[\"11568506\"],SubString{String}[\"B\"],SubString{String}[\"1988-07-26T18:00\"],SubString{String}[\"33.9920\"],SubString{String}[\"43.090\"],SubString{String}[\"\"],SubString{String}[\"\"],SubString{String}[\"98741\"],SubString{String}[\"0.0\",\"10.0\",\"20.0\",\"30.0\",\"50.0\",\"75.0\",\"100.0\",\"125.0\",\"150.0\"],SubString{String}[\"0\",\"0\",\"0\",\"0\",\"0\",\"0\",\"0\",\"0\",\"0\"],SubString{String}[\"25.543\",\"24.601\",\"14.514\",\"10.961\",\"6.981\",\"8.114\",\"8.363\",\"8.580\",\"8.658\"],SubString{String}[\"0\",\"0\",\"0\",\"0\",\"0\",\"0\",\"0\",\"0\",\"0\"],SubString{String}[\"18.0660\",\"17.9420\",\"18.4070\",\"18.4690\",\"18.8380\",\"20.2740\",\"20.7050\",\"21.0960\",\"21.2780\"],SubString{String}[\"0\",\"0\",\"0\",\"0\",\"0\",\"0\",\"0\",\"0\",\"0\"],SubString{String}[\"1\",\"1\",\"1\",\"1\",\"1\",\"1\",\"1\",\"1\",\"1\"]]                                                                                                                                                                                                                                                                                                                                                                                                                                                                                                                          \n",
       " Any[SubString{String}[\"WOD05_US009874\"],SubString{String}[\"11568507\"],SubString{String}[\"B\"],SubString{String}[\"1988-07-26T19:46\"],SubString{String}[\"34.0020\"],SubString{String}[\"43.097\"],SubString{String}[\"\"],SubString{String}[\"\"],SubString{String}[\"98741\"],SubString{String}[\"0.0\",\"10.0\",\"20.0\",\"30.0\",\"50.0\",\"75.0\",\"100.0\",\"125.0\",\"150.0\",\"200.0\",\"250.0\",\"300.0\",\"400.0\",\"500.0\",\"600.0\",\"700.0\",\"800.0\",\"900.0\"],SubString{String}[\"0\",\"0\",\"0\",\"0\",\"0\",\"0\",\"0\",\"0\",\"0\",\"0\",\"0\",\"0\",\"0\",\"0\",\"0\",\"0\",\"0\",\"0\"],SubString{String}[\"25.389\",\"24.701\",\"13.788\",\"10.598\",\"7.082\",\"8.109\",\"8.341\",\"8.565\",\"8.650\",\"8.754\",\"8.811\",\"8.844\",\"8.877\",\"8.891\",\"8.900\",\"8.912\",\"8.927\",\"8.944\"],SubString{String}[\"0\",\"0\",\"0\",\"0\",\"0\",\"0\",\"0\",\"0\",\"0\",\"0\",\"0\",\"0\",\"0\",\"0\",\"0\",\"0\",\"0\",\"0\"],SubString{String}[\"18.0290\",\"18.0360\",\"18.4850\",\"18.5480\",\"18.8960\",\"20.2770\",\"20.6890\",\"21.0440\",\"21.2560\",\"21.5170\",\"21.6810\",\"21.8000\",\"21.9720\",\"22.0690\",\"22.1410\",\"22.1920\",\"22.2300\",\"22.2550\"],SubString{String}[\"0\",\"0\",\"0\",\"0\",\"0\",\"0\",\"0\",\"0\",\"0\",\"0\",\"0\",\"0\",\"0\",\"0\",\"0\",\"0\",\"0\",\"0\"],SubString{String}[\"1\",\"1\",\"1\",\"1\",\"1\",\"1\",\"1\",\"1\",\"1\",\"1\",\"1\",\"1\",\"1\",\"1\",\"1\",\"1\",\"1\",\"1\"]]                                                                                                                                "
      ]
     },
     "execution_count": 16,
     "metadata": {},
     "output_type": "execute_result"
    }
   ],
   "source": [
    "ODVinfo.profileList"
   ]
  },
  {
   "cell_type": "code",
   "execution_count": null,
   "metadata": {
    "collapsed": true,
    "deletable": true,
    "editable": true
   },
   "outputs": [],
   "source": []
  }
 ],
 "metadata": {
  "kernelspec": {
   "display_name": "Julia 0.5.1",
   "language": "julia",
   "name": "julia-0.5"
  },
  "language_info": {
   "file_extension": ".jl",
   "mimetype": "application/julia",
   "name": "julia",
   "version": "0.5.1"
  }
 },
 "nbformat": 4,
 "nbformat_minor": 2
}
