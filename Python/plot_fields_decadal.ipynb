{
 "cells": [
  {
   "cell_type": "code",
   "execution_count": 1,
   "metadata": {},
   "outputs": [],
   "source": [
    "import os\n",
    "import numpy as np\n",
    "import netCDF4\n",
    "import datetime\n",
    "import logging\n",
    "import matplotlib.pyplot as plt\n",
    "from mpl_toolkits.basemap import Basemap\n",
    "import sdcclimatologies"
   ]
  },
  {
   "cell_type": "code",
   "execution_count": 2,
   "metadata": {},
   "outputs": [
    {
     "data": {
      "text/plain": [
       "<module 'sdcclimatologies' from '/home/ctroupin/Projects/SeaDataCloud/Python/sdcclimatologies.py'>"
      ]
     },
     "execution_count": 2,
     "metadata": {},
     "output_type": "execute_result"
    }
   ],
   "source": [
    "from importlib import reload\n",
    "reload(sdcclimatologies)"
   ]
  },
  {
   "cell_type": "code",
   "execution_count": 3,
   "metadata": {},
   "outputs": [],
   "source": [
    "logger = logging.getLogger(\"Plot-decadal\")\n",
    "logger.setLevel(logging.INFO)\n",
    "logging.info(\"Starting\")"
   ]
  },
  {
   "cell_type": "markdown",
   "metadata": {},
   "source": [
    "## Files and directories"
   ]
  },
  {
   "cell_type": "code",
   "execution_count": 4,
   "metadata": {},
   "outputs": [],
   "source": [
    "datadir = \"/home/ctroupin/Projects/SeaDataCloud/Julia/Climatologies/NorthSea/output/\"\n",
    "figdir = \"/home/ctroupin/dox/DIVAnd-data/NorthSea/figures/SDC/decadal_noderivcoeff/\"\n",
    "if not os.path.exists(figdir):\n",
    "    os.mkdir(figdir)"
   ]
  },
  {
   "cell_type": "code",
   "execution_count": 5,
   "metadata": {},
   "outputs": [
    {
     "name": "stderr",
     "output_type": "stream",
     "text": [
      "INFO:Plot-decadal:True\n"
     ]
    }
   ],
   "source": [
    "sdn_temperature_decadal = os.path.join(datadir, \"Water_body_Temperature_NorthSea.4Danl_seasonal_decade_merged.nc\")\n",
    "sdn_salinity_decadal = os.path.join(datadir, \"Water_body_Salinity_NorthSea.4Danl_seasonal_decade_merged.nc\")\n",
    "logger.info(os.path.exists(sdn_salinity_decadal))"
   ]
  },
  {
   "cell_type": "markdown",
   "metadata": {},
   "source": [
    "### Read data"
   ]
  },
  {
   "cell_type": "code",
   "execution_count": 6,
   "metadata": {},
   "outputs": [],
   "source": [
    "lonSDC, latSDC, depthSDC, datesSDC, T_SDC = \\\n",
    "sdcclimatologies.read_climato_sdc(sdn_temperature_decadal, \"temperature\")\n",
    "\n",
    "lonSDC, latSDC, depthSDC, datesSDC, S_SDC = \\\n",
    "sdcclimatologies.read_climato_sdc(sdn_salinity_decadal, \"salinity\")"
   ]
  },
  {
   "cell_type": "markdown",
   "metadata": {},
   "source": [
    "### Prepare projection"
   ]
  },
  {
   "cell_type": "code",
   "execution_count": 7,
   "metadata": {},
   "outputs": [],
   "source": [
    "lonmin, lonmax, latmin, latmax, dmin, dmax, datemin, datemax = \\\n",
    "sdcclimatologies.get_SDN_domain(sdn_temperature_decadal)\n",
    "\n",
    "m = Basemap(projection='merc',llcrnrlat=latmin, urcrnrlat=latmax,\n",
    "            llcrnrlon=lonmin, urcrnrlon=lonmax,lat_ts=(0.5*(latmin+latmax)), resolution='i')"
   ]
  },
  {
   "cell_type": "markdown",
   "metadata": {},
   "source": [
    "### Temperature"
   ]
  },
  {
   "cell_type": "code",
   "execution_count": 8,
   "metadata": {},
   "outputs": [
    {
     "name": "stderr",
     "output_type": "stream",
     "text": [
      "INFO:Plot-decadal:(24, 109, 113)\n",
      "INFO:Plot-decadal:Winter 1954 - 1964\n",
      "INFO:Plot-decadal:Spring 1954 - 1964\n",
      "INFO:Plot-decadal:Summer 1954 - 1964\n",
      "INFO:Plot-decadal:Fall 1954 - 1964\n",
      "INFO:Plot-decadal:Winter 1964 - 1974\n",
      "INFO:Plot-decadal:Spring 1964 - 1974\n",
      "INFO:Plot-decadal:Summer 1964 - 1974\n",
      "INFO:Plot-decadal:Fall 1964 - 1974\n",
      "INFO:Plot-decadal:Winter 1974 - 1984\n",
      "INFO:Plot-decadal:Spring 1974 - 1984\n",
      "INFO:Plot-decadal:Summer 1974 - 1984\n",
      "INFO:Plot-decadal:Fall 1974 - 1984\n",
      "INFO:Plot-decadal:Winter 1984 - 1994\n",
      "INFO:Plot-decadal:Spring 1984 - 1994\n",
      "INFO:Plot-decadal:Summer 1984 - 1994\n",
      "INFO:Plot-decadal:Fall 1984 - 1994\n",
      "INFO:Plot-decadal:Winter 1994 - 2004\n",
      "INFO:Plot-decadal:Spring 1994 - 2004\n",
      "INFO:Plot-decadal:Summer 1994 - 2004\n",
      "INFO:Plot-decadal:Fall 1994 - 2004\n",
      "INFO:Plot-decadal:Winter 2004 - 2014\n",
      "INFO:Plot-decadal:Spring 2004 - 2014\n",
      "INFO:Plot-decadal:Summer 2004 - 2014\n",
      "INFO:Plot-decadal:Fall 2004 - 2014\n"
     ]
    }
   ],
   "source": [
    "depth2plot = 0.0 \n",
    "varname = \"temperature\"\n",
    "depthindex = np.where(depthSDC == depth2plot)[0]\n",
    "T_SDC_depth = T_SDC[:,depthindex,:,:].squeeze()\n",
    "logger.info(T_SDC_depth.shape)\n",
    "\n",
    "for timeindex, dd in enumerate(datesSDC):\n",
    "    season = sdcclimatologies.get_season_date(dd)\n",
    "    figtitle = \" \".join((season.capitalize(), str(dd.year-5), \"-\", str(dd.year+5)))\n",
    "    logger.info(figtitle)\n",
    "    \n",
    "    fname = \"SDC_{}_decadal_{}-{}_{}_{}m\".format(varname, dd.year-5, dd.year+5, \n",
    "                                              season, str(int(depth2plot)).zfill(3))\n",
    "    logger.debug(\"Plotting in figure: {}\".format(fname))\n",
    "    figname = os.path.join(figdir, fname)\n",
    "    \n",
    "    logger.debug(\"Working on depth: {} m\".format(depth2plot))\n",
    "    sdcclimatologies.make_2Dplot(m, lonSDC, latSDC, T_SDC_depth[timeindex,:,:], \n",
    "                                 varname=varname, depth=depth2plot, \n",
    "                                 figname=figname, \n",
    "                                 figtitle=figtitle,\n",
    "                                 vmin=3., vmax=18.)\n",
    "    plt.close()"
   ]
  },
  {
   "cell_type": "code",
   "execution_count": 56,
   "metadata": {},
   "outputs": [
    {
     "name": "stderr",
     "output_type": "stream",
     "text": [
      "INFO:Plot-decadal:(24, 109, 113)\n",
      "INFO:Plot-decadal:Winter 1954 - 1964\n",
      "INFO:Plot-decadal:Spring 1954 - 1964\n",
      "INFO:Plot-decadal:Summer 1954 - 1964\n",
      "INFO:Plot-decadal:Fall 1954 - 1964\n",
      "INFO:Plot-decadal:Winter 1964 - 1974\n",
      "INFO:Plot-decadal:Spring 1964 - 1974\n",
      "INFO:Plot-decadal:Summer 1964 - 1974\n",
      "INFO:Plot-decadal:Fall 1964 - 1974\n",
      "INFO:Plot-decadal:Winter 1974 - 1984\n",
      "INFO:Plot-decadal:Spring 1974 - 1984\n",
      "INFO:Plot-decadal:Summer 1974 - 1984\n",
      "INFO:Plot-decadal:Fall 1974 - 1984\n",
      "INFO:Plot-decadal:Winter 1984 - 1994\n",
      "INFO:Plot-decadal:Spring 1984 - 1994\n",
      "INFO:Plot-decadal:Summer 1984 - 1994\n",
      "INFO:Plot-decadal:Fall 1984 - 1994\n",
      "INFO:Plot-decadal:Winter 1994 - 2004\n",
      "INFO:Plot-decadal:Spring 1994 - 2004\n",
      "INFO:Plot-decadal:Summer 1994 - 2004\n",
      "INFO:Plot-decadal:Fall 1994 - 2004\n",
      "INFO:Plot-decadal:Winter 2004 - 2014\n",
      "INFO:Plot-decadal:Spring 2004 - 2014\n",
      "INFO:Plot-decadal:Summer 2004 - 2014\n",
      "INFO:Plot-decadal:Fall 2004 - 2014\n"
     ]
    }
   ],
   "source": [
    "depth2plot = 50.0 \n",
    "varname = \"temperature\"\n",
    "depthindex = np.where(depthSDC == depth2plot)[0]\n",
    "T_SDC_depth = T_SDC[:,depthindex,:,:].squeeze()\n",
    "logger.info(T_SDC_depth.shape)\n",
    "\n",
    "for timeindex, dd in enumerate(datesSDC):\n",
    "    season = sdcclimatologies.get_season_date(dd)\n",
    "    figtitle = \" \".join((season.capitalize(), str(dd.year-5), \"-\", str(dd.year+5)))\n",
    "    logger.info(figtitle)\n",
    "    \n",
    "    fname = \"SDC_{}_decadal_{}-{}_{}_{}m\".format(varname, dd.year-5, dd.year+5, \n",
    "                                              season, str(int(depth2plot)).zfill(3))\n",
    "    logger.debug(\"Plotting in figure: {}\".format(fname))\n",
    "    figname = os.path.join(figdir, fname)\n",
    "    \n",
    "    logger.debug(\"Working on depth: {} m\".format(depth2plot))\n",
    "    sdcclimatologies.make_2Dplot(m, lonSDC, latSDC, T_SDC_depth[timeindex,:,:], \n",
    "                                 varname=varname, depth=depth2plot, \n",
    "                                 figname=figname, \n",
    "                                 figtitle=figtitle,\n",
    "                                 vmin=5., vmax=14.)\n",
    "    plt.close()"
   ]
  },
  {
   "cell_type": "markdown",
   "metadata": {},
   "source": [
    "### Salinity"
   ]
  },
  {
   "cell_type": "code",
   "execution_count": 63,
   "metadata": {},
   "outputs": [
    {
     "name": "stderr",
     "output_type": "stream",
     "text": [
      "INFO:Plot-decadal:(24, 109, 113)\n",
      "INFO:Plot-decadal:Winter 1954 - 1964\n",
      "INFO:Plot-decadal:Spring 1954 - 1964\n",
      "INFO:Plot-decadal:Summer 1954 - 1964\n",
      "INFO:Plot-decadal:Fall 1954 - 1964\n",
      "INFO:Plot-decadal:Winter 1964 - 1974\n",
      "INFO:Plot-decadal:Spring 1964 - 1974\n",
      "INFO:Plot-decadal:Summer 1964 - 1974\n",
      "INFO:Plot-decadal:Fall 1964 - 1974\n",
      "INFO:Plot-decadal:Winter 1974 - 1984\n",
      "INFO:Plot-decadal:Spring 1974 - 1984\n",
      "INFO:Plot-decadal:Summer 1974 - 1984\n",
      "INFO:Plot-decadal:Fall 1974 - 1984\n",
      "INFO:Plot-decadal:Winter 1984 - 1994\n",
      "INFO:Plot-decadal:Spring 1984 - 1994\n",
      "INFO:Plot-decadal:Summer 1984 - 1994\n",
      "INFO:Plot-decadal:Fall 1984 - 1994\n",
      "INFO:Plot-decadal:Winter 1994 - 2004\n",
      "INFO:Plot-decadal:Spring 1994 - 2004\n",
      "INFO:Plot-decadal:Summer 1994 - 2004\n",
      "INFO:Plot-decadal:Fall 1994 - 2004\n",
      "INFO:Plot-decadal:Winter 2004 - 2014\n",
      "INFO:Plot-decadal:Spring 2004 - 2014\n",
      "INFO:Plot-decadal:Summer 2004 - 2014\n",
      "INFO:Plot-decadal:Fall 2004 - 2014\n"
     ]
    }
   ],
   "source": [
    "depth2plot = 0.0 \n",
    "varname = \"salinity\"\n",
    "depthindex = np.where(depthSDC == depth2plot)[0]\n",
    "S_SDC_depth = S_SDC[:,depthindex,:,:].squeeze()\n",
    "logger.info(S_SDC_depth.shape)\n",
    "\n",
    "for timeindex, dd in enumerate(datesSDC):\n",
    "    season = sdcclimatologies.get_season_date(dd)\n",
    "    figtitle = \" \".join((season.capitalize(), str(dd.year-5), \"-\", str(dd.year+5)))\n",
    "    logger.info(figtitle)\n",
    "    \n",
    "    fname = \"SDC_{}_decadal_{}-{}_{}_{}m\".format(varname, dd.year-5, dd.year+5, \n",
    "                                              season, str(int(depth2plot)).zfill(3))\n",
    "    logger.debug(\"Plotting in figure: {}\".format(fname))\n",
    "    figname = os.path.join(figdir, fname)\n",
    "    \n",
    "    logger.debug(\"Working on depth: {} m\".format(depth2plot))\n",
    "    sdcclimatologies.make_2Dplot(m, lonSDC, latSDC, S_SDC_depth[timeindex,:,:], \n",
    "                                 varname=varname, depth=depth2plot, \n",
    "                                 figname=figname, \n",
    "                                 figtitle=figtitle,\n",
    "                                 vmin=25., vmax=36.)\n",
    "    plt.close()"
   ]
  },
  {
   "cell_type": "code",
   "execution_count": null,
   "metadata": {},
   "outputs": [],
   "source": []
  }
 ],
 "metadata": {
  "kernelspec": {
   "display_name": "Diva-python3.6",
   "language": "python",
   "name": "diva-python3.6"
  },
  "language_info": {
   "codemirror_mode": {
    "name": "ipython",
    "version": 3
   },
   "file_extension": ".py",
   "mimetype": "text/x-python",
   "name": "python",
   "nbconvert_exporter": "python",
   "pygments_lexer": "ipython3",
   "version": "3.6.0"
  }
 },
 "nbformat": 4,
 "nbformat_minor": 2
}
