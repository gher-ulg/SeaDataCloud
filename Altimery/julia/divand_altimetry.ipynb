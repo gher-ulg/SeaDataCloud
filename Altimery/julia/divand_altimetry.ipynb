{
 "cells": [
  {
   "cell_type": "markdown",
   "metadata": {
    "collapsed": true,
    "deletable": true,
    "editable": true
   },
   "source": [
    "Application using altimetry data obtained from AVISO.\n",
    "* Region of interest: Mediterranean Sea.\n",
    "* Period of interest: May 2014.\n",
    "* Satellite avaible: AltiKa, Cryosat, H2 and JASON-2. "
   ]
  },
  {
   "cell_type": "code",
   "execution_count": 1,
   "metadata": {
    "collapsed": false,
    "deletable": true,
    "editable": true
   },
   "outputs": [
    {
     "name": "stderr",
     "output_type": "stream",
     "text": [
      "WARNING: Method definition warn(Any...) in module Base at util.jl:354 overwritten in module Logging at /home/ctroupin/.julia/v0.5/Logging/src/Logging.jl:115.\n",
      "WARNING: Method definition info(Any...) in module Base at util.jl:324 overwritten in module Logging at /home/ctroupin/.julia/v0.5/Logging/src/Logging.jl:115.\n"
     ]
    }
   ],
   "source": [
    "using divand\n",
    "using NetCDF\n",
    "using PyPlot\n",
    "using Logging\n",
    "Logging.configure(level=DEBUG);"
   ]
  },
  {
   "cell_type": "markdown",
   "metadata": {
    "deletable": true,
    "editable": true
   },
   "source": [
    "# User inputs"
   ]
  },
  {
   "cell_type": "markdown",
   "metadata": {
    "deletable": true,
    "editable": true
   },
   "source": [
    "## Domain of interest, resolution"
   ]
  },
  {
   "cell_type": "code",
   "execution_count": 52,
   "metadata": {
    "collapsed": false,
    "deletable": true,
    "editable": true
   },
   "outputs": [],
   "source": [
    "lonmin, lonmax, latmin, latmax = -7., 40., 30., 48.\n",
    "dx, dy, dt = .125, .125, 1.\n",
    "lonr = lonmin:dx:lonmax;\n",
    "latr = latmin:dy:latmax;\n",
    "timer = 23520:dt:23521;"
   ]
  },
  {
   "cell_type": "markdown",
   "metadata": {
    "deletable": true,
    "editable": true
   },
   "source": [
    "## File and directories"
   ]
  },
  {
   "cell_type": "code",
   "execution_count": 59,
   "metadata": {
    "collapsed": false,
    "deletable": true,
    "editable": true
   },
   "outputs": [
    {
     "name": "stderr",
     "output_type": "stream",
     "text": [
      "31-mars 22:06:35:INFO:root:Data file:\n",
      "../data/ADT_20140515_20140604.dat\n",
      "31-mars 22:06:35:INFO:root:Result file:\n",
      "../results/divand/ADT_20140515_20140604_0pt125d1.nc\n"
     ]
    }
   ],
   "source": [
    "datadir = joinpath(\"../data/\");\n",
    "datafile = joinpath(datadir, \"ADT_20140515_20140604.dat\")\n",
    "resultdir = joinpath(\"../results/divand/\");\n",
    "resultfile = joinpath(resultdir, \"ADT_20140515_20140604_0pt125d1.nc\");\n",
    "info(\"Data file:\\n\", datafile)\n",
    "info(\"Result file:\\n\", resultfile)"
   ]
  },
  {
   "cell_type": "markdown",
   "metadata": {
    "deletable": true,
    "editable": true
   },
   "source": [
    "# Read data file (4-column, ascii)"
   ]
  },
  {
   "cell_type": "code",
   "execution_count": 41,
   "metadata": {
    "collapsed": false,
    "deletable": true,
    "editable": true
   },
   "outputs": [
    {
     "name": "stderr",
     "output_type": "stream",
     "text": [
      "WARNING: Method definition readAltimetryFile(Any) in module Main at In[32]:3 overwritten at In[41]:3.\n",
      "31-mars 21:53:04:INFO:root:Data read from file ../data/ADT_20140515_20140604.dat\n"
     ]
    }
   ],
   "source": [
    "function readAltimetryFile(fname)\n",
    "\n",
    "    data = readlines(open(fname,\"r\"))\n",
    "    nobs = length(data)\n",
    "\n",
    "    lon = zeros(nobs)\n",
    "    lat = zeros(nobs)\n",
    "    time = zeros(nobs)\n",
    "    field = zeros(nobs)\n",
    "\n",
    "    for i in 1:nobs\n",
    "        rec = split(data[i])\n",
    "        lon[i] = parse(Float64,rec[1])\n",
    "        lat[i] = parse(Float64,rec[2])\n",
    "        time[i] = parse(Float64,rec[3])\n",
    "        field[i] = parse(Float64,rec[4])\n",
    "    end\n",
    "    \n",
    "    return lon, lat, time, field\n",
    "end\n",
    "info(\"Data read from file \", datafile)"
   ]
  },
  {
   "cell_type": "code",
   "execution_count": 54,
   "metadata": {
    "collapsed": false,
    "deletable": true,
    "editable": true
   },
   "outputs": [
    {
     "name": "stderr",
     "output_type": "stream",
     "text": [
      "31-mars 22:01:27:INFO:root:Reading 11371 data points\n",
      "31-mars 22:01:27:INFO:root:Mean field value = -0.09550065957259697\n"
     ]
    }
   ],
   "source": [
    "lon, lat, time, field = readAltimetryFile(datafile);\n",
    "info(\"Reading \", length(lon), \" data points\")\n",
    "info(\"Mean field value = \", mean(field))"
   ]
  },
  {
   "cell_type": "markdown",
   "metadata": {
    "deletable": true,
    "editable": true
   },
   "source": [
    "Create mask and metrics using coordinate vectors"
   ]
  },
  {
   "cell_type": "code",
   "execution_count": 55,
   "metadata": {
    "collapsed": false,
    "deletable": true,
    "editable": true
   },
   "outputs": [],
   "source": [
    "mask, (px, py, pt), (xi, yi, ti) = divand_rectdom(lonr, latr, timer);"
   ]
  },
  {
   "cell_type": "code",
   "execution_count": 56,
   "metadata": {
    "collapsed": false,
    "deletable": true,
    "editable": true
   },
   "outputs": [
    {
     "data": {
      "text/plain": [
       "(377,145,2)"
      ]
     },
     "execution_count": 56,
     "metadata": {},
     "output_type": "execute_result"
    }
   ],
   "source": [
    "size(mask)"
   ]
  },
  {
   "cell_type": "markdown",
   "metadata": {
    "deletable": true,
    "editable": true
   },
   "source": [
    "## Analysis parameters"
   ]
  },
  {
   "cell_type": "code",
   "execution_count": 57,
   "metadata": {
    "collapsed": false,
    "deletable": true,
    "editable": true
   },
   "outputs": [],
   "source": [
    "# correlation length\n",
    "len = (1., 1., 4.);\n",
    "# obs. error variance normalized by the background error variance\n",
    "epsilon2 = 1;"
   ]
  },
  {
   "cell_type": "markdown",
   "metadata": {
    "deletable": true,
    "editable": true
   },
   "source": [
    "# Perform interpolation"
   ]
  },
  {
   "cell_type": "code",
   "execution_count": 58,
   "metadata": {
    "collapsed": false,
    "deletable": true,
    "editable": true
   },
   "outputs": [
    {
     "name": "stdout",
     "output_type": "stream",
     "text": [
      " 31.953628 seconds (5.46 M allocations: 3.397 GB, 6.00% gc time)\n"
     ]
    }
   ],
   "source": [
    "@time fi,s = divandrun(mask, (px, py, pt), (xi, yi, ti), (lon, lat, time), field, len, epsilon2; alphabc=2);"
   ]
  },
  {
   "cell_type": "markdown",
   "metadata": {
    "deletable": true,
    "editable": true
   },
   "source": [
    "## Export results to netCDF"
   ]
  },
  {
   "cell_type": "code",
   "execution_count": 60,
   "metadata": {
    "collapsed": false,
    "deletable": true,
    "editable": true
   },
   "outputs": [
    {
     "name": "stderr",
     "output_type": "stream",
     "text": [
      "31-mars 22:06:39:INFO:root:Written interpolated field in file:\n",
      "../results/divand/ADT_20140515_20140604_0pt125d1.nc\n"
     ]
    }
   ],
   "source": [
    "sz = size(mask)\n",
    "dims = [NcDim(\"longitude\",sz[1]), NcDim(\"latitude\",sz[2]), NcDim(\"time\",sz[3])];\n",
    "nc = NetCDF.create(resultfile, NcVar(\"ADT\", dims))\n",
    "nc[\"ADT\"][:,:, :] = fi\n",
    "NetCDF.close(nc);\n",
    "info(\"Written interpolated field in file:\\n\", resultfile)"
   ]
  },
  {
   "cell_type": "markdown",
   "metadata": {
    "deletable": true,
    "editable": true
   },
   "source": [
    "# Plotting"
   ]
  },
  {
   "cell_type": "markdown",
   "metadata": {
    "deletable": true,
    "editable": true
   },
   "source": [
    "Done in [another notebook in Python](../python/plot_AVISO_divand.ipynb) due to a problem with Julia / matplotlib."
   ]
  }
 ],
 "metadata": {
  "kernelspec": {
   "display_name": "Julia 0.5.1",
   "language": "julia",
   "name": "julia-0.5"
  },
  "language_info": {
   "file_extension": ".jl",
   "mimetype": "application/julia",
   "name": "julia",
   "version": "0.5.1"
  }
 },
 "nbformat": 4,
 "nbformat_minor": 2
}
