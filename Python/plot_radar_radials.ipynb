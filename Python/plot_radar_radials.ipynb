{
 "cells": [
  {
   "cell_type": "markdown",
   "metadata": {},
   "source": [
    "Create a step-by-step plot of the HF radar radial velocities in the Ibiza Channel."
   ]
  },
  {
   "cell_type": "code",
   "execution_count": 1,
   "metadata": {
    "collapsed": true
   },
   "outputs": [],
   "source": [
    "import os\n",
    "import glob\n",
    "import numpy as np\n",
    "import matplotlib.pyplot as plt\n",
    "from mpl_toolkits.basemap import Basemap\n",
    "import netCDF4\n",
    "from matplotlib import rcParams\n",
    "from osgeo import gdal"
   ]
  },
  {
   "cell_type": "markdown",
   "metadata": {},
   "source": [
    "# Files and directories"
   ]
  },
  {
   "cell_type": "code",
   "execution_count": 119,
   "metadata": {
    "collapsed": true
   },
   "outputs": [],
   "source": [
    "imagedir = '/home/ctroupin/Data/Visible/'\n",
    "imagefile = 'ibiza-channel5.tiff'\n",
    "coastdir = \"/home/ctroupin/Data/Coastlines/\"\n",
    "coastfile = \"balearic_coast.dat\"\n",
    "figdir = \"/home/ctroupin/Presentations/PresentationsLatex/20171015_SeaDataCloud_Athens/figures/\""
   ]
  },
  {
   "cell_type": "code",
   "execution_count": 51,
   "metadata": {
    "collapsed": true
   },
   "outputs": [],
   "source": [
    "rcParams.update({'font.size': 22})"
   ]
  },
  {
   "cell_type": "markdown",
   "metadata": {},
   "source": [
    "# Load data "
   ]
  },
  {
   "cell_type": "markdown",
   "metadata": {},
   "source": [
    "Coastline "
   ]
  },
  {
   "cell_type": "code",
   "execution_count": 71,
   "metadata": {
    "collapsed": true
   },
   "outputs": [],
   "source": [
    "valex = -999.\n",
    "lonc, latc = np.loadtxt(os.path.join(coastdir, coastfile), usecols=(0, 1), unpack=True)\n",
    "lonc[abs(lonc) > 180] = np.nan\n",
    "latc[abs(latc) > 90] = np.nan"
   ]
  },
  {
   "cell_type": "markdown",
   "metadata": {
    "collapsed": true
   },
   "source": [
    "Read geotiff image"
   ]
  },
  {
   "cell_type": "code",
   "execution_count": 108,
   "metadata": {},
   "outputs": [],
   "source": [
    "gtif = gdal.Open(os.path.join(imagedir, imagefile))\n",
    "gtif.GetProjectionRef()\n",
    "\n",
    "#Set the plot axis limits to the proper map coordinates.\n",
    "arr = gtif.ReadAsArray()\n",
    "trans = gtif.GetGeoTransform()\n",
    "extent = (trans[0], trans[0] + gtif.RasterXSize*trans[1],\n",
    "          trans[3] + gtif.RasterYSize*trans[5], trans[3])"
   ]
  },
  {
   "cell_type": "markdown",
   "metadata": {},
   "source": [
    "Antennas positions"
   ]
  },
  {
   "cell_type": "code",
   "execution_count": 13,
   "metadata": {
    "collapsed": true
   },
   "outputs": [],
   "source": [
    "longalf = 1 + 13.15 /60.\n",
    "latgalf = 38 + 57.11 / 60.\n",
    "lonform = 1 + 23.32 / 60.\n",
    "latform = 38 + 39.97 / 60."
   ]
  },
  {
   "cell_type": "markdown",
   "metadata": {},
   "source": [
    "Grid from the netCDF:"
   ]
  },
  {
   "cell_type": "code",
   "execution_count": 14,
   "metadata": {
    "collapsed": true
   },
   "outputs": [],
   "source": [
    "radarfile = \"http://thredds.socib.es/thredds/dodsC/hf_radar/hf_radar_ibiza-scb_codarssproc001/L1/2016/dep0001_hf-radar-ibiza_scb-codarssproc001_L1_2016-01.nc\""
   ]
  },
  {
   "cell_type": "code",
   "execution_count": 95,
   "metadata": {
    "collapsed": true
   },
   "outputs": [],
   "source": [
    "with netCDF4.Dataset(radarfile) as nc:\n",
    "    longrid = nc.variables['LON'][:]\n",
    "    latgrid = nc.variables['LAT'][:]\n",
    "    u = nc.variables['U'][0, :, :]\n",
    "    v = nc.variables['V'][0, :, :]\n",
    "llongrid, llatgrid = np.meshgrid(longrid, latgrid)\n",
    "# Mask coordinates according to velocity field\n",
    "llongrid = np.ma.masked_where(np.isnan(u), llongrid)"
   ]
  },
  {
   "cell_type": "markdown",
   "metadata": {},
   "source": [
    "Data files"
   ]
  },
  {
   "cell_type": "code",
   "execution_count": 16,
   "metadata": {
    "collapsed": true
   },
   "outputs": [],
   "source": [
    "datadir = \"/home/ctroupin/Data/HFradar/Radials/FORM/2016_12/\""
   ]
  },
  {
   "cell_type": "code",
   "execution_count": 17,
   "metadata": {},
   "outputs": [
    {
     "name": "stdout",
     "output_type": "stream",
     "text": [
      "744\n"
     ]
    }
   ],
   "source": [
    "datafilelist = sorted(glob.glob(os.path.join(datadir, \"*.ruv\")))\n",
    "nfiles = len(datafilelist)\n",
    "print(nfiles)"
   ]
  },
  {
   "cell_type": "code",
   "execution_count": 18,
   "metadata": {
    "collapsed": true
   },
   "outputs": [],
   "source": [
    "datafile1 = \"/home/ctroupin/Data/HFradar/Radials/radialFORM.dat\"\n",
    "datafile2 = \"/home/ctroupin/Data/HFradar/Radials/radialGALF.dat\""
   ]
  },
  {
   "cell_type": "code",
   "execution_count": 19,
   "metadata": {
    "collapsed": true
   },
   "outputs": [],
   "source": [
    "lon1, lat1, u1, v1 = np.loadtxt(datafile1, usecols=(0, 1, 2, 3), unpack=True)\n",
    "lon2, lat2, u2, v2 = np.loadtxt(datafile2, usecols=(0, 1, 2, 3), unpack=True)"
   ]
  },
  {
   "cell_type": "markdown",
   "metadata": {},
   "source": [
    "Define the projection"
   ]
  },
  {
   "cell_type": "code",
   "execution_count": 75,
   "metadata": {
    "collapsed": true
   },
   "outputs": [],
   "source": [
    "m = Basemap(projection='cyl',llcrnrlat=37.97,urcrnrlat=39.3,\\\n",
    "            llcrnrlon=0.,urcrnrlon=1.48,resolution='i')"
   ]
  },
  {
   "cell_type": "code",
   "execution_count": 135,
   "metadata": {},
   "outputs": [],
   "source": [
    "formcolor = \"#FFFA02\"\n",
    "galfcolor = \"#02FFAE\"\n",
    "i = 0\n",
    "fig = plt.figure(figsize=(10, 10))\n",
    "ax = plt.subplot(111)\n",
    "ax.set_xlim(-.2, 1.75)\n",
    "ax.set_ylim(37.95, 39.6)\n",
    "plt.xticks([])\n",
    "plt.yticks([])\n",
    "\n",
    "# Add the satellite image\n",
    "plt.imshow(arr[:3,:,:].transpose((1, 2, 0)), extent=extent, zorder=2, alpha=1)\n",
    "i += 1\n",
    "ii = str(i).zfill(2)\n",
    "plt.savefig(os.path.join(figdir, \"radar{0}.png\".format(ii)), dpi=300, bbox_inches=\"tight\", pad_inches = 0)\n",
    "\n",
    "# Add antennas positions\n",
    "plt.plot(longalf, latgalf, '*', ms=10, color=galfcolor, zorder=4)\n",
    "plt.plot(lonform, latform, '*', ms=10, color=formcolor, zorder=4)\n",
    "i += 1\n",
    "ii = str(i).zfill(2)\n",
    "plt.savefig(os.path.join(figdir, \"radar{0}.png\".format(ii)), dpi=300, bbox_inches=\"tight\", pad_inches = 0)\n",
    "\n",
    "# Add vectors\n",
    "q1 = plt.quiver(lon1, lat1, u1, v1, scale=1000, width=.002, headwidth=5, color=formcolor, zorder=4, alpha=.7)\n",
    "i += 1\n",
    "ii = str(i).zfill(2)\n",
    "plt.savefig(os.path.join(figdir, \"radar{0}.png\".format(ii)), dpi=300, bbox_inches=\"tight\", pad_inches = 0)\n",
    "\n",
    "q2 = plt.quiver(lon2, lat2, u2, v2, scale=1000, width=.002, headwidth=5, color=galfcolor, zorder=4, alpha=.7)\n",
    "i += 1\n",
    "ii = str(i).zfill(2)\n",
    "plt.savefig(os.path.join(figdir, \"radar{0}.png\".format(ii)), dpi=300, bbox_inches=\"tight\", pad_inches = 0)\n",
    "\n",
    "# Add grid positions\n",
    "q1.set_alpha(.25)\n",
    "q2.set_alpha(.25)\n",
    "scat = plt.scatter(llongrid, llatgrid, s=5, c='w', zorder=6, cmap=plt.cm.gray_r, )\n",
    "i += 1\n",
    "ii = str(i).zfill(2)\n",
    "plt.savefig(os.path.join(figdir, \"radar{0}.png\".format(ii)), dpi=300, bbox_inches=\"tight\", pad_inches = 0)\n",
    "\n",
    "# Final vectors\n",
    "scat.set_visible(False)\n",
    "plt.quiver(llongrid, llatgrid, u, v, scale=10, color=\"w\", zorder=8)\n",
    "i += 1\n",
    "ii = str(i).zfill(2)\n",
    "plt.savefig(os.path.join(figdir, \"radar{0}.png\".format(ii)), dpi=300, bbox_inches=\"tight\", pad_inches = 0)\n",
    "plt.close()"
   ]
  },
  {
   "cell_type": "code",
   "execution_count": null,
   "metadata": {
    "collapsed": true
   },
   "outputs": [],
   "source": []
  }
 ],
 "metadata": {
  "kernelspec": {
   "display_name": "Diva-python3.6",
   "language": "python",
   "name": "diva-python3.6"
  },
  "language_info": {
   "codemirror_mode": {
    "name": "ipython",
    "version": 3
   },
   "file_extension": ".py",
   "mimetype": "text/x-python",
   "name": "python",
   "nbconvert_exporter": "python",
   "pygments_lexer": "ipython3",
   "version": "3.6.0"
  }
 },
 "nbformat": 4,
 "nbformat_minor": 2
}
