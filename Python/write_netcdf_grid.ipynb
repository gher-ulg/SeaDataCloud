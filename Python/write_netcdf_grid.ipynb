{
 "cells": [
  {
   "cell_type": "code",
   "execution_count": 1,
   "metadata": {
    "collapsed": true
   },
   "outputs": [],
   "source": [
    "import os\n",
    "import numpy as np\n",
    "import netCDF4"
   ]
  },
  {
   "cell_type": "markdown",
   "metadata": {},
   "source": [
    "# Define new grid"
   ]
  },
  {
   "cell_type": "code",
   "execution_count": 2,
   "metadata": {
    "collapsed": true
   },
   "outputs": [],
   "source": [
    "lonnew = np.arange(-5.5, 37.0001, 0.025)\n",
    "latnew = np.arange(30., 46.0001, 0.025)"
   ]
  },
  {
   "cell_type": "markdown",
   "metadata": {},
   "source": [
    "# Create a new netCDF with the grid"
   ]
  },
  {
   "cell_type": "code",
   "execution_count": 3,
   "metadata": {
    "collapsed": true
   },
   "outputs": [],
   "source": [
    "def create_grid(filename, newlon, newlat):\n",
    "    \n",
    "    with netCDF4.Dataset(filename, \"w\") as nc:\n",
    "        lon = nc.createDimension(\"longitude\", len(newlon))\n",
    "        lat = nc.createDimension(\"latitude\", len(newlat))\n",
    "        longitudes = nc.createVariable(\"longitude\",\"f4\",(\"longitude\",))\n",
    "        latitudes = nc.createVariable(\"latitude\",\"f4\",(\"latitude\",))\n",
    "        latitudes.units = \"degrees north\"\n",
    "        longitudes.units = \"degrees east\"\n",
    "        longitudes[:] = newlon\n",
    "        latitudes[:] = newlat"
   ]
  },
  {
   "cell_type": "code",
   "execution_count": 4,
   "metadata": {
    "collapsed": true
   },
   "outputs": [],
   "source": [
    "create_grid(\"newgridfine.nc\", lonnew, latnew)"
   ]
  },
  {
   "cell_type": "markdown",
   "metadata": {
    "collapsed": true
   },
   "source": [
    "# Read from an existing file"
   ]
  },
  {
   "cell_type": "code",
   "execution_count": 2,
   "metadata": {
    "collapsed": true
   },
   "outputs": [],
   "source": [
    "datafile = \"/home/ctroupin/Data/EMODnet/winter/Water_body_ammonium.4Danl_c.nc\""
   ]
  },
  {
   "cell_type": "code",
   "execution_count": 3,
   "metadata": {
    "collapsed": true
   },
   "outputs": [],
   "source": [
    "with netCDF4.Dataset(datafile, 'r') as nc:\n",
    "    lon = nc.variables['lon'][:]\n",
    "    lat = nc.variables['lat'][:]"
   ]
  },
  {
   "cell_type": "code",
   "execution_count": 8,
   "metadata": {
    "collapsed": true
   },
   "outputs": [],
   "source": [
    "dlon = lon[1] - lon[0]\n",
    "dlat = lat[1] - lat[0]"
   ]
  },
  {
   "cell_type": "code",
   "execution_count": 21,
   "metadata": {
    "collapsed": true
   },
   "outputs": [],
   "source": [
    "newlon = np.arange(lon.min(), lon.max() + 0.0001, dlon/2)\n",
    "newlat = np.arange(lat.min(), lat.max() + 0.0001, dlat/2)"
   ]
  },
  {
   "cell_type": "code",
   "execution_count": 22,
   "metadata": {
    "collapsed": true
   },
   "outputs": [],
   "source": [
    "create_grid(\"newgrid_adriatic.nc\", newlon, newlat)"
   ]
  },
  {
   "cell_type": "code",
   "execution_count": 23,
   "metadata": {},
   "outputs": [
    {
     "name": "stdout",
     "output_type": "stream",
     "text": [
      "data_20141023_20141112_copy.nc     input.nc             plot_radar_sites.ipynb\r\n",
      "data_20141023_20141112.nc          newgrid2.nc          \u001b[0m\u001b[01;35mradials.png\u001b[0m\r\n",
      "data_20141023_20141112_regrid2.nc  newgrid_adriatic.nc  write_netcdf_grid.ipynb\r\n",
      "data_20141023_20141112_regrid.nc   newgrid.nc\r\n"
     ]
    }
   ],
   "source": []
  },
  {
   "cell_type": "code",
   "execution_count": null,
   "metadata": {
    "collapsed": true
   },
   "outputs": [],
   "source": []
  }
 ],
 "metadata": {
  "kernelspec": {
   "display_name": "Diva-python3.6",
   "language": "python",
   "name": "diva-python3.6"
  },
  "language_info": {
   "codemirror_mode": {
    "name": "ipython",
    "version": 3
   },
   "file_extension": ".py",
   "mimetype": "text/x-python",
   "name": "python",
   "nbconvert_exporter": "python",
   "pygments_lexer": "ipython3",
   "version": "3.6.0"
  }
 },
 "nbformat": 4,
 "nbformat_minor": 2
}
