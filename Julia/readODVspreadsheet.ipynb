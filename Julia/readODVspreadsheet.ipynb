{
 "cells": [
  {
   "cell_type": "markdown",
   "metadata": {
    "deletable": true,
    "editable": true
   },
   "source": [
    "Explain how to read an ODV spreadsheet data file using `Julia`"
   ]
  },
  {
   "cell_type": "code",
   "execution_count": 47,
   "metadata": {
    "collapsed": false,
    "deletable": true,
    "editable": true
   },
   "outputs": [
    {
     "name": "stderr",
     "output_type": "stream",
     "text": [
      "WARNING: replacing module ODVspreadsheet\n",
      "WARNING: using ODVspreadsheet.readODVspreadsheet in module Main conflicts with an existing identifier.\n"
     ]
    }
   ],
   "source": [
    "include(\"./ODVspreadsheet.jl\")\n",
    "using Logging\n",
    "using ODVspreadsheet"
   ]
  },
  {
   "cell_type": "markdown",
   "metadata": {
    "deletable": true,
    "editable": true
   },
   "source": [
    "# Configuration"
   ]
  },
  {
   "cell_type": "markdown",
   "metadata": {
    "deletable": true,
    "editable": true
   },
   "source": [
    "## Logging"
   ]
  },
  {
   "cell_type": "code",
   "execution_count": 2,
   "metadata": {
    "collapsed": true,
    "deletable": true,
    "editable": true
   },
   "outputs": [],
   "source": [
    "Logging.configure(level=WARNING);"
   ]
  },
  {
   "cell_type": "markdown",
   "metadata": {
    "deletable": true,
    "editable": true
   },
   "source": [
    "# Input file"
   ]
  },
  {
   "cell_type": "code",
   "execution_count": 32,
   "metadata": {
    "collapsed": false,
    "deletable": true,
    "editable": true
   },
   "outputs": [],
   "source": [
    "datadir = \"./test/data/\";\n",
    "ODVfile = joinpath(datadir, \"BlackSea_2profiles.txt\");"
   ]
  },
  {
   "cell_type": "markdown",
   "metadata": {
    "deletable": true,
    "editable": true
   },
   "source": [
    "Check if the file exists:"
   ]
  },
  {
   "cell_type": "code",
   "execution_count": 33,
   "metadata": {
    "collapsed": false,
    "deletable": true,
    "editable": true
   },
   "outputs": [],
   "source": [
    "if isfile(ODVfile)\n",
    "    info(\"Working on file $ODVfile\")\n",
    "else\n",
    "    err(\"File $ODVfile doesn't exist\")\n",
    "end"
   ]
  },
  {
   "cell_type": "markdown",
   "metadata": {
    "deletable": true,
    "editable": true
   },
   "source": [
    "# Read the file"
   ]
  },
  {
   "cell_type": "markdown",
   "metadata": {
    "deletable": true,
    "editable": true
   },
   "source": [
    "The function will return an object that stores all the information contained in the spreadsheet."
   ]
  },
  {
   "cell_type": "code",
   "execution_count": 34,
   "metadata": {
    "collapsed": true,
    "deletable": true,
    "editable": true
   },
   "outputs": [],
   "source": [
    "ODVdata = readODVspreadsheet(ODVfile);"
   ]
  },
  {
   "cell_type": "markdown",
   "metadata": {
    "deletable": true,
    "editable": true
   },
   "source": [
    "## Check result"
   ]
  },
  {
   "cell_type": "markdown",
   "metadata": {
    "deletable": true,
    "editable": true
   },
   "source": [
    "The labels of the columns. Note that some columns have the same title (quality flags)."
   ]
  },
  {
   "cell_type": "code",
   "execution_count": 35,
   "metadata": {
    "collapsed": false,
    "deletable": true,
    "editable": true
   },
   "outputs": [
    {
     "data": {
      "text/plain": [
       "16-element Array{SubString{String},1}:\n",
       " \"Cruise\"                              \n",
       " \"Station\"                             \n",
       " \"Type\"                                \n",
       " \"yyyy-mm-ddThh:mm:ss.sss\"             \n",
       " \"Longitude [degrees_east]\"            \n",
       " \"Latitude [degrees_north]\"            \n",
       " \"Bot. Depth [m]:METAVAR:FLOAT:4\"      \n",
       " \"Originator's Cruise:METAVAR:TEXT:20\" \n",
       " \"Originator's Station:METAVAR:TEXT:20\"\n",
       " \"Depth [m]\"                           \n",
       " \"QV:WOD\"                              \n",
       " \"Temperature [C]\"                     \n",
       " \"QV:WOD\"                              \n",
       " \"Salinity [psu]\"                      \n",
       " \"QV:WOD\"                              \n",
       " \"QV:ODV:SAMPLE\"                       "
      ]
     },
     "execution_count": 35,
     "metadata": {},
     "output_type": "execute_result"
    }
   ],
   "source": [
    "ODVdata.columnLabels"
   ]
  },
  {
   "cell_type": "markdown",
   "metadata": {
    "deletable": true,
    "editable": true
   },
   "source": [
    "The metadata relative to the collection:"
   ]
  },
  {
   "cell_type": "code",
   "execution_count": 36,
   "metadata": {
    "collapsed": false,
    "deletable": true,
    "editable": true
   },
   "outputs": [
    {
     "data": {
      "text/plain": [
       "Dict{String,String} with 9 entries:\n",
       "  \"DataType\"               => \"Profiles\"\n",
       "  \"Source\"                 => \"/home/charles/DIVA/BlackSea4diva/New_ODV4_Collec…\n",
       "  \"DataField\"              => \"Ocean\"\n",
       "  \"Software\"               => \"Ocean Data View Version 4.2.1 - 2009\"\n",
       "  \"SourceLastModified\"     => \"2011-12-19T12:42:03\"\n",
       "  \"Version\"                => \"ODV Spreadsheet V4.0\"\n",
       "  \"Creator\"                => \"charles@gher13.phys.ulg.ac.be\"\n",
       "  \"CreateTime\"             => \"2011-12-19T12:42:52\"\n",
       "  \"MissingValueIndicators\" => \"-99\""
      ]
     },
     "execution_count": 36,
     "metadata": {},
     "output_type": "execute_result"
    }
   ],
   "source": [
    "ODVdata.metadata"
   ]
  },
  {
   "cell_type": "markdown",
   "metadata": {
    "deletable": true,
    "editable": true
   },
   "source": [
    "The profiles. Here we only have 2 profiles so it's ok to display their content. Otherwise it is preferable to select one profile."
   ]
  },
  {
   "cell_type": "code",
   "execution_count": 37,
   "metadata": {
    "collapsed": false,
    "deletable": true,
    "editable": true
   },
   "outputs": [
    {
     "data": {
      "text/plain": [
       "2-element Array{Any,1}:\n",
       " Any[SubString{String}[\"WOD05_BG000003\"],SubString{String}[\"11570900\"],SubString{String}[\"B\"],SubString{String}[\"1991-09-03T16:25\"],SubString{String}[\"28.3333\"],SubString{String}[\"43.167\"],SubString{String}[\"36\"],SubString{String}[\"\"],SubString{String}[\"CoMSBlack91\"],SubString{String}[\"0.0\",\"10.0\",\"20.0\",\"30.0\"],SubString{String}[\"0\",\"0\",\"0\",\"0\"],SubString{String}[\"22.208\",\"22.260\",\"22.346\",\"22.308\"],SubString{String}[\"0\",\"0\",\"0\",\"0\"],SubString{String}[\"15.7020\",\"15.7380\",\"15.9740\",\"16.0270\"],SubString{String}[\"0\",\"0\",\"0\",\"0\"],SubString{String}[\"1\",\"1\",\"1\",\"1\"]]                                                                                                                                                                                                                                                                                                    \n",
       " Any[SubString{String}[\"WOD05_BG000003\"],SubString{String}[\"11570901\"],SubString{String}[\"B\"],SubString{String}[\"1991-09-03T21:10\"],SubString{String}[\"28.8333\"],SubString{String}[\"43.167\"],SubString{String}[\"325\"],SubString{String}[\"\"],SubString{String}[\"CoMSBlack91\"],SubString{String}[\"0.0\",\"10.0\",\"20.0\",\"30.0\",\"50.0\",\"75.0\",\"100.0\",\"125.0\",\"150.0\",\"200.0\",\"250.0\"],SubString{String}[\"0\",\"0\",\"0\",\"0\",\"0\",\"0\",\"0\",\"0\",\"0\",\"0\",\"0\"],SubString{String}[\"21.946\",\"21.956\",\"21.969\",\"9.954\",\"7.447\",\"7.121\",\"7.248\",\"8.097\",\"8.359\",\"8.615\",\"8.741\"],SubString{String}[\"0\",\"0\",\"0\",\"0\",\"0\",\"0\",\"0\",\"0\",\"0\",\"0\",\"0\"],SubString{String}[\"17.5830\",\"17.5830\",\"17.5870\",\"18.0420\",\"18.1402\",\"18.3111\",\"18.8920\",\"20.3090\",\"20.7490\",\"21.2030\",\"21.4960\"],SubString{String}[\"0\",\"0\",\"0\",\"0\",\"0\",\"0\",\"0\",\"0\",\"0\",\"0\",\"0\"],SubString{String}[\"1\",\"1\",\"1\",\"1\",\"1\",\"1\",\"1\",\"1\",\"1\",\"1\",\"1\"]]"
      ]
     },
     "execution_count": 37,
     "metadata": {},
     "output_type": "execute_result"
    }
   ],
   "source": [
    "ODVdata.profileList"
   ]
  },
  {
   "cell_type": "code",
   "execution_count": 46,
   "metadata": {
    "collapsed": false,
    "deletable": true,
    "editable": true
   },
   "outputs": [
    {
     "data": {
      "text/plain": [
       "\"1\""
      ]
     },
     "execution_count": 46,
     "metadata": {},
     "output_type": "execute_result"
    }
   ],
   "source": [
    "profile1 = ODVdata.profileList[1][end][1]"
   ]
  },
  {
   "cell_type": "markdown",
   "metadata": {
    "deletable": true,
    "editable": true
   },
   "source": [
    "If you want to access the temperature, you just need to know in which column it is stored.<br>\n",
    "It is easy if you use the `columnLabels`:"
   ]
  },
  {
   "cell_type": "code",
   "execution_count": 11,
   "metadata": {
    "collapsed": false,
    "deletable": true,
    "editable": true
   },
   "outputs": [
    {
     "data": {
      "text/plain": [
       "11-element Array{SubString{String},1}:\n",
       " \"21.946\"\n",
       " \"21.956\"\n",
       " \"21.969\"\n",
       " \"9.954\" \n",
       " \"7.447\" \n",
       " \"7.121\" \n",
       " \"7.248\" \n",
       " \"8.097\" \n",
       " \"8.359\" \n",
       " \"8.615\" \n",
       " \"8.741\" "
      ]
     },
     "execution_count": 11,
     "metadata": {},
     "output_type": "execute_result"
    }
   ],
   "source": [
    "temperature = profile1[12]"
   ]
  },
  {
   "cell_type": "markdown",
   "metadata": {
    "deletable": true,
    "editable": true
   },
   "source": [
    "Currently all the data are read as strings, but it's easy to convert them to floats."
   ]
  },
  {
   "cell_type": "code",
   "execution_count": 12,
   "metadata": {
    "collapsed": false,
    "deletable": true,
    "editable": true
   },
   "outputs": [
    {
     "data": {
      "text/plain": [
       "11-element Array{Float64,1}:\n",
       " 21.946\n",
       " 21.956\n",
       " 21.969\n",
       "  9.954\n",
       "  7.447\n",
       "  7.121\n",
       "  7.248\n",
       "  8.097\n",
       "  8.359\n",
       "  8.615\n",
       "  8.741"
      ]
     },
     "execution_count": 12,
     "metadata": {},
     "output_type": "execute_result"
    }
   ],
   "source": [
    "map(x->parse(Float64,x),temperature)"
   ]
  },
  {
   "cell_type": "code",
   "execution_count": 24,
   "metadata": {
    "collapsed": false
   },
   "outputs": [
    {
     "data": {
      "text/plain": [
       "9"
      ]
     },
     "execution_count": 24,
     "metadata": {},
     "output_type": "execute_result"
    }
   ],
   "source": [
    "length(ODVdata.metadata)"
   ]
  },
  {
   "cell_type": "code",
   "execution_count": null,
   "metadata": {
    "collapsed": true
   },
   "outputs": [],
   "source": []
  }
 ],
 "metadata": {
  "kernelspec": {
   "display_name": "Julia 0.5.1",
   "language": "julia",
   "name": "julia-0.5"
  },
  "language_info": {
   "file_extension": ".jl",
   "mimetype": "application/julia",
   "name": "julia",
   "version": "0.5.1"
  }
 },
 "nbformat": 4,
 "nbformat_minor": 2
}
