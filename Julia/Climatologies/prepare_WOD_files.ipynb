{
 "cells": [
  {
   "cell_type": "markdown",
   "metadata": {},
   "source": [
    "Convert the WOD files (ODV spreadsheet) into netCDF storing the observations as vectors (no profiles or stations.)       \n",
    "Note that EDMO_codes and LOCAL_CDI_ID metadata have to be added to the files prior to their reading."
   ]
  },
  {
   "cell_type": "code",
   "execution_count": 3,
   "metadata": {},
   "outputs": [],
   "source": [
    "using NCDatasets\n",
    "using PhysOcean\n",
    "using DIVAnd\n",
    "using PyPlot\n",
    "using Dates"
   ]
  },
  {
   "cell_type": "code",
   "execution_count": 4,
   "metadata": {},
   "outputs": [
    {
     "data": {
      "text/plain": [
       "true"
      ]
     },
     "execution_count": 4,
     "metadata": {},
     "output_type": "execute_result"
    }
   ],
   "source": [
    "woddatadir = \"/data/SeaDataCloud/NorthSea/WOD/NativeLevels/\"\n",
    "outputdir = \"/data/SeaDataCloud/NorthSea/\"\n",
    "\n",
    "woddatafile = joinpath(woddatadir, \"data_from_data_from_WOD-PFL-OSD-QCed_EDMO.txt\")\n",
    "isfile(woddatafile)"
   ]
  },
  {
   "cell_type": "markdown",
   "metadata": {},
   "source": [
    "## Read data\n",
    "### Temperature"
   ]
  },
  {
   "cell_type": "code",
   "execution_count": 6,
   "metadata": {},
   "outputs": [
    {
     "name": "stderr",
     "output_type": "stream",
     "text": [
      "┌ Info: Reading data from file /data/SeaDataCloud/NorthSea/WOD/NativeLevels/data_from_data_from_WOD-PFL-OSD-QCed_EDMO.txt\n",
      "└ @ DIVAnd.ODVspreadsheet /home/ctroupin/.julia/packages/DIVAnd/dM13X/src/ODVspreadsheet.jl:81\n",
      "┌ Info: No. of profiles in the file: 173566\n",
      "└ @ DIVAnd.ODVspreadsheet /home/ctroupin/.julia/packages/DIVAnd/dM13X/src/ODVspreadsheet.jl:250\n"
     ]
    },
    {
     "name": "stdout",
     "output_type": "stream",
     "text": [
      " 66.125498 seconds (634.06 M allocations: 36.647 GiB, 34.60% gc time)\n"
     ]
    }
   ],
   "source": [
    "@time obsval,obslon,obslat,obsdepth,obstime,obsid = ODVspreadsheet.load(Float64,[woddatafile],\n",
    "                           [\"Temperature\"]; qv_flags=[\"0\"], nametype = :localname, qvlocalname = \"QV:WOD\");"
   ]
  },
  {
   "cell_type": "markdown",
   "metadata": {},
   "source": [
    "Keep only temperature between 0 and 40°C."
   ]
  },
  {
   "cell_type": "code",
   "execution_count": 9,
   "metadata": {},
   "outputs": [],
   "source": [
    "goodval = findall((obsval .>= 0) .& (obsval .< 40.));"
   ]
  },
  {
   "cell_type": "code",
   "execution_count": 10,
   "metadata": {},
   "outputs": [],
   "source": [
    "obsval,obslon,obslat,obsdepth,obstime,obsid = \n",
    "obsval[goodval],obslon[goodval],obslat[goodval],obsdepth[goodval],obstime[goodval],obsid[goodval];"
   ]
  },
  {
   "cell_type": "markdown",
   "metadata": {},
   "source": [
    "### Remove bad profiles\n",
    "(uncomplete date leading to Datetime with year = -4713)"
   ]
  },
  {
   "cell_type": "code",
   "execution_count": 13,
   "metadata": {},
   "outputs": [],
   "source": [
    "years00 = Dates.year.(obstime);\n",
    "goodyears = findall(years00 .> 0.);\n",
    "obsval,obslon,obslat,obsdepth,obstime,obsid = \n",
    "obsval[goodyears],obslon[goodyears],obslat[goodyears],obsdepth[goodyears],obstime[goodyears],obsid[goodyears];"
   ]
  },
  {
   "cell_type": "markdown",
   "metadata": {},
   "source": [
    "### Salinity"
   ]
  },
  {
   "cell_type": "code",
   "execution_count": 14,
   "metadata": {},
   "outputs": [
    {
     "name": "stderr",
     "output_type": "stream",
     "text": [
      "┌ Info: Reading data from file /data/SeaDataCloud/NorthSea/WOD/NativeLevels/data_from_data_from_WOD-PFL-OSD-QCed_EDMO.txt\n",
      "└ @ DIVAnd.ODVspreadsheet /home/ctroupin/.julia/packages/DIVAnd/dM13X/src/ODVspreadsheet.jl:81\n",
      "┌ Info: No. of profiles in the file: 173566\n",
      "└ @ DIVAnd.ODVspreadsheet /home/ctroupin/.julia/packages/DIVAnd/dM13X/src/ODVspreadsheet.jl:250\n"
     ]
    },
    {
     "name": "stdout",
     "output_type": "stream",
     "text": [
      " 64.382711 seconds (625.06 M allocations: 36.227 GiB, 38.69% gc time)\n"
     ]
    }
   ],
   "source": [
    "@time obsval2,obslon2,obslat2,obsdepth2,obstime2,obsid2 = ODVspreadsheet.load(Float64,[woddatafile],\n",
    "                           [\"Salinity\"]; qv_flags=[\"0\"], nametype = :localname, qvlocalname = \"QV:WOD\");"
   ]
  },
  {
   "cell_type": "code",
   "execution_count": 15,
   "metadata": {},
   "outputs": [],
   "source": [
    "years00 = Dates.year.(obstime2);\n",
    "goodyears2 = findall(years00 .> 0.);"
   ]
  },
  {
   "cell_type": "code",
   "execution_count": 16,
   "metadata": {},
   "outputs": [],
   "source": [
    "obsval2,obslon2,obslat2,obsdepth2,obstime2,obsid2 = \n",
    "obsval2[goodyears2],obslon2[goodyears2],obslat2[goodyears2],obsdepth2[goodyears2],obstime2[goodyears2],obsid2[goodyears2];"
   ]
  },
  {
   "cell_type": "code",
   "execution_count": 20,
   "metadata": {},
   "outputs": [],
   "source": [
    "goodval = findall((obsval2 .>= 0) .& (obsval2 .< 40.));\n",
    "obsval2,obslon2,obslat2,obsdepth2,obstime2,obsid2 = \n",
    "obsval2[goodval],obslon2[goodval],obslat2[goodval],obsdepth2[goodval],obstime2[goodval],obsid2[goodval];"
   ]
  },
  {
   "cell_type": "code",
   "execution_count": 21,
   "metadata": {},
   "outputs": [
    {
     "name": "stderr",
     "output_type": "stream",
     "text": [
      "┌ Info: Number of temperature data: 1091223\n",
      "└ @ Main In[21]:1\n",
      "┌ Info: Number of temperature data: 1085790\n",
      "└ @ Main In[21]:2\n"
     ]
    }
   ],
   "source": [
    "@info(\"Number of temperature data: $(length(obsval))\")\n",
    "@info(\"Number of temperature data: $(length(obsval2))\")"
   ]
  },
  {
   "cell_type": "markdown",
   "metadata": {},
   "source": [
    "## Export to observation file"
   ]
  },
  {
   "cell_type": "code",
   "execution_count": 22,
   "metadata": {},
   "outputs": [
    {
     "name": "stderr",
     "output_type": "stream",
     "text": [
      "┌ Info: Writing the data and coordinates into an observation file\n",
      "└ @ Main In[22]:1\n"
     ]
    }
   ],
   "source": [
    "@info(\"Writing the data and coordinates into an observation file\")\n",
    "DIVAnd.saveobs(joinpath(outputdir, \"NorthSea_obs_Temperature_wod.nc\"), \"Temperature\", obsval,\n",
    "              (obslon, obslat, obsdepth, obstime),obsid)"
   ]
  },
  {
   "cell_type": "code",
   "execution_count": 23,
   "metadata": {
    "scrolled": true
   },
   "outputs": [],
   "source": [
    "DIVAnd.saveobs(joinpath(outputdir, \"NorthSea_obs_Salinity_wod.nc\"), \"Salinity\", obsval2,\n",
    "              (obslon2, obslat2, obsdepth2, obstime2),obsid2)"
   ]
  }
 ],
 "metadata": {
  "@webio": {
   "lastCommId": null,
   "lastKernelId": null
  },
  "kernelspec": {
   "display_name": "Julia 1.1.0",
   "language": "julia",
   "name": "julia-1.1"
  },
  "language_info": {
   "file_extension": ".jl",
   "mimetype": "application/julia",
   "name": "julia",
   "version": "1.1.0"
  }
 },
 "nbformat": 4,
 "nbformat_minor": 2
}
