{
 "cells": [
  {
   "cell_type": "markdown",
   "metadata": {
    "deletable": true,
    "editable": true
   },
   "source": [
    "Explain how to convert an ODV spreadsheet data file to netCDf format."
   ]
  },
  {
   "cell_type": "code",
   "execution_count": null,
   "metadata": {
    "collapsed": false,
    "deletable": true,
    "editable": true
   },
   "outputs": [],
   "source": [
    "include(\"./ODVspreadsheet.jl\")\n",
    "using Logging\n",
    "using NetCDF\n",
    "using ODVspreadsheet"
   ]
  },
  {
   "cell_type": "markdown",
   "metadata": {
    "deletable": true,
    "editable": true
   },
   "source": [
    "# Configuration"
   ]
  },
  {
   "cell_type": "markdown",
   "metadata": {
    "deletable": true,
    "editable": true
   },
   "source": [
    "## Logging"
   ]
  },
  {
   "cell_type": "code",
   "execution_count": 8,
   "metadata": {
    "collapsed": true,
    "deletable": true,
    "editable": true
   },
   "outputs": [],
   "source": [
    "Logging.configure(level=INFO);"
   ]
  },
  {
   "cell_type": "markdown",
   "metadata": {
    "deletable": true,
    "editable": true
   },
   "source": [
    "# Input file"
   ]
  },
  {
   "cell_type": "code",
   "execution_count": 3,
   "metadata": {
    "collapsed": false,
    "deletable": true,
    "editable": true
   },
   "outputs": [],
   "source": [
    "datadir = \"./test/data/\";\n",
    "ODVfile = joinpath(datadir, \"BlackSea_2profiles.txt\");"
   ]
  },
  {
   "cell_type": "markdown",
   "metadata": {
    "deletable": true,
    "editable": true
   },
   "source": [
    "Check if the file exists:"
   ]
  },
  {
   "cell_type": "code",
   "execution_count": 4,
   "metadata": {
    "collapsed": false,
    "deletable": true,
    "editable": true
   },
   "outputs": [],
   "source": [
    "if isfile(ODVfile)\n",
    "    info(\"Working on file $ODVfile\")\n",
    "else\n",
    "    err(\"File $ODVfile doesn't exist\")\n",
    "end"
   ]
  },
  {
   "cell_type": "markdown",
   "metadata": {
    "deletable": true,
    "editable": true
   },
   "source": [
    "# Read the file"
   ]
  },
  {
   "cell_type": "markdown",
   "metadata": {
    "deletable": true,
    "editable": true
   },
   "source": [
    "The function will return an object that stores all the information contained in the spreadsheet."
   ]
  },
  {
   "cell_type": "code",
   "execution_count": 5,
   "metadata": {
    "collapsed": true,
    "deletable": true,
    "editable": true
   },
   "outputs": [],
   "source": [
    "ODVdata = readODVspreadsheet(ODVfile);"
   ]
  },
  {
   "cell_type": "markdown",
   "metadata": {},
   "source": [
    "# Create new netCDf file"
   ]
  },
  {
   "cell_type": "markdown",
   "metadata": {},
   "source": [
    "Following documentation: https://github.com/JuliaGeo/NetCDF.jl."
   ]
  },
  {
   "cell_type": "markdown",
   "metadata": {},
   "source": [
    "## Global attributes"
   ]
  },
  {
   "cell_type": "code",
   "execution_count": null,
   "metadata": {
    "collapsed": false
   },
   "outputs": [],
   "source": [
    "nccreate(\"output.nc\", 1);\n",
    "ncputatt(\"./output.nc\", \"Global\", ODVdata.metadata);"
   ]
  },
  {
   "cell_type": "markdown",
   "metadata": {},
   "source": [
    "## Define a function to find the indices of the columns"
   ]
  },
  {
   "cell_type": "code",
   "execution_count": 16,
   "metadata": {
    "collapsed": false
   },
   "outputs": [
    {
     "name": "stderr",
     "output_type": "stream",
     "text": [
      "WARNING: Method definition (::Type{Main.ColumnIndex})(Int64, Int64, Int64, Int64, Int64, Int64, Int64, Int64) in module Main at In[10]:3 overwritten at In[16]:3.\n",
      "WARNING: Method definition (::Type{Main.ColumnIndex})(Any, Any, Any, Any, Any, Any, Any, Any) in module Main at In[10]:3 overwritten at In[16]:3.\n"
     ]
    }
   ],
   "source": [
    "global ColumnIndex\n",
    "type ColumnIndex\n",
    "    cruise::Int\n",
    "    station::Int\n",
    "    stationtype::Int\n",
    "    depth::Int\n",
    "    lon::Int\n",
    "    lat::Int\n",
    "    temperature::Int\n",
    "    salinity::Int\n",
    "end"
   ]
  },
  {
   "cell_type": "code",
   "execution_count": 17,
   "metadata": {
    "collapsed": false
   },
   "outputs": [
    {
     "name": "stderr",
     "output_type": "stream",
     "text": [
      "WARNING: Method definition getColumnIndex(Any) in module Main at In[14]:2 overwritten at In[17]:2.\n"
     ]
    },
    {
     "data": {
      "text/plain": [
       "getColumnIndex (generic function with 1 method)"
      ]
     },
     "execution_count": 17,
     "metadata": {},
     "output_type": "execute_result"
    }
   ],
   "source": [
    "function getColumnIndex(columnLabels)\n",
    "    \"\"\"\n",
    "    The function will return a composite type that stores\n",
    "    the indices of the different columns\n",
    "\n",
    "    Input\n",
    "\n",
    "    *`columnlabels`: Array{SubString{String},1  containing the names of the ODV file columns, \n",
    "        as obtained by using function `readODVspreadsheet`.\n",
    "\n",
    "    Output\n",
    "\n",
    "    *`ColumnIndex`: a composite type storing the indices (Integers) of the\n",
    "        columns specified by their title.\n",
    "        If there is no match between the title and the columns, the function\n",
    "        will return 0.\n",
    "\n",
    "    \"\"\"\n",
    "    cruiseindex = findfirst(columnLabels .== \"Cruise\")\n",
    "    stationindex = findfirst(columnLabels .== \"Station\")\n",
    "    typeindex = findfirst(columnLabels .== \"Type\")\n",
    "    depthindex = findfirst(columnLabels .== \"Depth [m]\")\n",
    "    latindex = findfirst(x -> contains(x, \"Latitude\"), columnLabels)\n",
    "    lonindex = findfirst(x -> contains(x, \"Longitude\"), columnLabels)\n",
    "    temperatureindex = findfirst(x -> contains(x, \"Temperature\"), columnLabels)\n",
    "    salinityindex = findfirst(x -> contains(x, \"Salinity\"), columnLabels)\n",
    "    return ColumnIndex(cruiseindex, stationindex, typeindex, depthindex, \n",
    "        lonindex, latindex, temperatureindex, salinityindex)\n",
    "end"
   ]
  },
  {
   "cell_type": "markdown",
   "metadata": {},
   "source": [
    "## Extract coordinates"
   ]
  },
  {
   "cell_type": "code",
   "execution_count": 9,
   "metadata": {
    "collapsed": false
   },
   "outputs": [
    {
     "name": "stderr",
     "output_type": "stream",
     "text": [
      "19-juin 16:02:32:INFO:root:Number of profiles: 2\n"
     ]
    }
   ],
   "source": [
    "nprofiles = length(ODVdata.profileList)\n",
    "info(\"Number of profiles: \" * string(nprofiles))"
   ]
  },
  {
   "cell_type": "markdown",
   "metadata": {},
   "source": [
    "Loop on the profiles in order to create list of variables.<br>\n",
    "The indices are obtained using the `getColumnIndex` function. "
   ]
  },
  {
   "cell_type": "code",
   "execution_count": 18,
   "metadata": {
    "collapsed": false
   },
   "outputs": [
    {
     "data": {
      "text/plain": [
       "ColumnIndex(1,2,3,10,5,6,12,14)"
      ]
     },
     "execution_count": 18,
     "metadata": {},
     "output_type": "execute_result"
    }
   ],
   "source": [
    "colInd = getColumnIndex(ODVdata.columnLabels)"
   ]
  },
  {
   "cell_type": "code",
   "execution_count": 25,
   "metadata": {
    "collapsed": false
   },
   "outputs": [],
   "source": [
    "lon = []\n",
    "lat = []\n",
    "stationlist = []\n",
    "timelist = []\n",
    "datelist = []\n",
    "dateref = \"1970-01-01 00:00:00\"\n",
    "epochref = Dates.datetime2epochms(Dates.DateTime(dateref, \"yyyy-mm-dd HH:MM:SS\"))\n",
    "\n",
    "for i = 1:nprofiles\n",
    "    push!(datelist, ODVdata.profileList[i][4][1])\n",
    "    push!(stationlist, ODVdata.profileList[i][colInd.station][1])\n",
    "    push!(lon, parse(Float64, ODVdata.profileList[i][colInd.lon][1]))\n",
    "    push!(lat, parse(Float64, ODVdata.profileList[i][colInd.lat][1]))\n",
    "    \n",
    "    # Convert dates to seconds since epoch\n",
    "    dd = Dates.DateTime(ODVdata.profileList[i][4][1], \"yyyy-mm-ddTHH:MM\")\n",
    "    push!(timelist, Dates.datetime2epochms(dd) - epochref)\n",
    "end"
   ]
  },
  {
   "cell_type": "code",
   "execution_count": 26,
   "metadata": {
    "collapsed": false
   },
   "outputs": [
    {
     "data": {
      "text/plain": [
       "2-element Array{Any,1}:\n",
       " \"11570900\"\n",
       " \"11570901\""
      ]
     },
     "execution_count": 26,
     "metadata": {},
     "output_type": "execute_result"
    }
   ],
   "source": [
    "stationlist"
   ]
  },
  {
   "cell_type": "markdown",
   "metadata": {},
   "source": [
    "## Define some attributes of the variable (optional)"
   ]
  },
  {
   "cell_type": "code",
   "execution_count": 30,
   "metadata": {
    "collapsed": false
   },
   "outputs": [
    {
     "data": {
      "text/plain": [
       "Dict{String,Any} with 5 entries:\n",
       "  \"units\"         => \"m\"\n",
       "  \"long_name\"     => \"Depth\"\n",
       "  \"axis\"          => \"Z\"\n",
       "  \"standard_name\" => \"depth\"\n",
       "  \"_FillValue\"    => -9999.9"
      ]
     },
     "execution_count": 30,
     "metadata": {},
     "output_type": "execute_result"
    }
   ],
   "source": [
    "stationatts = Dict(\n",
    "    \"long_name\" => \"Unique identifier for each feature instance\",\n",
    "    \"cf_role\" => \"timeseries_id\"\n",
    ")\n",
    "\n",
    "tempatts = Dict(\n",
    "    \"standard_name\" => \"sea_water_temperature\",\n",
    "    \"long_name\" => \"Temperature\",\n",
    "    \"units\"    => \"C\"\n",
    ")\n",
    "\n",
    "lonatts = Dict(\n",
    "    \"long_name\" => \"Longitude\",\n",
    "    \"standard_name\" => \"longitude\",\n",
    "    \"units\" => \"degrees east\",\n",
    "    \"axis\" => \"Y\",\n",
    "    \"valid_min\" => -180.0, \n",
    "    \"valid_max\" => 180.0, \n",
    "    \"_FillValue\" => -999.9\n",
    ");\n",
    "\n",
    "latatts = Dict(\n",
    "    \"long_name\" => \"Latitude\",\n",
    "    \"standard_name\" => \"latitude\",\n",
    "    \"units\" => \"degrees_north\",\n",
    "    \"axis\" => \"Y\",\n",
    "    \"valid_min\" => -90.0, \n",
    "    \"valid_max\" => 90.0, \n",
    "    \"_FillValue\" => -999.9\n",
    ");\n",
    "\n",
    "timatts = Dict(\n",
    "    \"long_name\" => \"Time\",\n",
    "    \"standard_name\" => \"time\",\n",
    "    \"units\" => string(\"seconds since \", dateref),\n",
    "    \"calendar\" => \"julian\",\n",
    "    \"axis\" => \"T\",\n",
    "    \"_FillValue\" => 0.0\n",
    ");\n",
    "\n",
    "depthatts = Dict(\n",
    "    \"long_name\" => \"Depth\",\n",
    "    \"standard_name\" => \"depth\",\n",
    "    \"units\" => \"m\",\n",
    "    \"axis\" => \"Z\",\n",
    "    \"_FillValue\" => -9999.9\n",
    "\n",
    ")"
   ]
  },
  {
   "cell_type": "markdown",
   "metadata": {},
   "source": [
    "## Create dimensions"
   ]
  },
  {
   "cell_type": "markdown",
   "metadata": {},
   "source": [
    "According to the [reference](https://www.nodc.noaa.gov/data/formats/netcdf/v1.1/timeSeriesProfileIncomVIncomT.cdl), we define 3 dimensions:\n",
    "1. nzMax, the maximal number of depth,\n",
    "2. station, the station identifier,\n",
    "3. ntimeMax, the maximal number of time instances."
   ]
  },
  {
   "cell_type": "code",
   "execution_count": 29,
   "metadata": {
    "collapsed": false
   },
   "outputs": [
    {
     "ename": "LoadError",
     "evalue": "UndefVarError: depthatts not defined",
     "output_type": "error",
     "traceback": [
      "UndefVarError: depthatts not defined",
      ""
     ]
    }
   ],
   "source": [
    "depthDim = NcDim(\"depthDim\", collect(1:20), depthatts)\n",
    "stationDim = NcDim(\"stationDim\", collect(1:2), stationatts)\n",
    "timeDim = NcDim(\"timeDim\", collect(1:2), timeatts)"
   ]
  },
  {
   "cell_type": "markdown",
   "metadata": {},
   "source": [
    "## Create variables"
   ]
  },
  {
   "cell_type": "code",
   "execution_count": null,
   "metadata": {
    "collapsed": true
   },
   "outputs": [],
   "source": [
    "lonovar = NcVar(\"lon\", [londim, latdim, timdim], varatts, Float32)"
   ]
  },
  {
   "cell_type": "code",
   "execution_count": null,
   "metadata": {
    "collapsed": true
   },
   "outputs": [],
   "source": [
    "nccreate(\"./output.nc\", varname, dimensions ..., atts=atts,gatts=gatts,compress=compress,t=t,mode=mode)"
   ]
  },
  {
   "cell_type": "code",
   "execution_count": null,
   "metadata": {
    "collapsed": false
   },
   "outputs": [],
   "source": []
  }
 ],
 "metadata": {
  "kernelspec": {
   "display_name": "Julia 0.5.1",
   "language": "julia",
   "name": "julia-0.5"
  },
  "language_info": {
   "file_extension": ".jl",
   "mimetype": "application/julia",
   "name": "julia",
   "version": "0.5.1"
  }
 },
 "nbformat": 4,
 "nbformat_minor": 2
}
