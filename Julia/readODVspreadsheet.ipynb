{
 "cells": [
  {
   "cell_type": "markdown",
   "metadata": {
    "deletable": true,
    "editable": true
   },
   "source": [
    "Explain how to read an ODV spreadsheet data file using `Julia`"
   ]
  },
  {
   "cell_type": "code",
   "execution_count": 1,
   "metadata": {
    "collapsed": false,
    "deletable": true,
    "editable": true
   },
   "outputs": [
    {
     "name": "stderr",
     "output_type": "stream",
     "text": [
      "WARNING: Method definition warn(Any...) in module Base at util.jl:354 overwritten in module Logging at /home/ctroupin/.julia/v0.5/Logging/src/Logging.jl:115.\n",
      "WARNING: Method definition info(Any...) in module Base at util.jl:324 overwritten in module Logging at /home/ctroupin/.julia/v0.5/Logging/src/Logging.jl:115.\n"
     ]
    }
   ],
   "source": [
    "using Logging\n",
    "Logging.configure(level=INFO);"
   ]
  },
  {
   "cell_type": "markdown",
   "metadata": {
    "deletable": true,
    "editable": true
   },
   "source": [
    "# Input file"
   ]
  },
  {
   "cell_type": "code",
   "execution_count": 2,
   "metadata": {
    "collapsed": false,
    "deletable": true,
    "editable": true
   },
   "outputs": [],
   "source": [
    "datadir = \"./data/\";\n",
    "ODVfile = joinpath(datadir, \"SmallODV2.txt\");"
   ]
  },
  {
   "cell_type": "markdown",
   "metadata": {
    "deletable": true,
    "editable": true
   },
   "source": [
    "Check if the file exists:"
   ]
  },
  {
   "cell_type": "code",
   "execution_count": 3,
   "metadata": {
    "collapsed": false,
    "deletable": true,
    "editable": true
   },
   "outputs": [
    {
     "name": "stderr",
     "output_type": "stream",
     "text": [
      "14-juin 16:05:43:INFO:root:Working on file ./data/SmallODV2.txt\n"
     ]
    }
   ],
   "source": [
    "if isfile(ODVfile)\n",
    "    info(\"Working on file $ODVfile\")\n",
    "else\n",
    "    err(\"File $ODVfile doesn't exist\")\n",
    "end"
   ]
  },
  {
   "cell_type": "markdown",
   "metadata": {
    "deletable": true,
    "editable": true
   },
   "source": [
    "# Read the file"
   ]
  },
  {
   "cell_type": "markdown",
   "metadata": {
    "deletable": true,
    "editable": true
   },
   "source": [
    "Loop on the file lines.<br>\n",
    "According to ODV guide, there are 3 types of lines:\n",
    "1. comment lines, \n",
    "2. the column labels line, and \n",
    "3. data lines. "
   ]
  },
  {
   "cell_type": "markdown",
   "metadata": {},
   "source": [
    "First we define a function that will create a profile:"
   ]
  },
  {
   "cell_type": "code",
   "execution_count": 4,
   "metadata": {
    "collapsed": false
   },
   "outputs": [
    {
     "data": {
      "text/plain": [
       "initProfileList (generic function with 1 method)"
      ]
     },
     "execution_count": 4,
     "metadata": {},
     "output_type": "execute_result"
    }
   ],
   "source": [
    "function initProfileList(line)\n",
    "    \"\"\"\n",
    "    Create an empty list of lists, \n",
    "    the number of internal lists is the number of columns\n",
    "    \n",
    "    List of lists is preferred because the length of each list is \n",
    "    not always the same.\n",
    "    \"\"\"\n",
    "    debug(\"Creating new profile (list of list) with empty values\")\n",
    "    \n",
    "    # Compute number of columns\n",
    "    ncolumns = length(line);\n",
    "    debug(\"No. of columns: \" * string(ncolumns))\n",
    "    \n",
    "    profile = []\n",
    "    for i in 1:ncolumns\n",
    "        push!(profile, [line[i]]) \n",
    "    end\n",
    "    \n",
    "    return profile\n",
    "end"
   ]
  },
  {
   "cell_type": "markdown",
   "metadata": {},
   "source": [
    "We need to be able to distinguish between:\n",
    "* *header* lines, i.e. lines that contain metadata about a given profiles,\n",
    "* *data* lines, which really contain the measured values.\n",
    "To do so, we count the number of empty values and compare it to the expect number of columns, obtained as the 1st line after the comments. "
   ]
  },
  {
   "cell_type": "code",
   "execution_count": 5,
   "metadata": {
    "collapsed": false
   },
   "outputs": [
    {
     "data": {
      "text/plain": [
       "getNonEmptyInd (generic function with 1 method)"
      ]
     },
     "execution_count": 5,
     "metadata": {},
     "output_type": "execute_result"
    }
   ],
   "source": [
    "function getNonEmptyInd(line)\n",
    "    nonempty(x) = length(x) > 0;\n",
    "    nonempty_ind = find(nonempty, line);\n",
    "    return nonempty_ind;\n",
    "end"
   ]
  },
  {
   "cell_type": "code",
   "execution_count": 6,
   "metadata": {
    "collapsed": false
   },
   "outputs": [],
   "source": [
    "global ODVspreadsheet3\n",
    "type ODVspreadsheet3\n",
    "        metadata::Dict{String,String}\n",
    "        columnLabels::Array{SubString{String},1}\n",
    "        profileList::Array{Any,1}\n",
    "end"
   ]
  },
  {
   "cell_type": "code",
   "execution_count": 7,
   "metadata": {
    "collapsed": false,
    "deletable": true,
    "editable": true
   },
   "outputs": [
    {
     "data": {
      "text/plain": [
       "readODVspreadsheet (generic function with 1 method)"
      ]
     },
     "execution_count": 7,
     "metadata": {},
     "output_type": "execute_result"
    }
   ],
   "source": [
    "function readODVspreadsheet(datafile)\n",
    "    \n",
    "    \"\"\"\n",
    "    The function will return a composite type that will store:\n",
    "    1. The general metadata of the spreadsheet\n",
    "    2. The labels of the columns\n",
    "    3. The individual profiles\n",
    "    \"\"\"\n",
    "\n",
    "    # metadata will be stored in a dictionary\n",
    "    # ODV doc: Comment lines start with two slashes  // as first two characters\n",
    "    metadata = Dict{String, String}()\n",
    "\n",
    "    # Context manager\n",
    "    open(datafile, \"r\") do f\n",
    "        line = readline(f)\n",
    "\n",
    "        # Read the metadata (lines starting with //)\n",
    "        while line[1:2] == \"//\"\n",
    "\n",
    "            # Identify metadata fields using regex\n",
    "            # (name of the field is between < > and </ >)\n",
    "            m = match(r\"<(\\w+)>(.+)</(\\w+)>\", line)\n",
    "\n",
    "            if m != nothing\n",
    "                debug(\"Match found\")\n",
    "                println(m[1] * \": \" * m[2])\n",
    "                # Add key - value in the dictionnary\n",
    "                metadata[String(m[1])] = String(m[2])\n",
    "            end\n",
    "            line = readline(f);\n",
    "        end\n",
    "\n",
    "        # Read the column labels and set number of columns\n",
    "        #ODV doc: must be the first non-comment line in the file\n",
    "        #ODV doc: must provide columns for all mandatory meta-variables\n",
    "        columnline = line\n",
    "        columnLabels = split(chomp(columnline), '\\t')\n",
    "        ncols = length(columnLabels);\n",
    "        debug(\"No. of columns: \" * string(ncols))\n",
    "\n",
    "        # Create an array that will store all the profiles\n",
    "        profileList = []\n",
    "\n",
    "        # Loop on the lines\n",
    "        jj = 0\n",
    "        profile = [];\n",
    "        nprofiles = 0;\n",
    "\n",
    "        while !eof(f)\n",
    "            jj += 1;\n",
    "            line = split(chomp(readline(f)), \"\\t\");\n",
    "\n",
    "            # Count empty values\n",
    "            nonempty_ind = getNonEmptyInd(line);\n",
    "            debug(\"Indices of the non-empty columns :\")\n",
    "            debug(nonempty_ind);\n",
    "\n",
    "            # If the first value (Station) is not empty, \n",
    "            # then it's a header line\n",
    "            if (nonempty_ind[1] == 1)\n",
    "                debug(\"Working with a header line\")\n",
    "                debug(\"Adding the profile to the array\")\n",
    "                push!(profileList, profile)\n",
    "\n",
    "                # Initiate a profile (list of lists)\n",
    "                nprofiles += 1;\n",
    "                debug(\"Create a new, empty profile\")\n",
    "                profile = initProfileList(line)\n",
    "            else\n",
    "                debug(\"Adding values to the existing profile\")\n",
    "                for ii in nonempty_ind\n",
    "                    push!(profile[ii], line[ii]);\n",
    "                end\n",
    "            end\n",
    "        end\n",
    "\n",
    "        info(\"No. of profiles in the file: \" * string(nprofiles))\n",
    "        ODVdata = ODVspreadsheet3(metadata, columnLabels, profileList)\n",
    "        return ODVdata\n",
    "    end\n",
    "end"
   ]
  },
  {
   "cell_type": "code",
   "execution_count": 8,
   "metadata": {
    "collapsed": false
   },
   "outputs": [
    {
     "name": "stdout",
     "output_type": "stream",
     "text": [
      "Version: ODV Spreadsheet V4.0\n"
     ]
    },
    {
     "name": "stderr",
     "output_type": "stream",
     "text": [
      "14-juin 16:05:43:INFO:root:No. of profiles in the file: 2\n"
     ]
    },
    {
     "name": "stdout",
     "output_type": "stream",
     "text": [
      "Creator: charles@gher13.phys.ulg.ac.be\n",
      "CreateTime: 2011-12-19T12:42:52\n",
      "Software: Ocean Data View Version 4.2.1 - 2009\n",
      "Source: /home/charles/DIVA/BlackSea4diva/New_ODV4_Collection.odv\n",
      "SourceLastModified: 2011-12-19T12:42:03\n",
      "DataField: Ocean\n",
      "DataType: Profiles\n",
      "MissingValueIndicators: -99\n"
     ]
    },
    {
     "data": {
      "text/plain": [
       "ODVspreadsheet3(Dict(\"DataType\"=>\"Profiles\",\"Source\"=>\"/home/charles/DIVA/BlackSea4diva/New_ODV4_Collection.odv\",\"DataField\"=>\"Ocean\",\"Software\"=>\"Ocean Data View Version 4.2.1 - 2009\",\"SourceLastModified\"=>\"2011-12-19T12:42:03\",\"Version\"=>\"ODV Spreadsheet V4.0\",\"Creator\"=>\"charles@gher13.phys.ulg.ac.be\",\"CreateTime\"=>\"2011-12-19T12:42:52\",\"MissingValueIndicators\"=>\"-99\"),SubString{String}[\"Cruise\",\"Station\",\"Type\",\"yyyy-mm-ddThh:mm:ss.sss\",\"Longitude [degrees_east]\",\"Latitude [degrees_north]\",\"Bot. Depth [m]:METAVAR:FLOAT:4\",\"Originator's Cruise:METAVAR:TEXT:20\",\"Originator's Station:METAVAR:TEXT:20\",\"Depth [m]\",\"QV:WOD\",\"Temperature [C]\",\"QV:WOD\",\"Salinity [psu]\",\"QV:WOD\",\"QV:ODV:SAMPLE\"],Any[Any[],Any[SubString{String}[\"WOD05_BG000003\"],SubString{String}[\"11570900\"],SubString{String}[\"B\"],SubString{String}[\"1991-09-03T16:25\"],SubString{String}[\"28.3333\"],SubString{String}[\"43.167\"],SubString{String}[\"36\"],SubString{String}[\"\"],SubString{String}[\"CoMSBlack91\"],SubString{String}[\"0.0\",\"10.0\",\"20.0\",\"30.0\"],SubString{String}[\"0\",\"0\",\"0\",\"0\"],SubString{String}[\"22.208\",\"22.260\",\"22.346\",\"22.308\"],SubString{String}[\"0\",\"0\",\"0\",\"0\"],SubString{String}[\"15.7020\",\"15.7380\",\"15.9740\",\"16.0270\"],SubString{String}[\"0\",\"0\",\"0\",\"0\"],SubString{String}[\"1\",\"1\",\"1\",\"1\"]]])"
      ]
     },
     "execution_count": 8,
     "metadata": {},
     "output_type": "execute_result"
    }
   ],
   "source": [
    "ODVstuff = readODVspreadsheet(ODVfile)"
   ]
  },
  {
   "cell_type": "code",
   "execution_count": 9,
   "metadata": {
    "collapsed": false
   },
   "outputs": [
    {
     "data": {
      "text/plain": [
       "Dict{String,String} with 9 entries:\n",
       "  \"DataType\"               => \"Profiles\"\n",
       "  \"Source\"                 => \"/home/charles/DIVA/BlackSea4diva/New_ODV4_Collec…\n",
       "  \"DataField\"              => \"Ocean\"\n",
       "  \"Software\"               => \"Ocean Data View Version 4.2.1 - 2009\"\n",
       "  \"SourceLastModified\"     => \"2011-12-19T12:42:03\"\n",
       "  \"Version\"                => \"ODV Spreadsheet V4.0\"\n",
       "  \"Creator\"                => \"charles@gher13.phys.ulg.ac.be\"\n",
       "  \"CreateTime\"             => \"2011-12-19T12:42:52\"\n",
       "  \"MissingValueIndicators\" => \"-99\""
      ]
     },
     "execution_count": 9,
     "metadata": {},
     "output_type": "execute_result"
    }
   ],
   "source": [
    "ODVstuff.metadata"
   ]
  },
  {
   "cell_type": "code",
   "execution_count": null,
   "metadata": {
    "collapsed": true
   },
   "outputs": [],
   "source": []
  }
 ],
 "metadata": {
  "kernelspec": {
   "display_name": "Julia 0.5.1",
   "language": "julia",
   "name": "julia-0.5"
  },
  "language_info": {
   "file_extension": ".jl",
   "mimetype": "application/julia",
   "name": "julia",
   "version": "0.5.1"
  }
 },
 "nbformat": 4,
 "nbformat_minor": 2
}
